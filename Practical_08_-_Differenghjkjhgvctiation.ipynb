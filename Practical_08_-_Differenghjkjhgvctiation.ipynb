{
 "cells": [
  {
   "cell_type": "code",
   "execution_count": 1,
   "metadata": {
    "collapsed": true
   },
   "outputs": [],
   "source": [
    "# specify your student id and your name\n",
    "id = 'W20072488'\n",
    "name = 'Ciara Power'"
   ]
  },
  {
   "cell_type": "code",
   "execution_count": 2,
   "metadata": {
    "collapsed": false
   },
   "outputs": [
    {
     "name": "stdout",
     "output_type": "stream",
     "text": [
      "Ver 0.3\n"
     ]
    },
    {
     "data": {
      "text/html": [
       "<style>\n",
       "\n",
       "\n",
       "\n",
       "/* counting headers and my styling */\n",
       "\n",
       ".navbar-collapse.collapse {\n",
       "display: block!important;\n",
       "}\n",
       "\n",
       ".navbar-nav>li, .navbar-nav {\n",
       "float: left !important;\n",
       "}\n",
       "\n",
       ".navbar-nav.navbar-right:last-child {\n",
       "margin-right: -15px !important;\n",
       "}\n",
       "\n",
       ".navbar-right {\n",
       "float: right!important;\n",
       "}\n",
       "\n",
       "#notebook_name {\n",
       "    font-weight: 600;\n",
       "}\n",
       "\n",
       "h1 {\n",
       "\ttext-align: center;\n",
       "\tbackground-color: rgba(0,255,1,0.15);\n",
       "\tborder-bottom: 1px solid #cccccc;\n",
       "\tcounter-reset: h2counter;\t\n",
       "}\n",
       "\n",
       "h2 {\n",
       "\ttext-align: center;\n",
       "\twidth: 75%;\n",
       "\tmargin-left: 25%;\n",
       "\tbackground-color: rgba(255,255,1,0.15);\n",
       "\tborder-bottom: 1px solid #cccccc;\n",
       "\tcounter-reset: h3counter;\t\n",
       "}\n",
       "h2:before {\n",
       "\tcounter-increment: h2counter;\n",
       "}\n",
       "\n",
       "h3 {\n",
       "\tborder-bottom: 1px solid #cccccc;\t\n",
       "}\n",
       "h3:before {\n",
       "\tcounter-increment: h3counter;\n",
       "}\n",
       "\n",
       "h4 {\n",
       "\tborder-bottom: 1px solid #cccccc;\t\n",
       "}\n",
       "h4:before {\n",
       "\tcounter-increment: h4counter;\n",
       "}\n",
       " </style>"
      ],
      "text/plain": [
       "<IPython.core.display.HTML object>"
      ]
     },
     "execution_count": 2,
     "metadata": {},
     "output_type": "execute_result"
    }
   ],
   "source": [
    "# setup magic - see kmurphy.bitbucket.org/modules/Advanced_Calculus for setup instructions.\n",
    "%matplotlib inline\n",
    "from calculus import *\n",
    "setup_practical(id, name)"
   ]
  },
  {
   "cell_type": "markdown",
   "metadata": {},
   "source": [
    "# Practical 08 - Differentiation\n",
    "\n",
    "## Introduction\n",
    "\n",
    "### Aim\n",
    "\n",
    "In this practical we will use python to \n",
    "\n",
    " * estimate the derivative of a function using finite differences (based on differention from first principles formula).\n",
    " * calculate the derivtaive of function symbolically (based on the differentiaion rules).\n",
    " \n",
    "### Mathematics Concepts\n",
    "\n",
    " * The __derivative__ of a function $f(t)$ is defined as \n",
    "\n",
    "\\\\[\n",
    "    f'(t) = \\lim_{h\\to 0} \\frac{f(t+h)-f(t)}{h}\n",
    "\\\\]\n",
    "\n",
    " * As you have learned in Computer Architecture, a computer is a digital device and therefore cannot represent arbitrary small numbers (see [Some disasters caused by numerical errors](http://ta.twi.tudelft.nl/users/vuik/wi211/disasters.html)), so taking the limit as $h\\to 0$ is problematic. Instead of taking the limit we just set $h$ to a small value and we get the __finite difference approximation to the derivative__ defined by \n",
    "\n",
    "\\\\[\n",
    "    f'(t) \\approx f'_h(t) = \\frac{f(t+h)-f(t)}{h}\n",
    "\\\\]\n",
    "\n",
    "where __step size__, $h$, is some small value. \n",
    " \n",
    "### Python Concepts\n",
    "\n",
    " * The Python symbolic module, __sympy__, has functions \n",
    "    * __symbols__ or __Symbol__ define a symbol \n",
    "    * __Funciton__ to define a symbolic funciton\n",
    "    * __limit(f, t, t0)__ - compute the limit of the experssion, __f__, as the variable __t__ tends towards __t0__.\n",
    "    * __diff(f, t)__ - differentiation the function, __f__, with respect to variable __t__.\n",
    "    * __display__ to dispaly an experssion using mathematics notation.\n",
    "    * __log(v,b)__ to calculate the log of __v__ to base __b__.\n",
    "   and from __sympy.solvers__\n",
    "    * __solve__ to solve an algebraic equation.\n",
    "    \n",
    "   and methods \n",
    "    * __subs(exp_old,exp_new)__ to substitute sub-expresion __exp_old__ with __exp_new__.  \n",
    "    * __diff(var)__ to differentiate an expression with respect to variable __var__."
   ]
  },
  {
   "cell_type": "markdown",
   "metadata": {},
   "source": [
    "## Standard Importing of  Libraries\n"
   ]
  },
  {
   "cell_type": "code",
   "execution_count": 3,
   "metadata": {
    "collapsed": true
   },
   "outputs": [],
   "source": [
    "# for numeric work\n",
    "import numpy as np\n",
    "import matplotlib.pyplot as plt\n",
    "\n",
    "# for symbolic work\n",
    "import sympy as sym\n",
    "from sympy.plotting import plot"
   ]
  },
  {
   "cell_type": "markdown",
   "metadata": {},
   "source": [
    "## Finite Difference Approximation to the Derivative\n"
   ]
  },
  {
   "cell_type": "markdown",
   "metadata": {},
   "source": [
    "####Example 1 - Finite difference of a quadratic\n",
    "\n",
    "The function $f(t)=t^2-5t+6$ (a quadratic) has derivative $f'(t)=2t-5$ (a line).\n",
    "\n"
   ]
  },
  {
   "cell_type": "code",
   "execution_count": 4,
   "metadata": {
    "collapsed": false
   },
   "outputs": [],
   "source": [
    "# define function, its finite difference approximation, and its exact derivative\n",
    "def f(t):\n",
    "    return t**2 - 5*t + 6\n",
    "\n",
    "def df(t,h):\n",
    "    return (f(t+h) - f(t))/h\n",
    "\n",
    "def df_exact(t,h):\n",
    "    return 2*t-5"
   ]
  },
  {
   "cell_type": "code",
   "execution_count": 5,
   "metadata": {
    "collapsed": false,
    "scrolled": true
   },
   "outputs": [
    {
     "data": {
      "image/png": "iVBORw0KGgoAAAANSUhEUgAAAXkAAAEACAYAAABWLgY0AAAABHNCSVQICAgIfAhkiAAAAAlwSFlz\nAAALEgAACxIB0t1+/AAAIABJREFUeJzt3Xd4lFX2wPHvCTVAAglg6AFkkSKIiiwWIIK664oCgiii\nAvaCYmFRFpGA+BMRXVcRQUQFF1TAgrhrATWI6C6uUpQqXVok0oJKEsj5/XEnYxImIf2dmZzP8+Rx\nyluOITm5c977niuqijHGmPAU4XUAxhhjSo8leWOMCWOW5I0xJoxZkjfGmDBmSd4YY8KYJXljjAlj\nxU7yIlJLROaLyDoRWSsifxSRWBFZJCIbReRjEalVEsEaY4wpnJIYyf8D+LeqtgbaA+uBh4BFqtoS\n+MT33BhjTBmT4twMJSI1gRWq2jzX6+uBbqqaLCL1gCRVbVW8UI0xxhRWcUfyzYB9IvKKiHwrItNF\npDoQp6rJvm2SgbhinscYY0wRFDfJVwTOAqao6lnAL+Qqzaj7qGC9E4wxxgMVi7n/TmCnqn7tez4f\nGAnsFZF6qrpXROoDP+XeUUQs8RtjTBGoqhR022KN5FV1L/CjiLT0vXQRsAZYCAzyvTYIeDeP/YP+\na8yYMZ7HYHFanBanxZj1VVjFHckD3A3MFpHKwGZgCFABmCsiNwHbgP4lcB5jjDGFVOwkr6qrgHMC\nvHVRcY9tjDGmeOyO15NISEjwOoQCsThLlsVZskIhzlCIsSiKNU++WCcWUa/ObYwxoUpE0EJceC2J\nmrwJMSIF/vkwxnioJAbCluTLKfsUZUxwK6nBmNXkjTEmjFmSN8aYMBY2SX7PHujXDzIzvY7EGGNK\nx3ffFX6fsEny9erB9u3w1lteR2KKa8OGDXTo0IHo6GgmT57MRx99RJ8+ffLcfvXq1Zx//vllGKEx\n3khMLPw+YXPhVQTGjYPhw+HKK6FCBa8jMkU1ceJEevTowcqVKwHo2LEjU6ZM8b8fERHBpk2baN7c\ndbhu3749tWrV4v3336dnz56exGxMaVuxAr76qvD7hc1IHuDPf4aaNeHNN72OxBTH9u3badOmDQBf\nf/01hw8fplOnTjm2yT07aODAgUybNq3MYjSmrD3yCIwcWfj9wirJZ43mx46FY8e8jsYURffu3UlK\nSmLo0KFERUXx4Ycf0q1bN//7Xbt2BeCMM84gKiqKefPmAdCtWzc++eQTMjIyPInbmNK0fDmsXAm3\n3FL4fcMqyQP06OHq87Nnex2JKYpPP/2ULl268Pzzz5Oamsrq1atp1er3RcU+//xzwNXhU1NTueqq\nqwBo2LAhlSpVYsOGDZ7EbUxpeuQRGDUKqlYt/L5hl+SzRvPjxoEN6opOpGS+iuvQoUNERUUVaNuo\nqCgOHjxY/JMaE0SWLYP16+HGG4u2f9gleYBu3aBZM5g50+tIQpdqyXwVV0xMDIcPHy7QtqmpqdSq\nVav4JzUmiDzyCIweDZUrF23/sEzy4Ebyjz4KaWleR2KKo3379mzcuPGk2+3atYv09HROO+20MojK\nmLKRlOSmht9wQ9GPEbZJ/rzzoE0bePllryMxxfGXv/yFJUuW5HgtLi6OzZs353htyZIl9OjRg0qV\nKpVleMaUqkcegTFjoDg/1mGb5MGN5h97DI4e9ToSU1RnnnkmNWvWZPny5f7XEhMTGTRoEDExMcyf\nPx+A2bNnc/vtt3sVpjGl4qef4Npri3eMsO8n36sXdO8Ow4aV+qlChq8ftddhFNiiRYuYMmUK77zz\nTsD3V69ezR133MGyZcvKODJjSo+I8PrryjXXnPh6YfrJh32SX7kSLr0UNm+GatVK/XQhIdSSvDHl\nkYhw/LgSEXHi64VJ8sUu14jINhFZLSIrRGS577VYEVkkIhtF5GMR8WzKQ4cOcMEF8NxzXkVgjDFF\nkzvBF0WxR/IishU4W1X3Z3ttIpCiqhNF5EEgRlUfyrVfmS3/t349dOkCGzdCTEyZnDKo2UjemOCX\n1+9pmY/ks86b6/kVQNYs9ZlA7xI6T5G0agW9e8PEiV5GYYwxZa8kRvJbgEPAcWCaqk4XkQOqGuN7\nX4D9Wc+z7VemC3nv3AlnnOH6MTdoUGanDUo2kjcm+AXTSP58VT0TuBS4S0S6ZH/Tl8k9zyiNGrnb\ngseN8zoSY4wpO8XuJ6+qe3z/3Sci7wCdgGQRqaeqe0WkPvBToH0Ts3XAT0hIICEhobjh5GvkSGjZ\nEh54AP7wh1I9lTHGlIikpCSSkpKKvH+xyjUiUg2ooKqpIlId+BgYC1wE/KyqT4jIQ0AtLy+8Zvd/\n/werV8Mbb5T5qYOGlWuMCX7BUq6JA5aKyErgv8D7qvoxMAG4WEQ2At19z4PCsGHw+efwzTdeR2JM\n0T388MPUrVuXBnlcYHrhhReIi4sjOjqaAwcOADBgwAAWLFiQ5zGHDx/O1KlTix3b0qVLc7SHzm3b\ntm1ERESQWcAFmQcPHszo0aOLHVe5paqefLlTe2PKFNVLLvHs9J7z8ntfEPHx8RoZGak1atTQGjVq\naFRUlO7Zs0e3bt2qIuJ/PS4uTnv27KmLFi3yOuQytX37do2MjNSUlJSA76enp2tkZKR+9913/tdW\nrVqlbdq08T9/5ZVX9IILLsix3549e7Rx48aanp5eovHGx8frJ5984n+e9e94/PjxAu0/ePBgHT16\ndLHj2Lp1qyYkJGi1atW0VatWunjx4ny3HzFihNauXVtr166tDz74YKGONXv2bG3SpIlWr15de/fu\nrfv37/e/9+abb+q5556r1apV04SEhDzPn9fvqe/1AufasO5dk5ebb3Z3wH76qdeRmEBEhPfff5/U\n1FRSU1M5fPgw9erV879/6NAh/4IiF198MX369GFmEPSVPlZGy5Ht2LGD2rVrU7t27YDv7927l6NH\nj9K6dWv/a9OmTeO6667L97j16tWjVatWvPfeeyUab7CUBwcMGMDZZ5/N/v37eeyxx+jXrx8pKSkB\nt502bRoLFixg9erVrF69moULF+ZYXjK/Y61Zs4bbb7+d2bNnk5ycTLVq1bjzzjv9+9auXZv777+f\nhx566ITzlorC/EUoyS88Hk2+/rpqp06qmZmehuEJr7/3J9O0adMcI78seY0AJ02apHFxcXke7557\n7tHGjRtrdHS0nn322bp06VL/e2PGjNG+ffvq1VdfrVFRUXrWWWfpqlWr/O/Hx8fr448/rm3atNGY\nmBgdMmSIHj16VFVVP/vsM23YsKE+8cQTWq9ePb3hhhs0LS1Nhw0bpg0aNNAGDRrovffeq2lpaZqW\nlqYdOnTQ5557TlVVjx07puedd54++uijAWM+ePCgXn/99Vq3bl2Nj4/X8ePHa2Zmpi5atEgjIyM1\nIiJCa9SooUOGDMmx34YNG7R69er+Tzw9evRQVdXmzZvrsmXLVFV17dq1WrVqVa1QoYLWqFFDY2Ji\n/Ps/9thjJxwzyw033KBPPfWUqqru3LlTRUSff/55VVXdtGmTxsbG+r8vjRo1UlXV6667TiMiIvyf\nzJ588kn/v+PMmTO1SZMmWqdOHX3sscfy/PcbPHiw3nXXXXrZZZdpVFSU/vGPf9TNmzfnuX0gGzZs\n0CpVquiRI0f8r3Xt2lWnTp0acPtzzz1Xp0+f7n/+8ssva+fOnQt0rJEjR+rAgQP9723evFkrV66c\nY3tV1enTp9tIvjT17w/p6ZBHzyvjMS3EyK9Pnz789NNPeS7916lTJ1atWsWBAwe49tprueqqq0hP\nT/e//95779G/f3//+7179+b48eP+9+fMmcPHH3/M5s2b2bhxI+PHj/e/l5yczIEDB9ixYwfTpk1j\n/PjxLF++nFWrVrFq1SqWL1/O+PHjqVy5Mv/85z955JFHWL9+PRMmTEBVGTVqVMCY7777blJTU9m6\ndStLlixh1qxZvPLKK1x00UV88MEHNGjQgNTUVF7O1Uu7ZcuWrFmzBnCfeBYvXswvv/zC1q1b/b32\nW7duzdSpUzn33HNJTU1l/37/zeq0atWKVatWBYwpISHBP8tjyZIlNG/e3L8c45IlS/zr72b32muv\n0aRJE/8ns+HDh/vfW7ZsGRs3buSTTz5h3LhxrF+/PuB5VZU33niDxMREDhw4QIsWLXJ839q3b09M\nTEzAr6FDhwJudN28eXOqV6/u3++MM87wf69yW7t2LWeccUaOc2Rte7JjrVmzJse+zZs3p0qVKgVa\nF6E0FHsKZaiKiIAJE+Cee+Dyy4vXrzkcydgSWLsP0DGF/5iuqvTu3ZuKFd2P54UXXsjbb7+d5/ZZ\nFx+zJ6vsBg4c6H98//33M378eDZs2EC7du0A6NixI1deeaX//aeeeor//Oc/nH/++YgIQ4cOpWHD\nhgCMGjWKu+++m0cffRSAiIgIxo4dS6VKlahUqRJz5sxh8uTJ1KlTB4AxY8Zw2223MW7cONq2bcvD\nDz9Mr169SElJYfny5UiANRKPHz/Om2++yapVq6hevTrVq1fngQce4LXXXuPGG2886R/A3O9nLYmY\nfRnFvI6R3xKKXbt25YEHHkBVWbp0KSNGjPB/H5YsWZJjwfWCGDNmDFWqVKF9+/acccYZrFq1KuAF\nWxHhyiuvpGPHjoD797z//vv9769evfqk5zpy5Ag1a9bM8Vp0dDS7du0q0PbR0dEcOXIkz2NFRUWx\nZ88eAH755ZeA50pNTT1pnKWh3CZ5gEsugfh4mDYNfH/wjU9RknNJEREWLFhA9+7dC7R91i9qbGxs\nwPcnTZrEyy+/zO7duxERDh8+nKMW26hRoxznbtSoEbt37/a/1rhxY//jJk2a5Hivbt26VM62Ltvu\n3buJj4/Pc/sbbriBUaNG0a9fP0499dSA8aakpJCRkXHCcfJKSCeTtSRiampqnnX8LPktoXjqqadS\nvXp1Vq5cydKlSxk9ejQzZsxg48aNfP7559x7772Fiiv7dZZq1arxyy+/5LltXFyc/3FkZKQ/4RZU\njRo1TlhG8uDBg0RHRxdo+0OHDlGjRo08j5V9LeIaNWpw6NChPN8va+W2XANuoelJk9wygbn+TUwI\neeedd4iLiwu49N/SpUt58sknmTdvHgcPHuTAgQPUrFkzx0j2xx9/9D/OzMxk586dOaYm7tixI8fj\n7O/lHok3aNCAbdu25bn9nXfeSc+ePfnwww/z7H9fp04dKlWqdMJxsv8xKozq1atz6qmn5ihnBfoE\nAbBu3To6dOiQ57G6devGvHnzyMjIoEGDBnTr1o1XX32VAwcO5LlfXucqKW3btiUqKirgV9YFz7Zt\n27Jly5YcfxxWrVpF27Zt8zzmypUrc2x7+umnF+hYbdu2zVHy2rx5M+np6bRs2TLHOUr7+5KlXCd5\ngPbtoWdPd5OUCQ1ZCTo5OZnJkyczbtw4Hn/88YDbpqamUrFiRerUqUN6ejrjxo07YRT2zTff8M47\n73Ds2DGeeeYZqlatSufOnf3nmjJlCrt27fLPpLgm9yoO2QwYMIDx48eTkpJCSkoK48aN4/rrrwdc\nfXrFihXMnDmTZ599lkGDBgUcvVaoUIH+/fszatQojhw5wvbt2/n73/9+0tkx+cm9jGK9evXYuXMn\nGRkZObZbsmQJl156aZ7H6datG5MnT/bX3xMSEpg8eTJdunTJM2kFWq4xkLxKSCcrT61Zs8Y/Eyv3\n15QpUwB3raJDhw6MHTuWo0eP8vbbb/P999/Tt2/fgMe84YYbePrpp9m9eze7du3i6aefZvDgwQU6\n1sCBA1m4cCFffPEFv/zyC6NHj6Zv377+Gn5mZiZHjx4lIyODzMxM0tLSTvh3KFGFuUpbkl8E0QyP\nXbtUY2NVt271OpKyEUzf+0BONrumRo0aWr16dT3llFP0sssu048++ijPYx0/flxvvPFGjY6O1vr1\n6+vEiRO1WbNm/uMnJiZqv379csyuWbFiRY5YJkyYoG3atNFatWrp4MGD9bffflNVN4ukcePGOc53\n9OhRveeee7R+/fpav359HTZsmKalpen27du1du3a+uWXX/q3vfrqq/XWW28NGPeBAwf0uuuu07p1\n62rjxo310Ucf1UzfVLBA5839fYqIiMgxC+n777/Xtm3b+p+np6frZZddprGxsVq3bl1VVd29e7c2\natRIMzIy8jz2+vXrVUR01qxZqupmAVWsWFEnTpzo3yZ3fAsWLNAmTZporVq19KmnngoYX0JCgs6Y\nMSPgOXPPkz/Z/39etm3bpgkJCRoZGamtWrXK8TP2+eefa40aNXJsP2LECI2NjdXY2NgT5snndyxV\n1Tlz5uSYJ3/gwAH/e6+88oqKSI6vQDOa8vo9pZCza8J+ZaiCSkx0/ebnzPE6ktIXLPOWg8HYsWPZ\ntGkTr732WsD3mzVrxowZMwp8fSCYDRw4kP79+9OrV6+A7w8fPpwWLVrYWrlBoqTaGpTrC6/Z/fWv\nrnnZ8uXQqZPX0ZiyUp7+2M2ePTvf9ydNmlRGkZiyVO5r8lmqV3dtiB94AMrR7325JyJldgHMGC9Y\nuSab48fhzDNd6cY3bTosWbnGmOBXUuUaS/K5fPwx3HUXrFkD2aY/hxVL8sYEv2BpNRx2LrkEWrSA\nF17wOhJjjCk+G8kH8P330L07rF8PedxEGdJsJG9M8LNyTSm7/XZXrnn2Wa8jKXmW5I0JfpbkS1lK\nCrRp43rO++5mDhuW5I0JflaTL2V16sDo0W65QMuHZWvDhg106NCB6OhonnvuuRzv7du3j9atW5OW\nlhZw37S0NFq3bp3nYhDGlDeW5PNxxx2QnGw958vaxIkT6dGjB4cPH+bbb7/NserThAkTGDJkCFWq\nVAFc75QZM2b4369SpQo33ngjEyYEzbLCxniqRJK8iFQQkRUistD3PFZEFonIRhH5WEQC9y4NchUr\nwj/+4W6Q+u03r6MpP7Zv306bNm1OeD0tLY1Zs2blaNQV6EamAQMGMHPmzNJt+mRMiCipkfwwYC2Q\nVdh4CFikqi2BT3zPQ1KPHnDWWa4lsSl93bt3JykpiaFDhxIVFUVGRoY/kf/3v/+lVq1a/ta9o0aN\nYunSpf5t77nnHsD1h4+JieGrr77y7P/DmKBRmG5mgb6ARsBi4EJgoe+19UCc73E9YH2A/QJ2WAtG\nW7a4LpU7dngdSckI9u99Xh0JJ0+erJdddlmBtr3iiiv02WefLbUYjSltef2e4sEar38H/gpkZnst\nTlWTfY+TgbgT9gohzZq5u2BHjPA6kjIkUjJfRaQBrnYfPHgw4Oo6gbbNbxk7Y8qTYnWhFJGewE+q\nukJEEgJto6oqIgHnpyQmJvofJyQkkJAQ8BBB4cEHoXVrWLoUunTxOpoy4PGUokC19tjY2IDrZAba\nNjU1lZiYmFKJzZiylJSU5F9AvSiK22r4POAKEfkLUBWIFpHXgGQRqaeqe0WkPvBToJ2zJ/lgV706\nTJwId98N33wDFSp4HVH50759e/7+97/neC2/ZeyGDx9eFmEZU6pyD4DHjh1bqP2LVa5R1b+pamNV\nbQZcA3yqqtcD7wGDfJsNAt4tznmCxdVXQ3Q0TJ/udSThL1AJ5pxzzuHgwYM5FsYOtLRc1lJ9WUv4\nGVOelfQ8+azfzAnAxSKyEejuex7yRGDyZHjkEfgp4GcTU1ICjdArV67M4MGD+ec//+l/bdiwYcyf\nP5/Y2FjuvfdeAObMmcPgwYOpVKlSmcVrTLCytgZF8MAD8PPP8OqrXkdSNKHc1iAlJYUuXbqwcuVK\n/w1R2aWlpdGhQweWLl1KnTp1PIjQmJJhvWs8lJrq+trMng2+RetDSigneWPKC+td46GoKHjmGdf2\nID3d62iMMSZvluSL6MorIT4eck32MMaYoGLlmmLYvBn++Ec3pTI+3utoCs7KNcYEPyvXBIFTT3Wt\niIcN8zoSY4wJzJJ8MY0YAevWwcKFXkdijDEnsnJNCfjkE7jpJlizxt0ZG+zyukvUGBNcbAplELn2\nWleXf/xxryMxxpSWtDRo3961Hr/8cm9isCTvkT173D/+J5+4/xpjws+YMbBqFbzrYaMWS/Iemj7d\nfX31lTUwMybcfP89XHghrFwJDRt6F4fNrvHQzTe7mvw//uF1JMaYknT8uPv9Hj/e2wRfFDaSL2Gb\nNkHnzrB8OTRv7nU0xpiS8Mwz8M478NlnEOHx0NjKNUFg4kRYtAg+/rhYiyMZY4LA1q1wzjnw5ZfQ\nsqXX0Vi5Jijcfz/s3x+6XSqNMY4q3HYbDB8eHAm+KGwkX0pWroRLLoHVq6FePa+jMcYUxcyZrlSz\nfDkEy/IEVq4JIiNHwg8/wPz5XkdijCms5GRo1w4+/BDOOsvraH5nST6I/PYbnHEGPPEE9OnjdTTG\nmMLo3x+aNXO/v8HEknyQ+fxzGDDAtTyoVcvraIwxBbFggavDr14NkZFeR5OTJfkgdOed8OuvdiHW\nmFDw88/urvXZsyEhwetoTlSmSV5EqgJLgCpAZWCBqo4UkVjgTSAe2Ab0V9WDufYtN0n+yBFXtnn6\naejVy+tojDH5GTAA4uLcBddgVOYjeRGppqq/ikhF4AtgOHAFkKKqE0XkQSBGVR/KtV+5SfIAS5fC\n1Ve7j3+2vrQxwWnuXBg9GlasgGrVvI4mMM/KNSJSDTeqHwy8BXRT1WQRqQckqWqrXNuXqyQPrsa3\nfbv7QbKbpIwJLnv3uk/c773nVnwLVmV+M5SIRIjISiAZ+ExV1wBxqprs2yQZiCvuecLB+PHuAuyb\nb3odiTEmu6ybnm6+ObgTfFFULO4BVDUT6CAiNYGPROTCXO+riAQcsicmJvofJyQkkBCMVzlKUNWq\n7uaKnj2ha1do0MDriIwx4H4vt21zn7KDTVJSEklJSUXev0Rn14jIaOA34GYgQVX3ikh93Ai/3Jdr\nsjzyiFv8+/33rWxjjNd27ICzz4bFi125JtiVablGROqISC3f40jgYmAF8B4wyLfZIMDDFvvB5+GH\n3SIjL7/sdSTGlG+ZmW7pzvvuC40EXxTFnULZDpiJ+2MRAbymqk/6plDOBZpgUygD+u476N4dvv4a\nmjb1OhpjyqcpU1ypZtkyqFjs4nXZsJuhQsgTT8AHH7glA20lKWPK1saNcN558MUX0KrVybcPFtZq\nOIQMH+7+G2y9MYwJd2lp7qanceNCK8EXhY3kPfbjj9CxY/DPzTUmnPz1r24k/+67oTf5obAj+RCp\nQoWvxo3hhRfg2mvdXXbR0V5HZEx4W7QIXn/drfkQagm+KGwkHyRuu801MXvtNa8jMSZ87dsHHTrA\nrFnQo4fX0RSN1eRD1NNPw//+B//8p9eRGBOeVGHIELj++tBN8EVhI/kgsnIlXHwx/Pe/0Ly519EY\nE14mT3Yj+GXLgmcpv6KwKZQh7pln4I03XNfKUP5BNCaYrF7tRu9ffQUtWngdTfFYuSbE3XMPxMTA\n2LFeR2JMePjtNzddctKk0E/wRWEj+SCUnAxnnuk+Wl50kdfRGBPabrsNUlPdSk/hMJvGRvJhIC7O\nzbK5/nrYtcvraIwJXbNmQVISTJ0aHgm+KGwkH8Qee8y1PfjsM6vPG1NYWf2hPv0U2rXzOpqSYyP5\nMDJypLs5auRIryMxJrSkpkK/fvDUU+GV4IvCRvJB7uefXa/rp5+GK6/0Ohpjgp8qXHMN1KwJL77o\ndTQlz9oahJnatd1qNT17Qvv25XN2gDGFMXky/PADfPml15EEBxvJh4jnn4fp090838hIr6MxJjj9\n5z9wxRXu9+TUU72OpnTYzVBhStU1MateHV56yetojAk+KSmutPnss9Crl9fRlB678BqmRFx9cdky\nWzbQmNyOH4frroOrrw7vBF8UNpIPMevWQbdusGABnHuu19EYExxGjHAN/j76KPynG9tIPsy1bu1G\n8v362Y1SxoDr3Dp/PsybF/4JviiKleRFpLGIfCYia0TkexG5x/d6rIgsEpGNIvKxiNQqmXANuJk2\nQ4dC796uL4cx5dXXX8N997lPtrVrex1NcCpWuUZE6gH1VHWliNQAvgF6A0OAFFWdKCIPAjGq+lCu\nfa1cUwxZF2IrVHAtEMrrLdum/NqzBzp1chda+/TxOpqyU6blGlXdq6orfY+PAOuAhsAVwEzfZjNx\nid+UIBGYMcPV6CdN8joaY8rW0aPu5sBbbilfCb4oSuzCq4g0BZYApwM7VDXG97oA+7OeZ9veRvIl\n4Mcf3QLgM2bApZd6HY0xpU8VbrwRjhyBN9+EiHJ2ZdGTO159pZq3gGGqmirZageqqiISMJsnJib6\nHyckJJCQkFAS4ZQrjRu7C059+riFRk47zeuIjCld//iHW/R+2bLykeCTkpJISkoq8v7FHsmLSCXg\nfeADVX3G99p6IEFV94pIfeAzVW2Vaz8byZegGTNg4kR3p19srNfRGFM6PvoIBg92d7bGx3sdjTfK\ntCbvK8XMANZmJXif94BBvseDgHeLcx5zcjfd5G7n7tXL1SuNCTcrV7o1FubPL78JviiKO7vmAuBz\nYDWQdaCRwHJgLtAE2Ab0V9WDufa1kXwJy8x03fciImDOnPLxUdaUDzt2wHnnuTWQ+/XzOhpvWe+a\ncu7oUbdk4PnnwxNPeB2NMcV38CBccIG72Hr//V5H4z1L8oaff3ajnmHD4M47vY7GmKJLT3ezxtq2\ndRdc7X4QS/LGZ8sWN/qZNg0uv9zraIwpPFUYNAgOH4a33nI3/hnrXWN8mjeHd991H3G//trraIwp\nvDFjYMMGd33JEnzRWZIPY506uamVvXq5kb0xoeKll2D2bFi4EKpV8zqa0GbL/4W5K65w3Sovvtjd\nLNWggdcRGZO/+fNh9GhYsgROOcXraEKfJfly4I474NAhl+iXLIE6dbyOyJjAPvwQ7rrL3fTUsqXX\n0YQHu/BajowcCYsWwaefQnS019EYk9PSpdC3r7uWdN55XkcTvGx2jcmTqutD/913bsRktU4TLL75\nxk2VnDPH3edh8maza0yeROC556BpUzdiSk/3OiJjYO1atxDOiy9ags+PZmay6Yv3Cr2fjeTLoWPH\n4Kqr3FJpr79u09OMd7Zuha5d4fHH3ULcJqe9G79l09ypsPgTWqzYxrEKQuMDx20kb/JXsSK88QYc\nOAA33+yt5Aa/AAAUt0lEQVR63hhT1n780Y3cR460BJ/l8L6dLH9hNEt6dWBT/apUPrMjFf71bzLP\n60zap4tomFL4j982ki/HfvnFfUxu0sQtDm4jelNWtm2DHj3cTJry3I8m4+ivrPvXq+xfOJfYZd/S\nbEcqP7SI4fAF53BK74GcdtE1VKhUOcc+duHVFMqvv7qbperWhVmz3CjfmNK0ZQt07w4PPAB33+11\nNGVLMzPZ/MVCdr0zk8glyzht7U/sPiWS5HPbEfWXPrTufTPVauY/x9mSvCm0335z62VGRbm7DCtV\n8joiE65++MGN4P/2N7j9dq+jKRvJP6zkh7lTYdEif119S8cWVPzTpbTseyt1mrYu1PEsyZsiOXrU\n9emuXNnV6ytXPvk+xhTG+vWuBp+Y6K4FhavUlN2se2sqv32wkIb/XUfs4XQ2tGtARvduxPe9iSZn\nJiDFWOzBkrwpsvR0uPpqOH7crRtbpYrXEZlwsWYNXHIJ/N//uc6S4cTV1Weyf+GbOevqXTpxSq9r\nA9bVi8OSvCmWjAy49lo4cgTefhsiI72OyIS61avhT3+Cp55yP1uhLlBdfc8pkeztfDpRl11ZoLp6\ncViSN8V27JhbLHnrVtcF0BYGN0W1ZIm7J2PyZOjf3+toim7P+v+xef6LOearbz2nBRUuuZTT+t1G\n7fhWZRaLJXlTIjIzYcQI+Pe/XQuEJk28jsiEmvnz3cpkr7/uLraGksP7drJ+/jR++3AhDZevp/ah\ndDa0b0D6hd2I73sj8Wd392yZqsIm+WJPmBORl4HLgJ9UtZ3vtVjgTSCePBbyNsEtIgImTYL69d16\nsR98AKef7nVUJlRMnuzuYv3oIzjzTK+jObnc89Wb70ilYosY9IJOpL98P9EXXUPnEqyrl6Vij+RF\npAtwBJiVLclPBFJUdaKIPAjEqOpDufazkXyImDMH7r3Xjcy6dvU6GhPMVOHhh92F+48+gmbNvI4o\nMM3MZPOX77PrrVeLPF/dK56Ua0SkKbAwW5JfD3RT1WQRqQckqWqrXPtYkg8hixfDgAEwdaprbmZM\nbhkZcOutbibNv/7lbrALJrnr6hkVI9h69qlU/NOlnHbV7dRucprXIRZImZdr8hCnqsm+x8lAXCmd\nx5SRiy5yI7OePd1KU3ff7VlJ0gShw4fhmmvc488+g+rVvY0HTqyrxx5Op0L7BmRc2I20p6YTf3Z3\nGnsdZBko9ZvYVVVFJOCQPTEx0f84ISGBhISE0g7HFMNZZ8GyZW5Jwe++g+eft5umjLuLtVcv6NYN\nnn3WuzumA/WBqdgiBu3i6uo1L7qGc0Owrp6UlERSUlKR9y/Nck2Cqu4VkfrAZ1auCR+pqXDDDbBv\nH7z1FsTZ57Ry6+OP4frrYezYsm9TUBJ9YEJRsJRr3gMGAU/4/vtuKZ3HeCAqyiX3sWOhUyd45x03\nyjflhyo88wxMnAhz57pRfFnYu/FbNs170d8HpmoFQTq24NjAa8noeyutm7amcJ1gwl9JzK55HegG\n1MHV3x8BFgBzgSbkMYXSRvLhYf58t1D4c8/9XpM14e3oUTdqX7nSrcfatGnpncvfB+bf7/nnq69v\nX3J9YEKR3QxlytyqVdC7t0vyjz5q7YrD2a5dbnZVkybwyislf4G1rPvAhCJL8sYT+/a5KZYZGa5d\ncaNGXkdkStq//gU33QT33ONWcyqJ2VVe94EJRZbkjWeOH4cnnnAzLKZPh8sv9zoiUxLS011SnzfP\n/QHv0qV4x8u3D0wIzVf3iiV547lly1y3wT59XNK3lsWha9MmV4Zr1AhmzIDatQt/jOzz1RstX0fs\noYyg6QMTiizJm6Cwf79bGGLbNnjzTfjDH7yOyBTW66+70swjj8DQoQXPw4H6wGy0unqJsSRvgoYq\nvPACjBnjmlXddJMN2ELBwYOuV9GXX7o/0CdrMBbKfWBCkSV5E3S++w6GDIGYGHjxxeBtWmVgwQK4\n6y53V/MTT7h7IgIJlz4wociSvAlKx465lYGefPL3j//lbHpzUNu3z/Uj+uYbeOmlE29uCtQHZoOv\nD0x8v5uJP+tCbwIvhyzJm6C2YYMr26i6C3mtym5BHROAqqu933//7+0JqlXLWVeP8dXVbb56cLAk\nb4JeZiZMmQKJiXDfffDAA1C1qtdRlT/btrkLq1u2wIyXMqmdHqAPjM1XDzqW5E3I2LYNhg2D7793\nZZw+fezCbFlITYUJE+DtV7/ljs4vcmbKIv6w0s1X39KxBRX/dCkt+95KnabWBSYYWZI3IWfxYjei\nr13bNb3q0MHriMLToZ92M3fMC2QsWsiFh9ZT7xfrAxOKLMmbkHTsmLvgl5jo7pQdP95aGBdX9j4w\n0Z9/yx92pfLNKTEcvKATLW+wunqosiRvQtrBgy7Bv/qq6255771Fu8uyPArUB2Zn3UiW1WnH4qO9\nufyvt3DdkDpWEgtxluRNWNiyxd1A9fbbcMstbvbHKad4HVXw2bvxWzbNnZqjD8yWji1IOeNS5nx/\nO1+tPo0RI9z3sFo1r6M1JcGSvAkr27e7m3LeeMPdUDV8ONSv73VU3smzv/qFXYnvexM7fr2Q8Y9F\nsG4dPPQQ3HijzVwKN5bkTVjatcvNwJk1C/r3hzvvhPbtvY6q9AXsr35qLQ51+SNxvV1dPZPKLFzo\nFm7Zvt11jBw0yNbfDVeW5E1Y27vXtUaYPh0aN3Z1+6uuCp/RamH6wPz4o/s+vPQStGjhVmu66irv\nFtI2ZcOSvCkXjh1zi1hMnQr/+58bud56K7Rs6XVkhZe7rp5fH5jjx2HRItf47YsvXEvn22+Htm09\n/B8wZcqSvCl3tmxxo/tXXnF9z/v1c0vUBWvCz68PTNN+N9MkVx+YY8dgyRK3ePrbb7v/x9tvdytx\nlfTyeyb4BU2SF5E/A88AFYCXVPWJXO9bkjcl6tgxWLrUJcO33oK6dV2y79cP2rTx7m7a3P3VC7Ju\naXo6fPqpWyh9wQK3WHbWH68WLbz5/zDBISiSvIhUADYAFwG7gK+BAaq6Lts2luRNqcnMdP3Q33rL\nJcqICOja1XVX7NbNJcrSSvp5r1vajqjL+tCm9y1E1sw5+T89Hb7+Gj7/3I3av/wSTj/dJfYrr3RJ\n3hgIniR/LjBGVf/se/4QgKpOyLaNJXlTJlRd98usBLpkifsj0K0bnH++S6Zt2riRf1ET/96N37Jp\n3jRYtDjHfPVAfWCOH3clprVrYdUqF8/y5W71rG7d3B+jLl2gjvUDMwEES5LvB/xJVW/xPb8O+KOq\n3p1tG0vyxhOqsHWrS65ffQXr1sGaNS7Bt2njvlq3hoYNXeLP+qpdGypUcMdITdnNunkv5Kyrt6tP\nevcE6ve8iaoNE0j5OYJ9+1yv9qykvm4d/PCDa9nQpg20a+cS+vnnQ61ann5bTIgobJKvWEpxFCh7\nJyYm+h8nJCSQkJBQSuEY8zsRaN7cfQ0Z4l5ThZ9++j0Rr1vn6vv79kFKCuxP+ZXTKr7KJdXncuGR\nb2m3P5UjdWNYGtWJ/8Tcz8bIazi2pzI/PwsZT+X841C3LsTHQ8+eMGIEnHaaXTA1BZeUlERSUlKR\n9y+tkXxnIDFbuWYkkJn94quN5E0wC1RX3x0Xyc6O7eCCPjTqcStVasTm2CciAmJj3ZJ51h/GlJZg\nKddUxF147QHsBpZjF15NkNuz4Rs2z5uWc756xxZUvOTPtm6pCRpBUa5R1WMiMhT4CDeFckb2BG9M\nMEhN2c3a+VM5+sHvfWAq+Pqrp016kSZnXUhj669uQpzdDGXKjYyjv7L2X69yIPt89Vx9YKy/ugl2\nQVGuKdCJLcmbUqaZmWxe9j4733mVaknZ5qsH6ANjTKiwJG/Ktbzq6pUu/hMt+99hdXUT8oKiJm9M\nWUndt4t186f65quvI/ZwhqurX9iNtKemE3/WhTS2qS6mHLMkb0JKoD4wFVvEoF06kTbjPmpePIBz\nra5ujJ+Va0xQ08xMtix7n51vv1rgPjDGhDOryZuQl7sPTI756v1uo3Z8K69DNMYzVpM3ISdQH5gK\n7Xzz1Z+aTpMzE2y+ujFFZEnelLn86urpL99PzYuusbq6MSXEyjWm1OXVBya5s5uv3qbPrURGx578\nQMYYq8mb4BBw3VLrA2NMsVlN3ngiNWU3696aym///r0PTMX2DUjvbvPVjfGSjeRNkbi6+kz2vz+X\n2C++odmOVDadWotDXTpxSu+B1gfGmFJi5RpTKjQzk81fvs+ut2cSmfSF9YExxiOW5E2J2bP+f2ye\n/+KJdfWLL+G0/ndaXd0YD1hN3hTZ4X07WT9/mn++ur+ubn1gjAlZluTLsdzz1ZtnzVe/oBPpM+4j\n+uIBdLa6ujEhzco15Uig+equD8zpRF12pdXVjQkBVpM3Obg+MC/CokUnzFdv2fdW6jRt7XWIxphC\nKLOavIhcBSQCrYBzVPXbbO+NBG4EjgP3qOrHRT2PKZzcdXXrA2NM+Vacmvx3QB9gWvYXRaQNcDXQ\nBmgILBaRlqqaWYxzmTxYHxhjTH6KnORVdT24jw659AJeV9UMYJuIbAI6Af8p6rnM7wLV1SvFRULn\ndqQ/PJIKfW7lrGjrr26McUpjdk0Dcib0nbgRvSmi3H1gqlYQpGMLjg28lox+t9E6vhVWWTfGBJJv\nkheRRUC9AG/9TVUXFuI8doW1EAL1ganQPmddvZHV1Y0xBZBvklfVi4twzF1A42zPG/leO0FiYqL/\ncUJCAgkJCUU4XejLOPora//1KgfyqKtHW13dmHIrKSmJpKSkIu9f7CmUIvIZMFxVv/E9bwPMwdXh\nGwKLgRa550uW5ymU/j4wb/2+bunuUyJJtj4wxpiTKMsplH2AZ4E6wL9EZIWqXqqqa0VkLrAWOAbc\nWW6zeTa5+8BUqRjh6urXXsOx/nfSuslpVlc3xpQ4uxmqlATqA7PeV1eP73sTTc5MQKyubowpJGtQ\n5pG8+8CcQ/pL9xF9yQCrqxtjypyN5Isox3z1pGWcts76wBhjSp/1rilF+a1ban1gjDFlwco1JSg1\nZTfr5r2Qsw9M+wZkJHS1PjDGmJBgST4b6wNjjAk35bpcE6gPzO64SJI7u/nqbfrcSmR0rKcxGmNM\ndlaTP4ncdfVjFYQtHVtQ8U+XctpVt9u6pcaYoGY1+VysD4wxpjwLuyTv6uoz2b/wTesDY4wp98Km\nXLNv6xq29u1+Ql3d5qsbY8JJua3JH0s/yvLnRlpd3RgT1sptkjfGmPKgsEnerjgaY0wYsyRvjDFh\nzJK8McaEMUvyxhgTxizJG2NMGLMkb4wxYcySvDHGhLEiJ3kReVJE1onIKhF5W0RqZntvpIj8ICLr\nReSSkgnVGGNMYRVnJP8x0FZVzwA2AiMBRKQNcDXQBvgzMEVEQvYTQ1JSktchFIjFWbIszpIVCnGG\nQoxFUeTkq6qLVDXT9/S/QCPf417A66qaoarbgE1Ap2JF6aFQ+Ye3OEuWxVmyQiHOUIixKEpqhH0j\n8G/f4wbAzmzv7QQaltB5jDHGFEK+rYZFZBFQL8Bbf1PVhb5tRgHpqjonn0NZkxpjjPFAsRqUichg\n4Bagh6oe9b32EICqTvA9/xAYo6r/zbWvJX5jjCmCMulCKSJ/Bp4CuqlqSrbX2wBzcHX4hsBioIW1\nnDTGmLJXnJWhngMqA4tEBOArVb1TVdeKyFxgLXAMuNMSvDHGeMOzfvLGGGNKn+fz10Xkbt9NVd+L\nyBNex5MfEXlARDJFJNbrWALJ7wa1YCAif/bdIPeDiDzodTyBiEhjEflMRNb4fibv8TqmvIhIBRFZ\nISILvY4lLyJSS0Tm+34u14pIZ69jCsR3A+caEflOROaISBWvYwIQkZdFJFlEvsv2WqyILBKRjSLy\nsYjUyu8YniZ5EbkQuAJor6qnA5O8jCc/ItIYuBjY7nUs+Qh4g1owEJEKwGTcDXJtgAEi0trbqALK\nAO5T1bZAZ+CuII0TYBiuLBrMH8f/AfxbVVsD7YF1HsdzAhFpiptAcpaqtgMqANd4GVM2r+B+Z7J7\nCFikqi2BT3zP8+T1SP4O4HFVzQBQ1X0ex5Ofp4ERXgeRn3xuUAsGnYBNqrrN9+/9Bu7GuaCiqntV\ndaXv8RFcUmrgbVQnEpFGwF+Al4ACz7QoS75Pkl1U9WUAVT2mqoc8DiuQw7g/7tVEpCJQDdjlbUiO\nqi4FDuR6+Qpgpu/xTKB3fsfwOsn/AegqIv8RkSQR6ehxPAGJSC9gp6qu9jqWQsh+g1owaAj8mO15\n0N8k5xvhnYn7gxls/g78Fcg82YYeagbsE5FXRORbEZkuItW8Dio3Vd2Pmym4A9gNHFTVxd5Gla84\nVU32PU4G4vLbuDizawoknxuqRvnOH6OqnUXkHGAu0Ly0YwrkJHGOBLI3WvNs5FSCN6iVtWAuKZxA\nRGoA84FhvhF90BCRnsBPqrpCRBK8jicfFYGzgKGq+rWIPIMrLTzibVg5icipwL1AU+AQME9EBqrq\nbE8DKwBV1ZPdc1TqSV5VL87rPRG5A3jbt93XvouatVX159KOK7e84hSR03EjklW+qaKNgG9EpJOq\n/lSGIQL5fz/Bf4PaX4AeZRJQwe0CGmd73pic7S+ChohUAt4C/qmq73odTwDnAVeIyF+AqkC0iMxS\n1Rs8jiu3nbhPwF/7ns/nJPVjj3QEvszKOyLyNu57HKxJPllE6qnqXhGpD+Sbh7wu17wLdAcQkZZA\nZS8SfH5U9XtVjVPVZqraDPeDe5YXCf5kfDeo/RXolXUHchD5H/AHEWkqIpVxnUrf8zimE4j7Sz4D\nWKuqz3gdTyCq+jdVbez7ebwG+DQIEzyquhf40fe7DXARsMbDkPKyHugsIpG+f/+LcBe0g9V7wCDf\n40G4PJqnUh/Jn8TLwMu+6UHpQND9oAYQzGWHgDeoeRuSo6rHRGQo8BFu9sIMVQ26mRbA+cB1wGoR\nWeF7baSqfuhhTCcTzD+TdwOzfX/YNwNDPI7nBKq6SkRm4QYimcC3wIveRuWIyOtAN6COiPyIK3VN\nAOaKyE3ANqB/vsewm6GMMSZ8eV2uMcYYU4osyRtjTBizJG+MMWHMkrwxxoQxS/LGGBPGLMkbY0wY\nsyRvjDFhzJK8McaEsf8Hpu1I456cSHwAAAAASUVORK5CYII=\n",
      "text/plain": [
       "<matplotlib.figure.Figure at 0x7a14c18>"
      ]
     },
     "metadata": {},
     "output_type": "display_data"
    }
   ],
   "source": [
    "# plot funciton (blue), the finite difference approximation to the derivative (green), and its exact derivative (red)\n",
    "h = 1E-4   # a small number\n",
    "tValues = np.linspace(-5,10)\n",
    "plt.plot(tValues,f(tValues), label=\"f(t)\")\n",
    "plt.plot(tValues,df(tValues,h), label=\"FD approx of f(t) with h=%s\" %h)\n",
    "plt.plot(tValues,df_exact(tValues,h), label=\"f'(t)\")\n",
    "plt.legend()\n",
    "plt.show();"
   ]
  },
  {
   "cell_type": "markdown",
   "metadata": {},
   "source": [
    "#### Qauestion 1\n",
    "\n",
    "Approximalty how large can $h$ be before the error in the finite difference approximation to the derivative is large enough to be seen in the above graph? "
   ]
  },
  {
   "cell_type": "code",
   "execution_count": 6,
   "metadata": {
    "collapsed": true
   },
   "outputs": [],
   "source": [
    "# Answer 1\n",
    "h=0.2"
   ]
  },
  {
   "cell_type": "markdown",
   "metadata": {},
   "source": [
    "#### Question 2\n",
    "\n",
    "Approximalty how small can $h$ be before the error in the finite difference approximation to the derivative is large enough to be seen in the above graph? "
   ]
  },
  {
   "cell_type": "code",
   "execution_count": 7,
   "metadata": {
    "collapsed": true
   },
   "outputs": [],
   "source": [
    "# Answer 2\n",
    "h=0.1"
   ]
  },
  {
   "cell_type": "markdown",
   "metadata": {},
   "source": [
    "####Example 2 - Finite difference of a trigonometric function\n",
    "\n",
    "The function $f(t)=\\cos(3t)$ has derivative $f'(t)=-3\\sin(3t)$.\n"
   ]
  },
  {
   "cell_type": "code",
   "execution_count": 95,
   "metadata": {
    "collapsed": false
   },
   "outputs": [],
   "source": [
    "# define function, its finite difference approximation, and its exact derivative\n",
    "def f(t):\n",
    "    return np.cos(3*t)\n",
    "\n",
    "def df(t,h):\n",
    "    return (f(t+h) - f(t))/h\n",
    "\n",
    "def df_exact(t,h):\n",
    "    return -3*np.sin(3*t)"
   ]
  },
  {
   "cell_type": "code",
   "execution_count": 96,
   "metadata": {
    "collapsed": false,
    "scrolled": true
   },
   "outputs": [
    {
     "data": {
      "image/png": "iVBORw0KGgoAAAANSUhEUgAAAlIAAAEACAYAAAB4cZgSAAAABHNCSVQICAgIfAhkiAAAAAlwSFlz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\nSUVORK5CYII=\n",
      "text/plain": [
       "<matplotlib.figure.Figure at 0xade908>"
      ]
     },
     "metadata": {},
     "output_type": "display_data"
    }
   ],
   "source": [
    "# plot funciton (blue), the finite difference approximation to the derivative (green), and its exact derivative (red)\n",
    "h = 1E-4  # a small number\n",
    "tValues = np.linspace(-5,5)\n",
    "plt.plot(tValues,f(tValues), label=\"f(t)\")\n",
    "plt.plot(tValues,df(tValues,h), label=\"FD approx of f(t) with h=%s\" %h)\n",
    "plt.plot(tValues,df_exact(tValues,h), label=\"f'(t)\")\n",
    "plt.legend(bbox_to_anchor=(1.7, 1.0))\n",
    "plt.show();"
   ]
  },
  {
   "cell_type": "markdown",
   "metadata": {},
   "source": [
    "#### Qauestion 3\n",
    "\n",
    "Approximalty how large can $h$ be before the error in the finite difference approximation to the derivative is large enough to be seen in the above graph? "
   ]
  },
  {
   "cell_type": "code",
   "execution_count": 10,
   "metadata": {
    "collapsed": true
   },
   "outputs": [],
   "source": [
    "# Answer 3\n",
    "h=1"
   ]
  },
  {
   "cell_type": "markdown",
   "metadata": {},
   "source": [
    "#### Question 4\n",
    "\n",
    "Approximalty how small can $h$ be before the error in the finite difference approximation to the derivative is large enough to be seen in the above graph? "
   ]
  },
  {
   "cell_type": "code",
   "execution_count": 11,
   "metadata": {
    "collapsed": false
   },
   "outputs": [],
   "source": [
    "# Answer 4\n",
    "h=0.1"
   ]
  },
  {
   "cell_type": "markdown",
   "metadata": {},
   "source": [
    "> The leason I'm hoping you get here is that finite differencing is easy to do but one must be careful in picking a suitable value for $h$.  In the above examples the goldilocks range (not too big, not too small) is relatively wide but the functions we are using are trival. What happens if we try to apply finite diferencing to arbitrary complicated functions? Does the goldilocks range get narrow? disappear altogether ?   "
   ]
  },
  {
   "cell_type": "markdown",
   "metadata": {},
   "source": [
    "## Calculating the Derivative using Symbolic Differentiation (sympy)\n",
    "\n",
    "**NOTE:** We will import sympy using \n",
    "\n",
    "    from sympy import *\n",
    "    \n",
    "to save us on typing __sym.__ all the time - it gets boring fast."
   ]
  },
  {
   "cell_type": "code",
   "execution_count": 12,
   "metadata": {
    "collapsed": true
   },
   "outputs": [],
   "source": [
    "from sympy import *"
   ]
  },
  {
   "cell_type": "code",
   "execution_count": 13,
   "metadata": {
    "collapsed": false
   },
   "outputs": [
    {
     "data": {
      "text/plain": [
       "t**2 - 5*t + 6"
      ]
     },
     "execution_count": 13,
     "metadata": {},
     "output_type": "execute_result"
    }
   ],
   "source": [
    "# define symbols and function\n",
    "t = symbols('t')\n",
    "f = t**2 -5*t + 6\n",
    "f"
   ]
  },
  {
   "cell_type": "code",
   "execution_count": 14,
   "metadata": {
    "collapsed": false
   },
   "outputs": [
    {
     "data": {
      "text/plain": [
       "2*t - 5"
      ]
     },
     "execution_count": 14,
     "metadata": {},
     "output_type": "execute_result"
    }
   ],
   "source": [
    "# calculate derivative (symbolically)\n",
    "df = diff(f,t)\n",
    "df "
   ]
  },
  {
   "cell_type": "markdown",
   "metadata": {},
   "source": [
    "So we have our derivative. However, it would be nicer if the output used matematical notation (superscripts for power, etc) rather than the one-dimentional programming notation. We turn on rendering with mathematical notation with\n",
    "\n",
    "    from IPython.display import display\n",
    "    sym.init_printing(pretty_print=True)\n",
    "\n",
    "and to turn off use\n",
    "\n",
    "    sym.init_printing(pretty_print=False)"
   ]
  },
  {
   "cell_type": "code",
   "execution_count": 15,
   "metadata": {
    "collapsed": true
   },
   "outputs": [],
   "source": [
    "from IPython.display import display\n",
    "sym.init_printing(pretty_print=True)"
   ]
  },
  {
   "cell_type": "code",
   "execution_count": 16,
   "metadata": {
    "collapsed": false
   },
   "outputs": [
    {
     "data": {
      "image/png": "iVBORw0KGgoAAAANSUhEUgAAAFIAAAAZCAYAAACis3k0AAAABHNCSVQICAgIfAhkiAAAAwBJREFU\naIHt11+oVFUUx/HPdG9/7I/etD8XopIEqSTFB4usWzeonop6yRB8SR8MFKMX6aGgiECkfAgKEsSJ\noj8PEVQPBj2UREkQFUFS3UhEEhEsNErTtId1Dp4599xxz50zI97mC4eZvc/aMz/W3mvttRhQC41E\nu9uwHHNwB57Hzl6Jmqlcik2F8Qr8hWvOjpxzl8U4iQXZeDZOCYcO6ICGCO08DSwSjlx61hTNEN7A\nSz38/R+xSqSOEdyLT3BTD/8zhYV4C9vwqvDBZe0WLMBvuL7i3Rpsln5JTYdTpecfrJvCtp3WOrkZ\ne8WFC6P4Fc/mBsMVix7EXBwozT+QfW7ERdmP7alN6mn24mNciZ+xHbunsJ1K65lYjB9wIsF2GO9j\nC77I5s4Xl/Dv7Ra+h89Kc3eL0ziaPQ/j9lTVHfJpB7ZVWlNoYn6i7WoRFSPtjKpO5J3YWhjfgI/E\nDhSZkyikl5S19oKVmMAf7YxyRz6Kx3A5rsI92IEP8YozJNWauRDPYB6Oizz4FH5K1FonDbFZX+Eu\n3C8O1Hw8h2+mWrgWxzCrZkGdMIFrC+NVIgeOluy60dqUFtpXiAtvNx4vzI/jiCgFK3kHn09DWJ2c\nVxoPiU7q5dJ8N1qb0hx5tXDkUZM3bJ9IeZgsetz0knednCyN/8VBPFSaH9d7rYeyzwn8XXq3D/eJ\nVNRy2SwSO9CNuFtE8k+tM7/VGjI7s7VjJbshEWY5qVpfx5KK+etwq7iNy6zB19n342ITq8qcY7hA\nlF/7iy/WZwvz23lEa67qB0dUJ/CjouPJ6VZrU3r584HqOnZXpmuY1tAeEyfkz2z8hLSCtU52iJaw\nyFIRPm8W5vqp9W3RORVzZAM3CiefoNWRQ053KstETmg5sn1gM17Dxdm4gSfxZfYup59a38V3WtvU\nR0REbMwnirlsiWjGd4ly40WTE38/GMMG4ZzZ+B4viDDK6VZrU/TJexLt54oW8RLhwAaexi8d/OeM\npCk9RyZRLn/+LxzWesIHDBgwYEAP+Q/JBZ7XPEGlaAAAAABJRU5ErkJggg==\n",
      "text/latex": [
       "$$t^{2} - 5 t + 6$$"
      ],
      "text/plain": [
       " 2          \n",
       "t  - 5⋅t + 6"
      ]
     },
     "execution_count": 16,
     "metadata": {},
     "output_type": "execute_result"
    }
   ],
   "source": [
    "# now f is \n",
    "f"
   ]
  },
  {
   "cell_type": "code",
   "execution_count": 17,
   "metadata": {
    "collapsed": false
   },
   "outputs": [
    {
     "data": {
      "image/png": "iVBORw0KGgoAAAANSUhEUgAAACwAAAASCAYAAAAg9DzcAAAABHNCSVQICAgIfAhkiAAAAeNJREFU\nSInt1c+LjVEYB/DPnTuFZtSIEIkyG0kaxUJzF+R/sJnUrCgKG9mwMUpXLJQFJaVZTMmPEiZZMJGy\noaxIMQpDahamMX5bnHPrnfeea27e2xT51qnnfM/3ec/zPuc55+EvxyZcxk08wTksn8X9n6Iv7tmF\nbbiNNSnxBtyKQujECN5jVUK/Gm+wsoUB/8yNL9jdSHwd3TmuJzoOJfT7MIW5rYg0YhRncQVVDTJb\nwwReYXGOH8eHhP4S7haPcRruzCRoy9gvsAQdOc1nzEv49golM6soZewOzMdYhluG18Kfb8F29GOB\ncEHvCydzDadbEM8D3MBCfBXuyUE8a/YDx/Adm3P8To0zXwTPsSIz78M7LG3GuVvI3kBibQj3ikaX\nQFtuXsYkTs3kOAcPcbLB+hiOFgqteYzGAdoTghLOYxiHE+trhcuZeiHWCc9SKbGWwmPsivZI9Kvk\nNGUs+t1HBnAox+3I2HuEC9EZ512m192f4iMeJfgpoQOivmb68QNHcnxvxq4ImZmI8734ViTSiGGh\nFWfRI5TnYI3IlsRWHI+Ogxm+Xeh2NZTxMtob8QlvWxBwFWeE05wUymO/8NRVUw7j6nt5bWQzvl54\nf0/ggPpTKoIKLuICrsZ9W9n6/+Pfwy8hhmMZT8gKwgAAAABJRU5ErkJggg==\n",
      "text/latex": [
       "$$2 t - 5$$"
      ],
      "text/plain": [
       "2⋅t - 5"
      ]
     },
     "execution_count": 17,
     "metadata": {},
     "output_type": "execute_result"
    }
   ],
   "source": [
    "# and its derivative is \n",
    "df"
   ]
  },
  {
   "cell_type": "markdown",
   "metadata": {},
   "source": [
    "#### Example 3 - derivative of some random functions"
   ]
  },
  {
   "cell_type": "code",
   "execution_count": 18,
   "metadata": {
    "collapsed": false
   },
   "outputs": [
    {
     "data": {
      "image/png": "iVBORw0KGgoAAAANSUhEUgAAABoAAAAXCAYAAAAV1F8QAAAABHNCSVQICAgIfAhkiAAAAahJREFU\nSInt1D9szVEUB/AP7aBUiRjEn4hIpCJRBomlmBgUo8TQiKEllXQViUkY/FmJySYGG0JiMRiwUIvE\nQgzqLYRIPfXSGu55cd389DUvnkTim/xy7/ne+zvfc+859/CX0NVB35cxhbcd1LAbNexpEgs7ILIM\nA3iZk50QGsG1kuwu7J0YxVf0YDHOY2KeIgdxD9/m2rQdd7Ao467iM7ZV7N+Id1gf9moMZ+sP/SZH\nw9iPQxl3F0txrELoAFZISYd9WINT8W3CkfD5y9U9i+g/ZFxvjFMVQoN4gnrY14v147gRJ2uJC2hI\nVVSihrMV/Nr4r47bGGolsiGcjWTcYdyXTjKLR2GPzSfqEkMR6QucVv0ERqXK6mlHoEQ3HuAxVhZr\nN6XT/DHskq7oVsG/x7l2nfZja8H1hdCMnxW4Jbi97Yj0Sd2gIT3EJpaE01mph8FJfM+El2NdK4Fm\noqelnLzGx2x9c4xP8Snmg3iOL2GPR4Bzovlg67iIyUJoPByeyLguvIn5DukmJlsJLSjso1IraWCV\n1CXO4FW2ZwBXpGqs4ZKUw//4x/EDT4xVmgX5YTcAAAAASUVORK5CYII=\n",
      "text/latex": [
       "$$3 t^{4}$$"
      ],
      "text/plain": [
       "   4\n",
       "3⋅t "
      ]
     },
     "execution_count": 18,
     "metadata": {},
     "output_type": "execute_result"
    }
   ],
   "source": [
    "f = 3*t**4\n",
    "f"
   ]
  },
  {
   "cell_type": "code",
   "execution_count": 19,
   "metadata": {
    "collapsed": false
   },
   "outputs": [
    {
     "data": {
      "image/png": "iVBORw0KGgoAAAANSUhEUgAAACQAAAAXCAYAAABj7u2bAAAABHNCSVQICAgIfAhkiAAAAd5JREFU\nSInt1s+LjlEUB/DP+NEwQ81qiIRMolmIjKShYSlLslBkw4IiyUbZDKXEH0CYhTQbdpMfiQj5WULZ\nqJGF3zUbGYSxuFfduT3PO/O+0/RazLfeOt9zznPP9znPObeX/wwNdaq7DvPRiC704EadtIAv2BHt\nLfiGmTClToK60B/tIUytk45CXMThkZKa8LxCfBUu4wpe4CzmVilkBQ7iTKxXig48FlpZdtB1tEQ+\nA3fwCQsK8hfhnTDERdiFp/GcYViKPmHiH1QQ1Ie2zLc85vcW5O/Hd0yLfDU+YmHkS+Kzm0vqEUWV\nCfqKt2jN/APC9uS4hNsJX4mbwsrDRvwUX7KWLevHYjRn/h/i6mboxOmEP8E57MWfGN+E15WK9ijv\nUDNmZ745Mf9W5FtxFQ+j/27keyoVrVVQEY7jN9Zk/t1C56bXKqQWQW3CXB0tiPUK3RkzRiuoEY9w\nqiT+AceqKTypmuQMDTgvzMaBgng7Zhm+YeMqqBuvcCTxbU/s9fiF+5G3YN54CdoprGx35u9M7LV4\nJswX7IsCK6LsHvp3qzYJfw1SbMAJ4VNdyM5K524y3kS7A4N4P5KgFK24hpfx4CF8Fu6WbUneQBLP\nf2nHluEeTuKQsY3HBCYwavwFkPVoIahw/7QAAAAASUVORK5CYII=\n",
      "text/latex": [
       "$$12 t^{3}$$"
      ],
      "text/plain": [
       "    3\n",
       "12⋅t "
      ]
     },
     "execution_count": 19,
     "metadata": {},
     "output_type": "execute_result"
    }
   ],
   "source": [
    "diff(f,t)"
   ]
  },
  {
   "cell_type": "code",
   "execution_count": 20,
   "metadata": {
    "collapsed": false
   },
   "outputs": [
    {
     "data": {
      "image/png": "iVBORw0KGgoAAAANSUhEUgAAAHUAAAAUCAYAAACzrHJDAAAABHNCSVQICAgIfAhkiAAABNZJREFU\naIHt2HmoV0UUB/CPtmi7khXZZiaJCJqZWWH1DCsqMgpKKhNNKILCFqj+aMMii/Zop/LZ6j9ZIaUE\nhaXYpiAUpRFlGZaZ7bRvf5y5/Obdd3+/93u9p1m9L1zunTNnZs5878w5c4Ye/G/Rgi9xcTf0NRB9\nO9AZgP7dMNbmiK0wKCsfjHlYgLfwEPZosq/ddIGn0/En7v+7HSTsiAsq5PthLfZJ5V6YKQj4L2FL\nXI1tU/lAvIB+qbw9XsHn2v74AmWeemNW1l+nMSQZ1RVcLQwv40L8pO0OHoxL/8YYI3Tdzo2FS4R9\nBZ4TvOYYJTbQ3Ir2VTztjpu70cZOYRexqqrwFF6ukD+MrTs5TqvqVf5PYwcxzxzf42PsWpJ/hS8q\n+qjH033Yuyj0bsKYPhiKcTigCf16OBZL69SNE26njLdweBfG3JxwNF4tyT4UcXG7kvxnbFPRRz2e\nXsKkopC7qZNxqFglfbFzkt+HW3AM5mBqpj9TbP878BrGJwPHCFeTT+Iw3JiVJ2GaCPS7prYLMR93\nJ50VGIsXKybSXTgAV+Fr4dp640Esy3TGirPAOsFZP1yPVZlOPf7OT+8W7XfqIWIHf5bJBoofvSiV\nm+FpGc7ETXnnw8TfzjFZuLICy0plyfDvRGyYnsnvxOqS7tPar0g4V/2VOQJ3VcgboVXz7vcwfCsI\nL/AIPsrKJ4qft0smGybmNyord8TfPAxvwqYb8HuyLUcjnnYSXg019ztCrIIdMsVnhM8vkH8X2JCe\nwSL+FXhbnNByIrZLRpUxHm/ix4q6H3U+pjaLXpiNxWq7gpjP6+l7+6RzL9ZnOu/i2VRHc/zVm3+O\nIWJnz9I+VDXi6QcZT8VPXZyM+gSPClezjZrr6AgrxImtwC/pne/MDWJFldGiOvhL+lUHhu7AWOyP\n5SX5RTgtfZ8gvNHKivarMBKjNcffeo1zyj54Ag/gior6FvV56i/SINR+6loxybmp8Z1YI/LTZtDR\nCoT3RbzIMVzEj3rGDkztqjBHLKbyMxHP16kbnbUflN6fNLB5cHr/VlH3a3oP0Rx/K7FnnXEKr7FQ\n9QVPRzztJbxHG4zJJlAozRHxpk+SLdI+phKxpSyfKnbuoEw2HueU9M4X5BS5a780doFZJbuaQavm\nYuoRycbLGuhMTTpnVNRdnupaNMffaNxaZ5zrcGVJNiX77oinGTipKBQ7dbi2q2oNzsYfarcdXcVi\nbRNvIl1ZoRZ7Zqjtil7C9X3QTeOXsVTs0qMq6k4Rp/r5Il4NrdAZndov0Rx/y1Of5VuyaUnv2pJ8\nXPbdiCfCSywoCnmeeqG27nFPvCeO8ZIxVTc1VfKtSm/JiCXiaqzAFmqn5DHiEPBpKk8UMWZj4TdB\n/JGyVS4Od0cnOzYI7zJd/JAC+wrPM0WN3I74g9twVlY+SqQhg/FY9szV9tDViKfjRWZRnGP0Su/J\n4rQ6IDUoVtiNacCbcZBwAUvEMX+CyO8OTPI3cKrIWSeI4L1axIqZmYHT8bjICUfiHpHjrkvj/CGI\nnYAndR6tuEb7lKoeDk76Xwuifhbz/ibTORznJZ3fxV3r7WppRCP+1pTGO06kTO+InLaeJ8xdcj2e\nBopLndlVHfyX0GrzvCbcZGjmmvDfhm+FF+hBD3rQgx70YFPiL/u+I1+gElLQAAAAAElFTkSuQmCC\n",
      "text/latex": [
       "$$\\sin{\\left (t \\right )} + \\cos{\\left (2 t \\right )}$$"
      ],
      "text/plain": [
       "sin(t) + cos(2⋅t)"
      ]
     },
     "execution_count": 20,
     "metadata": {},
     "output_type": "execute_result"
    }
   ],
   "source": [
    "f = sin(t)+cos(2*t)\n",
    "f"
   ]
  },
  {
   "cell_type": "code",
   "execution_count": 21,
   "metadata": {
    "collapsed": false
   },
   "outputs": [
    {
     "data": {
      "image/png": "iVBORw0KGgoAAAANSUhEUgAAAI8AAAAUCAYAAAC0wm4TAAAABHNCSVQICAgIfAhkiAAABP9JREFU\naIHt2WusHVMUwPFfS7VFqdQl6lVXaUpaj6ZK0+ptE0QF4YMG1ZQm+EDqkSDxSkpaQon3I+gtgkha\nRNAQTSlFaNKERCvi/aYI4lnqw5rJmTOd87rnnGrk/JOTOXvtPXvWWnvvtdfsoUOHLYDDsBTP4W3c\nj90b7KMH3+OiFugzACMy5Wb02xU7tUCnLZHhGFSjzc7aaP+heB5Dk/L2eBnfKB/AWpyKjbinSX22\nxtXYto/67YsvsHdS7o8Fmf7+L+yA8wvkefv7YZ5YkC3nGYzMyQ4RE+GxBvsaKQa/GS7G2Ey5Uf0u\nwO/KV+RuuLGP+ozVvE3t4GqxkPIU2d+NS9qhxC/4BLvk5D/gu3Y8sApDsCQna1S/JXipQH439uqD\nTr0ai8Cbgy4RTYuoZP8D2CYt9G+RIh+KvGC7nPwPDK6zj4EYhUk4uAldjsJrTeo3SWxreZZjRhO6\nbUkcg1UV6irZ/zYmp4VWhdLDxYr/KiMbLgZsRUZ2Eo4QK34QhiXy87AfFuJoLMbspP08sWXcgtcx\nVUyC8WJ7yk+UHptGnnr0m4EzRWK4S/KcZXgadyRt3sLpuKHQC63jYFyFH8X20R/3Jc+HCSJX+VqM\n4VDMx7pMH9V8DRNxfaZ9PfavSZ79YvMmVuc6/J0oCaPFys0yU4T0LG/lZMPws8hb5mTkt+Kjgucu\nxYF90C/lHJUj0o5i9TVKr/q3rYn4SSyClAfxcfL/eDFJujL1o4UvDsmUa/n6CZtGYqrbPxa3p4VW\nbVt5RooZvkApNI4VM3pIpt2TIh/Jki+vT37dYs9NeUe8DXTl2m8njG9Uv5SpeBO/Fdz3q8ye3wb6\nYRFWKo/Y6/GGSG4X4S58m6l/F08lddTn60p+qmb/b9qQ82QZiEdwL67IyFcKgz7DQyLsDlYKo7VY\nI96OUv5MrvnV863qZxKV9EvpUZwsSvr9ppaiTTAB+2N1Tn4hTsFxIhKvLbh3HQ7COPX5er2IpHl6\nVLZ/R5kXjGzOM0Y4tF+FG/Oswbk5Wbpylok9O8sXwjmXYboIozeIffbROp5XK5qkrMUeYvXkqaYf\nsd3tqrLz9hSrvBKLxQDm2UscUv5ZUDdHabKMSK6fVei/O7luKKj7K7mOTPqr5ev3Rd63PtNHLfuH\nJ/e1hWtxZU42K7mOVzKeGIjFYn8fmJGvsGke9FGBbLaIRCNy8nG4qQ/6ESvzL6Wzj6GJnilzcWKF\nvqvRW6BnEUcKmy6tUD87qT+toO6ypK5Hfb6eirNzfdSyf0G231ZuW2fiH1yTk09KrgeKE+SUT3FW\ncs9QrWO1eDvLn4bW0o94DV2jlBvMVb7KJ4jPG+1ilYg60wrqTsYLIu8aVVA/Lrn3FfX5eqXyg1Sq\n299PbJkfpI1bNXmmibDYjYczv8eUJ20XiNCXsgfeE6+cKQNseoRQSZa9ZrkZZ/RBv62U3uDGiwTx\ny6Q8XbyhFG09rWKDGOQpyiNclzi/+lxEizligaTsIyLJLKXBruXrDWKiHZppU83+E0Su2HJ+ECGz\n6Jeu9Jm4XAzsfLGF3K4UFqeIPGWjGKDlwoGrM7JXhNMeFx9QN4oDwKL85Vgc0IB+RL7yqjhvukRp\ncQ0Xkauv9GrshPkwPCsGa6HwVza5nZzU3YnbxEfeMZn6Wr7OMkfpM0Ql+7uUR7IOm5FeW97niaZp\n1zlPh3J+EifFHTp06NChQ4f/hn8BSjc/6bnhYZsAAAAASUVORK5CYII=\n",
      "text/latex": [
       "$$- 2 \\sin{\\left (2 t \\right )} + \\cos{\\left (t \\right )}$$"
      ],
      "text/plain": [
       "-2⋅sin(2⋅t) + cos(t)"
      ]
     },
     "execution_count": 21,
     "metadata": {},
     "output_type": "execute_result"
    }
   ],
   "source": [
    "diff(f,t)"
   ]
  },
  {
   "cell_type": "code",
   "execution_count": 22,
   "metadata": {
    "collapsed": false
   },
   "outputs": [
    {
     "data": {
      "image/png": "iVBORw0KGgoAAAANSUhEUgAAAD0AAAAVCAYAAAD1neayAAAABHNCSVQICAgIfAhkiAAAAklJREFU\nWIXt1jmMjVEUwPHfYITEMsRQWINIRJhIBgVjbYiEytZYMkIjITQkEhqikChspadCoaKwhMQSISIR\nJYWlsEUUg9iH4tyX983LjHnyvnkK82/uO+ed795z7jn33Mt/SF2Ocw3HBizAIUzFUIzFrhzX+adM\nwkuMT/Jm1OMJ1ibdEHyqvWs9xw58wYAkD8ZovMjYLML9HNaagX45zAP6VPFtC+6JwOEDluB6xmYV\nzogyr+Yo7cSYKr7vQDVBz8PNMl026DqsFkFvwa8q1sqVzkpmMbbiORpxTZRyM9ZgE4ZhpCjfS7iA\n45iM3WmeX7iN5WmsJdNF82zDZ3zFQaWq7EAr3iiV0oRkeLnMbmuaaGDu7nZOIflSCatFg21K8nxx\n9FZ2ZtyE71hXpn+HvWW6s2qbvYLKgp4pkrE+o1uBB7roCRfxXlw7RaaKMl1QZvsaByrxNicKKgv6\nqrg9+v7JqHimG7AU50W2iyzEN9Gli0zDKNyowIm/5bRSWWYZh9nJl3JaRSYbRSM9iZ+VLNYsMrqj\nTH9OqYwnpnGb2JhBSW4Qr66epKD7TM8RMWzqbrLildWWxuzDYqDI9J0kb09jCx7iY0b/o7uFasDb\nNH7o5L/xWFYUikE/wSOl3azHMfHaeoYRoqER5+VZ+j1LXAmv8vC6Sp7iiujWWVqwD7eKiuwraQqO\n4LEI7CjmYqPYlD0i8CacwF1xvR1Ge/4xdKCA/Uqb3RUNIoZ20ZT7i2Se0vM+5k5B5fd0t1TzDK0l\nbbp4TfXSSy+9/AaQOXC+B770fQAAAABJRU5ErkJggg==\n",
      "text/latex": [
       "$$a t^{n} + c$$"
      ],
      "text/plain": [
       "   n    \n",
       "a⋅t  + c"
      ]
     },
     "execution_count": 22,
     "metadata": {},
     "output_type": "execute_result"
    }
   ],
   "source": [
    "a, c, n = symbols('a c n')\n",
    "f = a*t**n  + c\n",
    "f"
   ]
  },
  {
   "cell_type": "code",
   "execution_count": 23,
   "metadata": {
    "collapsed": false
   },
   "outputs": [
    {
     "data": {
      "image/png": "iVBORw0KGgoAAAANSUhEUgAAAD0AAAAZCAYAAACCXybJAAAABHNCSVQICAgIfAhkiAAAArxJREFU\nWIXt1l+IVVUUx/GP2ohCOSI+JFpqqShJEpEoYf4pAwMNU1EHEUVBqodGJFHwKQklkOyPvfQgPmlg\nMWShvahFKjESEfXki/igCaOEmWkO1MPalzke7j333Osw48h84XLPXmuf9dtrn7X/MMiA5o3+HkAZ\nxmArOjAHG9GOfU3Emp7iPPBsRgsuYE2yjcLfTcR6D6t7aVy9ytO4jImp/RjG41Kmz0J0NhH7Z4ws\noQmGNiHQLEtFSV9N7b/wMk5m+qzCYbRiSMm4s/E7/imh2ed8ie9ztkNYn56HoAvj8G4DcT/CkgY0\n+5Sr2J2znRFJVugQa31uyZjD8CseaUCzKovwBT7AQazD+Yz/dXyCHzAZz2Nv+v2I1zJ9V+MEfsJ/\nyX8Cb5cZSAkW40DO1rDmJjE7E1J7Em7ju9Qejv3puTMF3KZn/e1w78ZUYQvuqL7Z3A8H8WINXynN\nWbiLtTl7F3al58VYKZK8hqO5vjtVP3KOiAnqTUbgF7U3vFKa3+C6ODsrzBAlMj+1x4mZezbZ51UR\nOlsl9h94v94AGmQF9hT462qORrdYy1neFCUyImdvxy1R7hVa8Kf42lmeERP0atEAmuAoZtbwFWpW\nzukpYic8l/MvEGv3Np7K2Bemvv9mbEvEjeqwmIwJmb7deipgNJ4oSKYMrXgSv9XwF2pWkr6R/rOb\n0EiRdOXFdzLvvITTOaH1OIWLWI6pyT5PrL2bmTjdBQmVYQW+KvAXalaSviDOu0mp3YJPRVlfxFix\nocFzYuZO54Sm4WvxlV/J+IelGPCCuDldqZNUPdaIiqpFac1p+BYf4mPxpTaIwX8uEodloqyG595v\nw3F85t6lMEtcQvZhu/u/+j6u/i2rtzX7nXa81d+D6GvO6Km6phhon32KOBa76nUsYqAl3aZ4A3so\nOYZH+3sQgwzyAPM/QMaT7Byb6akAAAAASUVORK5CYII=\n",
      "text/latex": [
       "$$\\frac{a n}{t} t^{n}$$"
      ],
      "text/plain": [
       "     n\n",
       "a⋅n⋅t \n",
       "──────\n",
       "  t   "
      ]
     },
     "execution_count": 23,
     "metadata": {},
     "output_type": "execute_result"
    }
   ],
   "source": [
    "diff(f,t)"
   ]
  },
  {
   "cell_type": "code",
   "execution_count": 24,
   "metadata": {
    "collapsed": false
   },
   "outputs": [
    {
     "data": {
      "image/png": "iVBORw0KGgoAAAANSUhEUgAAADkAAAAXCAYAAACxvufDAAAABHNCSVQICAgIfAhkiAAAAlZJREFU\nWIXt1l1oz2EUwPGPl7FdYIRajcSopSx5KWWGRkmRIm81ZLVIERHlwg3tRiQvF264MsWN1ySZ94vd\nSHKzm3GDGklehtVcPM+//faz1H//v/2n9r35Pc95fr/zO+c55znnYZD/klG4gsmFNuRfUY8j6MKU\nglrSD/Rwcnjh7DAOW1CDRlRiDCZhXwHtyiv1KEIrNkTZaHzNg+6CRXIaHmEBXuMyJmIkmuI7c/Aq\n9d1OTP2L3paoa0CwBx0oTsjqcCExP4u9QtoOyeFfBSs8V/EgJbsoOEpwqh1l2J/jv3o4OTRHZdmw\nEA9TsgrcjeMuPMbK+OwLm3Eujhuxi95TYikahHMzAfeEVJsb11ejFlVCdRyHdQlHjuFWnK/HNozF\nfDzBF1zHmT46kjPb8R7lcT5FOEd34nwETsZxi7Dj+3Rv1kG86UVvA36gJO8WZ0kVfmFjSt6Ow3G8\nDGsFpz4I16ckh/TeApr0PQXzyg18FHpXhkrhrNTEeZkQjVlRXp3S0YSnveh+h6P5NLYvlKLTn/1m\nh5BmxSn5HnwT0jdDET4J0UwyU9iQ5fkyNlsy1bUCw/Astb5YOHsdejbkJfHdnwnZCuHGcklwvjzx\nbqfuCJcKV7d+I+Pk5/hMFo0SwcmMcbsT3yxCc0pXHe6jDWswPcqr8Vyoqhk9nbkang0ZJ1vxQncD\nLcJpIU3bMF4oQDBbiEZzStcMXBOiWJtYHxZ1wDx8x9s82Z81M3ATJ3BKiMRWwdjzgqOwCi/1PI+w\nCbeFq1kytauE/ngcB/TvBWSQQQYZgPwGmHxvgxa+rVcAAAAASUVORK5CYII=\n",
      "text/latex": [
       "$$a n t^{n - 1}$$"
      ],
      "text/plain": [
       "     n - 1\n",
       "a⋅n⋅t     "
      ]
     },
     "execution_count": 24,
     "metadata": {},
     "output_type": "execute_result"
    }
   ],
   "source": [
    "# we can simplify this a bit ...  (we refer the previous output using _)\n",
    "simplify(_)"
   ]
  },
  {
   "cell_type": "code",
   "execution_count": 25,
   "metadata": {
    "collapsed": false
   },
   "outputs": [
    {
     "data": {
      "image/png": "iVBORw0KGgoAAAANSUhEUgAAAmoAAAAZCAYAAACB+wI5AAAABHNCSVQICAgIfAhkiAAACrBJREFU\neJztnXusHUUZwH+Xll7p6xaF0ge21xZBBEpbUYq2etugJkK0NqikvVJJDaBWFEWlVM01SsBixT80\njSCwIGqNCiS1ERXxWp+J1AcFo6BVSr0tVlNtqZRSuP7xzXrm7Nlzds6e3Z3ZPfNLNufM7Jw53/fN\ne3ZmFjwej8fj8Xg8TtLTRthJwO3Ah4Bdmv85wCXAdmAx8Fngz1kJ6BALgSuAh4BTgTuBB61KlA8v\nAS4EngFOAr4L/NaqRHbZDUyM+H0DeI8FWVzhEmAWsBeYDHzerjhWuQ2xx1FgB1JHbLcqkTtsBO4B\nfmZbEIu8FpgN9AIDQADcb1GevDgXeDXQB7wG+DSwzapEXci7gSFgFOjX/McBjwPTlfuVwK+LFKwg\n+oB9wFnKPRXYCRxjTaL8uFH73gN83ZYgDjANGZjMRTqw/cAm4EUWZbLNu4Ab1Pd+4Ahwgi1hHGAI\nySfTE8J1G68DnkQ6J93MP4HV6vvbgP8ikx5VYiK1OgHg7YieM+2I44l21F4PPKK5e4CnkEatSqxA\ndB+r+e1BRg5V41HgTM19iy1BHGA69Z2ylciosVsZhwxYZmt+cyzJ4gpDtgVwkD7gSmAY31E7E5ig\nvl8EPEv1OmrzgOeRAS3ILPso0mHzZECnM0L9wL809yiwn/qGvgocVJ/jNL/xwNkWZMmbLwG/ATYA\n1wJftCuOVfZQy98zkUfev7AnjnXOQ2bPZgOrkEeep1iVyD7HIY/BVwK3AmfYFccJLgO+bFsIR3gY\nOKS+r0A69gebhi4nO5C6Yadyv1h9PmZHHE90Rm0dcF8kzGNIpVU045H1Y804DbgbuAlpYO5E1mCZ\nMBbpvAwo93lIYVuXRtCMuLrJ//8JGEQ6FlOA85E1EacbxnsS8rhzJ9JRWdaxpOlISs9XIen5PaSi\nuJX4qfZO0l3nNuzMFJvqGZJnOViJ1AFLlHsi8G/gZMPfZ4GpPUzLQbv2jTJIbQB3vvrfIpdEuJQ/\nAN5MbaA+jL0ZNZfqj4VIfX2LkssmebUbOl9F1ifaIO/8nSdJstcxFxih/vFGSLSj9l7g+5Ewe4A3\ntCdfx4Rr40ab3O9DFoUPan7XIqOdcTHh42zQB3wAuBhYgCykXt3400KYjYzShmLujUauI8D7msQT\n1XMSsvh3PPAC4FNIQ9yfjdjGJKXnQuAHSIUC0mHYBvyDelmzSHeQNYm7GoPnjqmeIXmXgwtU3Mdp\nYfYgC+iLoB17mJSDdu0blz/05RD96r+Kmml3LX/MQDZWhAxjp6PmWv0Rchmy0SS6Oako8mo3dNYg\nT2Pa2aiYFUX0A/IiSfYGPggcRhrqKNGO2jLg95p7rPrtae1KqTGP+sqvFacDW5GdNL+iuZLXIYVQ\nj/eFyHqBuN17cTbQM94J6v4MQznjaEfPKDcjug7F3Htc3b8HKTCtRkRRPVcoP53r6GytQR7puZXG\nR24LVPjNml8W6Q7SIc9q52s79jDVs6hyMBNZi6I3NCPA2tZqtCQPe4BZOWgnPmi0xyKk4Qs7rmep\n3748QY9WlDl/XIrM1lyjrhEkDS4wUaYJZa4/FiEbKsKZ+Jep/7goUZPmuNhuhFyIdNRQ9/pTygnu\n9gNMyEP2Br4D/KTJvWhHbSxSGGcp91LkEWEnBKRL4IDmSj4KbInx3wE8EOMfZ4Pd1BaSr0emTjsh\nIJ2eK5BZvWYFbriNuKJ6zlNy6dxAZyOKgOzT8ylkhmtqxH8/sssqJIt0B9kJ+/MWsrZDgLk9TPWM\nxp9nOXgAeKP6fiLwHzrb3RWQjz2GM44PGu1xMvVl8Ao6zycB5c4fOn+j8xm1gPLWH+eocL3K/SZk\npqqTdZ0B7rUbILt81yA7oKcBy5ElQmkJcLMfYCpDf8rfxcoet5ZiMY3nn6xCjiUAabjDEfRR4J1I\nx2U1Mu19cQoB82QS8FLiH12NAK+I8Y+zwRdU2PXILp6PZCijKRORwh432k9DVM+HkDUbG4GrkFHx\n/choyyX+iqwrmBDxf4ba7EZW6Q5wACnkRWOipylZ2WM1cszAVcgIdTnw9zZlSUuW9kgTX9Qeu5FH\nWVcDH0MeX7w1hRxpcTF/gHRgNyAN9oeRmRaXKKr+eBBZ27oWKS9rEFsUfc5o3u3GHOS8za8gSyH2\nIDNzjzT+1BpZ5u/CCafn3oFMWx+PjDKWIpsEtiC7AL+mrrjpwR+pC+COPIVNSTgbdCDm3iFkK3Ev\n0uC0ssHncpc0mXXA9QlheoFPIMdKPIs8Z7+GWkcjKa2/qS6XWYQUvL2a3wyk8h1W7qzSHeTwRhuY\n6GlKVvZ4AjlX0Qbt2COpHJjGl1RethA/Si8CF/MHSAf2o+pykSLrj7u033X6FCYtRbQbrh85kmX+\nLpywoxY2zpcD85Hz0Z62JVTGTFafR2Luhdump+C+DeYjU/Z/SQh3IjKF+oRyDwI/RRY478V9PU04\nRC3tQq5E1k+tV+4qpLuJnqZ0mz2SyoFpfFWxRxJVyB+mdEv9Ab7dCCl1ekYffS5Fdh5YFyxDnlOf\ncc9+j1WfYzQ/F21wDDJ1brLl+VRqhQ3kdUeTkN0tOi7qmZZTkMcL11M756wK6R4lTk9Tus0epuXA\nNL6y2yOJKuYPU6paf/h2o0ap0zPaURsg3eI5l9nX4l64RkE/gHAA92xwOTLaiRsNRHk+4n4OscFb\nIv4DuKdnGnqRc99uBj6u+Vch3XWa6WlKt9nDtByYxjdAue2RRNXyhylVrj98u1Gj1OmpbyE9A3lG\nX5RwdxB/3tAs5DDCuMy1hvZfePwk0os+PubeBOScsDCB8rBBp3pOQ7b7b4oJF2UbcozIkoj/GOrf\nx+iinmnoAW5H1hB8MnKv7Omu00pPU7rJHqblwDS+stvDhCrlD1OqXH/4dqOePNLTRp5lLbKIMDwj\naQq1V0EUSUD223K3I6cRR9kF/FhzF2mDADM9B4EfAvdq11ZE1z8q9woV9iDx530dRk6eDnFRz7jf\nJZ0p8xlkAayOfuBmmdNdJ0nPaPxVLAc6SfYwLQem8ZXdHtH4q54/wt91c/3h241GikrPgByP51gC\n/A5ZeAhyCv/RFH/mIluBc6k/tHYuYvxva34u2uAuZEHjcu0KT4zerNxh5rsPefWHzgJkel/ffeSi\nnu1yKTJdH92RuVj7XuZ0DzHR05RusYdpOTCNr+z2MKUK+cOUqtcfvt1opLTpqXfUxiAHFIKcB/Q0\nch5KWQhPD457l9omZHpTf3XE+4E/IO9fCymLDY6NfIZsQF6GHNqgB1lM+kt1L6QMerZKz2XIIbRz\nkIokvDZTv0287OluqqdOlcuBqT1My4FpfGW3h06V84eOrz8a6fZ2w/X0bCX7/zkbOVV7I3L+TZEv\nFtYJMJ82nIq8a/Rhau8o24dMY66KhJ2P9KhvQg7mu5vG6cwibRDQ/vToZES3EUTXw0hhWq6FWQJ8\nC3nZ7L3IiDH6CgxX9TRNz/3a/egVHSGXOd1N9eyWctBOupuUA9P4ym6Pbskfvv6Ix7cbNYpIz7xk\nd4qA4l8CboMAr2c3EuDtoRPg7aET4O2hE+DtoRPQHfYIKK+eARnLbmvWrBUHkB5/1fF6difeHvV4\ne9Tj7VGPt0c93WKPMutZZtk9Ho/H4/F4PB6Px+PxeDwej8fj8Xg8Ho/H4/F4PB6Px9Nl/A/tyey0\n0B842AAAAABJRU5ErkJggg==\n",
      "text/latex": [
       "$$t^{10} + 10 t^{9} + 45 t^{8} + 120 t^{7} + 210 t^{6} + 252 t^{5} + 210 t^{4} + 120 t^{3} + 45 t^{2} + 10 t + 1$$"
      ],
      "text/plain": [
       " 10       9       8        7        6        5        4        3       2      \n",
       "t   + 10⋅t  + 45⋅t  + 120⋅t  + 210⋅t  + 252⋅t  + 210⋅t  + 120⋅t  + 45⋅t  + 10⋅\n",
       "\n",
       "     \n",
       "t + 1"
      ]
     },
     "metadata": {},
     "output_type": "display_data"
    },
    {
     "data": {
      "image/png": "iVBORw0KGgoAAAANSUhEUgAAAmUAAAAZCAYAAABw8Fm0AAAABHNCSVQICAgIfAhkiAAAC8RJREFU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\nRU5ErkJggg==\n",
      "text/latex": [
       "$$10 t^{9} + 90 t^{8} + 360 t^{7} + 840 t^{6} + 1260 t^{5} + 1260 t^{4} + 840 t^{3} + 360 t^{2} + 90 t + 10$$"
      ],
      "text/plain": [
       "    9       8        7        6         5         4        3        2         \n",
       "10⋅t  + 90⋅t  + 360⋅t  + 840⋅t  + 1260⋅t  + 1260⋅t  + 840⋅t  + 360⋅t  + 90⋅t +\n",
       "\n",
       "   \n",
       " 10"
      ]
     },
     "execution_count": 25,
     "metadata": {},
     "output_type": "execute_result"
    }
   ],
   "source": [
    "f = expand((1+t)**10)\n",
    "display(f)\n",
    "diff(f,t)"
   ]
  },
  {
   "cell_type": "code",
   "execution_count": 26,
   "metadata": {
    "collapsed": false
   },
   "outputs": [
    {
     "data": {
      "image/png": "iVBORw0KGgoAAAANSUhEUgAAAEEAAAAZCAYAAABuKkPfAAAABHNCSVQICAgIfAhkiAAAAnVJREFU\nWIXt10uIzVEcwPEPM4w0CnkmrwiDwcLYiBiksLewsKAsKFZWFFnbmIVk4Vqhhp1iIRQhkfGOBTbk\nHclg1Fic/9SZ//zvuM8Z6X7r1v2dx+/87u+e3+NQ479kFNoxLTW+FEewFccxe4DtGjC24wC6MSMa\nH45XmJzILbg9kIYNBmknrMOjSB6Cb5gJQwfMrMFlBj5Gcjc+YyH5ndCKEVU16++MxP2M8QZsKFLX\nOHxPjf0Q8kemE1oxNlnUwyy8xvQiDy+VFlxFc8bcT0xRnCO+CCEQ04gPWYsbcSpjfI/glFJuxyLU\nF7i2CeeRw03h2uajHWPyzKVzQis6Irle+D1zszYfxKaM8bPCP1MKuZRBxezrzwkbhUqQRdoJ9cJN\n7imbq3E3n+LHqMsYf4tD/RjUHznVccIwPNX7mm/B0WTfaeyK5tbgmNAnnMCcLKXNuBTJm3EBtxKl\n1xJ5Z8E/I5BTHSfAFdl5oyjiWF2M55F8JvnswBKh1naWe2CFeSHY9qAcJXF1GC9k0TSrhe7qX3MA\nfMKkcpXETmjA74w1q5SeFKvNTxVo+OJw+KDvo2MBJirMCSeFkEozDcvwK2NuG+4UoDsfY/GsjP19\nWCuUwphd6BL6BxiNqUXqzaleYjyHlSXo7kV8la4LjU3MCtwTHhuwW3bIDBbzcaNcJbETOoWXVtxF\n1eFl8r0lWfOm3EMLpKc7HZlnfp7Q8HRV+uDFaEvJ13EYe5WWhHIKD4cJuIiHQih04z0uC41QTJvQ\nZpdNuqfvwFfhmj1O5OWVOKhA3mF9AeuahHL+pFqGDME+lXtKH1GBWh4xHPv1fRXWqFGjRkX4Az0y\ndXUO35NrAAAAAElFTkSuQmCC\n",
      "text/latex": [
       "$$\\left(t + 1\\right)^{10}$$"
      ],
      "text/plain": [
       "       10\n",
       "(t + 1)  "
      ]
     },
     "metadata": {},
     "output_type": "display_data"
    },
    {
     "data": {
      "image/png": "iVBORw0KGgoAAAANSUhEUgAAAE4AAAAZCAYAAACfIRhSAAAABHNCSVQICAgIfAhkiAAAAytJREFU\nWIXt2E2oVVUUwPGfWRrP8pnkM4I0sCj7UguLPgSf0KBsFEVBQURENAib1CALEnJWGYk0qMGtSQTW\nRERtUBRYQfRBVoOCkhJf9kLKevhV2GCdg+ed9j33nOu9vCfdP1z23Wuvu/fa662991qPAV0xc6oN\nmOZciw1YjPsxjv1TatFpwLBw1NVZfwQ/4Iwps+g04U6cwJkF2RhuZuC9Kv7M2lkF2RCW0d5xQ/iq\nYtLL8A424UW8gYUV+mtwdg1j+0m7Pc3G7Qn5+/gC12f9G4W/htstsBKfijBNMYx94rLMeQpfm/zX\nyVmDu0qyJeKSXdzOiB7TaU8PSztvGOtwL1bgFzxQVlqK7Wjhk4pFNuJXk8/+fBzHoyXdc/BmYo7H\ncUR3UXhNae0q6u4JtuK8kmxG4fv5wuYLqxZsVSzyHbYl5HvwXkm2AXckdN/GB1UGdLDt4i5/V+W4\ntXi2JNuHm7Lv68XVhOaPw7m4FD8lxvbjupLsbuxI6N6CDxuu3W/eFUeyGGUviT2txxw8kQ/UDfmc\n/E46lBibwFxx2R4V+c8Y/snG78GD4jiMYBQ7RfRuaWhHPzgu7rCrxOmB59spN3Xc3Kw9lhibyNp5\nOCCe7e8L429ln0ewHLficMP1+82PwrY9nRSbHtU8elJ3xVlZm5dxC/BHQm9UvHDTzWlwEBfUUWzq\nuPGKsTlZmyeOs/F3Qm+17h+GfnNUTZ80PaoHRLSVn23Ccb876bjfsKikc6VIlOs47nVZll5ikUhK\nU9fFQ/isxtztmC+yho40ddyEyKYvSoxdgi8L/b24raQzKqLwo6w/T7zUPyfm+0+imdESacPezuY2\nJi/kO9JNrbodN5j8bC8RztxakO0WyWqRVcK5f2X9ddLHeaq4Ah/XUWznuDyjH0qMvSKOZbHkegzf\n4tWC7DC+EXVtzkwnI2VlpjNWx9AeULUnuByfi7SkESPYJWrOE9lnXBS795V0l4vI24TXRMGfOr7L\nsLnU340X8KTuIr6lfuXQZE+bRYk2bdgojkCvaOmu5KpiKZ7r8ZynzAw8rXf/VnpZzVyrJrPwjMl3\n9oABAwb8r/kXDM6XtEuBVLMAAAAASUVORK5CYII=\n",
      "text/latex": [
       "$$10 \\left(t + 1\\right)^{9}$$"
      ],
      "text/plain": [
       "          9\n",
       "10⋅(t + 1) "
      ]
     },
     "execution_count": 26,
     "metadata": {},
     "output_type": "execute_result"
    }
   ],
   "source": [
    "f = (1+t)**10\n",
    "display(f)\n",
    "diff(f,t)"
   ]
  },
  {
   "cell_type": "markdown",
   "metadata": {},
   "source": [
    "### Example 4: Verifying differentiation rules"
   ]
  },
  {
   "cell_type": "code",
   "execution_count": 27,
   "metadata": {
    "collapsed": false
   },
   "outputs": [],
   "source": [
    "x = Symbol('x')      # define symbol for independent variable\n",
    "u = Function('u')    # define the two functions u and v\n",
    "v = Function('v')"
   ]
  },
  {
   "cell_type": "code",
   "execution_count": 28,
   "metadata": {
    "collapsed": false
   },
   "outputs": [
    {
     "data": {
      "image/png": "iVBORw0KGgoAAAANSUhEUgAAAKwAAAAeCAYAAACxM/WmAAAABHNCSVQICAgIfAhkiAAABKlJREFU\neJzt2m2IFVUYwPGfZqX4hhVRrkkppuDbhyIiIVIzLZIoUCqILL/biwYlQQUFZRAEFUERKwV9iaLo\njUIsC+kFCaQPmpRhRUaBZWGamX145rKz4713586969zrzh+WnTPnzs5/nn3OmXPOPVRUVHSMjfgP\n08sWGWFUcS/IxdhdtsQIpGvjPrpsgSG4Fh+WLTEC6dq4jylbIMMYPIQfcAZWY1OpRiODKu4FeRF3\nJ8dn4SgmlaczYqjiXoAF+AvjkvJifFqeTtss0H1vsHr0VNy7aQx7tQjU30l5KT7AlNKM2uNeTCtb\nIgc9FfduStgD+Dk5Ho+bsBW3lmY0MuipuKcTdiaewdu4OfO5dXg/c93yVPkSPI2n8LoYBz2AJ/BK\n8rdhtsZre6/iGG7BqqS8GN/neI5ZDdzXYD8m13HO693MuVPk8adY3IfyLxr3VvKlqLtG/qPxPE7H\nXdiZqd+Bl1PlVZiQHM/AswaSvx/f4AosEgvQ61PXrs3evE1q7mOc6H4njuPyjHOr3kWc+3Fhjs/l\n9ad43Icr5nnzhQ7lTO2CJWLd7ShWJBfXmIiF+Dh17nwxUIcNuD+5CfFaOYDt2CdaUH/q2r2Yq3Nc\ng/fwbx33l/A5fss4t+rdaec0ef0pHvdO+7eaL+24U8e/T6y/9YnXw42puhWilc9KyuMMLIHARRmx\nH/FYnYescTbuaFLfKn2ipU8T7isz9c850ZnWvIs498vXw+bxH6W9uA9HzPPmCx3Mmdqyy0/J79Wi\nFbyb+vCVYlC+JylPMbin2ps6np08xNYmN/8D5zWpb5Wa+204KHqrGqNEy80605p3M+fNokfJMh2X\n4Z86dWvFa5N8/se1F/fhinmefKGDOZNdJ1yeXHgkI7AtOZ4hJgET1GeJ+AdtT52biW9T5Yn4U/wT\n2mVU6ngpPhKv1vS5z/C7xs4M7V1zrsftDc7342H5Jo0096f5M7Ti38m458mX77TnTso/u6w13eBN\nD+NwKT5JyutxCKel6jdhflJeJgbgh5LyaNyXucd8fCkeut2fNH0Gt2q4XrT+tHMR75rzcNLMn/bi\nnvbvZNzz5Eu77oP8swm7Rywv1HhQ9MJ7MQ+7kvO/YiyuS/74XMwR45Yjmes3Z+4xB1/oPDsxNVVe\nizfFGIsBZ1r3Hi7nNEP5Uzzuw+WfN1/oUM5ke6kZYrliV1L3gti5c5Xo2tfjsBhwLxMz2CfFLPY4\nHhGThMOim3/L4F0/s8UE4+sGAdiIR8VkZV+DzzRiqlgq2Z/cfxveSNXXnN/BOS14D+XciH6tDQmG\n8k8/Qytxz+NfNO5586Woe17/0ujafZgF6JdvlaAb6Jm4d9NXs3TxPswCHDTQu3Q7PRP3sncTNduH\nuUiMbxaKJaDxYla6Qbxuup11ZQs04VSO+7DSaB/mJANfx90gxj3EYLyT64kjlSruBWi2D3OsaPnw\nuPgar6Iz9HTcyxzDNtuHWZsxEjPLLcnxZBXt0tNxLzNhm+3DXIl7xCx7Hr4SyyZrTrbkKUhPxz27\nDnsyGSv2U27Bmbgg8dmBc8V+yd3i1XVMtP7X8EsZsqcQVdwrKioqKioqKioqTiL/A+cnvSmrESqN\nAAAAAElFTkSuQmCC\n",
      "text/latex": [
       "$$u{\\left (x \\right )} \\frac{d}{d x} v{\\left (x \\right )} + v{\\left (x \\right )} \\frac{d}{d x} u{\\left (x \\right )}$$"
      ],
      "text/plain": [
       "     d               d       \n",
       "u(x)⋅──(v(x)) + v(x)⋅──(u(x))\n",
       "     dx              dx      "
      ]
     },
     "execution_count": 28,
     "metadata": {},
     "output_type": "execute_result"
    }
   ],
   "source": [
    "# product rule\n",
    "y = u(x)*v(x)\n",
    "diff(y)"
   ]
  },
  {
   "cell_type": "code",
   "execution_count": 29,
   "metadata": {
    "collapsed": false,
    "scrolled": true
   },
   "outputs": [
    {
     "data": {
      "image/png": "iVBORw0KGgoAAAANSUhEUgAAAIcAAAArCAYAAABSOZufAAAABHNCSVQICAgIfAhkiAAABZ5JREFU\neJzt23msXFMcwPFPq+ijutgpRautREvk2asSRW2RIGmDkJQKat8j4R8RIRKExh7xBLEEIaSxRGhs\nQWqLvalG7UWqpbWrP353MvMmr7O0987c9+Z+k8mcnHPvOb/7m3N+9/x+5zcUFLSBCXgXg9otyACh\n5focnGHfS/E+Vmc4RifRcn0OyaDP0/E1DsMLGfTfabRNn2lbjqOwBeZhIzyfcv+dRlv1mcXkmJeU\nN8WwlPvvNNqqz/VS7u9v7I5txcP8hs9THqOTaKs+2+FJDMGZ6MbteAsP4jXcJnblJQVMwXihoAXY\nWLx7LxETe2ErBc8x6+EM7KWs0y3xFPZLrinptWGdZumtrInj8FAi1A5J3dNiZayPMUndcOyCHryM\nc3EnfsUq/IB9WyRz3jkWj2IodkzqDsYXSbmk19zrdISYCEvRldTtjuk4ANskdUOxQVK+Dpf30deM\n7MTsV2wi9PqjWHRwN2Yn5ZJem9JpGpZjdZOfX8RG62X8XiH8fDG7lyZ1f+CvpHwoXkzKIyrGHpqC\n/HmjWX2uFiv/CKHDlUk/B+EljFTWa1M6TWNyDFqLz1ZYktw/KnmgP7FceUd+NC4UZnKScnRwVsXY\n/6Ygf95YG33C9liUlCcIq/wlZirrtSmdpu2tNMoSYb66xCulR6yAZZgsHmoKdsVmeAV7Yw/xbl0p\nHmosPmut6LnlezERSotvZPL9KL4Ret1OG3WaRvx/aoPXdYvA0EAmzfOURvSaqU5HCitQkA5t1Wda\nZyvV8f+RYpM5SZi7Q3AWVqQ0Xn9kN3yMfxq4Nhf6TGND2lf8fxSeEZPvI5ytsycGXCTe+fXIjT7T\nmhzV8f+fxYPsLaJwm6cwTqeQG32m4a30Ff8/XrhWQ5P2LmXXNUvG4Wphcv/DhxVt5+EqPFBRN1gE\n30ouYLcIDE0X4egXcIFwAWeJfIplmCiCTcubkO0YEdv5pc51edLngGEw7hCh4vPxQVX7AtxfVTdD\nOa4yFrcqW9MecRaxv3Cr/8PFFffO1hw9yqHtfkE7zlayYppY6X/jcL1PLzcRq3F+1T3biJVJHDxd\nLiYBYRmW4XWxSm/U23NYLGIGBf2A0eLcYLSI8h1b0Xa4CLKNr6jrEq+MEjtV9fc1rqkx3mY4pQn5\nevQzy1Hpyk7GXRoPuLwnjt7zkiNaknumsAbzKtoOxHd6H/GPUrYahCUoMVFMspdqjLccW/dRf5+w\nUtWMERvKv/pomy1ee+RHnwOSZ/FkVd2reDgpj02+N9LbclQyR5z1VEYLx1VdMwrnNCFXj35mOVq5\n5xgs8gcuSz5ZMUbvs4Eu7CnOEihvKlcpe2tduF5YT+LE8oPkGkL2S6vGmYy3U5M6h2SRfb4mjhIr\n+is8LtzGBTXvWDsWChewxJXiOReLCOOnFW0/CvfwSPHjvyM2tOP1dlOvFK+LSnYROROtpNEsulQy\n6FppOcbhhKS8SPjtWXChyDC7BXPxCK4QVmuO3j/owyJjar4w+904VWRDLRJZUnPxRvIpMVF4Ma3e\nHzSSRZf7bK++2FC4lPCcCPJ0Ej3Wfc/RSBZdahl0rbQcf4rZO1XM6G9bOHYeWCEysdaF5epn0aWW\nQdfqINgIkb52bYvHzQPniRPVdaVeFl1qGXStzgQ7DTcn405Tzo4uaJx6WXRtzfZaW04UpvUn8SCT\nqtonNNDH+PqXdDRtz/aqxRARGLpXzFjC1Tqrzn3riwQWwg2bhZtwkjgdfULM9uFyuNMeqKS956jl\natViH5HEUs8NWyE7F7ggY2q5WrU4UexDGnHDTl53MQsaIW3LUcvVqnffMI25YQPxvyq5JAtXdk2u\nVi3eFBamnhs2SPkfXQUZk8W/7LfDDSIhtgv3aGy1T8XOYjf9WXLvv8KaPCbCvt34RPlArKCgoKCg\noKCgoKBgoPI/EXN47Qv2g4EAAAAASUVORK5CYII=\n",
      "text/latex": [
       "$$- \\frac{\\frac{d}{d x} v{\\left (x \\right )}}{v^{2}{\\left (x \\right )}} u{\\left (x \\right )} + \\frac{\\frac{d}{d x} u{\\left (x \\right )}}{v{\\left (x \\right )}}$$"
      ],
      "text/plain": [
       "       d          d       \n",
       "  u(x)⋅──(v(x))   ──(u(x))\n",
       "       dx         dx      \n",
       "- ───────────── + ────────\n",
       "       2            v(x)  \n",
       "      v (x)               "
      ]
     },
     "execution_count": 29,
     "metadata": {},
     "output_type": "execute_result"
    }
   ],
   "source": [
    "# quotient rule\n",
    "y = u(x)/v(x)\n",
    "diff(y)"
   ]
  },
  {
   "cell_type": "markdown",
   "metadata": {},
   "source": [
    "### Example 5: Plotting a funtion and its symbolic derivative "
   ]
  },
  {
   "cell_type": "code",
   "execution_count": 30,
   "metadata": {
    "collapsed": false
   },
   "outputs": [
    {
     "data": {
      "image/png": "iVBORw0KGgoAAAANSUhEUgAAAWUAAAD5CAYAAAD/ViQ3AAAABHNCSVQICAgIfAhkiAAAAAlwSFlz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\nLgO6T26fSlIAAAAASUVORK5CYII=\n",
      "text/plain": [
       "<matplotlib.figure.Figure at 0x8202e48>"
      ]
     },
     "metadata": {},
     "output_type": "display_data"
    }
   ],
   "source": [
    "f = 3*t**3 - 5*t**2 - 10*t + 10             # (position)\n",
    "df = diff(f,t)        # first derivative      (velocity)\n",
    "ddf = diff(df,t)      # second derivative     (acceleration)\n",
    "dddf = diff(f,t,3)    # third derivative      (jerk)\n",
    "\n",
    "p = plot(f,df,ddf,(t,-2,3), show=False)\n",
    "p[0].line_color = 'red'\n",
    "p[1].line_color = 'blue'\n",
    "p[2].line_color = 'green'\n",
    "\n",
    "p.show()"
   ]
  },
  {
   "cell_type": "markdown",
   "metadata": {},
   "source": [
    "## Questions"
   ]
  },
  {
   "cell_type": "markdown",
   "metadata": {},
   "source": [
    "#### Question 4\n",
    "\n",
    "A stone is tossed vertically upward with an initial velocity of 25 m/sec from the top of a 30m building. \n",
    "\n",
    "**(a)** Construct a formula for the position of the stone, $t$ seconds after it is thrown.\n",
    "\n",
    "**(b)** What is the height of the stone after .25 seconds?\n",
    "\n",
    "**(c)** Find the velocity of the stone after 1 second.\n",
    "\n",
    "**(d)** When does the stone hit the ground? (HARD, use __solve__ from __sympy.solvers__)"
   ]
  },
  {
   "cell_type": "code",
   "execution_count": 43,
   "metadata": {
    "collapsed": false
   },
   "outputs": [
    {
     "data": {
      "text/plain": [
       "'Position of the stone, t seconds after it is thrown:'"
      ]
     },
     "metadata": {},
     "output_type": "display_data"
    },
    {
     "data": {
      "image/png": "iVBORw0KGgoAAAANSUhEUgAAAEUAAAAUCAYAAADbX/B7AAAABHNCSVQICAgIfAhkiAAAA2tJREFU\nWIXt11uIlVUUB/CfF7Ia81LRxejG2I0gdaJGxIGKehOCXurBLOkhulFPEVFRaCFBTQRdiKLTKKVk\nF6hoqCiTigik0nooAklCMgNrtNIps4f1fcyePft4zsyYEcwfPs63/nvt9e2191prr8MEWuJivIq3\nsQXP4ZSC3jdYWo3NwuV4D+cdnmUWsRDP48nqdx3mFfTOET724lH04cRmRrvwjnASpmMjfsIZme6B\n7BnELU3sdmI7Tj+oS+PDAryJIxPuKQxgfsLNxA/iQGvcja9wRMnwW5hb+NgBrM347/EMXsPDDh4h\nd2BvtuB2cAGmtqnbK9Z5dcItqbjHE+5Bccip3WPxJ24qGd6DbTgh43fh54zb0OZi4RV8OAr9Gg0j\nI7QZluFXXJFw14hNWZVw3+KNwvwteL8WJicDW0VudWQT9uGoNhdXwmKRhv8m+kRqvJtwXdiPlyr5\nGJwlDj7HdlxYC2kYLawm/phwc8RGbciMTMO9OE6EXifuEidBhPFyzBaRdyn6xSk90crDQ4AzcR1u\nxpcVV9e0gYL+b5gh/NrXyvgqsduLMv47nJrIS7EDJ2V6Nxp7pDW0nz41lmAFNosCmmbCIpFODxTm\nra7Gmt5CNeaKOrOyMDY5k6fgd8OLGlGgP2r1oSZoGP2m1JgqUulTHF9x3cLx+wv6a6uxOYx0rsY0\nvChumHsK439n8n7sxJUZf4mxFdnx4i8RMd14uuJ2HkS/rqO7KV95k0Tz04/7CuMbK52ejJ9i6FTg\nfBGOrTblBeUm6zTRTA4Wxm7ApkQ+V/QZmxPui+r3KtFz7RDRMLtgrwO/qDalhJWiiKZYlrzvxueF\neXtFp1vjVlGEp1fyLMPrUCs0tJc+M/CHiI7OhO8w1FzOrLhNopvNsQ0f1EKePstFaqzI+MXJe79o\n61MsECm3JuF6xGntqeTbq4UfagyKiN8qeqoadUP5mehhiAa1W0R6jU5xWOtLxi8TTdqa7Flr6K6H\niyoDR1fyJNEnfCI2psZ6vJzMubO1f8PQ0H6hfQi3Ge7sahHVXQl3skiTaxPuMXytSZu/y8j/NPWT\nR06PcLgPr1fjeRs/Dx/jEbEhzYp6MzSM7va5XhzeanHzrMPZBb35ImJ68axIp9Gk9X+KhrFfyePC\naE/vcGJAFO8JTGAC/x/8A6//ukHq+B0WAAAAAElFTkSuQmCC\n",
      "text/latex": [
       "$$25 t + 30$$"
      ],
      "text/plain": [
       "25⋅t + 30"
      ]
     },
     "metadata": {},
     "output_type": "display_data"
    }
   ],
   "source": [
    "# (a) Construct a formula for the position of the stone, t seconds after it is thrown.\n",
    "t=Symbol('t')\n",
    "p = 30 + 25*t\n",
    "display(\"Position of the stone, t seconds after it is thrown:\",p)"
   ]
  },
  {
   "cell_type": "code",
   "execution_count": 44,
   "metadata": {
    "collapsed": false
   },
   "outputs": [
    {
     "data": {
      "text/plain": [
       "'The height (in metres) of the stone after .25seconds:'"
      ]
     },
     "metadata": {},
     "output_type": "display_data"
    },
    {
     "data": {
      "image/png": "iVBORw0KGgoAAAANSUhEUgAAAC8AAAASCAYAAADLw4ffAAAABHNCSVQICAgIfAhkiAAAArpJREFU\nSInt1k2oVVUUB/DffT55fisapaLwxI80oVJMJPIRgjpxXAri16RINAcOJDIsPxAHCU0ChxkqlQii\nA2ugGZQ6iVQUKxHDoFRKM/VpHzZY+/L2255373vOAv9wuGf99zprr7vP+q91+B+jVthz8BruYiAG\nYRu+q3h2CjYl33vpdxNuNdlzNjak+ONwCu/g58LvAjbjKG5jVnpuDc6XQWfgEAZk3If4A88Xvs/g\nJ7yY7NG4lJJvhJn4HCOSPQTHcRXthe+D4rqP1T0F3pmcXs24RYn7IONaxamsy7jxuIY3myR/GJMK\nbkbaY1/BX8YuHMAOTGsUeBluYn7GLU6Bt2fcKnEKI/Qdf4o39mTB/47rBXfsEeJ3ww78jecy7guc\ne8R4Z4Q+JhT8L6KucxxrFqy1wdoELMcbugRbw0tCZB1YIOq2He/i2yb7zcHQlGwdY/FURbJt2IhR\n+AsThWC/b7TBIqHy03gLLdnaE6KMzuP1jH9ZdJnpTZKvwnb8o0v8dfwotFTHUvwqmkNTtIoSOZGS\nJk7oATpFq8txRXSrvmCS0MGWirWWwu6HO7o3j4boEMl+luz+yT5b4XtC1HNbL2O3ifJ7v7fJiA50\nuWphKp4tuGEi2X9FbRM9+auK579MvmN6kUQNe/BeD+vHe9jjinjrDyV5V3SWiRk/WNeQGJ64gyom\nnDj5To2bQB1bhBhzLMvub6kWf6eYMd0wQCj6B4zM+Fkp8ZMZt0TUXl7zNdzAJ0XcyR7WxkrVJ74r\nu/9UdJkc9WFW/mnEN8wa3b93dotTmJlxLfgG6zPuFTFh2zOuQ5TbkYybJ4bRx8W1D3szvxeEzgYl\nu4aP8LVMU+WH2QosFOUzGr+lf1r21pFCaIPFG6vhbVzMfJ4WtbtfzApikvY0mctSmou1opyHiQG3\nVUXNP8Zj9AH/AWHen3Pr8oW0AAAAAElFTkSuQmCC\n",
      "text/latex": [
       "$$36.25$$"
      ],
      "text/plain": [
       "36.2500000000000"
      ]
     },
     "metadata": {},
     "output_type": "display_data"
    }
   ],
   "source": [
    "# (b) What is the height of the stone after .25 seconds?\n",
    "subP=p.subs(t,.25)\n",
    "display(\"The height (in metres) of the stone after .25seconds:\",subP)"
   ]
  },
  {
   "cell_type": "code",
   "execution_count": 45,
   "metadata": {
    "collapsed": false
   },
   "outputs": [
    {
     "data": {
      "text/plain": [
       "'The velocity (in m/s) of the stone after 1 second:'"
      ]
     },
     "metadata": {},
     "output_type": "display_data"
    },
    {
     "data": {
      "image/png": "iVBORw0KGgoAAAANSUhEUgAAABUAAAASCAYAAAC0EpUuAAAABHNCSVQICAgIfAhkiAAAAVJJREFU\nOI3t079LllEUB/BPKqiYIAgmRiDo4miQhNiQ+E8IEjj3B+Tiog7S0OAoNBgiYqAuokiDvG4uDk5G\nIIqDhuCgiCllw72vXK7Pq01NfuHAOd/z8zn3OfwH9GARq9jBZzwviNvFUPQ1YQDf0JUHvsR6DIKn\nKOEn2rPYm0yu8L5oyhV0Zlx3TJrP+H1MYwkfiyYs4xwHaMn4U5xk3EalIlCV6Ht4hoYs5hfq7yuS\noybRX6MRRwnXFhvlk9ViFM24RgdG8P1fmk7iN3oz/gdeJPYQjtH6UMFOYc8TBb6qzK7GBabuK1iL\nLXx6qHOC/SiFeII5jFXwl7BZwB/islLRCeERUrxL9DNsF+RdCpd2ZzfD+IPxjO9L9DXhLFN0Cyub\nJXxqGf1YiEkpaoSrGoz2K3yI01/EGjPCw74V/utbnLp702XJJ3+Dr/iC5eiv8wj4C97ISC0wfqvv\nAAAAAElFTkSuQmCC\n",
      "text/latex": [
       "$$25$$"
      ],
      "text/plain": [
       "25"
      ]
     },
     "metadata": {},
     "output_type": "display_data"
    }
   ],
   "source": [
    "# (c) Find the velocity of the stone after 1 second.\n",
    "dp=diff(p,t)\n",
    "display(\"The velocity (in m/s) of the stone after 1 second:\",dp.subs(t,1))"
   ]
  },
  {
   "cell_type": "code",
   "execution_count": 46,
   "metadata": {
    "collapsed": false
   },
   "outputs": [
    {
     "data": {
      "image/png": "iVBORw0KGgoAAAANSUhEUgAAAAsAAAAYCAYAAAAs7gcTAAAABHNCSVQICAgIfAhkiAAAAFhJREFU\nOI3t07EJgFAQg+FPsRc3cBErW3E0Z3ADQRzJ2gkULOwOLF5hIy9dwn9HmpCgIvgJHS5sGNCgxx6P\nZ7RvWZlSI8MZ/hNcBX9g8cxqxYgaZ8rTj3UDfaEKTXWjChAAAAAASUVORK5CYII=\n",
      "text/latex": [
       "$$\\left [ \\right ]$$"
      ],
      "text/plain": [
       "[]"
      ]
     },
     "metadata": {},
     "output_type": "display_data"
    }
   ],
   "source": [
    "# (d) When does the stone hit the ground? (HARD - need to use solve)\n",
    "from sympy.solvers import solve\n",
    "\n",
    "solP=solve(dp)\n",
    "display(solP)"
   ]
  },
  {
   "cell_type": "markdown",
   "metadata": {},
   "source": [
    "#### Question 5\n",
    "\n",
    "You have learnt/observed that `the $(n+1)$th derivative of a polynomial of degree $n$ is zero'. Lets write code to verify this for $n\\le30$.\n",
    "\n",
    "Write code that demonstrate that \n",
    "the 1st derivative of a constant, the 2nd derivative of a line,\n",
    "the 3rd derivative of a quadratic, \n",
    "the 4th derivative of a cubic, etc. up to the $(n+1)$th derivative of a polynomial of degree $n$ where $n=30$ is zero. "
   ]
  },
  {
   "cell_type": "code",
   "execution_count": 47,
   "metadata": {
    "collapsed": false
   },
   "outputs": [
    {
     "data": {
      "text/plain": [
       "'The differential of'"
      ]
     },
     "metadata": {},
     "output_type": "display_data"
    },
    {
     "data": {
      "image/png": "iVBORw0KGgoAAAANSUhEUgAAAAsAAAASCAYAAACNdSR1AAAABHNCSVQICAgIfAhkiAAAAMxJREFU\nKJHN0TFLQmEUBuDHFIKGFhVcmvwFDW35T/wHQXOLo3/AsSVozTlwCwcbGhoaxHLJTVAIAo0cbLjf\nhevHTW5bL5zh/d5zXt7vHP6AcsQn+MAyaOe4xhMW8fA2qm9cpGIlap5hgDrecIPxb7Ee9mU+2CfG\nKEX8EfeoYoMmrvCaNzzFSYa3MUejSKwyVugVjfoeamd1Q8kfWjnutdjhE885zl+Sy+7gTrKFLE4l\nl+zEzWfo4yjwEm4xwmH6kEULl1jjGC/ohij/BT8UwSaNbxctpgAAAABJRU5ErkJggg==\n",
      "text/latex": [
       "$$5$$"
      ],
      "text/plain": [
       "5"
      ]
     },
     "metadata": {},
     "output_type": "display_data"
    },
    {
     "data": {
      "text/plain": [
       "' is: '"
      ]
     },
     "metadata": {},
     "output_type": "display_data"
    },
    {
     "data": {
      "image/png": "iVBORw0KGgoAAAANSUhEUgAAAAwAAAASCAYAAABvqT8MAAAABHNCSVQICAgIfAhkiAAAANtJREFU\nKJHN0r0uhEEUxvGf9VWItTYahSgQPYV2SxfBBbiAbfSidSE60e4trASNjghZGiHbEFnFzpscb84W\nOqd5cp6Z/5nJzMMfa6rWb+MU9xhhBV0MMngJjzgI3jFuMJcBJ3jBTPDa+MJRBtzhIvGv0auaRtFF\nbOEhAZ6wWwfWi74nwBBNzEegWfRzAgCtCHwXHSXAbNHpCLwmG6taKPoRgUGZvjwBeKsDQ/SxlgCb\nuKqaRli4xJ7fcdkoQ86zu66Wow+Dd4ZbIRoxBs/oGEdkx/gz29iXP/d/qR8UhCWn2ReXCwAAAABJ\nRU5ErkJggg==\n",
      "text/latex": [
       "$$0$$"
      ],
      "text/plain": [
       "0"
      ]
     },
     "metadata": {},
     "output_type": "display_data"
    },
    {
     "data": {
      "text/plain": [
       "'The differential of'"
      ]
     },
     "metadata": {},
     "output_type": "display_data"
    },
    {
     "data": {
      "image/png": "iVBORw0KGgoAAAANSUhEUgAAABgAAAASCAYAAABB7B6eAAAABHNCSVQICAgIfAhkiAAAAWBJREFU\nOI3t07Frk1EUBfBfUk2sY0WooCCWrpUibtFJ1xRBlyL1D3BQ6NLMQufSoUMdhNJB0MEuVQdRquiQ\nQSiCWB1UXAoNCKUlKFiH94aXly8uiVsPPPjOefede7/73uU/Yyjjn/ATrbhXwzKa2BlEwoNs/cLt\nfgyPZPw7nuMkPuMBPvaTIMerQZpBedCGOUoZf4d1nMBvjGEOW0nMFK7gPG5hBDfiXg3z0aMQX3Am\n4TexjdHIK1iI3028wWxS6Jxwjz2Rt2wI+1iM/CquR8MWHmfxDez9K0ERvsUFpzCMCeEZX8piH+Jt\nL6MNvC7Qf6CdaXeFP6sk2lFhSBu9EuzifYHeFiY8xRpeZFodf3A2Jj5NZ8+fCa8jxSSqWE20Mi7r\nnpkZvMRXXMN4XulF4dKOR17CitDTahJ3QXH/N3EnVn9f9wgQDz2Kxk9wD8eymDo+6Ow/TOMplnCu\nyPwQhfgL8SlEIEKNp/YAAAAASUVORK5CYII=\n",
      "text/latex": [
       "$$5 n$$"
      ],
      "text/plain": [
       "5⋅n"
      ]
     },
     "metadata": {},
     "output_type": "display_data"
    },
    {
     "data": {
      "text/plain": [
       "' is: '"
      ]
     },
     "metadata": {},
     "output_type": "display_data"
    },
    {
     "data": {
      "image/png": "iVBORw0KGgoAAAANSUhEUgAAAAwAAAASCAYAAABvqT8MAAAABHNCSVQICAgIfAhkiAAAANtJREFU\nKJHN0r0uhEEUxvGf9VWItTYahSgQPYV2SxfBBbiAbfSidSE60e4trASNjghZGiHbEFnFzpscb84W\nOqd5cp6Z/5nJzMMfa6rWb+MU9xhhBV0MMngJjzgI3jFuMJcBJ3jBTPDa+MJRBtzhIvGv0auaRtFF\nbOEhAZ6wWwfWi74nwBBNzEegWfRzAgCtCHwXHSXAbNHpCLwmG6taKPoRgUGZvjwBeKsDQ/SxlgCb\nuKqaRli4xJ7fcdkoQ86zu66Wow+Dd4ZbIRoxBs/oGEdkx/gz29iXP/d/qR8UhCWn2ReXCwAAAABJ\nRU5ErkJggg==\n",
      "text/latex": [
       "$$0$$"
      ],
      "text/plain": [
       "0"
      ]
     },
     "metadata": {},
     "output_type": "display_data"
    },
    {
     "data": {
      "text/plain": [
       "'The differential of'"
      ]
     },
     "metadata": {},
     "output_type": "display_data"
    },
    {
     "data": {
      "image/png": "iVBORw0KGgoAAAANSUhEUgAAAB8AAAAXCAYAAADz/ZRUAAAABHNCSVQICAgIfAhkiAAAAb1JREFU\nSInt1k2IjlEUB/Df62NmSEMjNUKJLKRokuRj2LDToLDQxMLSglKaWStpSsnCxkJhoViw8VFEQyws\nlJR8LJCNhVITTZTX4lx13ffRNG+v12b+dXuec+7/ef733HPueR7+I2pt0FiPjZiLTTiB0TbomoNT\nmb0P37CoHeKr8RPLk92NelrEP0dNbPvv9K5K4n1V5FcYFNsyD9twFytbtJhLOP23yXoxvuNwi4QP\nYURW5DMKwgfcwQK8wQW8bIHwjnQ9ji704l1JetACoRJbRdS9aezChipiq8WXYUxjOrtpbDJPcBPz\n8UMckSG8zjg7RSGuwUH0YG+a24yT6R2TxlssyexBfBLbBR04k+6f4hGOZUEMibppCtMKe7roSGeT\nvR17kthnXCv4w/jarHgV3qcBCzFLdK46+gvuFTxuRmQUDyv8HzFe+I6KHenIfDPxRUQ/aYzhWYV/\nXHS+HDdwr/ANiD6+NC1q8USCeY5viyrO0YdOXC6e2aLxWB7AfdE8dmPFROI51okCmp3sGi6KHHZm\nvLWq8/0cR0TU5zXxr9CPq0n0uvjwdxWcAbzwZ75hP27hnGguU5hCA34Bq4NUuglkGbcAAAAASUVO\nRK5CYII=\n",
      "text/latex": [
       "$$5 n^{2}$$"
      ],
      "text/plain": [
       "   2\n",
       "5⋅n "
      ]
     },
     "metadata": {},
     "output_type": "display_data"
    },
    {
     "data": {
      "text/plain": [
       "' is: '"
      ]
     },
     "metadata": {},
     "output_type": "display_data"
    },
    {
     "data": {
      "image/png": "iVBORw0KGgoAAAANSUhEUgAAAAwAAAASCAYAAABvqT8MAAAABHNCSVQICAgIfAhkiAAAANtJREFU\nKJHN0r0uhEEUxvGf9VWItTYahSgQPYV2SxfBBbiAbfSidSE60e4trASNjghZGiHbEFnFzpscb84W\nOqd5cp6Z/5nJzMMfa6rWb+MU9xhhBV0MMngJjzgI3jFuMJcBJ3jBTPDa+MJRBtzhIvGv0auaRtFF\nbOEhAZ6wWwfWi74nwBBNzEegWfRzAgCtCHwXHSXAbNHpCLwmG6taKPoRgUGZvjwBeKsDQ/SxlgCb\nuKqaRli4xJ7fcdkoQ86zu66Wow+Dd4ZbIRoxBs/oGEdkx/gz29iXP/d/qR8UhCWn2ReXCwAAAABJ\nRU5ErkJggg==\n",
      "text/latex": [
       "$$0$$"
      ],
      "text/plain": [
       "0"
      ]
     },
     "metadata": {},
     "output_type": "display_data"
    },
    {
     "data": {
      "text/plain": [
       "'The differential of'"
      ]
     },
     "metadata": {},
     "output_type": "display_data"
    },
    {
     "ename": "OSError",
     "evalue": "[WinError 145] The directory is not empty: 'C:\\\\Users\\\\Ciara\\\\AppData\\\\Local\\\\Temp\\\\tmp8opaj_5f'",
     "output_type": "error",
     "traceback": [
      "\u001b[1;31m---------------------------------------------------------------------------\u001b[0m",
      "\u001b[1;31mRuntimeError\u001b[0m                              Traceback (most recent call last)",
      "\u001b[1;32mC:\\dev\\prog\\Anaconda3\\lib\\site-packages\\sympy\\printing\\preview.py\u001b[0m in \u001b[0;36mpreview\u001b[1;34m(expr, output, viewer, euler, packages, filename, outputbuffer, preamble, dvioptions, outputTexFile, **latex_settings)\u001b[0m\n\u001b[0;32m    192\u001b[0m         \u001b[1;32mif\u001b[0m \u001b[1;32mnot\u001b[0m \u001b[0mfind_executable\u001b[0m\u001b[1;33m(\u001b[0m\u001b[1;34m'latex'\u001b[0m\u001b[1;33m)\u001b[0m\u001b[1;33m:\u001b[0m\u001b[1;33m\u001b[0m\u001b[0m\n\u001b[1;32m--> 193\u001b[1;33m             \u001b[1;32mraise\u001b[0m \u001b[0mRuntimeError\u001b[0m\u001b[1;33m(\u001b[0m\u001b[1;34m\"latex program is not installed\"\u001b[0m\u001b[1;33m)\u001b[0m\u001b[1;33m\u001b[0m\u001b[0m\n\u001b[0m\u001b[0;32m    194\u001b[0m \u001b[1;33m\u001b[0m\u001b[0m\n",
      "\u001b[1;31mRuntimeError\u001b[0m: latex program is not installed",
      "\nDuring handling of the above exception, another exception occurred:\n",
      "\u001b[1;31mOSError\u001b[0m                                   Traceback (most recent call last)",
      "\u001b[1;32mC:\\dev\\prog\\Anaconda3\\lib\\site-packages\\IPython\\core\\formatters.py\u001b[0m in \u001b[0;36m__call__\u001b[1;34m(self, obj)\u001b[0m\n\u001b[0;32m    328\u001b[0m                 \u001b[1;32mpass\u001b[0m\u001b[1;33m\u001b[0m\u001b[0m\n\u001b[0;32m    329\u001b[0m             \u001b[1;32melse\u001b[0m\u001b[1;33m:\u001b[0m\u001b[1;33m\u001b[0m\u001b[0m\n\u001b[1;32m--> 330\u001b[1;33m                 \u001b[1;32mreturn\u001b[0m \u001b[0mprinter\u001b[0m\u001b[1;33m(\u001b[0m\u001b[0mobj\u001b[0m\u001b[1;33m)\u001b[0m\u001b[1;33m\u001b[0m\u001b[0m\n\u001b[0m\u001b[0;32m    331\u001b[0m             \u001b[1;31m# Finally look for special method names\u001b[0m\u001b[1;33m\u001b[0m\u001b[1;33m\u001b[0m\u001b[0m\n\u001b[0;32m    332\u001b[0m             \u001b[0mmethod\u001b[0m \u001b[1;33m=\u001b[0m \u001b[0m_safe_get_formatter_method\u001b[0m\u001b[1;33m(\u001b[0m\u001b[0mobj\u001b[0m\u001b[1;33m,\u001b[0m \u001b[0mself\u001b[0m\u001b[1;33m.\u001b[0m\u001b[0mprint_method\u001b[0m\u001b[1;33m)\u001b[0m\u001b[1;33m\u001b[0m\u001b[0m\n",
      "\u001b[1;32mC:\\dev\\prog\\Anaconda3\\lib\\site-packages\\sympy\\interactive\\printing.py\u001b[0m in \u001b[0;36m_print_latex_png\u001b[1;34m(o)\u001b[0m\n\u001b[0;32m    119\u001b[0m             \u001b[0ms\u001b[0m \u001b[1;33m=\u001b[0m \u001b[0mlatex\u001b[0m\u001b[1;33m(\u001b[0m\u001b[0mo\u001b[0m\u001b[1;33m,\u001b[0m \u001b[0mmode\u001b[0m\u001b[1;33m=\u001b[0m\u001b[0mlatex_mode\u001b[0m\u001b[1;33m)\u001b[0m\u001b[1;33m\u001b[0m\u001b[0m\n\u001b[0;32m    120\u001b[0m             \u001b[1;32mtry\u001b[0m\u001b[1;33m:\u001b[0m\u001b[1;33m\u001b[0m\u001b[0m\n\u001b[1;32m--> 121\u001b[1;33m                 \u001b[1;32mreturn\u001b[0m \u001b[0m_preview_wrapper\u001b[0m\u001b[1;33m(\u001b[0m\u001b[0ms\u001b[0m\u001b[1;33m)\u001b[0m\u001b[1;33m\u001b[0m\u001b[0m\n\u001b[0m\u001b[0;32m    122\u001b[0m             \u001b[1;32mexcept\u001b[0m \u001b[0mRuntimeError\u001b[0m\u001b[1;33m:\u001b[0m\u001b[1;33m\u001b[0m\u001b[0m\n\u001b[0;32m    123\u001b[0m                 \u001b[1;32mif\u001b[0m \u001b[0mlatex_mode\u001b[0m \u001b[1;33m!=\u001b[0m \u001b[1;34m'inline'\u001b[0m\u001b[1;33m:\u001b[0m\u001b[1;33m\u001b[0m\u001b[0m\n",
      "\u001b[1;32mC:\\dev\\prog\\Anaconda3\\lib\\site-packages\\sympy\\interactive\\printing.py\u001b[0m in \u001b[0;36m_preview_wrapper\u001b[1;34m(o)\u001b[0m\n\u001b[0;32m     73\u001b[0m             preview(o, output='png', viewer='BytesIO',\n\u001b[0;32m     74\u001b[0m                     \u001b[0moutputbuffer\u001b[0m\u001b[1;33m=\u001b[0m\u001b[0mexprbuffer\u001b[0m\u001b[1;33m,\u001b[0m \u001b[0mpreamble\u001b[0m\u001b[1;33m=\u001b[0m\u001b[0mpreamble\u001b[0m\u001b[1;33m,\u001b[0m\u001b[1;33m\u001b[0m\u001b[0m\n\u001b[1;32m---> 75\u001b[1;33m                     dvioptions=dvioptions)\n\u001b[0m\u001b[0;32m     76\u001b[0m         \u001b[1;32mexcept\u001b[0m \u001b[0mException\u001b[0m \u001b[1;32mas\u001b[0m \u001b[0me\u001b[0m\u001b[1;33m:\u001b[0m\u001b[1;33m\u001b[0m\u001b[0m\n\u001b[0;32m     77\u001b[0m             \u001b[1;31m# IPython swallows exceptions\u001b[0m\u001b[1;33m\u001b[0m\u001b[1;33m\u001b[0m\u001b[0m\n",
      "\u001b[1;32mC:\\dev\\prog\\Anaconda3\\lib\\site-packages\\sympy\\printing\\preview.py\u001b[0m in \u001b[0;36mpreview\u001b[1;34m(expr, output, viewer, euler, packages, filename, outputbuffer, preamble, dvioptions, outputTexFile, **latex_settings)\u001b[0m\n\u001b[0;32m    314\u001b[0m     \u001b[1;32mfinally\u001b[0m\u001b[1;33m:\u001b[0m\u001b[1;33m\u001b[0m\u001b[0m\n\u001b[0;32m    315\u001b[0m         \u001b[1;32mtry\u001b[0m\u001b[1;33m:\u001b[0m\u001b[1;33m\u001b[0m\u001b[0m\n\u001b[1;32m--> 316\u001b[1;33m             \u001b[0mshutil\u001b[0m\u001b[1;33m.\u001b[0m\u001b[0mrmtree\u001b[0m\u001b[1;33m(\u001b[0m\u001b[0mworkdir\u001b[0m\u001b[1;33m)\u001b[0m \u001b[1;31m# delete directory\u001b[0m\u001b[1;33m\u001b[0m\u001b[0m\n\u001b[0m\u001b[0;32m    317\u001b[0m         \u001b[1;32mexcept\u001b[0m \u001b[0mOSError\u001b[0m \u001b[1;32mas\u001b[0m \u001b[0me\u001b[0m\u001b[1;33m:\u001b[0m\u001b[1;33m\u001b[0m\u001b[0m\n\u001b[0;32m    318\u001b[0m             \u001b[1;32mif\u001b[0m \u001b[0me\u001b[0m\u001b[1;33m.\u001b[0m\u001b[0merrno\u001b[0m \u001b[1;33m!=\u001b[0m \u001b[1;36m2\u001b[0m\u001b[1;33m:\u001b[0m \u001b[1;31m# code 2 - no such file or directory\u001b[0m\u001b[1;33m\u001b[0m\u001b[0m\n",
      "\u001b[1;32mC:\\dev\\prog\\Anaconda3\\lib\\shutil.py\u001b[0m in \u001b[0;36mrmtree\u001b[1;34m(path, ignore_errors, onerror)\u001b[0m\n\u001b[0;32m    476\u001b[0m             \u001b[0mos\u001b[0m\u001b[1;33m.\u001b[0m\u001b[0mclose\u001b[0m\u001b[1;33m(\u001b[0m\u001b[0mfd\u001b[0m\u001b[1;33m)\u001b[0m\u001b[1;33m\u001b[0m\u001b[0m\n\u001b[0;32m    477\u001b[0m     \u001b[1;32melse\u001b[0m\u001b[1;33m:\u001b[0m\u001b[1;33m\u001b[0m\u001b[0m\n\u001b[1;32m--> 478\u001b[1;33m         \u001b[1;32mreturn\u001b[0m \u001b[0m_rmtree_unsafe\u001b[0m\u001b[1;33m(\u001b[0m\u001b[0mpath\u001b[0m\u001b[1;33m,\u001b[0m \u001b[0monerror\u001b[0m\u001b[1;33m)\u001b[0m\u001b[1;33m\u001b[0m\u001b[0m\n\u001b[0m\u001b[0;32m    479\u001b[0m \u001b[1;33m\u001b[0m\u001b[0m\n\u001b[0;32m    480\u001b[0m \u001b[1;31m# Allow introspection of whether or not the hardening against symlink\u001b[0m\u001b[1;33m\u001b[0m\u001b[1;33m\u001b[0m\u001b[0m\n",
      "\u001b[1;32mC:\\dev\\prog\\Anaconda3\\lib\\shutil.py\u001b[0m in \u001b[0;36m_rmtree_unsafe\u001b[1;34m(path, onerror)\u001b[0m\n\u001b[0;32m    375\u001b[0m         \u001b[0mos\u001b[0m\u001b[1;33m.\u001b[0m\u001b[0mrmdir\u001b[0m\u001b[1;33m(\u001b[0m\u001b[0mpath\u001b[0m\u001b[1;33m)\u001b[0m\u001b[1;33m\u001b[0m\u001b[0m\n\u001b[0;32m    376\u001b[0m     \u001b[1;32mexcept\u001b[0m \u001b[0mOSError\u001b[0m\u001b[1;33m:\u001b[0m\u001b[1;33m\u001b[0m\u001b[0m\n\u001b[1;32m--> 377\u001b[1;33m         \u001b[0monerror\u001b[0m\u001b[1;33m(\u001b[0m\u001b[0mos\u001b[0m\u001b[1;33m.\u001b[0m\u001b[0mrmdir\u001b[0m\u001b[1;33m,\u001b[0m \u001b[0mpath\u001b[0m\u001b[1;33m,\u001b[0m \u001b[0msys\u001b[0m\u001b[1;33m.\u001b[0m\u001b[0mexc_info\u001b[0m\u001b[1;33m(\u001b[0m\u001b[1;33m)\u001b[0m\u001b[1;33m)\u001b[0m\u001b[1;33m\u001b[0m\u001b[0m\n\u001b[0m\u001b[0;32m    378\u001b[0m \u001b[1;33m\u001b[0m\u001b[0m\n\u001b[0;32m    379\u001b[0m \u001b[1;31m# Version using fd-based APIs to protect against races\u001b[0m\u001b[1;33m\u001b[0m\u001b[1;33m\u001b[0m\u001b[0m\n",
      "\u001b[1;32mC:\\dev\\prog\\Anaconda3\\lib\\shutil.py\u001b[0m in \u001b[0;36m_rmtree_unsafe\u001b[1;34m(path, onerror)\u001b[0m\n\u001b[0;32m    373\u001b[0m                 \u001b[0monerror\u001b[0m\u001b[1;33m(\u001b[0m\u001b[0mos\u001b[0m\u001b[1;33m.\u001b[0m\u001b[0munlink\u001b[0m\u001b[1;33m,\u001b[0m \u001b[0mfullname\u001b[0m\u001b[1;33m,\u001b[0m \u001b[0msys\u001b[0m\u001b[1;33m.\u001b[0m\u001b[0mexc_info\u001b[0m\u001b[1;33m(\u001b[0m\u001b[1;33m)\u001b[0m\u001b[1;33m)\u001b[0m\u001b[1;33m\u001b[0m\u001b[0m\n\u001b[0;32m    374\u001b[0m     \u001b[1;32mtry\u001b[0m\u001b[1;33m:\u001b[0m\u001b[1;33m\u001b[0m\u001b[0m\n\u001b[1;32m--> 375\u001b[1;33m         \u001b[0mos\u001b[0m\u001b[1;33m.\u001b[0m\u001b[0mrmdir\u001b[0m\u001b[1;33m(\u001b[0m\u001b[0mpath\u001b[0m\u001b[1;33m)\u001b[0m\u001b[1;33m\u001b[0m\u001b[0m\n\u001b[0m\u001b[0;32m    376\u001b[0m     \u001b[1;32mexcept\u001b[0m \u001b[0mOSError\u001b[0m\u001b[1;33m:\u001b[0m\u001b[1;33m\u001b[0m\u001b[0m\n\u001b[0;32m    377\u001b[0m         \u001b[0monerror\u001b[0m\u001b[1;33m(\u001b[0m\u001b[0mos\u001b[0m\u001b[1;33m.\u001b[0m\u001b[0mrmdir\u001b[0m\u001b[1;33m,\u001b[0m \u001b[0mpath\u001b[0m\u001b[1;33m,\u001b[0m \u001b[0msys\u001b[0m\u001b[1;33m.\u001b[0m\u001b[0mexc_info\u001b[0m\u001b[1;33m(\u001b[0m\u001b[1;33m)\u001b[0m\u001b[1;33m)\u001b[0m\u001b[1;33m\u001b[0m\u001b[0m\n",
      "\u001b[1;31mOSError\u001b[0m: [WinError 145] The directory is not empty: 'C:\\\\Users\\\\Ciara\\\\AppData\\\\Local\\\\Temp\\\\tmp8opaj_5f'"
     ]
    },
    {
     "data": {
      "text/latex": [
       "$$5 n^{3}$$"
      ],
      "text/plain": [
       "   3\n",
       "5⋅n "
      ]
     },
     "metadata": {},
     "output_type": "display_data"
    },
    {
     "data": {
      "text/plain": [
       "' is: '"
      ]
     },
     "metadata": {},
     "output_type": "display_data"
    },
    {
     "data": {
      "image/png": "iVBORw0KGgoAAAANSUhEUgAAAAwAAAASCAYAAABvqT8MAAAABHNCSVQICAgIfAhkiAAAANtJREFU\nKJHN0r0uhEEUxvGf9VWItTYahSgQPYV2SxfBBbiAbfSidSE60e4trASNjghZGiHbEFnFzpscb84W\nOqd5cp6Z/5nJzMMfa6rWb+MU9xhhBV0MMngJjzgI3jFuMJcBJ3jBTPDa+MJRBtzhIvGv0auaRtFF\nbOEhAZ6wWwfWi74nwBBNzEegWfRzAgCtCHwXHSXAbNHpCLwmG6taKPoRgUGZvjwBeKsDQ/SxlgCb\nuKqaRli4xJ7fcdkoQ86zu66Wow+Dd4ZbIRoxBs/oGEdkx/gz29iXP/d/qR8UhCWn2ReXCwAAAABJ\nRU5ErkJggg==\n",
      "text/latex": [
       "$$0$$"
      ],
      "text/plain": [
       "0"
      ]
     },
     "metadata": {},
     "output_type": "display_data"
    },
    {
     "data": {
      "text/plain": [
       "'The differential of'"
      ]
     },
     "metadata": {},
     "output_type": "display_data"
    },
    {
     "data": {
      "image/png": "iVBORw0KGgoAAAANSUhEUgAAAB8AAAAXCAYAAADz/ZRUAAAABHNCSVQICAgIfAhkiAAAAa9JREFU\nSInt1D9IlVEYBvCfWdqfoUgCM4MoClqSELfUhqQlbgS1hOjW4lDQYnPQEAjSEERDIA1BDTqoBUpS\nUUODIEH0Z1BpaRCCKPwD1XCOcDpeuF4vXId64MD3Pt9zvud7z/uel01EbZX9BvAT81X21YmvOL1K\nbKmS8W604H1KVsv8Cu7lZG7+Ad04gD04gwkcr8C4gHEslRL+ztYy+iowbkJPEk9Jar41E8/jGfbh\nEx7I6lQmzqIR/TE+hsvYhdFcPFWB0XowaxO6vRm3hVO4jnNQk4neYAwNWMER4cg+JprzQiO2oBd7\ncSm+O4Vb8Rtl4zMOJnG3MBgaY1yHwfj8Fq9iJqtJ9KtgeuVlqBXG4Z0Yd+FiNFvAk0x/Az82al4M\nc3HBfuzACeEqtmfaR3i9EZMXeFmE/4LFjLsmnEhdwm3DNyH7svEd00X4RWHypRjBZMYV8AuH4k81\nlzJMa/xU6OIUJ1GPh9meDmtnQg+eC3f5Ao6WMk/RJjTQzhjXYEioYX2ia1W83jO4KmR939prXBLt\neBxNh3ET2zNNAe/8XW/C2BzHXRwu1/g//g38AbZMT3RDFH9bAAAAAElFTkSuQmCC\n",
      "text/latex": [
       "$$5 n^{4}$$"
      ],
      "text/plain": [
       "   4\n",
       "5⋅n "
      ]
     },
     "metadata": {},
     "output_type": "display_data"
    },
    {
     "data": {
      "text/plain": [
       "' is: '"
      ]
     },
     "metadata": {},
     "output_type": "display_data"
    },
    {
     "data": {
      "image/png": "iVBORw0KGgoAAAANSUhEUgAAAAwAAAASCAYAAABvqT8MAAAABHNCSVQICAgIfAhkiAAAANtJREFU\nKJHN0r0uhEEUxvGf9VWItTYahSgQPYV2SxfBBbiAbfSidSE60e4trASNjghZGiHbEFnFzpscb84W\nOqd5cp6Z/5nJzMMfa6rWb+MU9xhhBV0MMngJjzgI3jFuMJcBJ3jBTPDa+MJRBtzhIvGv0auaRtFF\nbOEhAZ6wWwfWi74nwBBNzEegWfRzAgCtCHwXHSXAbNHpCLwmG6taKPoRgUGZvjwBeKsDQ/SxlgCb\nuKqaRli4xJ7fcdkoQ86zu66Wow+Dd4ZbIRoxBs/oGEdkx/gz29iXP/d/qR8UhCWn2ReXCwAAAABJ\nRU5ErkJggg==\n",
      "text/latex": [
       "$$0$$"
      ],
      "text/plain": [
       "0"
      ]
     },
     "metadata": {},
     "output_type": "display_data"
    },
    {
     "data": {
      "text/plain": [
       "'The differential of'"
      ]
     },
     "metadata": {},
     "output_type": "display_data"
    },
    {
     "data": {
      "image/png": "iVBORw0KGgoAAAANSUhEUgAAAB8AAAAXCAYAAADz/ZRUAAAABHNCSVQICAgIfAhkiAAAAbxJREFU\nSInt1U2IjVEYB/DfNdxBKTGKjBLNlI1Jk7IwVmNhM1JsdGOrLEyxGDulrGVhM0VpFooFGx9F5HMx\nSUnJV6EpJKWECWHxnFtn3nkz3XtzF/jXqfM8z/89/855Pl7+cpzAd0xiHP31wOw2iL9CNyp4nQfa\nIQ5vypwdbRDegh70YhjP8a6M+Bg1LMdCDOIK1rQgXkM17QeTxqwy4s/C+oq9LQgzNbUr07l9xQBR\nHJexBE9xEo9aEN6Aq+jCFyxI/m9l5OstCJWhG4cyew9u140/Xe0TuIcDorh7sa0erBTId3EBi8XT\nrMYInmScraJw+rAbi7AjxTbiSDqjYTzDisyu4S2WJruKo2k/jlvYn11iRNRNUyi2QAc+41iyN2N7\nEnuPswX+QXxqVrwML9OCZZiHtaJlBgrc07jTjMgN3CzxT4ifQo5h8SLVzDcHH8TtG8ZH3C/xT4qp\nlOO86N8cQ/ghBklVtNlvkef4kqjiHOvQibHCN5tMnwm7cA0vRDv1zCSeY70ooPnJruCUyGFnxutX\nnu8H2CduPWp6G8+IAZxJoudwGHMLnCE8NDXfsBMXcRyrGhX+j38DvwC2HlTaLxp84wAAAABJRU5E\nrkJggg==\n",
      "text/latex": [
       "$$5 n^{5}$$"
      ],
      "text/plain": [
       "   5\n",
       "5⋅n "
      ]
     },
     "metadata": {},
     "output_type": "display_data"
    },
    {
     "data": {
      "text/plain": [
       "' is: '"
      ]
     },
     "metadata": {},
     "output_type": "display_data"
    },
    {
     "data": {
      "image/png": "iVBORw0KGgoAAAANSUhEUgAAAAwAAAASCAYAAABvqT8MAAAABHNCSVQICAgIfAhkiAAAANtJREFU\nKJHN0r0uhEEUxvGf9VWItTYahSgQPYV2SxfBBbiAbfSidSE60e4trASNjghZGiHbEFnFzpscb84W\nOqd5cp6Z/5nJzMMfa6rWb+MU9xhhBV0MMngJjzgI3jFuMJcBJ3jBTPDa+MJRBtzhIvGv0auaRtFF\nbOEhAZ6wWwfWi74nwBBNzEegWfRzAgCtCHwXHSXAbNHpCLwmG6taKPoRgUGZvjwBeKsDQ/SxlgCb\nuKqaRli4xJ7fcdkoQ86zu66Wow+Dd4ZbIRoxBs/oGEdkx/gz29iXP/d/qR8UhCWn2ReXCwAAAABJ\nRU5ErkJggg==\n",
      "text/latex": [
       "$$0$$"
      ],
      "text/plain": [
       "0"
      ]
     },
     "metadata": {},
     "output_type": "display_data"
    },
    {
     "data": {
      "text/plain": [
       "'The differential of'"
      ]
     },
     "metadata": {},
     "output_type": "display_data"
    },
    {
     "data": {
      "image/png": "iVBORw0KGgoAAAANSUhEUgAAAB8AAAAXCAYAAADz/ZRUAAAABHNCSVQICAgIfAhkiAAAAclJREFU\nSInt1j9IVlEYx/GPWa8VEZEJSX+MoqGGJMQh0KaiIbCCWkK0MWgoaNGpQYimiIaWhkAchBpqKQPT\nqKihIZEg+kNUJBURFFGIQW/DOcLxvleiK74t/uDAeZ773PPlnOe5z7n8R9VUidOFjfiIlThfJa5j\nOBfnmzCFNdUAl/AZTYlv8/Rk8TzDdwm7bEIbWjCE13nBz9GJdViFPRjGtoLwoyijPdor8BXr84LL\nmTGFEwXBsD+usyzxfcBxKo/9HW6jAS9xBc/mAB+L8NrEV87hgrtzAM2mEeyL8wZ8E9I67wUH3TiD\n7ULtHMQElU3mEW6iHr+wBT14kcQcEAqxOS68GkfiszacjWv8s15hQ2J34hPWRruEC3H+GA9wOtlE\nj1A3hbQoY9fiJy5Gey8OR9gXXMvE9+JHUXie3sYBjcJns8PM73dag3hYBHIP93P87zGZ8Z0STqSU\n+JYIDaS3CPw7nuT4J4XOl+oG7mR8HfgtXB4ls3SxVGmOh4QqTrUTdRjIvLNbZU/owije4BC2/g2e\nqlUooOXRrkG/kMO6JK5Ffr7HcVLY9WUF/hXacTVCr6MPSzMxHXhqZr4Jl8gtXJJcmwtaUKo/gkhV\n0dPzrhoAAAAASUVORK5CYII=\n",
      "text/latex": [
       "$$5 n^{6}$$"
      ],
      "text/plain": [
       "   6\n",
       "5⋅n "
      ]
     },
     "metadata": {},
     "output_type": "display_data"
    },
    {
     "data": {
      "text/plain": [
       "' is: '"
      ]
     },
     "metadata": {},
     "output_type": "display_data"
    },
    {
     "data": {
      "image/png": "iVBORw0KGgoAAAANSUhEUgAAAAwAAAASCAYAAABvqT8MAAAABHNCSVQICAgIfAhkiAAAANtJREFU\nKJHN0r0uhEEUxvGf9VWItTYahSgQPYV2SxfBBbiAbfSidSE60e4trASNjghZGiHbEFnFzpscb84W\nOqd5cp6Z/5nJzMMfa6rWb+MU9xhhBV0MMngJjzgI3jFuMJcBJ3jBTPDa+MJRBtzhIvGv0auaRtFF\nbOEhAZ6wWwfWi74nwBBNzEegWfRzAgCtCHwXHSXAbNHpCLwmG6taKPoRgUGZvjwBeKsDQ/SxlgCb\nuKqaRli4xJ7fcdkoQ86zu66Wow+Dd4ZbIRoxBs/oGEdkx/gz29iXP/d/qR8UhCWn2ReXCwAAAABJ\nRU5ErkJggg==\n",
      "text/latex": [
       "$$0$$"
      ],
      "text/plain": [
       "0"
      ]
     },
     "metadata": {},
     "output_type": "display_data"
    },
    {
     "data": {
      "text/plain": [
       "'The differential of'"
      ]
     },
     "metadata": {},
     "output_type": "display_data"
    },
    {
     "data": {
      "image/png": "iVBORw0KGgoAAAANSUhEUgAAAB8AAAAXCAYAAADz/ZRUAAAABHNCSVQICAgIfAhkiAAAAaBJREFU\nSInt1U+IjlEUx/HPDN7BSkSE8icLJZNkI2PFwmYmxUYTOxsLYjOzU8p6smChKFkoFmz8KSImFhZK\nSv4UptlYTIloorA4d/E4Hl7z9noXzK9uPef3nPt8u885917+cY3jXRqnOgFejMNYjZVYUcALOgFf\nkkB7sLkT4KylOPq7hGcYLInzsA03sbYN8DPi1/9S39L4jANtAC/CWDZnpngMN7AQL3AWT9sA34GJ\nZvBX2N8GWNY6fMpm918A1ek9nmezK8UPcFVsjy9ifw6liQOiEXuxD/Oxu7zbguPlG1PWSyyvxIN4\nKw4LaGCkPD/EKI5UFjGkprH+VLkMM0StTpR4O3YV2AQupfxhfGwVXqc3ZRAn1hysF1uxL+VewP1W\nIHdxr8Yfx2TyDok/0qh4s8SlMdwK/AMe1fiT4uSr6gpuJa8fX8Xl0cCyZsBqja+LLq5qA3pwPs3Z\nijspdy9u4zV2Yk0zeFWbRAPNLXEXzoka9lTyNqqv92McFKs+7edt3FR9uFigl3EMs1NOP574sd7E\ndXkNJ7FqquBp/R/6Dh/zT/KCGN5TAAAAAElFTkSuQmCC\n",
      "text/latex": [
       "$$5 n^{7}$$"
      ],
      "text/plain": [
       "   7\n",
       "5⋅n "
      ]
     },
     "metadata": {},
     "output_type": "display_data"
    },
    {
     "data": {
      "text/plain": [
       "' is: '"
      ]
     },
     "metadata": {},
     "output_type": "display_data"
    },
    {
     "data": {
      "image/png": "iVBORw0KGgoAAAANSUhEUgAAAAwAAAASCAYAAABvqT8MAAAABHNCSVQICAgIfAhkiAAAANtJREFU\nKJHN0r0uhEEUxvGf9VWItTYahSgQPYV2SxfBBbiAbfSidSE60e4trASNjghZGiHbEFnFzpscb84W\nOqd5cp6Z/5nJzMMfa6rWb+MU9xhhBV0MMngJjzgI3jFuMJcBJ3jBTPDa+MJRBtzhIvGv0auaRtFF\nbOEhAZ6wWwfWi74nwBBNzEegWfRzAgCtCHwXHSXAbNHpCLwmG6taKPoRgUGZvjwBeKsDQ/SxlgCb\nuKqaRli4xJ7fcdkoQ86zu66Wow+Dd4ZbIRoxBs/oGEdkx/gz29iXP/d/qR8UhCWn2ReXCwAAAABJ\nRU5ErkJggg==\n",
      "text/latex": [
       "$$0$$"
      ],
      "text/plain": [
       "0"
      ]
     },
     "metadata": {},
     "output_type": "display_data"
    },
    {
     "data": {
      "text/plain": [
       "'The differential of'"
      ]
     },
     "metadata": {},
     "output_type": "display_data"
    },
    {
     "data": {
      "image/png": "iVBORw0KGgoAAAANSUhEUgAAAB8AAAAXCAYAAADz/ZRUAAAABHNCSVQICAgIfAhkiAAAAc5JREFU\nSInt1k+IjVEYx/HPnTvuMDWlkYZQ/mShRNJYGQuZne6k2GhiZ2NB2cysJGUjJQsbCyWkEErMFPkb\nTRZqUsLEjKZkoZRohjIW50wdZ66muXe6Fvzq1Hme87zvt3Oe5zzvy19UoQ6MFdiOcbThJp7XgQuO\nJ/MCLk4aDXWAd2FtnE/g6+RCsQ7wBlxFC9pxAR8rBb5CN5ZgPrbhDtbUAG8TjvotPmDrnwInsvEd\n+2sAt+AamjEXR/AZy6ExC36PfizEG5zFyxrgnXiAb9E+HJmbMJzD32FfDbBcQyhnviIGmLrz2dYg\nbuMERtEk1NAIU5vMU9zCAvzAKvTgdRLTJRTieuxFK3bFtc04Ft8xYw1hWWJ3C9diUbRLOBnnz/AY\nh5JN9Ah1U5XyplMUiuVUtDuxM8I+4UoW3ytpIrOhkThgMeZhnXAVO7LYS3hSDeQhHlXwj2Is8x0U\nTqSU+OYId7i3GvgXlb82Y0LnS3UDdzNfGT+FBlLC0umAaY77hCpOtUG4HuezZ7bgfha7B/cwjB1Y\nPR08VbtQQM3RLuCckMOmJG6jyvkexAFh12dU8a/QgcsReh1HhZ6cqowXfs837BYaymmsnCn4v/4N\n/QIVeFpdz2KAyQAAAABJRU5ErkJggg==\n",
      "text/latex": [
       "$$5 n^{8}$$"
      ],
      "text/plain": [
       "   8\n",
       "5⋅n "
      ]
     },
     "metadata": {},
     "output_type": "display_data"
    },
    {
     "data": {
      "text/plain": [
       "' is: '"
      ]
     },
     "metadata": {},
     "output_type": "display_data"
    },
    {
     "data": {
      "image/png": "iVBORw0KGgoAAAANSUhEUgAAAAwAAAASCAYAAABvqT8MAAAABHNCSVQICAgIfAhkiAAAANtJREFU\nKJHN0r0uhEEUxvGf9VWItTYahSgQPYV2SxfBBbiAbfSidSE60e4trASNjghZGiHbEFnFzpscb84W\nOqd5cp6Z/5nJzMMfa6rWb+MU9xhhBV0MMngJjzgI3jFuMJcBJ3jBTPDa+MJRBtzhIvGv0auaRtFF\nbOEhAZ6wWwfWi74nwBBNzEegWfRzAgCtCHwXHSXAbNHpCLwmG6taKPoRgUGZvjwBeKsDQ/SxlgCb\nuKqaRli4xJ7fcdkoQ86zu66Wow+Dd4ZbIRoxBs/oGEdkx/gz29iXP/d/qR8UhCWn2ReXCwAAAABJ\nRU5ErkJggg==\n",
      "text/latex": [
       "$$0$$"
      ],
      "text/plain": [
       "0"
      ]
     },
     "metadata": {},
     "output_type": "display_data"
    },
    {
     "data": {
      "text/plain": [
       "'The differential of'"
      ]
     },
     "metadata": {},
     "output_type": "display_data"
    },
    {
     "data": {
      "image/png": "iVBORw0KGgoAAAANSUhEUgAAAB8AAAAXCAYAAADz/ZRUAAAABHNCSVQICAgIfAhkiAAAAchJREFU\nSInt1M+LzVEYx/HXNeMOY3HlV4SILCyYxkT5MUqxHRElTfwBFpTUyErKlixsLJQsFAs2fhQRYmGh\npORHMrr5kZSaaKKMxTm3jnO/dZvv6NrMp07f7/Oc5/t9n3Oe5zz8R3W0gbEGx7EEg/iCD23gqkXY\nqmjPw1tMaQd8J8bQmfg+YqM2rGAkPquJrxs9RfCXQl4WYia24jZWloTfxVOsi/b6yKwVBY9l4ycO\nlAQ3VMNB7EEvPmE/VLLAYdzCXLzGebyYILwibATmoI5lCir+3gRBRapjQ3w/hlONic7C8H+r0+jD\nFszAkcZEfuyPcR2z8QvLMYRXScx2oRB7hNzNwu44twkn4z/GrTdYnNiD+Iz50a7GncATPMThZBND\neF8GTPPV68APnIn2NuyKsK+4ksUfxfey8CINxwELMB2rhQruz2Iv4VEZyH08KPDXMZr5Dgknknau\nqfgm7H7cGhG6Ua5RofOluoY7mW8Av7E0LmpRK2Ca45tCFafqRRcuZt9s1twT9gnt9B12YEUreKq1\nQgF1R7uCC0IOu5K4PsX5fia00SrOab7GLdWPyxF6FScwLYsZwHN/5xv24gbOCu1zUpNq0h+q2VUy\nr9AoqgAAAABJRU5ErkJggg==\n",
      "text/latex": [
       "$$5 n^{9}$$"
      ],
      "text/plain": [
       "   9\n",
       "5⋅n "
      ]
     },
     "metadata": {},
     "output_type": "display_data"
    },
    {
     "data": {
      "text/plain": [
       "' is: '"
      ]
     },
     "metadata": {},
     "output_type": "display_data"
    },
    {
     "data": {
      "image/png": "iVBORw0KGgoAAAANSUhEUgAAAAwAAAASCAYAAABvqT8MAAAABHNCSVQICAgIfAhkiAAAANtJREFU\nKJHN0r0uhEEUxvGf9VWItTYahSgQPYV2SxfBBbiAbfSidSE60e4trASNjghZGiHbEFnFzpscb84W\nOqd5cp6Z/5nJzMMfa6rWb+MU9xhhBV0MMngJjzgI3jFuMJcBJ3jBTPDa+MJRBtzhIvGv0auaRtFF\nbOEhAZ6wWwfWi74nwBBNzEegWfRzAgCtCHwXHSXAbNHpCLwmG6taKPoRgUGZvjwBeKsDQ/SxlgCb\nuKqaRli4xJ7fcdkoQ86zu66Wow+Dd4ZbIRoxBs/oGEdkx/gz29iXP/d/qR8UhCWn2ReXCwAAAABJ\nRU5ErkJggg==\n",
      "text/latex": [
       "$$0$$"
      ],
      "text/plain": [
       "0"
      ]
     },
     "metadata": {},
     "output_type": "display_data"
    },
    {
     "data": {
      "text/plain": [
       "'The differential of'"
      ]
     },
     "metadata": {},
     "output_type": "display_data"
    },
    {
     "data": {
      "image/png": "iVBORw0KGgoAAAANSUhEUgAAACYAAAAXCAYAAABnGz2mAAAABHNCSVQICAgIfAhkiAAAAeBJREFU\nSInt1U2ITWEcx/HPcN1BlNcyeWm8lhKJ2RklZjtSbJjYKBuFbMZOKWvNgjSLKSymWLDxUmRCLKYo\nkdeFkZQyIS9NKWPxPLqPc47VveduzG91fv/nOafvec7v/z/855qJS1iSqW9EH/ahHyuaCbUfxzGO\n9qRexQjaou/AcDPB/igL1oWniW/BNyyFSU3Dyqsdo4kfxyesIQ/2Aj1YiFnYhptYXQLYPPzI1MaE\nPKpkFlbhfOJ/4gielQD2Rfh8qWbgYxHYW9zAfLzCQElQ8BwHEl/BbKEhchoqCYJ8+Ct4rzZCtuDh\nv24eKgFoD85EsEEcTNa24qwwxwaEKCH/jR/gKuYK+VqOXrxM9mwXmmJdfOAc7Iprm3AyPqOheo3F\nie/BByyIvopT8XoY93BU7QV7hZw2XNnxMVlo6b7ou7AzgowKv5lUx/C9DLAijah1ShumYa2Qmc7M\n3kHcbzTAHdwtqL8TBl+qw8JJVpPaFHwWTq2h+opHBfUx4Y+Q6gpuZWrd+CWMhCoW1QOTZuq60G2p\n1qMVFzL3bJYfLXtxG2+wAyvrAUvVIYR5evQtOCdkpjXZt0Fxvh7jkHBa/fKjqC514mIEuowTmJrZ\n040n/s4X7MY1nMayRkJNaEJl6DcPxFtuGHtougAAAABJRU5ErkJggg==\n",
      "text/latex": [
       "$$5 n^{10}$$"
      ],
      "text/plain": [
       "   10\n",
       "5⋅n  "
      ]
     },
     "metadata": {},
     "output_type": "display_data"
    },
    {
     "data": {
      "text/plain": [
       "' is: '"
      ]
     },
     "metadata": {},
     "output_type": "display_data"
    },
    {
     "data": {
      "image/png": "iVBORw0KGgoAAAANSUhEUgAAAAwAAAASCAYAAABvqT8MAAAABHNCSVQICAgIfAhkiAAAANtJREFU\nKJHN0r0uhEEUxvGf9VWItTYahSgQPYV2SxfBBbiAbfSidSE60e4trASNjghZGiHbEFnFzpscb84W\nOqd5cp6Z/5nJzMMfa6rWb+MU9xhhBV0MMngJjzgI3jFuMJcBJ3jBTPDa+MJRBtzhIvGv0auaRtFF\nbOEhAZ6wWwfWi74nwBBNzEegWfRzAgCtCHwXHSXAbNHpCLwmG6taKPoRgUGZvjwBeKsDQ/SxlgCb\nuKqaRli4xJ7fcdkoQ86zu66Wow+Dd4ZbIRoxBs/oGEdkx/gz29iXP/d/qR8UhCWn2ReXCwAAAABJ\nRU5ErkJggg==\n",
      "text/latex": [
       "$$0$$"
      ],
      "text/plain": [
       "0"
      ]
     },
     "metadata": {},
     "output_type": "display_data"
    },
    {
     "data": {
      "text/plain": [
       "'The differential of'"
      ]
     },
     "metadata": {},
     "output_type": "display_data"
    },
    {
     "data": {
      "image/png": "iVBORw0KGgoAAAANSUhEUgAAACUAAAAXCAYAAACMLIalAAAABHNCSVQICAgIfAhkiAAAAZZJREFU\nSInt1TtoVEEUxvFffGxUEIISUNSwKCnSRETSJVbaRgRtYtDGTkHBJnaCECzFwhQpAmIhaKGND1AU\nFS0sAiEgUQsVGwtBEGVRSCxmwNnJou4yWQLmDwNzHvfMd+eemct/zEbcRE+TsSXjBM5jAdUmYm3h\nTwvXxVa1QUzT5KLmMIpt6MJ+PEBfm3XVsZCNHzhZsHb1X2JrsuAH3Ec33mAKrwqJapnHS1h7WTX6\nUUzE+UWc+lusIyvwAnewGT+xC2N4neQcFA7AbhzHJhyJsUGMxxrFeIsdiT2KT9gS7QouxflLPMNZ\nv19uTOjLouSfczW+43K0D+BwFPFZ+D2knMO30qIa8T4O2Ir16BeacyjLvY7nJRd/gqcN/B9Ry3xn\nhB2sJL61+CLsVjG+YrqBvybc9Cm38TDzDWNeONoVbG9VSNpD94RTlbIHnbiWPbPP4jvtGB7hHQ6h\nt1VRKQNC426IdgeuCj3SmeTt1bifZnBa2KVJi6+blhnCjSjmFi5gXZYzjFn1/QQjuIsr2FlK0Aor\nlOAX6CdRnsVsni0AAAAASUVORK5CYII=\n",
      "text/latex": [
       "$$5 n^{11}$$"
      ],
      "text/plain": [
       "   11\n",
       "5⋅n  "
      ]
     },
     "metadata": {},
     "output_type": "display_data"
    },
    {
     "data": {
      "text/plain": [
       "' is: '"
      ]
     },
     "metadata": {},
     "output_type": "display_data"
    },
    {
     "data": {
      "image/png": "iVBORw0KGgoAAAANSUhEUgAAAAwAAAASCAYAAABvqT8MAAAABHNCSVQICAgIfAhkiAAAANtJREFU\nKJHN0r0uhEEUxvGf9VWItTYahSgQPYV2SxfBBbiAbfSidSE60e4trASNjghZGiHbEFnFzpscb84W\nOqd5cp6Z/5nJzMMfa6rWb+MU9xhhBV0MMngJjzgI3jFuMJcBJ3jBTPDa+MJRBtzhIvGv0auaRtFF\nbOEhAZ6wWwfWi74nwBBNzEegWfRzAgCtCHwXHSXAbNHpCLwmG6taKPoRgUGZvjwBeKsDQ/SxlgCb\nuKqaRli4xJ7fcdkoQ86zu66Wow+Dd4ZbIRoxBs/oGEdkx/gz29iXP/d/qR8UhCWn2ReXCwAAAABJ\nRU5ErkJggg==\n",
      "text/latex": [
       "$$0$$"
      ],
      "text/plain": [
       "0"
      ]
     },
     "metadata": {},
     "output_type": "display_data"
    },
    {
     "data": {
      "text/plain": [
       "'The differential of'"
      ]
     },
     "metadata": {},
     "output_type": "display_data"
    },
    {
     "data": {
      "image/png": "iVBORw0KGgoAAAANSUhEUgAAACYAAAAXCAYAAABnGz2mAAAABHNCSVQICAgIfAhkiAAAAeNJREFU\nSInt1U+ITlEYx/HP688MYhLJyJ8mspCiSWJhxoadRopZMLEgG4pJaeyUkpSSBQsLhcUUCxb+hQix\nsFBS8qcM2VgoNdFEGYtzNMd5Lxbvfd+U+dXt3ue5z7nne5/znOfwn2sKLmJe5l+BXhzETXQ2EmpH\nnHgYbYl/Mo4kdje+YHajwH4qB1uC71gQ7ZYY091YrGqwirCUlWgvjjHtRYNfoEdI51SswS0sqgNY\nrnM49qfB6fUVu0qA+hvYdhw1kj3jsoB3uIEZeIUzeF4S2O+0Lt73YwJaMZCDvcHOOoOkWo2ZuBKB\nVuIDBvLAu3WYfAtOCUvZj93RPx+DqsunhWRNox7hKqbjm7CV+/AyiVkvbIql2IZp2BTfrcLh+I1S\n9RpzE7tHSG1rtJtwPD4/xgPsM/KDfUKdlq4xmT1W6MYnor0WGyPIR+GYSXUAn+sBVqS38YJZmCh0\n7WF0ZLH9eFg2wD3cL/C/x1Dm2ytksinxjccnIWulahBPCvxDwomQ6jJuZ74u4exrE4Dn1AKT1tR1\nYbelakczzmdjOlW3lq24I/SgDVhYC1iq5UIxT4p2BWeFmmlO4pYprq+n2CNk67TqVlSTOnAhAl3C\nIeGYSNWFZ36tL9iMazgpNM9Rjeqf1g9fJ2GHMIKSxAAAAABJRU5ErkJggg==\n",
      "text/latex": [
       "$$5 n^{12}$$"
      ],
      "text/plain": [
       "   12\n",
       "5⋅n  "
      ]
     },
     "metadata": {},
     "output_type": "display_data"
    },
    {
     "data": {
      "text/plain": [
       "' is: '"
      ]
     },
     "metadata": {},
     "output_type": "display_data"
    },
    {
     "data": {
      "image/png": "iVBORw0KGgoAAAANSUhEUgAAAAwAAAASCAYAAABvqT8MAAAABHNCSVQICAgIfAhkiAAAANtJREFU\nKJHN0r0uhEEUxvGf9VWItTYahSgQPYV2SxfBBbiAbfSidSE60e4trASNjghZGiHbEFnFzpscb84W\nOqd5cp6Z/5nJzMMfa6rWb+MU9xhhBV0MMngJjzgI3jFuMJcBJ3jBTPDa+MJRBtzhIvGv0auaRtFF\nbOEhAZ6wWwfWi74nwBBNzEegWfRzAgCtCHwXHSXAbNHpCLwmG6taKPoRgUGZvjwBeKsDQ/SxlgCb\nuKqaRli4xJ7fcdkoQ86zu66Wow+Dd4ZbIRoxBs/oGEdkx/gz29iXP/d/qR8UhCWn2ReXCwAAAABJ\nRU5ErkJggg==\n",
      "text/latex": [
       "$$0$$"
      ],
      "text/plain": [
       "0"
      ]
     },
     "metadata": {},
     "output_type": "display_data"
    },
    {
     "data": {
      "text/plain": [
       "'The differential of'"
      ]
     },
     "metadata": {},
     "output_type": "display_data"
    },
    {
     "data": {
      "image/png": "iVBORw0KGgoAAAANSUhEUgAAACYAAAAXCAYAAABnGz2mAAAABHNCSVQICAgIfAhkiAAAAdxJREFU\nSInt1U+IjlEUBvDfZ5jxt8SGUIMUJUJkYWbFTiM1NkxsZEMRFiMbpSQbkiwoC2lSFDZYECEUIrGg\nCSMpRfmTaULG4lx5584ni3l9zWKeunXOuc+973NP55yXQYq6Gn1nHDpwF58K8ea0lmA7PuNFjTTZ\niD3oRWO29x4bkr0G3eIRNUU1YXMxJtmt+G6QCCuiA7t/O8OyzWdowxSMx3JcwZxSJfbFQuzEVxz8\nG6k3W9+wuSQB/8rYJjzA2GqbXTiGczig3EzlwpbiHaYnf3bitMLw7PBLobwW+IGneJv8GaL4H1UT\n9j+wDsuSvR+3cAT3cQJb8DNxVqITKtkld3ARE4X6mWjH8wJnlWiK+WIGTRAzSLp8X7qjVHRiWsFv\nE3UwKfn1OJTse+L1O/x5YDtely2K/uOjTkzjw8lfIYqzgg84m/F3ibavCbrSgskYhXmig5oy7mnc\nLlvADdysEn+Dniy2TWSyvhAbgY8ia6XiCx5WifeIP0IRF3A1i7WI7moUgqcOREyxpi6LbitiARpw\nKjvTjOsZdz2u4RVWY9ZAhBWxWBTz6ORXcFLUTEOBt0j1+nqMrSJbx/UfRQNCE84kQeexFyMzTgue\n6FtfsBaXcFRM8SEMYVDjFxubY3cESCUpAAAAAElFTkSuQmCC\n",
      "text/latex": [
       "$$5 n^{13}$$"
      ],
      "text/plain": [
       "   13\n",
       "5⋅n  "
      ]
     },
     "metadata": {},
     "output_type": "display_data"
    },
    {
     "data": {
      "text/plain": [
       "' is: '"
      ]
     },
     "metadata": {},
     "output_type": "display_data"
    },
    {
     "data": {
      "image/png": "iVBORw0KGgoAAAANSUhEUgAAAAwAAAASCAYAAABvqT8MAAAABHNCSVQICAgIfAhkiAAAANtJREFU\nKJHN0r0uhEEUxvGf9VWItTYahSgQPYV2SxfBBbiAbfSidSE60e4trASNjghZGiHbEFnFzpscb84W\nOqd5cp6Z/5nJzMMfa6rWb+MU9xhhBV0MMngJjzgI3jFuMJcBJ3jBTPDa+MJRBtzhIvGv0auaRtFF\nbOEhAZ6wWwfWi74nwBBNzEegWfRzAgCtCHwXHSXAbNHpCLwmG6taKPoRgUGZvjwBeKsDQ/SxlgCb\nuKqaRli4xJ7fcdkoQ86zu66Wow+Dd4ZbIRoxBs/oGEdkx/gz29iXP/d/qR8UhCWn2ReXCwAAAABJ\nRU5ErkJggg==\n",
      "text/latex": [
       "$$0$$"
      ],
      "text/plain": [
       "0"
      ]
     },
     "metadata": {},
     "output_type": "display_data"
    },
    {
     "data": {
      "text/plain": [
       "'The differential of'"
      ]
     },
     "metadata": {},
     "output_type": "display_data"
    },
    {
     "data": {
      "image/png": "iVBORw0KGgoAAAANSUhEUgAAACYAAAAXCAYAAABnGz2mAAAABHNCSVQICAgIfAhkiAAAAc9JREFU\nSInt1U2IjWEUwPHf+LjjIxGp8ZnIlA1JdjNYkI2uFJsxsZGVfGQzdkpZKCULkoXCYooFyVeRG2Jh\noaTkY4FsLJQSjRQW5y1Pz9y5yrzv3Zh/vfWe85x7+79P5zkP/znTcBkLW9QcR097dIJdOIxfWDRC\nzVp8xLq2GGWMJDYde9GQiI1rh9Ff2I0zeTIXe4l+zMMMrMcdLKtIqo6b+J4vTMjiblxI4h84gBcV\nSM0VH/+82WIu9h63MRuvca4iKdiILgwUcTf6MBXX8+JGRRK0PpXwVotT2ShVJdiO00JsEHuy9fk4\nhiFcwyboyIoe4wZmif5aIrb6VVKzWRyKFdiJmdhWrPXgaPEfpfIGC5K4Xwy+riKu4UTx/gQPcdCf\nDxwQfVo6+fgYj284WcQbsLUQ+SSumZRD+FqFWDPeFQ/MwWQsFz3Tm9UO4lHZAvfxoEn+g2jMlP1i\nJ2tJbiI+i10rlS942iQ/JG6ElKu4m+Xq+ClGQk2ctn8m7alb4rSlrEQnLma/WWP4aNmBe2IebcHS\n0YilrBbNPKWIO3Be9ExnUrdK8/56hn1it84aPopGRS8uFUJXcASTspq6uN9qWb5PXMinsLhMqTHG\nqILfkixVa/CYcr4AAAAASUVORK5CYII=\n",
      "text/latex": [
       "$$5 n^{14}$$"
      ],
      "text/plain": [
       "   14\n",
       "5⋅n  "
      ]
     },
     "metadata": {},
     "output_type": "display_data"
    },
    {
     "data": {
      "text/plain": [
       "' is: '"
      ]
     },
     "metadata": {},
     "output_type": "display_data"
    },
    {
     "data": {
      "image/png": "iVBORw0KGgoAAAANSUhEUgAAAAwAAAASCAYAAABvqT8MAAAABHNCSVQICAgIfAhkiAAAANtJREFU\nKJHN0r0uhEEUxvGf9VWItTYahSgQPYV2SxfBBbiAbfSidSE60e4trASNjghZGiHbEFnFzpscb84W\nOqd5cp6Z/5nJzMMfa6rWb+MU9xhhBV0MMngJjzgI3jFuMJcBJ3jBTPDa+MJRBtzhIvGv0auaRtFF\nbOEhAZ6wWwfWi74nwBBNzEegWfRzAgCtCHwXHSXAbNHpCLwmG6taKPoRgUGZvjwBeKsDQ/SxlgCb\nuKqaRli4xJ7fcdkoQ86zu66Wow+Dd4ZbIRoxBs/oGEdkx/gz29iXP/d/qR8UhCWn2ReXCwAAAABJ\nRU5ErkJggg==\n",
      "text/latex": [
       "$$0$$"
      ],
      "text/plain": [
       "0"
      ]
     },
     "metadata": {},
     "output_type": "display_data"
    },
    {
     "data": {
      "text/plain": [
       "'The differential of'"
      ]
     },
     "metadata": {},
     "output_type": "display_data"
    },
    {
     "data": {
      "image/png": "iVBORw0KGgoAAAANSUhEUgAAACYAAAAXCAYAAABnGz2mAAAABHNCSVQICAgIfAhkiAAAAeVJREFU\nSInt1k+IjVEYx/HPNdxBKflTZGgiSsqkSVnMWI3tSNhwY2NBFhSLsVNTspRkI5QsFAs2/hSRv4tJ\nSkr+LNCULJQSJmQszrk5c+57S+a9szHfeus8z3ne9/7ep9953st/zixcwpIsfwY/MYIhdNc3pk6A\nqF3owGYczPbexb0K3k+AlkJG0ZnlDjcrntJKJX/BDOzBNpzGqmaFL1DDIsxGH25iZQkiijpWQzWu\n++LvFzZrNLu+Y28JopoJSz3eGWu68g2CGW9gPl7hLJ6XJCxnHW5hHr4JJxd+FBXfaZEIGjvWYaz5\nd+NBPZiIcbEdPXF9FPdxAsN4LIyQNqzApvpNlewhj3AVc4WWLsMAXiY1GwWjdmEn5mBr3OvBkfiM\nUnmNxUlcwwcsiHEVx+J6SHj7A/684IDg09LJj2obvuJ4jDdgSxTyUfjMpBzCl1YIK+JtvGChMBRX\nC2buzWov4GHZAu7iXkF+WPjIpuwXOllNctPwSehaqXzGk4L8iDCRU64IMyilH7+EkVAVxsE/k3rq\nunDaUtagHeeze9ZrnHk7cBtvhGO/fDzCUtYKZp4Z4wrOCZ5pT+q6FfvrKfYJ3TqlcRSNi15cjIIu\nYxDTs5p+PDPWX4R/CNdwEkvLFDXJJK3gN4ajXEY+6lNFAAAAAElFTkSuQmCC\n",
      "text/latex": [
       "$$5 n^{15}$$"
      ],
      "text/plain": [
       "   15\n",
       "5⋅n  "
      ]
     },
     "metadata": {},
     "output_type": "display_data"
    },
    {
     "data": {
      "text/plain": [
       "' is: '"
      ]
     },
     "metadata": {},
     "output_type": "display_data"
    },
    {
     "data": {
      "image/png": "iVBORw0KGgoAAAANSUhEUgAAAAwAAAASCAYAAABvqT8MAAAABHNCSVQICAgIfAhkiAAAANtJREFU\nKJHN0r0uhEEUxvGf9VWItTYahSgQPYV2SxfBBbiAbfSidSE60e4trASNjghZGiHbEFnFzpscb84W\nOqd5cp6Z/5nJzMMfa6rWb+MU9xhhBV0MMngJjzgI3jFuMJcBJ3jBTPDa+MJRBtzhIvGv0auaRtFF\nbOEhAZ6wWwfWi74nwBBNzEegWfRzAgCtCHwXHSXAbNHpCLwmG6taKPoRgUGZvjwBeKsDQ/SxlgCb\nuKqaRli4xJ7fcdkoQ86zu66Wow+Dd4ZbIRoxBs/oGEdkx/gz29iXP/d/qR8UhCWn2ReXCwAAAABJ\nRU5ErkJggg==\n",
      "text/latex": [
       "$$0$$"
      ],
      "text/plain": [
       "0"
      ]
     },
     "metadata": {},
     "output_type": "display_data"
    },
    {
     "data": {
      "text/plain": [
       "'The differential of'"
      ]
     },
     "metadata": {},
     "output_type": "display_data"
    },
    {
     "data": {
      "image/png": "iVBORw0KGgoAAAANSUhEUgAAACYAAAAXCAYAAABnGz2mAAAABHNCSVQICAgIfAhkiAAAAfJJREFU\nSInt1k+ITlEYBvDfGL5BlDBFQzMRxYI0WagZWZCFDIoN07CwUBaUzcyKUrKUZGOhJCkWbBjlX8go\nC5KSPwmRJEWiaZSxOGeaM2fulJo7X7OYp26d9znvPfe553vOcz/GKWqr9JyZuIBH+JHNdWAzlmId\neqqkyV4cQT+asrk9OB7HTejD3OrIGkQurIKvaEy4RQODydXRVIg1wu40ogXN6MbbouaXaEcDZmE9\nbmJZCULyHdsZudZYz8B3LBjp5vTqw/4SRBUJ2xS5aQn3GfsY/lN+wA3U4zXO4kVJwnI8jcLSZOgv\n0ATujpGIgYc2ZdxtbIzjeiFKGqiO+XcJ5iZEwwOcivVuHMZywcdb8QlqskV6cA1z8AeL0YlXSc8W\n4VCsjAvPxo4414JjcY1S8QYLk7odXzAv1hWciOPHwtsfMviCnYJPS8ekrK7Fb5yM9QZsj0K+4XLW\n34VfYyGsCO/jBfOF473C0AwawEU8LFvAPdwv4D+iN+MOCjtZSbgpQkB2lS3sJ54U8L3CFyHFVdzK\nuDb8FSKhYoQE/1+knuoWTluKVajD+eyetYZnXgfu4B22YclohKVYLZh5eqxrcE7wTF3S16zYX89w\nQNitM4ZH0ajQiktR0BUcxdSspw3PDfUX4aN8Haclf18mMIHxin+KwGENwlmttAAAAABJRU5ErkJg\ngg==\n",
      "text/latex": [
       "$$5 n^{16}$$"
      ],
      "text/plain": [
       "   16\n",
       "5⋅n  "
      ]
     },
     "metadata": {},
     "output_type": "display_data"
    },
    {
     "data": {
      "text/plain": [
       "' is: '"
      ]
     },
     "metadata": {},
     "output_type": "display_data"
    },
    {
     "data": {
      "image/png": "iVBORw0KGgoAAAANSUhEUgAAAAwAAAASCAYAAABvqT8MAAAABHNCSVQICAgIfAhkiAAAANtJREFU\nKJHN0r0uhEEUxvGf9VWItTYahSgQPYV2SxfBBbiAbfSidSE60e4trASNjghZGiHbEFnFzpscb84W\nOqd5cp6Z/5nJzMMfa6rWb+MU9xhhBV0MMngJjzgI3jFuMJcBJ3jBTPDa+MJRBtzhIvGv0auaRtFF\nbOEhAZ6wWwfWi74nwBBNzEegWfRzAgCtCHwXHSXAbNHpCLwmG6taKPoRgUGZvjwBeKsDQ/SxlgCb\nuKqaRli4xJ7fcdkoQ86zu66Wow+Dd4ZbIRoxBs/oGEdkx/gz29iXP/d/qR8UhCWn2ReXCwAAAABJ\nRU5ErkJggg==\n",
      "text/latex": [
       "$$0$$"
      ],
      "text/plain": [
       "0"
      ]
     },
     "metadata": {},
     "output_type": "display_data"
    },
    {
     "data": {
      "text/plain": [
       "'The differential of'"
      ]
     },
     "metadata": {},
     "output_type": "display_data"
    },
    {
     "data": {
      "image/png": "iVBORw0KGgoAAAANSUhEUgAAACYAAAAXCAYAAABnGz2mAAAABHNCSVQICAgIfAhkiAAAAdFJREFU\nSInt1k+oTVEUx/HP8+c+lBIR+ZM/UUokmcgzYmDypJjwYiITipi8N1NKhjLwBoqSgWLAxJ8iQgwM\nlJT8KbxeyeCViF4UBnu/7rGcewfuuXfi/WrXWWuvdfqevdde+/CfazquYFHwD+NTGIOdgtqHY/iF\nxQX/XBzBMizJc4OY1SmwMUWweQFiFzaMGRM6w1SqDxjJz/OxAo8aBb9EXw6cgc24jZUVgMQVK+qc\ntJ1Nk4vjOw5UANUMbA6GonNSsIdwC7PxGufxoiKwRtqqvqUNwd5if5tBolbhW3R2ovh3q/emkzgY\n5j/jVUzqCvZjXJeO8Q+px/SHxG3SoViDvZiJnXluI07kd1SqN1hYsPvwUWqGUMOp/PwED3FU/QP7\nlRRyFYpbO1Ha/9PZ3oIdGWREumaKGsDXdoCV6X0epG49Faul498TYi9p0iT/VffxoMQ/jNHgOyyt\nZK3gmyxdwgNVg33B0xL/qHQjFHUNd4KvFz+lJlrDglZgijV1UzptRa1FNy6GnE24F2L34C7eYTuW\ntwJW1HqpmKdluwsXpJrpLsStU15fz3BIWq2z/m5FLakHlzPQVRzHlBDTi+f+rC/Sb8sNnMHSKqHG\nNa526DdyYVpRDXcPBgAAAABJRU5ErkJggg==\n",
      "text/latex": [
       "$$5 n^{17}$$"
      ],
      "text/plain": [
       "   17\n",
       "5⋅n  "
      ]
     },
     "metadata": {},
     "output_type": "display_data"
    },
    {
     "data": {
      "text/plain": [
       "' is: '"
      ]
     },
     "metadata": {},
     "output_type": "display_data"
    },
    {
     "data": {
      "image/png": "iVBORw0KGgoAAAANSUhEUgAAAAwAAAASCAYAAABvqT8MAAAABHNCSVQICAgIfAhkiAAAANtJREFU\nKJHN0r0uhEEUxvGf9VWItTYahSgQPYV2SxfBBbiAbfSidSE60e4trASNjghZGiHbEFnFzpscb84W\nOqd5cp6Z/5nJzMMfa6rWb+MU9xhhBV0MMngJjzgI3jFuMJcBJ3jBTPDa+MJRBtzhIvGv0auaRtFF\nbOEhAZ6wWwfWi74nwBBNzEegWfRzAgCtCHwXHSXAbNHpCLwmG6taKPoRgUGZvjwBeKsDQ/SxlgCb\nuKqaRli4xJ7fcdkoQ86zu66Wow+Dd4ZbIRoxBs/oGEdkx/gz29iXP/d/qR8UhCWn2ReXCwAAAABJ\nRU5ErkJggg==\n",
      "text/latex": [
       "$$0$$"
      ],
      "text/plain": [
       "0"
      ]
     },
     "metadata": {},
     "output_type": "display_data"
    },
    {
     "data": {
      "text/plain": [
       "'The differential of'"
      ]
     },
     "metadata": {},
     "output_type": "display_data"
    },
    {
     "data": {
      "image/png": "iVBORw0KGgoAAAANSUhEUgAAACYAAAAXCAYAAABnGz2mAAAABHNCSVQICAgIfAhkiAAAAe5JREFU\nSInt1U+ITWEYx/HPuNxhakokhBpkoeRPYjVjIbOxuFJsGGxkY0HZzKyQkpKSsJmFkqQobPwp8jd/\nUtSkhIkZTWGhaKKJwuI9k9c7x2zuuTeL+dWp93nOc875nvf8nufwn6pUp+c04ywe4UuUn4stWIq1\nGMSHOjHZjn34hZbk3OFo3SDA1115YK+wKIq7hxfj6wA0mk7gKY7iM47/q/AlOjALk7EGN7CwAIi8\nHZsufL43eI/Vo10cH9+xswCoPLBmXEQTJmK/sGstjPyU73Ad0/Aap/CiILBU7biDb1m8N+NZib4U\n7C121AgkVS8qSa6Ex9TH/JvRmq0P4b5g8h5cxREMoFHwcz9hdsR6iCuYih+Yj06hrYe1TmiKJdiG\nKdiYnWvFwewehaoXc6K4Ax8xI4vLQmvDE+Ht9/jzgp2CTwvXuCQuCeY8lsXt2JCBfMKFpL4LX2sB\nlqf+7ICZmITFQvu3JbXn8KBogLu4l5MfwFCS2y3sZDnKTRDmUFfRYIN4lpMfEv4IsS7jZpKr4Kcw\nIMuYXQ1M7KlrQrfFWia08ZnkmlW4ndRuxS30YT0WVAMWa4Vg5qYsbsBpwTONUd1y+f7qwS5ht7qN\nHEVVqQ3nM6BLOCD8x2JV8Nzf/oJNwsA8iXlFQo1pTLXQb1glZJ6MJerIAAAAAElFTkSuQmCC\n",
      "text/latex": [
       "$$5 n^{18}$$"
      ],
      "text/plain": [
       "   18\n",
       "5⋅n  "
      ]
     },
     "metadata": {},
     "output_type": "display_data"
    },
    {
     "data": {
      "text/plain": [
       "' is: '"
      ]
     },
     "metadata": {},
     "output_type": "display_data"
    },
    {
     "data": {
      "image/png": "iVBORw0KGgoAAAANSUhEUgAAAAwAAAASCAYAAABvqT8MAAAABHNCSVQICAgIfAhkiAAAANtJREFU\nKJHN0r0uhEEUxvGf9VWItTYahSgQPYV2SxfBBbiAbfSidSE60e4trASNjghZGiHbEFnFzpscb84W\nOqd5cp6Z/5nJzMMfa6rWb+MU9xhhBV0MMngJjzgI3jFuMJcBJ3jBTPDa+MJRBtzhIvGv0auaRtFF\nbOEhAZ6wWwfWi74nwBBNzEegWfRzAgCtCHwXHSXAbNHpCLwmG6taKPoRgUGZvjwBeKsDQ/SxlgCb\nuKqaRli4xJ7fcdkoQ86zu66Wow+Dd4ZbIRoxBs/oGEdkx/gz29iXP/d/qR8UhCWn2ReXCwAAAABJ\nRU5ErkJggg==\n",
      "text/latex": [
       "$$0$$"
      ],
      "text/plain": [
       "0"
      ]
     },
     "metadata": {},
     "output_type": "display_data"
    },
    {
     "data": {
      "text/plain": [
       "'The differential of'"
      ]
     },
     "metadata": {},
     "output_type": "display_data"
    },
    {
     "data": {
      "image/png": "iVBORw0KGgoAAAANSUhEUgAAACYAAAAXCAYAAABnGz2mAAAABHNCSVQICAgIfAhkiAAAAfFJREFU\nSInt1U2IT1EYx/HPzDDDSCMkr5nIwoJpvJWXsTLbEVFiwsLKLCibwYaUhQ1ZWLCRJEVhgwURQiyU\nbEgymrwkRRNNlLE4Z3Lm/O9u7n9YzK9u9zzPec6933vu8zyH/1R1I/SeibiAx/iW+JfgMOaiE5/x\nfoSY7MIhDKA58TdFkEXRnoY3qB0psEHlYBujb0zi+4DV/AO6RH3xXp/4GtFCJdhL4V/PwiSswy0s\nrALYHTzDimivjDxNRcED2fUTXSWB5L9ShNiDLWjFR+woWtyD07iCY8rdqSKwmmQ8Ff2YWbT4bokg\nuYrAerEqjg/i+OBE3sd24mzJQNuwG8swA9PxJM7VCm2iHRNwAL8ZupXwCNcxBb8wH914lcSsF4qi\nRciHydgc59bgaHxGqXqNOYndiU/CVxJK+0QcP8UD7PP3A7vxrmwoKttHHX7gZLTbsSmCfMHlLH4/\nvlcDrEg98SLkyHgsFpK5LYu9iIdlA9zD/QJ/r1DGqfYKO5l27bH4KuxaqeoTOnGufuFESHUNtzNf\nh1BRzQLw7OHApDl1U6i2VK1owPlszVqVPW+7cMy8xQYsGA5YquVCMjdGuwbnhJxpSOKWKs6v58Lx\nUo8zKlvRsNSGSxHoKo5gXBbTgReG5hdsxQ2cwrwyoUY1qmroD5/nXm/xj6q9AAAAAElFTkSuQmCC\n",
      "text/latex": [
       "$$5 n^{19}$$"
      ],
      "text/plain": [
       "   19\n",
       "5⋅n  "
      ]
     },
     "metadata": {},
     "output_type": "display_data"
    },
    {
     "data": {
      "text/plain": [
       "' is: '"
      ]
     },
     "metadata": {},
     "output_type": "display_data"
    },
    {
     "data": {
      "image/png": "iVBORw0KGgoAAAANSUhEUgAAAAwAAAASCAYAAABvqT8MAAAABHNCSVQICAgIfAhkiAAAANtJREFU\nKJHN0r0uhEEUxvGf9VWItTYahSgQPYV2SxfBBbiAbfSidSE60e4trASNjghZGiHbEFnFzpscb84W\nOqd5cp6Z/5nJzMMfa6rWb+MU9xhhBV0MMngJjzgI3jFuMJcBJ3jBTPDa+MJRBtzhIvGv0auaRtFF\nbOEhAZ6wWwfWi74nwBBNzEegWfRzAgCtCHwXHSXAbNHpCLwmG6taKPoRgUGZvjwBeKsDQ/SxlgCb\nuKqaRli4xJ7fcdkoQ86zu66Wow+Dd4ZbIRoxBs/oGEdkx/gz29iXP/d/qR8UhCWn2ReXCwAAAABJ\nRU5ErkJggg==\n",
      "text/latex": [
       "$$0$$"
      ],
      "text/plain": [
       "0"
      ]
     },
     "metadata": {},
     "output_type": "display_data"
    },
    {
     "data": {
      "text/plain": [
       "'The differential of'"
      ]
     },
     "metadata": {},
     "output_type": "display_data"
    },
    {
     "data": {
      "image/png": "iVBORw0KGgoAAAANSUhEUgAAACYAAAAXCAYAAABnGz2mAAAABHNCSVQICAgIfAhkiAAAAhxJREFU\nSInt1UuIz1EUB/DPmDGDkHcmjzwypURikvJIKAsNillILCxsFFKMLJWsJAslC4WFYsHGo4gQaYry\nyDMhkTIeDVLKWJyruX7ztzH/mWYx37rd37n3/O7v+zvne86lh6KyG74xB41Yht14lQbMRhNGYTMe\n4WM3cDIQ+zK7Ed8xBtWJYG3aq0dzd5CC6fiFyckejLZEcCkeZr4V+IqJ0KeLid3HXLxI9rg0P8ME\ntGS+bfiEaaWIPcE6EeohWIJLmPqfxNpwO82EnvbjLkaItOb4gUFQVdiow/HM/oltQpSdxUa8w85k\nfxHpyzEQH0oRe42LGCnCfbRMpJaneQf6YTQeY1PmU4Wh2iv2L1wtA4kiFopojU5jpdBdFd5ifPJb\nhDv/OqTcxCahVWgsH4PT/mIcxgaRnbo/LxZzfAvnMFzoa7IQ7NPMZ4UoihnpwGFYk/bmYW86o6x4\nrr2kiQp9L1JANMUD6bkZN7Bd+w82CZ2WHcX2USlK+mCyl2J1ItKC0wX/XfjWFcRKIb/batFfdPQ2\nzC/4nsTNchO4husl1t+Ixpdjq4hkdbbWF59F1MqKVtGRi/ghboQcZ3G5sNYg7sUJgvDYzpDJNXVB\nVFuOmajBicI7C3RsLetxBS+xClM6QyxHvRDzgGRX4JjQTE3mN0tpfd3DFhGtIzq2ok5hPk4lQmew\nR1whORrwwN/6grU4j0OisfaiFz0avwGeM2y9/6QiWAAAAABJRU5ErkJggg==\n",
      "text/latex": [
       "$$5 n^{20}$$"
      ],
      "text/plain": [
       "   20\n",
       "5⋅n  "
      ]
     },
     "metadata": {},
     "output_type": "display_data"
    },
    {
     "data": {
      "text/plain": [
       "' is: '"
      ]
     },
     "metadata": {},
     "output_type": "display_data"
    },
    {
     "data": {
      "image/png": "iVBORw0KGgoAAAANSUhEUgAAAAwAAAASCAYAAABvqT8MAAAABHNCSVQICAgIfAhkiAAAANtJREFU\nKJHN0r0uhEEUxvGf9VWItTYahSgQPYV2SxfBBbiAbfSidSE60e4trASNjghZGiHbEFnFzpscb84W\nOqd5cp6Z/5nJzMMfa6rWb+MU9xhhBV0MMngJjzgI3jFuMJcBJ3jBTPDa+MJRBtzhIvGv0auaRtFF\nbOEhAZ6wWwfWi74nwBBNzEegWfRzAgCtCHwXHSXAbNHpCLwmG6taKPoRgUGZvjwBeKsDQ/SxlgCb\nuKqaRli4xJ7fcdkoQ86zu66Wow+Dd4ZbIRoxBs/oGEdkx/gz29iXP/d/qR8UhCWn2ReXCwAAAABJ\nRU5ErkJggg==\n",
      "text/latex": [
       "$$0$$"
      ],
      "text/plain": [
       "0"
      ]
     },
     "metadata": {},
     "output_type": "display_data"
    },
    {
     "data": {
      "text/plain": [
       "'The differential of'"
      ]
     },
     "metadata": {},
     "output_type": "display_data"
    },
    {
     "data": {
      "image/png": "iVBORw0KGgoAAAANSUhEUgAAACUAAAAXCAYAAACMLIalAAAABHNCSVQICAgIfAhkiAAAAeFJREFU\nSInt1U+IjVEYx/HP9WcGMWkkI3+ayELKNEkszNiw00gxCyYWZEMxKY2dUpJSsmBhobCYYsHCvxAh\nFhZKSv6UP9lYKDXRRLkW59Qc574z5fZ2U+ZXb/f+nvPc9/3e533Oc/hPtQr9OIzb6M7WZ+AyFjYK\naDqOJb4X3zEv+l0CbBXtjYJajl9YHH1LBOjN8hoKVRFeXyX6ZRGg82+gXqFPKO9MrMMdLC0J8gJO\nFMTHhKpm1w/sKQloJ44bqdqoUJOyxY+4hdl4g3N4WQLQhvh5EFPQhvejJedQ77C7BIhUazEH1yLM\nanweCyrX/ZKBFmFIbVu0xPVtOBNjg9hL7ft9guuYhZ/CVh7A6yRno7ABOrADrdgS19bgaLxHaXqL\nBYnvE0rdFn0TTsbvT/EIB4z8uQGhL0vVhMxPFCbwqejXY3OE+CIcD6kO4VvZUEX6EC+Yi6nCpK6i\nK8sdxOMyH/4ADwvinzCcxfYLFWxKYpPxVahWaRrCs4L4sDDpU13F3SzWI5xz7QLs/HpB0h66Keyq\nVJ1oxsXsN91qx8d23BPmzyYsqRcq1UqhcadFX8F5oUeak7wVivvpOfYJVTqr+DipS124FGGu4Ihw\nLKTqwQt/9hNsxQ2cFobmuMb1z+g35+Jhh18nA30AAAAASUVORK5CYII=\n",
      "text/latex": [
       "$$5 n^{21}$$"
      ],
      "text/plain": [
       "   21\n",
       "5⋅n  "
      ]
     },
     "metadata": {},
     "output_type": "display_data"
    },
    {
     "data": {
      "text/plain": [
       "' is: '"
      ]
     },
     "metadata": {},
     "output_type": "display_data"
    },
    {
     "data": {
      "image/png": "iVBORw0KGgoAAAANSUhEUgAAAAwAAAASCAYAAABvqT8MAAAABHNCSVQICAgIfAhkiAAAANtJREFU\nKJHN0r0uhEEUxvGf9VWItTYahSgQPYV2SxfBBbiAbfSidSE60e4trASNjghZGiHbEFnFzpscb84W\nOqd5cp6Z/5nJzMMfa6rWb+MU9xhhBV0MMngJjzgI3jFuMJcBJ3jBTPDa+MJRBtzhIvGv0auaRtFF\nbOEhAZ6wWwfWi74nwBBNzEegWfRzAgCtCHwXHSXAbNHpCLwmG6taKPoRgUGZvjwBeKsDQ/SxlgCb\nuKqaRli4xJ7fcdkoQ86zu66Wow+Dd4ZbIRoxBs/oGEdkx/gz29iXP/d/qR8UhCWn2ReXCwAAAABJ\nRU5ErkJggg==\n",
      "text/latex": [
       "$$0$$"
      ],
      "text/plain": [
       "0"
      ]
     },
     "metadata": {},
     "output_type": "display_data"
    },
    {
     "data": {
      "text/plain": [
       "'The differential of'"
      ]
     },
     "metadata": {},
     "output_type": "display_data"
    },
    {
     "data": {
      "image/png": "iVBORw0KGgoAAAANSUhEUgAAACYAAAAXCAYAAABnGz2mAAAABHNCSVQICAgIfAhkiAAAAc5JREFU\nSInt1k+IT1EUB/DPz5+ZIQ2xMEJNZCFFk0QYNuw0UlhoYqFsLCibsZ6SlJKFBTssFIWFPwuiIRYW\nSjakGNlYKDXRRPlZnDt5836/5sncn2Yx37r1zvmed+/3nXvuuY8pitp/WGMjNmM+tmAQQ3/BtRTz\ncLpg78d3LK3gWo61+IWVye5EPYmYiGs5amK7xkpmTVq8p4JrwBv0i3QuwA48wOpMQq/g7D9w6qXx\nA0cziTqMM5ofuIk4MIyLuJkCc2VqV1ocOtBdxc0qTfAeRzKJGcN2LMYddGETPuNDBTcOjzOLWoER\njSXSWcE17Olz3MUi/BRHeQBvCzG7xaFYh0NYiH2J24pTaY6seIflBbtfpLYr2W04l55f4ClO+POB\nA/iYWxTMKNkzRTc+n+yd2JuEfMGNUvxJfGuFsGYYTgOWYI7o2nX0lmKv4VluAUN40sT/CaMl33GR\nybaCbza+iqxlxQheNvGPihuhiNt4WPL1ibuvWwheNhkxxZq6L05bET1ox9XSO9s0tpaDeCR60B6s\nmoywIjaIYp6b7Boui5ppL8St17y+XuGYyNYlmf/1enE9Cbolftw6SjF9eG18fcEB3MMF0TynMY0p\njd/3D2hyEykzbwAAAABJRU5ErkJggg==\n",
      "text/latex": [
       "$$5 n^{22}$$"
      ],
      "text/plain": [
       "   22\n",
       "5⋅n  "
      ]
     },
     "metadata": {},
     "output_type": "display_data"
    },
    {
     "data": {
      "text/plain": [
       "' is: '"
      ]
     },
     "metadata": {},
     "output_type": "display_data"
    },
    {
     "data": {
      "image/png": "iVBORw0KGgoAAAANSUhEUgAAAAwAAAASCAYAAABvqT8MAAAABHNCSVQICAgIfAhkiAAAANtJREFU\nKJHN0r0uhEEUxvGf9VWItTYahSgQPYV2SxfBBbiAbfSidSE60e4trASNjghZGiHbEFnFzpscb84W\nOqd5cp6Z/5nJzMMfa6rWb+MU9xhhBV0MMngJjzgI3jFuMJcBJ3jBTPDa+MJRBtzhIvGv0auaRtFF\nbOEhAZ6wWwfWi74nwBBNzEegWfRzAgCtCHwXHSXAbNHpCLwmG6taKPoRgUGZvjwBeKsDQ/SxlgCb\nuKqaRli4xJ7fcdkoQ86zu66Wow+Dd4ZbIRoxBs/oGEdkx/gz29iXP/d/qR8UhCWn2ReXCwAAAABJ\nRU5ErkJggg==\n",
      "text/latex": [
       "$$0$$"
      ],
      "text/plain": [
       "0"
      ]
     },
     "metadata": {},
     "output_type": "display_data"
    },
    {
     "data": {
      "text/plain": [
       "'The differential of'"
      ]
     },
     "metadata": {},
     "output_type": "display_data"
    },
    {
     "data": {
      "image/png": "iVBORw0KGgoAAAANSUhEUgAAACYAAAAXCAYAAABnGz2mAAAABHNCSVQICAgIfAhkiAAAAglJREFU\nSInt1k2IT2EUx/HP38vMeB2xMELGTIqIhkSYYcFOIzUsNLFQNhTFgiyVpJQsLExJSIpCeVsQDbGQ\nSCxoipGUokQ0mTIW55lcd/6zmmuaxfzq1nPOPffc7z3PeZ77MERVGoR3LMMKVGMlDqE93WvCLFRi\nDc7gziAwGY8jGXszfmJ6sj9jWxpvSvcmDAbYQvxGfbInoicBwgKMS+MWdA8WWElMZW/LzE9gDWVi\nL+Bgf4leo1WUehLWijmfVxDoORzL+RZjH9owtr8He3LXL+wsCGo7jup/we3AU9GXfdSJU7iSkhRV\nqfUJDKpQi+X4hNnJP1cUowVG5RK8TeRFajWm4gZqMkDdeIWPKa4u+Z6XAytadbiu7/RU4xtOY5dY\nuatEZTvoO9+PcRNTBH099uNNJmaDWBSLxB40WexBUvLDKUeh6sDMjN0qyl6T7AocT+MneIi9/n7g\nfrwvGgpG5OyRYjc+kex1ojlL+ILLufgD+PE/wMqpM10wDWPEjt6DxlzsRTwqGqAdD8r4P6Ar59sj\nKlmR8Y3GV1G1QvUdz8r4u8QfIatruJvzNYvVVSuAZwwEJttTt8Vqy6pBHEnO555pwv1c7Fbcwzts\nxJyBgGW1VDRz7/+qhLOiZyozcUuU768X2C2q1abgs14jLiWgq+JQV5WLacZL//YXbMEtnBQb67CG\nNaT1B5IsZM4tfXcFAAAAAElFTkSuQmCC\n",
      "text/latex": [
       "$$5 n^{23}$$"
      ],
      "text/plain": [
       "   23\n",
       "5⋅n  "
      ]
     },
     "metadata": {},
     "output_type": "display_data"
    },
    {
     "data": {
      "text/plain": [
       "' is: '"
      ]
     },
     "metadata": {},
     "output_type": "display_data"
    },
    {
     "data": {
      "image/png": "iVBORw0KGgoAAAANSUhEUgAAAAwAAAASCAYAAABvqT8MAAAABHNCSVQICAgIfAhkiAAAANtJREFU\nKJHN0r0uhEEUxvGf9VWItTYahSgQPYV2SxfBBbiAbfSidSE60e4trASNjghZGiHbEFnFzpscb84W\nOqd5cp6Z/5nJzMMfa6rWb+MU9xhhBV0MMngJjzgI3jFuMJcBJ3jBTPDa+MJRBtzhIvGv0auaRtFF\nbOEhAZ6wWwfWi74nwBBNzEegWfRzAgCtCHwXHSXAbNHpCLwmG6taKPoRgUGZvjwBeKsDQ/SxlgCb\nuKqaRli4xJ7fcdkoQ86zu66Wow+Dd4ZbIRoxBs/oGEdkx/gz29iXP/d/qR8UhCWn2ReXCwAAAABJ\nRU5ErkJggg==\n",
      "text/latex": [
       "$$0$$"
      ],
      "text/plain": [
       "0"
      ]
     },
     "metadata": {},
     "output_type": "display_data"
    },
    {
     "data": {
      "text/plain": [
       "'The differential of'"
      ]
     },
     "metadata": {},
     "output_type": "display_data"
    },
    {
     "data": {
      "image/png": "iVBORw0KGgoAAAANSUhEUgAAACYAAAAXCAYAAABnGz2mAAAABHNCSVQICAgIfAhkiAAAAgZJREFU\nSInt1U+IjVEYx/HPNcz4FyJ1MUojSmSaJIkxFGWhi2IWmsbC0oKSaWSpJKVkYWOhsFAsSBhFboiF\nhZKSPwsmGwulJpooY3HONOe+9zab+95pFvOt0/s+5zzv+/7e5zzneZikNE3ANzahG7txGl/jyHIB\nvzE4AZrMxbnE7o4fX5bx68J3bB+dmNZgYW3ow8poD2AWtiQ+89GO9w3WUkFB2MpCtNdiBB2Jz0m0\noCyJWJYP6BFCvQA78RhrchJ6XcilUUpYF+/HFTaSGX9wNCdRR3DeWPSWojdZrxA2PfPwIB5hMT7h\nqnz2fk+89mEmitgRr/1xbTUOYQ7uZ19QzkFEli4hWsU49mFzDb8vxtnKcs6i2jCkOkXmJT6twhYP\n454Y3YJKXuEBFuGvcMz78THx2SscinYcxkIcjGtbcTa+I1c+Y3li9wiFrxjtZlyM96/xAieM/WC/\nBlXubMFtEir1pWjvwoEo5AduZ/xP4VcjhNUi7W1LhMq9XsiVzozvTbzMW8AzPK8x/01IzJTjQiSb\nk7kZ+ClELVeG8KbG/LDQEVLu4klmroR/WCEIbq1HTJpTA8JpS+kQ+tiNzDPbVJeWXjwV6tF+rKpH\nWMpGIZlnR7uAa0LOtCR+G9TOr7c4JkTriupSVBeduBUF3cEZoYWklPBOZX4R2slDXBYK6xRTTGr+\nAwQWYxOCGn6mAAAAAElFTkSuQmCC\n",
      "text/latex": [
       "$$5 n^{24}$$"
      ],
      "text/plain": [
       "   24\n",
       "5⋅n  "
      ]
     },
     "metadata": {},
     "output_type": "display_data"
    },
    {
     "data": {
      "text/plain": [
       "' is: '"
      ]
     },
     "metadata": {},
     "output_type": "display_data"
    },
    {
     "data": {
      "image/png": "iVBORw0KGgoAAAANSUhEUgAAAAwAAAASCAYAAABvqT8MAAAABHNCSVQICAgIfAhkiAAAANtJREFU\nKJHN0r0uhEEUxvGf9VWItTYahSgQPYV2SxfBBbiAbfSidSE60e4trASNjghZGiHbEFnFzpscb84W\nOqd5cp6Z/5nJzMMfa6rWb+MU9xhhBV0MMngJjzgI3jFuMJcBJ3jBTPDa+MJRBtzhIvGv0auaRtFF\nbOEhAZ6wWwfWi74nwBBNzEegWfRzAgCtCHwXHSXAbNHpCLwmG6taKPoRgUGZvjwBeKsDQ/SxlgCb\nuKqaRli4xJ7fcdkoQ86zu66Wow+Dd4ZbIRoxBs/oGEdkx/gz29iXP/d/qR8UhCWn2ReXCwAAAABJ\nRU5ErkJggg==\n",
      "text/latex": [
       "$$0$$"
      ],
      "text/plain": [
       "0"
      ]
     },
     "metadata": {},
     "output_type": "display_data"
    },
    {
     "data": {
      "text/plain": [
       "'The differential of'"
      ]
     },
     "metadata": {},
     "output_type": "display_data"
    },
    {
     "data": {
      "image/png": "iVBORw0KGgoAAAANSUhEUgAAACYAAAAXCAYAAABnGz2mAAAABHNCSVQICAgIfAhkiAAAAg1JREFU\nSInt1k2IT1EYx/HPGGaMvOUlI9RkoqRMmoSYsRk7jRQWmlgoJQtEGrspJZGShY1QWCgWlNcQIRaT\nFCIved/MQokwIWNxzr85rmv1vzMp863bOc85z73393/+z/Ocy3/MXGxGBy6jOdk7jB/oRica+0vU\ncOxK7JX4gknR7kAtJvaXoBKz8BP10R6JHkFgSVgug/pUFg8wHy+iPSWOz+JYg/VYhUOY+bcHPUGb\nEOrRaMEVzChI6DHsTew2VMV5S3x/brB6Mtc3bChI1FrsRkWyNjiZ18V3NmQ34A0uYbwQ7iN4XICo\nJXHchqFCwtfiKsbhK0ZEn+95wl5iXQFCUhZhAs5FMfPQhbfYE0XBAtzGozxhRTMVZ4W2kTIKH3EX\nW1GJ6VhWcqjI3HAH5zFWCGk92vE08VkqJGoD1mAMVsS9hdgZn1Eoz/WWNKFquoS/gFBB++K8E7ew\nRe8PbBfytHCypVopdOr90V6M5VHIe5zK+G/H574QlsfreBGOjhqho/egKeN7QkjgQrmBmznr74RD\nNmWTEMmqZG0IPghRK5RPuJez3i105JQzQg9KaRXOxTpB8ORyxKQ5dVGotpTZqMbxzD3NuJ7xXY1r\neCWU/bRyhKXMEZJ5WLQrcFTImerEr1F+ft3HRiFaB/3ZisqiCSejoNPYIRwhKa146Pf8InwhXMAB\nobEOMMA/zS+2x2TLPrS7PAAAAABJRU5ErkJggg==\n",
      "text/latex": [
       "$$5 n^{25}$$"
      ],
      "text/plain": [
       "   25\n",
       "5⋅n  "
      ]
     },
     "metadata": {},
     "output_type": "display_data"
    },
    {
     "data": {
      "text/plain": [
       "' is: '"
      ]
     },
     "metadata": {},
     "output_type": "display_data"
    },
    {
     "data": {
      "image/png": "iVBORw0KGgoAAAANSUhEUgAAAAwAAAASCAYAAABvqT8MAAAABHNCSVQICAgIfAhkiAAAANtJREFU\nKJHN0r0uhEEUxvGf9VWItTYahSgQPYV2SxfBBbiAbfSidSE60e4trASNjghZGiHbEFnFzpscb84W\nOqd5cp6Z/5nJzMMfa6rWb+MU9xhhBV0MMngJjzgI3jFuMJcBJ3jBTPDa+MJRBtzhIvGv0auaRtFF\nbOEhAZ6wWwfWi74nwBBNzEegWfRzAgCtCHwXHSXAbNHpCLwmG6taKPoRgUGZvjwBeKsDQ/SxlgCb\nuKqaRli4xJ7fcdkoQ86zu66Wow+Dd4ZbIRoxBs/oGEdkx/gz29iXP/d/qR8UhCWn2ReXCwAAAABJ\nRU5ErkJggg==\n",
      "text/latex": [
       "$$0$$"
      ],
      "text/plain": [
       "0"
      ]
     },
     "metadata": {},
     "output_type": "display_data"
    },
    {
     "data": {
      "text/plain": [
       "'The differential of'"
      ]
     },
     "metadata": {},
     "output_type": "display_data"
    },
    {
     "data": {
      "image/png": "iVBORw0KGgoAAAANSUhEUgAAACYAAAAXCAYAAABnGz2mAAAABHNCSVQICAgIfAhkiAAAAhdJREFU\nSInt1l9oj1EYB/DPjG20Rmw1Mdbkws2kJWEjRS5oKFxIo9woF0hpu1aSIrlwgVK4UFxww5R/jbhw\nQSj5k5BCUrRoTZmLc9bv7N17obxbu/Ct0znPc57znu/7nOd5zmGMomwU9liEJZiMpTiAnmS+A7Pw\nCTU4OgqcVONQIm/GT8yI8vZkvhH9qB0NYs34jTlRrsFAJFiBL5id2DcNDsaPMLGnWIw3UW6I/auo\nr43EWtGC7sR2CF5gq+DqKViJG5hXENFzOBLHWwTvtUW5Gt8wM2/hQKb1Y1dBpHbgsFLCrYl7TExs\nPmInw4/yPa6jTnD3GTwvgNTa2O9HFerxOBIrT+wGcjiBOwWQyGK54K362NYL8QW3sDqO6/BdKWNH\nlFgTeg0PkZo434DT2IuTWDG4MFtgH+AqpuGXkOadeJnYrBOSYj62YSo2xblWHIzfKBSvlVKakKGf\nhSMg1J5jcfwQ97BP6Qc7hTgtHOMycrlQqY9HeRU2RiJfcSlj34UfI0EsD+9ig+lCejcbWoMGcQH3\niybQg7s5+g/oy+j2CJ6sSHQThALZVTSxXjzK0fcJN0KKK7iZ0bUL92KjQDi3gv8t0pjqFrItxQJU\n4nxmzTLDS0sHbuMtNmDuvxBLsVAI5klRLsNZIWYqE7sW+fH1BLsFb51S8FuvDRcjocvCo64qY9OO\nZ4bGF+FSvoYTkufLf/zHWMUffIJpNa7dMfcAAAAASUVORK5CYII=\n",
      "text/latex": [
       "$$5 n^{26}$$"
      ],
      "text/plain": [
       "   26\n",
       "5⋅n  "
      ]
     },
     "metadata": {},
     "output_type": "display_data"
    },
    {
     "data": {
      "text/plain": [
       "' is: '"
      ]
     },
     "metadata": {},
     "output_type": "display_data"
    },
    {
     "data": {
      "image/png": "iVBORw0KGgoAAAANSUhEUgAAAAwAAAASCAYAAABvqT8MAAAABHNCSVQICAgIfAhkiAAAANtJREFU\nKJHN0r0uhEEUxvGf9VWItTYahSgQPYV2SxfBBbiAbfSidSE60e4trASNjghZGiHbEFnFzpscb84W\nOqd5cp6Z/5nJzMMfa6rWb+MU9xhhBV0MMngJjzgI3jFuMJcBJ3jBTPDa+MJRBtzhIvGv0auaRtFF\nbOEhAZ6wWwfWi74nwBBNzEegWfRzAgCtCHwXHSXAbNHpCLwmG6taKPoRgUGZvjwBeKsDQ/SxlgCb\nuKqaRli4xJ7fcdkoQ86zu66Wow+Dd4ZbIRoxBs/oGEdkx/gz29iXP/d/qR8UhCWn2ReXCwAAAABJ\nRU5ErkJggg==\n",
      "text/latex": [
       "$$0$$"
      ],
      "text/plain": [
       "0"
      ]
     },
     "metadata": {},
     "output_type": "display_data"
    },
    {
     "data": {
      "text/plain": [
       "'The differential of'"
      ]
     },
     "metadata": {},
     "output_type": "display_data"
    },
    {
     "data": {
      "image/png": "iVBORw0KGgoAAAANSUhEUgAAACYAAAAXCAYAAABnGz2mAAAABHNCSVQICAgIfAhkiAAAAftJREFU\nSInt1k2IT2EUx/HPeJkZmowIo6EGWYhokgjDhoXSSGGhiYVSsiBK7JSSlJIFC0WhKBaU1yIaYmGh\npOSlMM3GYkpEE2UsziPXM39jMXemWcyvbveec89z7/c+zznnPgxRVQ3COxZjKeqxDIfQnu51oi6L\nv4gdAw1VhyMFexO+oREN2INZmIEmnMLEgYaC+fiZXg7j0JMAp2YQm8XMDoqqxFL+Tpm5Caw5i2vE\nwb4e9AptKXA8VuEu5pQEeh7HKvjPiOX8p3qy4zt2lgS1DUf1LrjJ6MiDR2V2B+5gEt7gLF6WALU2\nnfehViT+++Rbg67/gb3D9hJAilqJKbiRgJbgYwFsnqjUPsHK1kxc17tX1ReuP+N1PjBf7ye4Kcr4\nhyjz/dnAdaIoFmArJmBjurcch9MzStVbTC/YbWLaG5JdjePp+ikeYa8/H7hfhUQuQyMye6RY/xPJ\nXo0NCaQLV7L4A/g6EGCV9CEdRLceIzp6D1qy2Et4XDZAOx5W8HeiO/PtFjNZXfCNxicxa6XqC55V\n8HeLP0JR13Av87WK/2KTAJ7WH5hiTt0W1VZUM2pwIRuzAg+y2C24L/rTeszuD1hRi0Qyj012Fc6J\nnKkpxC1UOb+eY5eYrdNK3uu14HICuio2dbVZTCte+Du/iG3LLZwUjXVYwxrS+gXvslzw0bNN2AAA\nAABJRU5ErkJggg==\n",
      "text/latex": [
       "$$5 n^{27}$$"
      ],
      "text/plain": [
       "   27\n",
       "5⋅n  "
      ]
     },
     "metadata": {},
     "output_type": "display_data"
    },
    {
     "data": {
      "text/plain": [
       "' is: '"
      ]
     },
     "metadata": {},
     "output_type": "display_data"
    },
    {
     "data": {
      "image/png": "iVBORw0KGgoAAAANSUhEUgAAAAwAAAASCAYAAABvqT8MAAAABHNCSVQICAgIfAhkiAAAANtJREFU\nKJHN0r0uhEEUxvGf9VWItTYahSgQPYV2SxfBBbiAbfSidSE60e4trASNjghZGiHbEFnFzpscb84W\nOqd5cp6Z/5nJzMMfa6rWb+MU9xhhBV0MMngJjzgI3jFuMJcBJ3jBTPDa+MJRBtzhIvGv0auaRtFF\nbOEhAZ6wWwfWi74nwBBNzEegWfRzAgCtCHwXHSXAbNHpCLwmG6taKPoRgUGZvjwBeKsDQ/SxlgCb\nuKqaRli4xJ7fcdkoQ86zu66Wow+Dd4ZbIRoxBs/oGEdkx/gz29iXP/d/qR8UhCWn2ReXCwAAAABJ\nRU5ErkJggg==\n",
      "text/latex": [
       "$$0$$"
      ],
      "text/plain": [
       "0"
      ]
     },
     "metadata": {},
     "output_type": "display_data"
    },
    {
     "data": {
      "text/plain": [
       "'The differential of'"
      ]
     },
     "metadata": {},
     "output_type": "display_data"
    },
    {
     "data": {
      "image/png": "iVBORw0KGgoAAAANSUhEUgAAACYAAAAXCAYAAABnGz2mAAAABHNCSVQICAgIfAhkiAAAAhhJREFU\nSInt1k+IjWEUx/HPNcwMDSPSEGqQhciE/AlDid00UlhILJSNBaU0YyMpiZQsbCwUkqJQ/hZhiGSh\npORPzGhKFkpEjDIW55m83rlWXjeL+dXbved5zvPe7z3POed5+E9VqsBvzMdC1GMR9qAjzU1CC76h\nARfxqAJM6rAvY6/FF4xP9oHMXAmnKgEFM/EDU5I9Ar0JEJ5jRsb/aKXASmIr+1JmegKbleyt6MF+\n7ETTn170DOtFqEdiOa5jWkGgJ3AwYzeI7XuFt1j2p4W9uacHWwqC2iQi0xe94TiHYajFbnxAIwzO\nLX6DaxiDFziGpwVAtaTPHQliLGbjtigG2JV45qEzD/YamwsAyWqp2LJLCWgB3uElWnO+VXhA/4gV\nrcmiN9XlxuvxEVdEznWjRuRzF/0b7H1cxmh8F2XeJsq6TytFUTRhI0ZhTZpbjL3pHYXqJSZm7PUi\n7GOTXY1D6ftD3MV2v/5gm8jTwjUoZ1eJ5Dyc7BVYnUDe42zOvx2f/wVYOXWlB8ZhqOjovWjO+Z7G\nvaIBOnCnzHg3vubGtolIVmfGhog+1F402CflT/av4kTI6gJu5MZaxbnYKIAn/A1MNqeuimrLapYo\n45O5NUtwK+e7ATfRiVWY+jdgWc0VyTws2SUcFzlTk/Gbo3x+PRaHcrW4JRR612vGmQR0XlzqanM+\nrXji9/yCdaJhHhGNdUAD+q/1ExT6aCqrbcTVAAAAAElFTkSuQmCC\n",
      "text/latex": [
       "$$5 n^{28}$$"
      ],
      "text/plain": [
       "   28\n",
       "5⋅n  "
      ]
     },
     "metadata": {},
     "output_type": "display_data"
    },
    {
     "data": {
      "text/plain": [
       "' is: '"
      ]
     },
     "metadata": {},
     "output_type": "display_data"
    },
    {
     "data": {
      "image/png": "iVBORw0KGgoAAAANSUhEUgAAAAwAAAASCAYAAABvqT8MAAAABHNCSVQICAgIfAhkiAAAANtJREFU\nKJHN0r0uhEEUxvGf9VWItTYahSgQPYV2SxfBBbiAbfSidSE60e4trASNjghZGiHbEFnFzpscb84W\nOqd5cp6Z/5nJzMMfa6rWb+MU9xhhBV0MMngJjzgI3jFuMJcBJ3jBTPDa+MJRBtzhIvGv0auaRtFF\nbOEhAZ6wWwfWi74nwBBNzEegWfRzAgCtCHwXHSXAbNHpCLwmG6taKPoRgUGZvjwBeKsDQ/SxlgCb\nuKqaRli4xJ7fcdkoQ86zu66Wow+Dd4ZbIRoxBs/oGEdkx/gz29iXP/d/qR8UhCWn2ReXCwAAAABJ\nRU5ErkJggg==\n",
      "text/latex": [
       "$$0$$"
      ],
      "text/plain": [
       "0"
      ]
     },
     "metadata": {},
     "output_type": "display_data"
    },
    {
     "data": {
      "text/plain": [
       "'The differential of'"
      ]
     },
     "metadata": {},
     "output_type": "display_data"
    },
    {
     "data": {
      "image/png": "iVBORw0KGgoAAAANSUhEUgAAACYAAAAXCAYAAABnGz2mAAAABHNCSVQICAgIfAhkiAAAAhRJREFU\nSInt1U+ITlEYx/HPmDHDkBEShkxkYcE0Jmkw/hRlofEnJkksLC0oqZlmJSUpmSws2GGhKJSwIEIs\nFIWNP8lo8icpNdFEeS3OmeZ451q9d95mMb863eec+5xzv/ec53kOI1SVZfjGMrRjA7rQExsswWHM\nxS58xccyMJmIY0m/HT9Rj7oIsii+m453GFMOsMX4g/mxPwmFCLg12lWJ/yesUAa6F2gRdgLmxOcb\n9EW7OvGvRWPWQq+Es67HZKzDbSzMCfQ8TkS7Ck+xJvZbImxn1sRCUfuFfTlB7cVxVCRjddiPHWjC\nZ+zJmtyDM7gSF8lrpzZGMBiHhminkNPQj1lZC9zLCSTV6gg1I7bNwrFBL5ZHuwsnByalGTEcmofr\nQtlIVRef3WjGWkzAoQGHiqIJj3EDU/FbSPMOvE58NglJ0SjEwxRsj+9W4mhcI1e9NZjShAz9IhwB\nIbW7o/0ED3HQ4A924EPeUAyta5VCpT4V++uxLYJ8w+Ui/078GA6wLKV320yMFyp6Aa1FvhfxKG+A\n+3iQMd4rpHGqA8JOplV7LL77T4EsRX14ljHeL9wIqa7hTtFYm3AvNgjAs0uBSWPqlpBtqZpQgwtF\nc1YZWvN24y7eYwsWlAKWaqkQzLWxX4FzQszUJH7NsuPruXC9VOOsoaWoJLXiUgS6iiPCFZKqDS/9\nG1+wEzdxWiisoxrViNZfhLtivlNzKZMAAAAASUVORK5CYII=\n",
      "text/latex": [
       "$$5 n^{29}$$"
      ],
      "text/plain": [
       "   29\n",
       "5⋅n  "
      ]
     },
     "metadata": {},
     "output_type": "display_data"
    },
    {
     "data": {
      "text/plain": [
       "' is: '"
      ]
     },
     "metadata": {},
     "output_type": "display_data"
    },
    {
     "data": {
      "image/png": "iVBORw0KGgoAAAANSUhEUgAAAAwAAAASCAYAAABvqT8MAAAABHNCSVQICAgIfAhkiAAAANtJREFU\nKJHN0r0uhEEUxvGf9VWItTYahSgQPYV2SxfBBbiAbfSidSE60e4trASNjghZGiHbEFnFzpscb84W\nOqd5cp6Z/5nJzMMfa6rWb+MU9xhhBV0MMngJjzgI3jFuMJcBJ3jBTPDa+MJRBtzhIvGv0auaRtFF\nbOEhAZ6wWwfWi74nwBBNzEegWfRzAgCtCHwXHSXAbNHpCLwmG6taKPoRgUGZvjwBeKsDQ/SxlgCb\nuKqaRli4xJ7fcdkoQ86zu66Wow+Dd4ZbIRoxBs/oGEdkx/gz29iXP/d/qR8UhCWn2ReXCwAAAABJ\nRU5ErkJggg==\n",
      "text/latex": [
       "$$0$$"
      ],
      "text/plain": [
       "0"
      ]
     },
     "metadata": {},
     "output_type": "display_data"
    },
    {
     "data": {
      "text/plain": [
       "'The differential of'"
      ]
     },
     "metadata": {},
     "output_type": "display_data"
    },
    {
     "data": {
      "image/png": "iVBORw0KGgoAAAANSUhEUgAAACYAAAAXCAYAAABnGz2mAAAABHNCSVQICAgIfAhkiAAAAh9JREFU\nSInt1kuIjlEYB/DfZ/jGtYRELo1bKBFmZGEmZCykEY2SBjsLFGExslHKwoYsLCgLWSgKG5dyC7EY\nl4hEk4xEyi2DJspYnKM5vd+3+775sph/nTrPc55z3v953uf5vy//Kaoq8IyGOBZgJ77hVVyrRStG\nYxue43MFOIGP2BTna/ETw5BHB8bGtTq0VYoUzMKQOG/G70isEc+SuBy+YxL0qwCxp/gR52uwD52o\nwackrhtfhIsUEHuBFozDcCzDVcwskdw87I4ED0XfKOG1pugSslmA7sz4ha0lkkqxGQ8wFFtwJbP+\nHsuLbezAMZzDQaVnaiE+iHWDGcKFm7EUj5PY/kLGphc76GaJRLKoxXVUR3uF8BamRiLvMDGuLcHD\nlGVv4j5OCBr1B4uwEu1xfQP24i4WY92/jbnMQfdwESOFtp4iCODLJGaV0BRzBH0aIeiT+OAD8Yyy\noh0TErtFqJEx0c7jcJy34Q526blgK96UmxSF8lEltPSRaDcKhZsTNOhsJn6PHs3qdXTEQfh8DMJs\nobvqM7GnhXopK27hdhH/W6GNU+wQMplPfAPwVchaWdGJR0X8XcIXIcUFXMv4moTOqxEIjy+FTFpT\nl4VuSzFX0KBTmT0NCjVvI27gNVZjWinEUtQJxTw42jmcFGqmOombr3h9PcF2IVvHFUpRSajHmUjo\nPPZjYCamSfhjyGf863EJRzG5nKT60IfewF+hk2zkQvx5qAAAAABJRU5ErkJggg==\n",
      "text/latex": [
       "$$5 n^{30}$$"
      ],
      "text/plain": [
       "   30\n",
       "5⋅n  "
      ]
     },
     "metadata": {},
     "output_type": "display_data"
    },
    {
     "data": {
      "text/plain": [
       "' is: '"
      ]
     },
     "metadata": {},
     "output_type": "display_data"
    },
    {
     "data": {
      "image/png": "iVBORw0KGgoAAAANSUhEUgAAAAwAAAASCAYAAABvqT8MAAAABHNCSVQICAgIfAhkiAAAANtJREFU\nKJHN0r0uhEEUxvGf9VWItTYahSgQPYV2SxfBBbiAbfSidSE60e4trASNjghZGiHbEFnFzpscb84W\nOqd5cp6Z/5nJzMMfa6rWb+MU9xhhBV0MMngJjzgI3jFuMJcBJ3jBTPDa+MJRBtzhIvGv0auaRtFF\nbOEhAZ6wWwfWi74nwBBNzEegWfRzAgCtCHwXHSXAbNHpCLwmG6taKPoRgUGZvjwBeKsDQ/SxlgCb\nuKqaRli4xJ7fcdkoQ86zu66Wow+Dd4ZbIRoxBs/oGEdkx/gz29iXP/d/qR8UhCWn2ReXCwAAAABJ\nRU5ErkJggg==\n",
      "text/latex": [
       "$$0$$"
      ],
      "text/plain": [
       "0"
      ]
     },
     "metadata": {},
     "output_type": "display_data"
    }
   ],
   "source": [
    "# Answer 5\n",
    "n=Symbol('n')\n",
    "c= 5*n**0\n",
    "for k in range(1,32):\n",
    "    dc= c.diff(n,k+1)\n",
    "    display (\"The differential of\",c )\n",
    "    display(\" is: \",dc)\n",
    "    c=c*n\n",
    "   \n",
    "\n"
   ]
  },
  {
   "cell_type": "markdown",
   "metadata": {},
   "source": [
    "#### Question 6\n",
    "\n",
    "A Cessna plane takes off from an airport at sea level and its altitude (in feet) at time t (in minutes) is given by\n",
    "\n",
    "\\\\[\n",
    "    h = 2000 \\ln (t + 1)\n",
    "\\\\]\n",
    "\n",
    "Find the rate of climb at time t = 3 min."
   ]
  },
  {
   "cell_type": "code",
   "execution_count": 52,
   "metadata": {
    "collapsed": false
   },
   "outputs": [
    {
     "data": {
      "text/plain": [
       "'Altitude(m): '"
      ]
     },
     "metadata": {},
     "output_type": "display_data"
    },
    {
     "data": {
      "image/png": "iVBORw0KGgoAAAANSUhEUgAAAHQAAAAWCAYAAAARprh2AAAABHNCSVQICAgIfAhkiAAABJ5JREFU\naIHt2X2slmMcB/DPKTrphSMceUvqoFSKhLUaZVrEMIyNZbE0I7HGH97GEn+QNo3MyxxmZIuNFokh\nEzbzeopiU1NKOuSlQ4nyx+9+nPvc536e1XGeU+p8t3v3c/+u73Xd13X/rt/L9Xtox26Nk/EiXkUd\nnsBhObxjE95MPICncXAZeedjMZZh6g6uqaUYjc5t9K5S6ILPc+SVOLtUxxOxEFXJcze8gx/QO8Xb\nD6txeUp2C5agUxl5vdGAO0stopUwGhflyPtiDY5sgznAMHyIbUXaJyqh1PmoychOSAabk5JNF0re\nKyXrgS24pow8WKn8Cu2G54q03YBNWma5x2u6xlLoL/RRiw8UVyjMxf55DRvxLaoz8g2oTz1/hXk5\n/evwZhl5tI1C78I5RdpewKIWjlurqafbkX6lFDpO6pt0SDWsEHGra6bDZuyT/O6Oo4Xis1iDoWXi\ntSUuFjlEHkaIMLQrYSEuRQVNXcCp4gN/n5IdKpT8dvJciB2/5gzcgH1FsG5t3uYii4FTMBnrxHqq\ncA+WZ3hXYixW4XC8jn44SYSURzAIa/F3qt8lmCDcWjVGYYHwKg+VmFdbYYvQ2UDUpRXakFxpXI+t\nuDV53je5/5kzcKFvVRl463La4VzcLyxnfSLrj9dwAT5JZJMwQ2TsvwivsExshjc0Jl+D8XXmHc8n\n1yQMwZn4o8h8dhZWiLnVdShBqsF1uBfvJbLCzs3z6Xsn945l4OWhG57EbI3KhC/xUtJWwLVYKpRJ\nKK0eU4S1vZzID0pxshglMs5dTZnwE3rSNIamUYln8ShuS8nX59PRGHt/KwMvD+NwgLC0LJYLayvE\n4HqxpjQqNc86K/FXkfedruUJUbmxWaLLvDS6QuzuBbgj07ZOWFNemtwVPwsFbG1lXh76JPc8BWxJ\n7jX4CHeL9QwQljpWuNkZmX716JUz3gCRS2yPQp8SmymLXqJwkxderkrm2VL0EKeFXIVOE25rWko2\nXlRvGkRcOiKnXw0+TX63Ni8Pa5N79phFWC6NsXeT2JwThbI7iUJK1rpX4qyc8UaJjVMIPVUigVyV\nw72iyHxrxfFiZZH2/4JqfENzlztBWM20jHxE6vd8kUxUpGR9hVLmlpGXxTz8LsqGWQwV1ad3k+fh\neEUUBm4SsTPPVS8WBYAsRorNtTF5nqK4a94ZOA7v01Sho3GfcGXPpK45YjcWMFu4w3SpbjK+wGNl\n5BEepeBVfsTVwl0dkuIcJSxqvMaP/p2oSJ2B04R19tR0ExEJz1LNN0lHjZY1LOGt1TYoVKW6FGnv\nh481hpl/sUHEs7wra7FDhGXNxOOisJ7nNluLd56IMduEm16UWuhIkcA9jFniD4VBmfEPFBsgu67V\nuCzDHZyMk5UtFjH3ZsWTyVKotf2Vompx9FqSmut6vJUz31niqLbHoJdwr2M0HoE6C080VWSIx2T6\nTBdurDVRq2Wlv1LoLxK+PQo3inNpMXyGCzOyCnFca82/zx6UnBVbCZ1wu+ZhY7fHQJGNDs9pGyOy\nw7z/aP+X2FO020dYandxru0gkow1Im7XF+/ajna0ox3taEcu/gFJEz3P2plocgAAAABJRU5ErkJg\ngg==\n",
      "text/latex": [
       "$$2000 \\log{\\left (t + 1 \\right )}$$"
      ],
      "text/plain": [
       "2000⋅log(t + 1)"
      ]
     },
     "metadata": {},
     "output_type": "display_data"
    },
    {
     "data": {
      "text/plain": [
       "'Rate of climb : '"
      ]
     },
     "metadata": {},
     "output_type": "display_data"
    },
    {
     "data": {
      "image/png": "iVBORw0KGgoAAAANSUhEUgAAAB4AAAAfCAYAAADwbH0HAAAABHNCSVQICAgIfAhkiAAAAbpJREFU\nSInt1r9rFEEYxvGP8UxEkoDkiImiiQqpxCoigeAPRBBJYRUQAxZqIyksRAWbawJWaawsxH8gbVLb\nqqCIiIIQCIiCREUiIik8ixnPWdS7ZfeCEO4Lw8y7z7vvOzszu/vyn9iajI9iGmdwGyuxwThuYRCz\neIVPJTXQizuJPY1v2IPuOIHhqB3BkzguqjU4jB84GO1+1OMETuNl4rsFX7G/hKYrXnyBCSxHe2/s\n32AUH5MAdXzGoRJaI3Edj2JP2Jd5PENVWPaU7+groTUSp1zCe1yP9hdhmVJ6sVpC+yPxVOxvoEdY\nrtcYSnwq2CkcnKJahuPC0w7Fdk7Y9wreYV/0O4mnSbAiWoMDWBP2OG39UT+Fe7iIBxhL7i2qddjk\n/HrP6k29OmwQY8KHox30YcHvj0hT7uNKDr/ZFvpl1ITzM5on8QpGcvjV8gT7V+L0J3EWd+O185jM\nGbgQlWS8hN3YJlsGbXhiOIbFv/jtwjXZ/+sktif2GuaKTmRZqAi7MNDCt5YzZss9rmIdHzAj+zRt\nJ62r14Wl3oG3eN7i3hN42ES/gKtCbT0sFBePC84zw812BOmwefkJHjRu7YAlLJkAAAAASUVORK5C\nYII=\n",
      "text/latex": [
       "$$\\frac{2000}{t + 1}$$"
      ],
      "text/plain": [
       " 2000\n",
       "─────\n",
       "t + 1"
      ]
     },
     "metadata": {},
     "output_type": "display_data"
    },
    {
     "data": {
      "text/plain": [
       "'Rate of climb(m/min) at 3 mins: '"
      ]
     },
     "metadata": {},
     "output_type": "display_data"
    },
    {
     "data": {
      "image/png": "iVBORw0KGgoAAAANSUhEUgAAACAAAAASCAYAAAA6yNxSAAAABHNCSVQICAgIfAhkiAAAAaJJREFU\nSInt1L9L10Ecx/GHfTMh08psaIgGTWkqkbChtqCxPyD7AyKoNYTGlqZmWyKClqAhhKaQgpYGA2vI\nrRLJNJBC+oXacKfc5zzh8/kuLr3gw33e73ve++7ed/dml9XK7A9YwbfYdx6TeIPlhBvGfZzDJVzB\na6xm8epyW9rIvj+4njEHMY/xxDeBd9jXBlfRR2HHT3EXpwrMHXzF3sTXh7+41gZX0fROHYnm8Kzg\nn8WLptyeGhOm6sFJfCr0LWC0IVdJD3ThNo4IqRrALWE3cCK23wuBV9EbY9TlfucLOIoH+BztcbzC\naXyJAwmXsxQYDjXgFvMjGEomh8dCOieivRbbjULgzti2GnDb7sB6Zq9hCZejvVQIuKnu2P5owFXu\nwEt04EI2oIX++L8o7OrwDoFXYuD1mlwlAyM4UBjQL9QHwvnN4HiBG8TbhlxlAc9xMYNHhNv6KPFN\nYUzI1qYG4mRP2uC2dDZ27I92Bx4Ktbsr4Y4JKbya+O7hvWqJrcWlqyOc/w38FJ7SrFBSf2Xcmeif\nE15JH26qvqAm3H/tnv4BNl1wZcj0JHAAAAAASUVORK5CYII=\n",
      "text/latex": [
       "$$500$$"
      ],
      "text/plain": [
       "500"
      ]
     },
     "metadata": {},
     "output_type": "display_data"
    }
   ],
   "source": [
    "# Answer 6\n",
    "t=Symbol('t')\n",
    "h= 2000* (sym.ln(t+1))\n",
    "display(\"Altitude(m): \",h)\n",
    "dh= diff(h,t)\n",
    "display(\"Rate of climb : \",dh)\n",
    "display(\"Rate of climb(m/min) at 3 mins: \",dh.subs(t,3))"
   ]
  },
  {
   "cell_type": "markdown",
   "metadata": {},
   "source": [
    "#### Question 7 - Sound Pressure and Decibels\n",
    "\n",
    "The sound pressure P for a given sound is measured in decibels (dB) and given by\n",
    "\n",
    "\\\\[\n",
    "    P = 10 \\log \\frac {W}{W_0}\\quad \\text{dB}\n",
    "\\\\]\n",
    "\n",
    "where \n",
    "\n",
    " * $W$ is the size of a variable energy source (called the __sound power__), measured in Watts (W).\n",
    " * $W_0$ is the lowest threshold of sound that humans can typically hear. It is a constant defined by\n",
    "\n",
    "\\\\[\n",
    "    W_0 = 10^{-12}\\quad\\text{W}/\\text{m}^2\n",
    "\\\\]\n",
    "\n",
    "The sound pressure is related to the sound __intensity__ of a sound wave. __Logarithms__ are used to cope with the large variation in sound pressure that humans can hear (from the whispering wind at around 20 dB up to the roar of a rock concert at 120 dB, depending on the distance from the speakers).\n",
    "\n",
    "**(a)** Write python code to find the rate of change of the sound pressure $P$ with repect to time if $W=7.2$ and $\\frac{dW}{dt}=0.05$ at some given time $t$.\n",
    "\n",
    "**(b)** If the variable sound power $W$ is given by\n",
    "\\\\[\n",
    "W = t^2 + t + 1,\n",
    "\\\\]\n",
    "\n",
    "find the rate of change of the sound pressure $P$, at time $t=3$ s."
   ]
  },
  {
   "cell_type": "code",
   "execution_count": 80,
   "metadata": {
    "collapsed": false
   },
   "outputs": [],
   "source": [
    "# Answer 7(a) - first we define symbols and functions\n",
    "W0 = Symbol('W_0')\n",
    "W = Symbol(\"W\")\n",
    "t = Symbol(\"t\")"
   ]
  },
  {
   "cell_type": "code",
   "execution_count": 81,
   "metadata": {
    "collapsed": false
   },
   "outputs": [
    {
     "data": {
      "image/png": "iVBORw0KGgoAAAANSUhEUgAAAHQAAAAaCAYAAABmZHgNAAAABHNCSVQICAgIfAhkiAAABapJREFU\naIHt2nmsH1UVwPFPKW2fpUJbKKUsBaFKKy7IvoiENiBJg6CFKK1QAwGTEhBsAqhAgDQkJCAEwxYl\nEiMIf0AgRHCpsomEKAVJoSsCthabLtDCU1kU/zh38ps3vTOvr31v8mLeN/llMvfM3HPXc84982OI\nIQYxI3Azxres92st6xuH2zGyZb2t82Mc2bLOqXioZZ0wHT+tFu5Q8/BovNRQ2YF4EDfhh/gZJpbk\np+EZLMX8bWjstnA6PsBzpbJb8SY+Sr9FmJFkM/F8SbZU7O6CQ7A8yf6Fx2r0zsYvWtYJv8f7OLPh\nGXA4/pQqzbELVuObpbLvY7GeJmA/dOPq3hT2A8OxEvtmZF/WGbwcf8M/amTD8KLoSx2L8LGWdRZM\nxevYsSgo79Bp+CUuwH8aKrlUTNx9pbI7xK49t1T2OtZtRaP6g1PxGt7IyNan64cZ2TDRl51q6p2F\ny0RfchyBl8VuaktnmaViIZ9SFJQndIkwCd9Sv7LgDGHWyo3dmN45YysaMRDMxMIa2YaG984Xu2uM\nLQOMLnwJv254fw7ubVlnlSdE/1HvQ+v4OD4pTEaVNTi0j/X1FzPw5xrZxpryCTgWT6b7XSvyi3BL\ng87hOAG/bVFnjmd1fHTH9m4lhY/anJF1Y2eMwnsNdRyJC7E26R+L67Cs8tw5OBmrsLcYuKk4TJj7\nO9Jze6d2LarRt1kES1WuwwJ8L92PF8EM7CV2y8qGfkzH0/JmdaB05ij87V74e18ndOd0fT8j607X\nsWKycpyCG/BFHf86TZiYr+KFVPZt3JgauUlYhaViMSzU01TtKQb1rYZ2V3fM8ane5Trmsbxbvqv3\nYG42ftKyzhxviQBsT9swoUWwlIuAR6Tr8Jp3x4hz0wI9g6UleDjJDk5lF4hgY1O6XyECje/grEq9\nE/BOL+0uD+4IXCMCKbYc3KNFxN5UZxe+gD+2qLOO/6b3JtB3H9oUtRZRW12jZooO5AKuZfi8jg9e\nL0x3mVHyLmKsjnWooxykzBfnxk0V2XgRgZ6Nu3upb6Y4I9Yd7QZCZxObxTj0eULXik6My8h2wtvq\nJ3T/dM35nMLfTEnXBfg0Dkr3Jwsze2Pm3bfF7m+iGMB98RU9TWVxxNgVc/FzzRNFHObvaVlnE6PE\nOPQ5KOoWfm6fjGyKcNB1FM5/94ysMD2F7/03rsJ5YrJHiixKbnevE8mOHYT5ybEhte8W/EDPc3Yx\n8PuJbNfdDX2QdE0WJrKJ/tB5mNi9z4u443r5oGmMZD37OqFE8uFcYSqKVXWAmOTrG957BP8UCYgq\nh4rs0x/S/TF4VHP6sWBNastY9ceFjSKwWo7HK7JicL+Bz22Fvlki7dkb26tzJB7AUWIzvCLM9uGV\n53YT59o1TY25T0zW6Ixsktje5eDkZhHEVA/Kq4X5LJiTyiaVyj4hTNAJpbIzxQKYIaLDQ7CHmLgc\nr4ljRB2Xi12/f0Y2SfT1yob3y/xGPsXY3zpPFGNaMAzvivEqczT+mqtgd3F8WKyTPF4nVtecyrMH\ni516k/AND+pphk/VSUJ3i4N0V5IdJ7Irt+FHuAufrdS/m1jFH1V+qzNtkdpwRa5Tibm4tkY2UkTa\nXTXyMnvoJAV6Y3t1noenKmWrlNJ8ifniK9OgZbLwlSfpHIG6xEqfL5IWn6q8cxp+10LbLsa8FvQQ\nyYdfVcpWiPNvmYWi/4OWS8S5tI6/CD9WZjheFUmKgeQZYT3aYJ4tc7pvioVesI8wt3Vn/0HBZ4Rp\nOSYjO0l0YGJGNsvAmp4pws20xXSxeAt2FD65HFTeia+rPDTYWCwCoUvEl4l3xJFktIjkjtA5x5V5\nQHyHPFE+Yb69VD9kDzRPiezPZPEx5DgR6RY576PE/N3fYptaZ4T4x8BAmMVH9J7A6G9miF04V6RG\ni9hhnOjn//1/ioYYYoghhhiiLf4HuSNsNxbNCVoAAAAASUVORK5CYII=\n",
      "text/latex": [
       "$$10 \\log{\\left (\\frac{W}{W_{0}} \\right )}$$"
      ],
      "text/plain": [
       "      ⎛W ⎞\n",
       "10⋅log⎜──⎟\n",
       "      ⎝W₀⎠"
      ]
     },
     "execution_count": 81,
     "metadata": {},
     "output_type": "execute_result"
    }
   ],
   "source": [
    "# define P\n",
    "P= 10*(sym.ln(W/W0))\n",
    "P"
   ]
  },
  {
   "cell_type": "code",
   "execution_count": 82,
   "metadata": {
    "collapsed": false
   },
   "outputs": [
    {
     "data": {
      "image/png": "iVBORw0KGgoAAAANSUhEUgAAAAwAAAASCAYAAABvqT8MAAAABHNCSVQICAgIfAhkiAAAANtJREFU\nKJHN0r0uhEEUxvGf9VWItTYahSgQPYV2SxfBBbiAbfSidSE60e4trASNjghZGiHbEFnFzpscb84W\nOqd5cp6Z/5nJzMMfa6rWb+MU9xhhBV0MMngJjzgI3jFuMJcBJ3jBTPDa+MJRBtzhIvGv0auaRtFF\nbOEhAZ6wWwfWi74nwBBNzEegWfRzAgCtCHwXHSXAbNHpCLwmG6taKPoRgUGZvjwBeKsDQ/SxlgCb\nuKqaRli4xJ7fcdkoQ86zu66Wow+Dd4ZbIRoxBs/oGEdkx/gz29iXP/d/qR8UhCWn2ReXCwAAAABJ\nRU5ErkJggg==\n",
      "text/latex": [
       "$$0$$"
      ],
      "text/plain": [
       "0"
      ]
     },
     "metadata": {},
     "output_type": "display_data"
    }
   ],
   "source": [
    "# differentiate P with respect to t\n",
    "dp= diff(P,t)\n",
    "display(dp)"
   ]
  },
  {
   "cell_type": "code",
   "execution_count": 83,
   "metadata": {
    "collapsed": false
   },
   "outputs": [
    {
     "data": {
      "image/png": "iVBORw0KGgoAAAANSUhEUgAAAAwAAAASCAYAAABvqT8MAAAABHNCSVQICAgIfAhkiAAAANtJREFU\nKJHN0r0uhEEUxvGf9VWItTYahSgQPYV2SxfBBbiAbfSidSE60e4trASNjghZGiHbEFnFzpscb84W\nOqd5cp6Z/5nJzMMfa6rWb+MU9xhhBV0MMngJjzgI3jFuMJcBJ3jBTPDa+MJRBtzhIvGv0auaRtFF\nbOEhAZ6wWwfWi74nwBBNzEegWfRzAgCtCHwXHSXAbNHpCLwmG6taKPoRgUGZvjwBeKsDQ/SxlgCb\nuKqaRli4xJ7fcdkoQ86zu66Wow+Dd4ZbIRoxBs/oGEdkx/gz29iXP/d/qR8UhCWn2ReXCwAAAABJ\nRU5ErkJggg==\n",
      "text/latex": [
       "$$0$$"
      ],
      "text/plain": [
       "0"
      ]
     },
     "execution_count": 83,
     "metadata": {},
     "output_type": "execute_result"
    }
   ],
   "source": [
    "# The required rate of change is given by\n",
    "# substituting the given value of the derivative of W in place of dW/dt, and the given value of W \n",
    "dp.subs(W,7.2)"
   ]
  },
  {
   "cell_type": "code",
   "execution_count": 84,
   "metadata": {
    "collapsed": false
   },
   "outputs": [],
   "source": [
    "# Answer 7(b) - define symbols and functions\n",
    "W = t**2+t+1\n"
   ]
  },
  {
   "cell_type": "code",
   "execution_count": 86,
   "metadata": {
    "collapsed": false
   },
   "outputs": [
    {
     "data": {
      "image/png": "iVBORw0KGgoAAAANSUhEUgAAADcAAAAjCAYAAAAwnJLLAAAABHNCSVQICAgIfAhkiAAAAqtJREFU\nWIXt2E2ojUEcx/GP673uZeGdvBcb2SCpeykvhdje8lIUVu7CjlI6GyULGwtZyE4WLJGtLMhC8pbk\nliIl7yQprsXMuec5T89znsd17sHtfGs6Z+aZmf9vnjNzZubHCGZ0Tvlq9GIzjuJ5TLASRzAdfXiM\nd4m2S2J60QR9XbiAW/iYKC/SkEsnTiTyvfiKORgnDHJWfLYKd1Ltz+FAiTh9Bc/3o4IBLEiUl9GQ\ny3L8xOKYnxQD9GITHibqjsIXLEyUPcf8EnEqJfWkB1dGA+jI6Ow+1qA/5ufGz6cxyNtU4PdYhq04\nHfvcge6S4n+XRhrqGJPReAC3E/kjOIW7whr8mqr/TW1tzMZY9dO62UxtoKGOrMEl2YdXOBzzH4Vp\nkKQTb+L3tbiS0c8MHEq17caERP4zjhfoKaOhFNuEwYkiFmA97iXqjBHe2tKY7xf+wTowpaD/Skkd\n6TVXpGGQrDUH64S3fQUzhek4CzcwDfNivR48whNhunzHa+xW/6s0k0YaClkkTJGBVJoUn2/AWezB\neWFPI7zBS9gb6xRRKXi+C2di7Ivqt448Df8Mh4urtGnTps0/QnWnH/irKoaJ9DEmSQcOYmLMnxx+\nOa1ju9qN4DJW/EUtQyLv+EW4z+2I35+pDXREMF7tGnFduM78V+R5KPBDOAj3CDfzay1RNIwsEW7h\nVSbjWAvi/AldwoF9XlHFtLlzULhZj8XGksGKjJ+sOEPtL89EyiRp7uzEJ+GGm+lR5FApUaesiVS2\nv8zBVW2GrdiiZu7cFDyRCyUFlCUrzs0mxxikOrirWmPutCoO6g2iPHOnEUMxfhrFaaaRVMfvmDuN\nqDQ5TlF/5Ky56gmlVeZOq+KgNrgPeCCYOy9jGg6aHadqIhHWcJlt6I9otvHTNpLajCR+AUggl2/i\ncFEDAAAAAElFTkSuQmCC\n",
      "text/latex": [
       "$$\\frac{20 t + 10}{t^{2} + t + 1}$$"
      ],
      "text/plain": [
       "10⋅(2⋅t + 1)\n",
       "────────────\n",
       "  2         \n",
       " t  + t + 1 "
      ]
     },
     "metadata": {},
     "output_type": "display_data"
    }
   ],
   "source": [
    "# differentiate P \n",
    "P= 10*(sym.ln(W/W0))\n",
    "dp= diff(P,t)\n",
    "display(dp)"
   ]
  },
  {
   "cell_type": "code",
   "execution_count": 87,
   "metadata": {
    "collapsed": false
   },
   "outputs": [
    {
     "data": {
      "image/png": "iVBORw0KGgoAAAANSUhEUgAAABAAAAAeCAYAAAAl+Z4RAAAABHNCSVQICAgIfAhkiAAAAXVJREFU\nOI3t1b9LllEUB/CPJS35DtIPehHiTSMa3ilKJFAiamhrUJAiWqLBUceWoD8gaGlocvEPcQgxhJak\nGooglMAoRSVIseGeR27XJ1MMGuoLF+6555zvc57znPt9+IP4iK/Fehq+i3iCu3iGs2XyKYyjD2fQ\niuRjOIIPaEbsJbwoCZoRXOEWLsf+Ol5lvg6sxoMcisNFfI59D87heditzAdb+IJ2TpDjESYz+zjW\ni5hvaNQRnMQ1vM/OlqPsHF1YqiO4UZQLr6UmV+hEt9TYHQTtmnKncQKnwx7EPN5UbDlW8LY428Ad\nPJAaewWj/mMb1ffd+qtVHAiHC7uBKcxII1xhKFa/dO1X8K4ku4eHUj9ahW9JEhMYkaa18auq6gja\nOBr7YXzfL0GOKWmssfMu7IYLuIo1PN4t8HcV3MecpAl7IhjAJ6GBOB8xw9RLWokNSVQXwu6VmviS\nn+fgNsakf0BTUqHZSNyU3n8ANzGhRtr/VfwAKbVI5NxbCjUAAAAASUVORK5CYII=\n",
      "text/latex": [
       "$$\\frac{70}{13}$$"
      ],
      "text/plain": [
       "70\n",
       "──\n",
       "13"
      ]
     },
     "execution_count": 87,
     "metadata": {},
     "output_type": "execute_result"
    }
   ],
   "source": [
    "# substitute t=3 to obtain the rate of change of sound pressure at the required time.\n",
    "dp.subs(t,3)"
   ]
  },
  {
   "cell_type": "markdown",
   "metadata": {},
   "source": [
    "#### Question 8 - charge of a capacitor\n",
    "\n",
    "The charge of a capacitor, $q$, in a circuit containing a capacitor of capacitance $C$, a resistance $R$, and a source of voltage $E$ is given by\n",
    "\n",
    "\\\\[\n",
    "    q = C E \\left(1−e^{-t/(RC)}\\right)\n",
    "\\\\]\n",
    "\n",
    "Show, using differentiation, that $q$ satisfies the equation\n",
    "\n",
    "\\\\[\n",
    "    R \\frac{dq}{dt} + \\frac{q}{C} = E\n",
    "\\\\]\n"
   ]
  },
  {
   "cell_type": "code",
   "execution_count": 89,
   "metadata": {
    "collapsed": false
   },
   "outputs": [
    {
     "data": {
      "image/png": "iVBORw0KGgoAAAANSUhEUgAAAH4AAAAZCAYAAAD30ppqAAAABHNCSVQICAgIfAhkiAAABStJREFU\naIHt2meMVFUUwPEfVVQ0SHMtiWJBsCAaQUEj9sQSu0EjUWyJJWqIoFFjicYo2AiKNejqBzWxJFhQ\nsXcU7F2isUYRLGBXBD+cN9k3jzfzFpidAdx/sh9uO/e8W065s7TTzgpAp+SvndrRtdEKFNEFk9Cr\n0YrUgc3RVKe5JmO9Os21TEzE0EYrUSeuxJp1mqsJj8nc/M51mryIEWIhXmu0IjWiv7Bcr+S0rSbc\n2W+Z+q44AVtjTtL+L57Fvrg8kXkazsNUvIluGIBpuDNnvu9wF87HRcv+SW3DyxjUaCVqyBScVKFt\nJHbL1G0hNnF0pn5dzMc+qbomLFLuKnphcY7cEl3xCdapqnWd2U5s/KrEF9ioQttkdEiVN8A3ltz0\nEg8pN9Oj8F6mzyCx8SOq6HQZzioVOlbpWC8Ow9ONVqJG7IfrxLoehV0y7esJ07s4VTcRn6G5gsyr\n8HeqvBeeTJV7YIJwBc9V0e1FHFRV+xRbJUJfSCa7F7einzi1d2gxOR3F6fxQfNivmC4Ci8fwBN4V\nZmoxdkjGPY8DC/RYA++0VukGcyJuqtA2Fpukyr2xUOXbnsfXGI8jcQUeEPtRRA9xgFar1mltscFf\nCtOS7twnmex2fJQzdjexsZdWkD0Iv2tJMeZisyq6DMFM5bek3pwqbl6lv5GpvndmymluyJR3FN+1\ndYX+G4vgrcRAsXndU3XTcWjRByR8r0os1Q8fCL9bKaceIBS+PqftAsX+5kFhMToJC9Anp89APCJM\n4AyN3fil4TP0FRYwvX5DcFym7/oich9cQdaYTPl0YSHTzMTZrdTtY+yf19AzaZytOAL8CIfk1D+J\nP5RbiS7KT2npwPQVG1r0utRs5dj43lqs4DEicCsxAWvljLlFZAFpuoi0LWvCp+LCTL9FOD4p9y/Q\nb4aIPZbI4ycng/fCTwVC5uKZHIWHCWvxV6r+cMwTfr70AbRs5ooQZNaCn0XEPRpfiWiduARd8EvO\nmFPFzZ6CT0X+/g/uxo9Jnx3FJdtbWIhSgPcPbsZOifwXCvTrIGKKMkr+JmtKKpHnx4YlMi5I1fUU\n5qh7Tv+O4kOKnhSbte2NHyxu3nhcI/x03u1cVo7AHjWUt6zMxu7ZypvF4h67HILPSWS8KiL510Qw\nUu1Fbg62LJDbrO02fjTeVm6Wz7YUqU8ryObujWKenEBytljcDZdD8DRh4tOR6EnibboSDyuOSpu1\nzcYPE+Zy51TdUBFU9q3RHGvj3BrJWh56409JPJX28RsK//J1K4RsLg5Kmk5iAWclE5SYr9x9bCvi\nhy+T8tMYLlLEenNxosvBwod2Eu8QR2FBjeZYIB5XGs1wYYn/pnzjFwh/W0RXkVackakfLE53NsCY\nhW9T5VNwZqr8qPwfF1rLNsI/t9aUvoWTRTC0pwiqxi3H/CsLu+L+vIapwuytUSBgHLbPqR8jzPEB\nVcZuKgKoLE+JPLcSzWpv6psSma3NgVdmVsfn4vUO5WnUtcLUja4i4CCRDryR0zZCLORLFcZ2EBFz\nNmclgsLsY0VbM09YubyfpgeKp9dVhWNxm0g3cxkrcs1Ryg9FH/EEe3qFcZ3xA96v0N4k3vWfqqLc\nJcLX5nGPOFRF1mhpmSDij7Sb2FMsUrfcESsfGwl3WvgvWLvgPryOx8UPM1eLgC7LAPGQUMoI5idj\nSj/MPCOCpYVJ++FV5u0oLMK6SblvIuu9ZOxiLY9GRxd9RCvpLL7tHvHmPklYvBUh9aoVN2pZ03ba\naaeddv4//AeVDhInCSvfKAAAAABJRU5ErkJggg==\n",
      "text/latex": [
       "$$C E \\left(1 - e^{- \\frac{t}{C R}}\\right)$$"
      ],
      "text/plain": [
       "    ⎛     -t ⎞\n",
       "    ⎜     ───⎟\n",
       "    ⎜     C⋅R⎟\n",
       "C⋅E⋅⎝1 - ℯ   ⎠"
      ]
     },
     "metadata": {},
     "output_type": "display_data"
    }
   ],
   "source": [
    "# Answer 8 - define symbols and functions\n",
    "C=Symbol('C')\n",
    "E=Symbol('E')\n",
    "R=Symbol('R')\n",
    "t=Symbol('t')\n",
    "q = C*E*(1-sym.exp(-t/(R*C)))\n",
    "display(q)"
   ]
  },
  {
   "cell_type": "code",
   "execution_count": 2,
   "metadata": {
    "collapsed": false
   },
   "outputs": [],
   "source": [
    "# differentiate q and check required equation"
   ]
  },
  {
   "cell_type": "code",
   "execution_count": 91,
   "metadata": {
    "collapsed": false
   },
   "outputs": [
    {
     "data": {
      "image/png": "iVBORw0KGgoAAAANSUhEUgAAAGMAAAAdCAYAAAC+E9IkAAAABHNCSVQICAgIfAhkiAAABLlJREFU\naIHt2VmoVlUUwPGf93adaDLNbjRYpqUYmZRllEOlQvXQRJQZIU0PBk1EQQ8RVKQmWdFgYllCIxWJ\nZWFzaaPYQJd6KKNS0LDS0qy04WGdg+cez/kGuXrVvj9czt1r77P3Omvvvdba+6PBDkNzZyuwlQxE\nV6zrbEU6kqbOVmAruQK/dbYSHc1una1ACYejN94vqOsmdvT6nLwrLsWRWJXU/423cBruSPq8Ejdh\nHj5BdwzCAszt2M/YNXgYl5fUnY8xOdkRwrCTcvL9sBbjM7JW/JM8U3rj34J+q3FOne13Sr5Dv5K6\n+9ElUz4AK2w5ESnzxa5JuQhf5NocJSZjdB06DsILdbSvSpGbahJbeEAy4Hq8J1YT4SJaMUQYZTiW\ndJA+pwuX0oQJWJT8peyPlcJwKXdjGR4t6XM6/sqUx+K1THlvTBNu7O06dL0QT5bUzRUTPBQbsFi4\nzB7CLS7Fg/i81sHGiI++taT+KPwuDNSRXIaZJXXXo3+m3AeblO+KIpZjKi7AFDyPQ+vWMgzao0L9\nAGG/6Tl5M+4RC2RMtqJSAB+ZPF8rqf88qVtZoY8sk7U3ZJ6P8TRG4aWSNv3FLkg5THxc2c48JNHv\nj6Q8GH3FAluHp7AQw/BttQ/IcBzaxKovI7Xfwpz8b7HYrsLVIsFA5ckYLT7ig4ysRWQzaX7/vfYu\noxIP1NjuJLEDmtALPyXy4WLCsvwg3GfZd5yNGZnyWPE92fNJL7GK62EinqjSZjT+xLsFdWk8XFPL\nYC0iVryek0/AuEx5nI6lD75K/r9YBOeUadij4J1ZIvvK0iJS2Lz7mYebc+3+wSVJ+fAadGwWXqHa\nsWAZ3iipe1FMxKCssKzDY9FTZgthH1yHkzOyVzP/Hy1c0S/iI/sIg9RzOFsjMp1JYtWvSOTdkj6L\n+pqMa8WEfCMW0UYRXH9O2hwvdsk44SbSIL4RD2FE0n/RKs5zStJuU4U2B4qFMDsn3xe3i5R7pM0L\nryI3CvfzIV7BRyLgfFTSfhI+034l34AzaxmsBs4TRtgRmIMTq7SZKOw3G7fgNrwpFtj48teKWSD8\nXfeM7HLcWdD2BLHCsgoeJ4Jw33oHLiF/tugsuuNT1XWZJYJ7S0bWQ6TOz5S9VOSmmoVhl9ichRAn\n2Xcy5aHCJd2SPM8SrqAZX4r48msVpWthT5GO1poobEvOwMuq6zJK2G9jRrZBTMR9ImH4upYBj0kG\nm5KT99c+r54pfPkm4Xf/Dzwr7r4qsZ+w39SCuqlJ3YiiF4t2xqjkuSgnz+f3a0Va2CwC567OXjjY\nllcpeVL7FV1ypsnPj0UvFl2hjxazt7hksC64S2Qvq4UrKprUweI0vatwrjitVyO93yqajHRXrUqe\nB6nwM8Zu4pDVVlLfise0P39ME7EkG9ROxSPaJwA7OwuVX15maVN+mm8TC72n8ChzZCYjNeAgEVj6\nieDyqzippoGqm5iIgUkn5wn/SUzgVJHWLhc3pEvFpO0IQbcjaBVXNWW3un3xuLinGyIC9/t4Dvdm\n2g1Lyt+Io8IMkew0qINrxOGywQ7AYnGjsE3ZWX8D354MENc0q7f1QI3JqE6lH5EabGfmY/fOVqJB\ngwYNGjTI8h+zUvF86gzkJAAAAABJRU5ErkJggg==\n",
      "text/latex": [
       "$$\\frac{E}{R} e^{- \\frac{t}{C R}}$$"
      ],
      "text/plain": [
       "   -t \n",
       "   ───\n",
       "   C⋅R\n",
       "E⋅ℯ   \n",
       "──────\n",
       "  R   "
      ]
     },
     "metadata": {},
     "output_type": "display_data"
    }
   ],
   "source": [
    "dq= diff(q,t)\n",
    "display(dq)"
   ]
  },
  {
   "cell_type": "code",
   "execution_count": 93,
   "metadata": {
    "collapsed": false
   },
   "outputs": [
    {
     "data": {
      "image/png": "iVBORw0KGgoAAAANSUhEUgAAABIAAAASCAYAAABWzo5XAAAABHNCSVQICAgIfAhkiAAAASBJREFU\nOI3d078uREEUBvDf2t1sJBqq1ZD4l00kFKIQYTXbaRUewGOoNB5AofUGdCQ0IiKoJFqFSqOQIEth\nFXfu7s11ZzUqXzP3fN+dM985c4Y/QqmAG8ARptDAGy7xFfQy6pgN+xdx2++QNXSwE9Hn8I7R9PQY\nVsJ6GtHvgvb0W6Im2rjKcFUMZeLH4DqKqqQ3Zzl+E61M3PILlsJJ2xluBDc5R13ESlsN6zqOcS3p\nRQevRRsqkURNfOr1CbYwE/m/0FEZy5LZaGf4F5xn4nmMxRLDgqSE3Rw/gcFMvI9aGhSVlvbnIsc/\nZL4ng8OPfo4OJc9hOKKXJE8o2q/U4TPuI3odB37OV7e0BvYwLpmXCk70prYWkkxLLmOjn5t/hm/7\naTAayrYt0AAAAABJRU5ErkJggg==\n",
      "text/latex": [
       "$$E$$"
      ],
      "text/plain": [
       "E"
      ]
     },
     "execution_count": 93,
     "metadata": {},
     "output_type": "execute_result"
    }
   ],
   "source": [
    "simplify(R*dq + q/C )"
   ]
  },
  {
   "cell_type": "code",
   "execution_count": null,
   "metadata": {
    "collapsed": true
   },
   "outputs": [],
   "source": []
  }
 ],
 "metadata": {
  "kernelspec": {
   "display_name": "Python 3",
   "language": "python",
   "name": "python3"
  },
  "language_info": {
   "codemirror_mode": {
    "name": "ipython",
    "version": 3
   },
   "file_extension": ".py",
   "mimetype": "text/x-python",
   "name": "python",
   "nbconvert_exporter": "python",
   "pygments_lexer": "ipython3",
   "version": "3.4.3"
  }
 },
 "nbformat": 4,
 "nbformat_minor": 0
}
         