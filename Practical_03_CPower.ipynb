{
 "cells": [
  {
   "cell_type": "code",
   "execution_count": 3,
   "metadata": {
    "collapsed": true
   },
   "outputs": [],
   "source": [
    "# specify your student id and your name\n",
    "id = '20072488'\n",
    "name = 'Ciara Power'"
   ]
  },
  {
   "cell_type": "code",
   "execution_count": 23,
   "metadata": {
    "collapsed": false
   },
   "outputs": [
    {
     "name": "stdout",
     "output_type": "stream",
     "text": [
      "Ver 0.2\n"
     ]
    },
    {
     "data": {
      "text/html": [
       "<style>\n",
       "\n",
       "\n",
       "\n",
       "/* counting headers and my styling */\n",
       "\n",
       ".navbar-collapse.collapse {\n",
       "display: block!important;\n",
       "}\n",
       "\n",
       ".navbar-nav>li, .navbar-nav {\n",
       "float: left !important;\n",
       "}\n",
       "\n",
       ".navbar-nav.navbar-right:last-child {\n",
       "margin-right: -15px !important;\n",
       "}\n",
       "\n",
       ".navbar-right {\n",
       "float: right!important;\n",
       "}\n",
       "\n",
       "#notebook_name {\n",
       "    font-weight: 600;\n",
       "}\n",
       "\n",
       "h1 {\n",
       "\ttext-align: center;\n",
       "\tbackground-color: rgba(0,255,1,0.15);\n",
       "\tborder-bottom: 1px solid #cccccc;\n",
       "\tcounter-reset: h2counter;\t\n",
       "}\n",
       "\n",
       "h2 {\n",
       "\ttext-align: center;\n",
       "\twidth: 75%;\n",
       "\tmargin-left: 25%;\n",
       "\tbackground-color: rgba(255,255,1,0.15);\n",
       "\tborder-bottom: 1px solid #cccccc;\n",
       "\tcounter-reset: h3counter;\t\n",
       "}\n",
       "h2:before {\n",
       "\tcounter-increment: h2counter;\n",
       "}\n",
       "\n",
       "h3 {\n",
       "\tborder-bottom: 1px solid #cccccc;\t\n",
       "}\n",
       "h3:before {\n",
       "\tcounter-increment: h3counter;\n",
       "}\n",
       "\n",
       "h4 {\n",
       "\tborder-bottom: 1px solid #cccccc;\t\n",
       "}\n",
       "h4:before {\n",
       "\tcounter-increment: h4counter;\n",
       "}\n",
       " </style>"
      ],
      "text/plain": [
       "<IPython.core.display.HTML object>"
      ]
     },
     "execution_count": 23,
     "metadata": {},
     "output_type": "execute_result"
    }
   ],
   "source": [
    "# setup magic - see kmurphy.bitbucket.org/modules/Advanced_Calculus for setup instructions.\n",
    "%matplotlib inline\n",
    "from calculus import *\n",
    "setup_practical(id, name)"
   ]
  },
  {
   "cell_type": "markdown",
   "metadata": {},
   "source": [
    "# Practical 03 - Graphs of Functions\n",
    "\n",
    "## Introduction\n",
    "\n",
    "\n",
    "### Aim\n",
    "\n",
    "In this practical we will focus on constructing and interpreting graphs of functions, especially functions that are defined using more than one rule (usually called **multi-ruled** or **piecewise** functions). \n",
    "\n",
    "The following little animation will hopefully help you remember the shape of some important functions that you will see during the remainder of this module.\n",
    "\n",
    " \n",
    " ![](http://kmurphy.bitbucket.org/modules/Applied_Calculus/topics/02-Practicals_using_iPython_Notebooks/03-Practical_03_-_Graphs_of_Functions/files/function_wave.gif)\n",
    " \n",
    "### Mathematics Concepts\n",
    "\n",
    "A function can be defined by\n",
    "\n",
    " * using a single rule, as in \n",
    "\\\\[\n",
    "    f(x) = x^2\n",
    "\\\\]\n",
    "where here it is assumed that all inputs are allowed.\n",
    " \n",
    " * or using a single rule and an interval, as in \n",
    "\\\\[\n",
    "    f(x) = x^2 \\qquad x>0\n",
    "\\\\]\n",
    "where only the sepcified range of inputs are allowed. \n",
    "\n",
    " * or using multiple rules, with each rule defined over a separate interval, as in\n",
    "\\\\[\n",
    "    f(x) = \\begin{cases}\n",
    "       x^2 &  x\\le 0,\\\\\n",
    "       4x & x>0 \n",
    "       \\end{cases}\n",
    "\\\\]\n",
    "In this case to evaluate the function, one must first use the input value to pick which rule one is supposed to evaluate. For example, to evaluate $f(-3)$ we first select the rule $x\\to x^2$ since the input satisfies the condition $x\\le 0$, then using the rule $x\\to x^2$ we get $f(-3)=9$.\n",
    "\n",
    "\n",
    "### Python Concepts\n",
    "\n",
    "We introduced the construction of graphs of functions in Practical 01, but to recap you\n",
    "\n",
    " * First import the required modules (we only need to do this once)\n",
    " \n",
    "        import sympy as sym\n",
    "        from sympy.plotting import plot\n",
    "        \n",
    " * Next you declare what symbols you want to use (we only need to do this once)\n",
    " \n",
    "         x = sym.symbols('x')\n",
    "         \n",
    " * Then you construct the graph of the expression, say $x^2-1$, using either the default interval of $-10$ to $10$ by\n",
    " \n",
    "         plot (x**2-1)\n",
    "\n",
    " * Or you specify an interval to plot using __(symbol, min, max)__ notation, eg\n",
    " \n",
    "         plot(x**2-1, (x,-1,3))\n",
    "         \n",
    "So the general plot command is \n",
    "\n",
    "        plot(FORMULA, (SYMBOL, MIN, MAX))\n",
    "\n",
    "And, if you wish to plot multiple formulae over different intervals you use (this is useful for functions defined using multiple rules)\n",
    "\n",
    "        plot( (FORMULA_1, (SYMBOL, MIN_1, MAX_1)),  (FORMULA_2, (SYMBOL, MIN_2, MAX_2)), ... )\n",
    "\n"
   ]
  },
  {
   "cell_type": "markdown",
   "metadata": {},
   "source": [
    "## Example\n",
    "\n",
    "Construct the graph of the function\n",
    "\\\\[\n",
    "    f(x) = \\begin{cases}\n",
    "       x^2 &  x\\le 0,\\\\\n",
    "       4x+\\sqrt{x} & 0<x\\leq 1\\\\\n",
    "       3 & x>1\n",
    "       \\end{cases}\n",
    "\\\\]\n",
    "over interval $-4$ to $10$."
   ]
  },
  {
   "cell_type": "code",
   "execution_count": 24,
   "metadata": {
    "collapsed": false
   },
   "outputs": [],
   "source": [
    "# first load in modules and define symbols that we will use (we only need to do this once)\n",
    "import sympy as sym\n",
    "from sympy.plotting import plot\n",
    "x = sym.symbols('x')"
   ]
  },
  {
   "cell_type": "code",
   "execution_count": 25,
   "metadata": {
    "collapsed": false
   },
   "outputs": [
    {
     "data": {
      "image/png": "[encoded data removed]",
      "text/plain": [
       "<matplotlib.figure.Figure at 0x89ec9e8>"
      ]
     },
     "metadata": {},
     "output_type": "display_data"
    }
   ],
   "source": [
    "# construct plot\n",
    "plot ( (x**2, (x,-4,0)),(4*x+sym.sqrt(x), (x,0,1)), (3, (x,1,10)) );"
   ]
  },
  {
   "cell_type": "markdown",
   "metadata": {},
   "source": [
    "## Exercises"
   ]
  },
  {
   "cell_type": "markdown",
   "metadata": {
    "collapsed": false
   },
   "source": [
    "#### Quesiton 1 \n",
    "\n",
    "\n",
    "Construct the graph of the function\n",
    "\\\\[\n",
    "    f(x) = \\frac{x}{x^2+1}\n",
    "\\\\]\n",
    "\n",
    "**HINT:** Pick a suitable plot region so that you can clearly see the local max and min points.\n",
    "\n",
    "**From the graph only**, answer the following qustions:\n",
    "\n",
    " * Is the function continuous?\n",
    " * Over what interval is the function increasing ?\n",
    " * Estimate the input value for which the function is maximised?\n",
    " * Estimate the maximum value that the function attains."
   ]
  },
  {
   "cell_type": "code",
   "execution_count": 26,
   "metadata": {
    "collapsed": false,
    "scrolled": true
   },
   "outputs": [
    {
     "data": {
      "image/png": "[encoded data removed]",
      "text/plain": [
       "<matplotlib.figure.Figure at 0x89d95f8>"
      ]
     },
     "metadata": {},
     "output_type": "display_data"
    }
   ],
   "source": [
    "# construct plot\n",
    "plot ( x/((x**2) +1 ));\n"
   ]
  },
  {
   "cell_type": "code",
   "execution_count": 27,
   "metadata": {
    "collapsed": false
   },
   "outputs": [],
   "source": [
    "# Q1a - Is the function continuous? (use True or False)\n",
    "# True"
   ]
  },
  {
   "cell_type": "code",
   "execution_count": 28,
   "metadata": {
    "collapsed": false
   },
   "outputs": [],
   "source": [
    "# Q1b - Over what interval is the function increasing ?\n",
    "# From x=-1 to x=1"
   ]
  },
  {
   "cell_type": "code",
   "execution_count": 29,
   "metadata": {
    "collapsed": true
   },
   "outputs": [],
   "source": [
    "# Q1c - Estimate the input value for which the function is maximised?\n",
    "#  x=1"
   ]
  },
  {
   "cell_type": "code",
   "execution_count": 30,
   "metadata": {
    "collapsed": true
   },
   "outputs": [],
   "source": [
    "# Q1d - Estimate the maximum value that the function attains.\n",
    "# y=0.5"
   ]
  },
  {
   "cell_type": "markdown",
   "metadata": {
    "collapsed": false
   },
   "source": [
    "#### Quesiton 2 - A multirule function\n",
    "\n",
    "\n",
    "Construct the graph of the function\n",
    "\\\\[\n",
    "    f(x) = \\begin{cases}\n",
    "       x^2 &  x\\le 0,\\\\\n",
    "       x & x>0 \n",
    "       \\end{cases}\n",
    "\\\\]\n",
    "over the closed interval $[-5,5]$.\n",
    "\n",
    "**From the graph only**, answer the following qustions:\n",
    "\n",
    " * Is the function continuous?\n",
    " * Over what interval is the function increasing ?"
   ]
  },
  {
   "cell_type": "code",
   "execution_count": 31,
   "metadata": {
    "collapsed": false
   },
   "outputs": [
    {
     "data": {
      "image/png": "[encoded data removed]",
      "text/plain": [
       "<matplotlib.figure.Figure at 0x8b1fc18>"
      ]
     },
     "metadata": {},
     "output_type": "display_data"
    }
   ],
   "source": [
    "# construct plot\n",
    "plot ( (x**2, (x,-5,0)), (x, (x,0,5)) );"
   ]
  },
  {
   "cell_type": "code",
   "execution_count": 32,
   "metadata": {
    "collapsed": false
   },
   "outputs": [],
   "source": [
    "# Q2a - Is the function continuous?  \n",
    "# True"
   ]
  },
  {
   "cell_type": "code",
   "execution_count": 33,
   "metadata": {
    "collapsed": false
   },
   "outputs": [],
   "source": [
    "# Q2b - Over what interval is the function increasing ?\n",
    "# From x=0 to x=5 "
   ]
  },
  {
   "cell_type": "markdown",
   "metadata": {
    "collapsed": false
   },
   "source": [
    "#### Quesiton 3 - A function that blow up -> write as a multi-rule function  \n",
    "\n",
    "\n",
    "Construct the graph of the function\n",
    "\\\\[\n",
    "    f(x) = \\frac{6x+7}{9x+2}\n",
    "\\\\]\n",
    "over the closed interval $[-10,10]$.\n",
    "\n",
    "**HINT:** Since the function \"blows up\" in this interval you should limit the y-range to more clearly see where the problem is, and then split the function into two separate rules (actually the same rule but over two separate intervals) \n",
    "\n",
    "**From the graph only**, answer the following qustions:\n",
    "\n",
    " * Is the function continuous?\n",
    " * Over what interval is the function increasing ?\n",
    " * Over what interval is the function decreasing ?"
   ]
  },
  {
   "cell_type": "code",
   "execution_count": 48,
   "metadata": {
    "collapsed": false
   },
   "outputs": [
    {
     "data": {
      "image/png": "[encoded data removed]",
      "text/plain": [
       "<matplotlib.figure.Figure at 0xb362e8>"
      ]
     },
     "metadata": {},
     "output_type": "display_data"
    },
    {
     "data": {
      "text/plain": [
       "<sympy.plotting.plot.Plot at 0xb36978>"
      ]
     },
     "execution_count": 48,
     "metadata": {},
     "output_type": "execute_result"
    }
   ],
   "source": [
    "# construct the plot\n",
    "f= (( 6*x+7)/(9*x+2))\n",
    "plot((f,(x,-10,-0.25)),(f,(x,-.2,10)),ylim=(-20,20))\n"
   ]
  },
  {
   "cell_type": "code",
   "execution_count": 35,
   "metadata": {
    "collapsed": true
   },
   "outputs": [],
   "source": [
    "# Q3a - Is the function continuous?\n",
    "# False"
   ]
  },
  {
   "cell_type": "code",
   "execution_count": 36,
   "metadata": {
    "collapsed": true
   },
   "outputs": [],
   "source": [
    "# Q3b - Over what interval is the function increasing ?\n",
    "# It never increases "
   ]
  },
  {
   "cell_type": "code",
   "execution_count": 37,
   "metadata": {
    "collapsed": true
   },
   "outputs": [],
   "source": [
    "# Q3c - Over what interval is the function decreasing ?\n",
    "# From x=-10 to x=10"
   ]
  },
  {
   "cell_type": "markdown",
   "metadata": {
    "collapsed": false
   },
   "source": [
    "#### Quesiton 4 - A function that blow up multiple places -> write as a multi-rule function  \n",
    "\n",
    "\n",
    "Construct the graph of the function\n",
    "\\\\[\n",
    "    f(x) = \\frac{2x}{x^3+5x^2-4x-20}\n",
    "\\\\]\n",
    "over the closed interval $[-10,10]$.\n",
    "\n",
    "**HINT:** Since the function \"blows up\" in this interval you should limit the y-range to more clearly see where the problems are, and then split the function into separate rules (actually the same rule but over multiple separate intervals) \n",
    "\n",
    "**From the graph only**, answer the following qustions:\n",
    "\n",
    " * Is the function continuous?\n",
    " * Over what interval is the function increasing ?\n",
    " * Over what interval is the function decreasing ?"
   ]
  },
  {
   "cell_type": "code",
   "execution_count": 38,
   "metadata": {
    "collapsed": false
   },
   "outputs": [
    {
     "data": {
      "image/png": "[encoded data removed]",
      "text/plain": [
       "<matplotlib.figure.Figure at 0x8b74ac8>"
      ]
     },
     "metadata": {},
     "output_type": "display_data"
    },
    {
     "data": {
      "text/plain": [
       "<sympy.plotting.plot.Plot at 0x8b747f0>"
      ]
     },
     "execution_count": 38,
     "metadata": {},
     "output_type": "execute_result"
    }
   ],
   "source": [
    "# construct the plot\n",
    "f=(2*x)/(x**3+5*x**2-4*x-20)\n",
    "plot((f,(x,-10,-5)),(f,(x,-5,-2)),(f,(x,-2,2)),(f,(x,2,10)),ylim=(-5,5))"
   ]
  },
  {
   "cell_type": "code",
   "execution_count": 39,
   "metadata": {
    "collapsed": true
   },
   "outputs": [],
   "source": [
    "# Q4a - Is the function continuous?\n",
    "# False"
   ]
  },
  {
   "cell_type": "code",
   "execution_count": 40,
   "metadata": {
    "collapsed": true
   },
   "outputs": [],
   "source": [
    "# Q4b - Over what interval is the function increasing ?\n",
    "# from x=-10  until x=-5 , from x=-5 until x=-3.5"
   ]
  },
  {
   "cell_type": "code",
   "execution_count": 41,
   "metadata": {
    "collapsed": true
   },
   "outputs": [],
   "source": [
    "# Q4c - Over what interval is the function decreasing ?\n",
    "# from x=-3.5 until x=-2.5, from x=-2.5 until x=2.5 , from x=2.5 until x=10"
   ]
  },
  {
   "cell_type": "code",
   "execution_count": null,
   "metadata": {
    "collapsed": true
   },
   "outputs": [],
   "source": []
  },
  {
   "cell_type": "code",
   "execution_count": null,
   "metadata": {
    "collapsed": true
   },
   "outputs": [],
   "source": []
  },
  {
   "cell_type": "code",
   "execution_count": null,
   "metadata": {
    "collapsed": true
   },
   "outputs": [],
   "source": []
  }
 ],
 "metadata": {
  "kernelspec": {
   "display_name": "Python 3",
   "language": "python",
   "name": "python3"
  },
  "language_info": {
   "codemirror_mode": {
    "name": "ipython",
    "version": 3
   },
   "file_extension": ".py",
   "mimetype": "text/x-python",
   "name": "python",
   "nbconvert_exporter": "python",
   "pygments_lexer": "ipython3",
   "version": "3.4.3"
  }
 },
 "nbformat": 4,
 "nbformat_minor": 0
}
