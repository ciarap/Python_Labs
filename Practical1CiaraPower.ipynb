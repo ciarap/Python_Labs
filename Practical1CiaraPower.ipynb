{
 "cells": [
  {
   "cell_type": "code",
   "execution_count": 82,
   "metadata": {
    "collapsed": true
   },
   "outputs": [],
   "source": [
    "# specify your student id and your name\n",
    "id = '20072488'\n",
    "name = 'Ciara Power'"
   ]
  },
  {
   "cell_type": "code",
   "execution_count": 123,
   "metadata": {
    "collapsed": false
   },
   "outputs": [
    {
     "name": "stdout",
     "output_type": "stream",
     "text": [
      "Ver 0.1\n"
     ]
    }
   ],
   "source": [
    "# setup magic - see kmurphy.bitbucket.org/modules/Advanced_Calculus for setup instructions.\n",
    "%matplotlib inline\n",
    "import os\n",
    "if os.path.exists('calculus'):\n",
    "    from calculus import *\n",
    "    setup_practical(id, name)"
   ]
  },
  {
   "cell_type": "markdown",
   "metadata": {},
   "source": [
    "# Practical 01 - Quadratics\n",
    "\n",
    "## Introduction\n",
    "\n",
    "### Aim\n",
    "\n",
    "In our first practical we will take things easy and just use python to study quadratic equations. In particular:\n",
    "\n",
    " * Solve quadratic equations, (or for quadratic function determine inputs for which the output is zero).\n",
    " * Graph quadratic functions, and pimp graphs to show intercept, max/min point and roots (if any).\n",
    " * Show how the bahaviour of quadratic functions changea as their parameters change.\n",
    "\n",
    "### Mathematics Concepts\n",
    "\n",
    "Some basic concepts\n",
    "\n",
    " * A __quadratic function in x__ is a function of the form\n",
    "\\\\[\n",
    "    f(x) = a x^2 + b x + c\n",
    "\\\\]\n",
    "where $x$ is the __input__, and $a$, $b$, and $c$ are (possibly unknown) __coefficients__.\n",
    "\n",
    " * A __quadratic expression in x__ is an expression of the form\n",
    "\\\\[\n",
    "    a x^2 + b x + c\n",
    "\\\\]\n",
    "where $x$ is a __variable__, and $a$, $b$, and $c$ are (possibly unknown) __constant coefficients__.\n",
    "\n",
    " * A __quadratic equation in x__ is an equation containing a quadratic expression, as in \n",
    "\\\\[\n",
    "    a x^2 + b x + c = 0\n",
    "\\\\]\n",
    "where $x$ is a __variable__, and $a$, $b$, and $c$ are (possibly unknown) __coefficients__.\n",
    "\n",
    "> When writing mathematics we are often very sloppy in indicating whethere we are talking about a function, or an expression, or an equation, and rely on the intellegence of the reader to determine what is being talked about.  In programming we can't be ambiguous, because computer are ... well ... stupid.  \n",
    "\n",
    "\n",
    " * The __intercept__ is given by the value of the constant term, $c$.\n",
    " \n",
    " * The value of x at which the quadratic assumes its maximum/minimum value is given by\n",
    "\\\\[\n",
    "    x = -\\frac{b}{2a}\n",
    "\\\\]\n",
    " * This point will be a maximum if $a<0$ and a minimum if $a>0$, where $a$ is the coefficient of $x^2$. \n",
    "\n",
    "\n",
    "\n",
    "\n",
    "### 1.3. Python Syntax/Modules/Commands\n",
    "\n",
    "In the previous semester most, if not all, of the python code that you wrote dealt with numeric data. There is an alternative programming paradigm called __symbolic programming__ in which our python variables are treated like we treat mathematical symbols. To learn more about  programming paradigms, have a look at\n",
    "\n",
    " * [Six programming paradigms that will change how you think about coding](http://www.ybrikman.com/writing/2014/04/09/six-programming-paradigms-that-will/)\n",
    " \n",
    " * [Programming Paradigms for Dummies: What Every Programmer Should Know](http://www.ybrikman.com/writing/2014/04/09/six-programming-paradigms-that-will/)\n",
    " \n",
    " (The second link is much longer and I'm not expecting you to read all/much of it - just have a read over a coffee or two.) \n",
    "\n",
    "The python module, SymPy, has an large set of functions to support symbolic programming. Some decent SmyPy resource include\n",
    "\n",
    " * [Taming math and physics using SymPy](http://minireference.com/static/tutorials/sympy_tutorial.pdf)\n",
    " \n",
    " This is an excellent tutorial based on the __No bullshit guide__ series of textbooks by Ivan Savov. It uses Python 2.+, instead of 3.+ that we use, but that is not a big issue. \n",
    "\n",
    " * [SymPy - IPython Notebook Tutorial (youtube)](https://www.youtube.com/watch?v=cvHyaE_bs8s)\n",
    " \n",
    "\n",
    "To use _sympy_, I typically import it using \n",
    "\n",
    "    import sympy as sym\n",
    "\n",
    "and the commands that I find most useful are \n",
    "\n",
    " * [collect](http://docs.sympy.org/dev/tutorial/simplification.html#collect) used to reorder the sequence of terms in an expression so that terms with common powers are together.\n",
    " * [evalf](http://docs.sympy.org/dev/modules/core.html#module-sympy.core.evalf) used to convert a symbol/expression to nearest numerical value, see also [n](http://docs.sympy.org/dev/modules/core.html#module-sympy.core.evalf)\n",
    " * [expand](http://docs.sympy.org/dev/modules/rewriting.html#expanding) used to expand (multiply out factors/powers).\n",
    " * [factor](http://docs.sympy.org/dev/tutorial/simplification.html#factor) used to express a polynomial as a product of its factors. (This is the reverse of expand).\n",
    " * [solve](http://docs.sympy.org/dev/modules/solvers/solvers.html) used to solve equations by finding zeros of expressions/functions.\n",
    " * [subs](http://docs.sympy.org/dev/modules/numeric-computation.html#subs-evalf) used to replace a symbol in an expression by a different symbol or an expression.\n",
    " * [symbols](http://docs.sympy.org/dev/modules/core.html#module-sympy.core.symbol) used to declare/define a symbol. \n",
    " * [symplify](http://docs.sympy.org/dev/modules/simplify/simplify.html#id1) collection of heuristics that aim to simplify a mathematical expression.\n",
    " \n",
    "See [SymPy's documentation](http://docs.sympy.org/dev/modules/index.html) for more detail."
   ]
  },
  {
   "cell_type": "markdown",
   "metadata": {},
   "source": [
    "## Why Symbolic Computing ?\n",
    "\n",
    "Standard computing paradigm using numerica data (based on floating point arithmetic, see [What Every Computer Scientist Should Know About Floating-Point Arithmetic](https://docs.oracle.com/cd/E19957-01/806-3568/ncg_goldberg.html)) is focused on speed over accuracy.  This is usually what we want - we are often happy to have __some__ loss of accuracy in order to speed up calculations. For example, most graphics cards still use _float_ rather than _double_ (If interested, see the gamedev.StackExchange article [About floating point precision and why do we still use it](http://gamedev.stackexchange.com/questions/3351/about-floating-point-precision-and-why-do-we-still-use-it). \n",
    "\n",
    "However, there are situtations where accuracy is paramount. This is where symbolic computing rules.\n",
    "\n",
    "To ilustrate the differences between the computing paradigm using numerica data (I will call this _numeric computing_ from now on) and symbolic computing, I will preform similar tasks using \n",
    " * numpy - this is a high preformance matrix and math module using numeric data\n",
    " * sympy - the symbolic computation module discussed above \n",
    "\n",
    "First we import the modules ..."
   ]
  },
  {
   "cell_type": "code",
   "execution_count": 124,
   "metadata": {
    "collapsed": false
   },
   "outputs": [],
   "source": [
    "# load both libraries \n",
    "import numpy as np\n",
    "import sympy as sym"
   ]
  },
  {
   "cell_type": "markdown",
   "metadata": {},
   "source": [
    "Importing the module using this style allows us to access variable or functions that are defined in both modules. For example both modules define the value of $\\pi$ and store it in the identifier _pi_ ..."
   ]
  },
  {
   "cell_type": "code",
   "execution_count": 125,
   "metadata": {
    "collapsed": false
   },
   "outputs": [
    {
     "data": {
      "text/plain": [
       "3.141592653589793"
      ]
     },
     "execution_count": 125,
     "metadata": {},
     "output_type": "execute_result"
    }
   ],
   "source": [
    "np.pi"
   ]
  },
  {
   "cell_type": "code",
   "execution_count": 126,
   "metadata": {
    "collapsed": false
   },
   "outputs": [
    {
     "data": {
      "text/plain": [
       "pi"
      ]
     },
     "execution_count": 126,
     "metadata": {},
     "output_type": "execute_result"
    }
   ],
   "source": [
    "sym.pi"
   ]
  },
  {
   "cell_type": "markdown",
   "metadata": {},
   "source": [
    "Why the different output?\n",
    "\n",
    "Well _numpy_ is a numeric library and so it represents $\\pi$ by the closest nummeric value to $\\pi$ that it can store. On the other had, _sympy_, is a symbolic library and so treats the irrational number $\\pi$ as a symbol since it cannot represent it as a floating point number without losing accuracy. \n",
    "\n",
    "Ok well, are the two different representions equal ? Lets see .."
   ]
  },
  {
   "cell_type": "code",
   "execution_count": 127,
   "metadata": {
    "collapsed": false
   },
   "outputs": [
    {
     "data": {
      "text/plain": [
       "False"
      ]
     },
     "execution_count": 127,
     "metadata": {},
     "output_type": "execute_result"
    }
   ],
   "source": [
    "np.pi == sym.pi"
   ]
  },
  {
   "cell_type": "markdown",
   "metadata": {},
   "source": [
    "The differene here is reasonable, since the symbolic representation is the exact value of $\\pi$ while the numeric representation is an approximation.\n",
    "\n",
    "What happens if we convert the symbolic representation to a numeric value?"
   ]
  },
  {
   "cell_type": "code",
   "execution_count": 128,
   "metadata": {
    "collapsed": false
   },
   "outputs": [
    {
     "data": {
      "text/plain": [
       "True"
      ]
     },
     "execution_count": 128,
     "metadata": {},
     "output_type": "execute_result"
    }
   ],
   "source": [
    "np.pi == sym.pi.evalf()"
   ]
  },
  {
   "cell_type": "markdown",
   "metadata": {},
   "source": [
    "So when we called _evalf_ we get back our standrd numeric approximation to $\\pi$. Big deal!\n",
    "\n",
    "Well, the function _evalf_ can take a parameter which specifies the accuracy in the conversion so we can do the following."
   ]
  },
  {
   "cell_type": "code",
   "execution_count": 129,
   "metadata": {
    "collapsed": false
   },
   "outputs": [
    {
     "data": {
      "text/plain": [
       "3.14159265358979"
      ]
     },
     "execution_count": 129,
     "metadata": {},
     "output_type": "execute_result"
    }
   ],
   "source": [
    "# standard conversion to numeric value\n",
    "sym.pi.evalf()"
   ]
  },
  {
   "cell_type": "code",
   "execution_count": 130,
   "metadata": {
    "collapsed": false,
    "scrolled": true
   },
   "outputs": [
    {
     "data": {
      "text/plain": [
       "3.14159265358979323846264338327950288419716939937510582097494459230781640628620899862803482534211706798214808651328230664709384460955058223172535940812848111745028410270193852110555964462294895493038196442881097566593344612847564823378678316527120190914564856692346034861045432664821339360726024914127372458700660631558817488152092096282925409171536436789259036001133053054882046652138414695194151160943305727036575959195309218611738193261179310511854807446237996274956735188575272489122793818301194912983367336244065664308602139494639522473719070217986094370277053921717629317675238467481846766940513200056812714526356082778577134275778960917363717872146844090122495343014654958537105079227968925892354201995611212902196086403441815981362977477130996051870721134999999837297804995105973173281609631859502445945534690830264252230825334468503526193118817101000313783875288658753320838142061717766914730359825349042875546873115956286388235378759375195778185778053217122680661300192787661119590921642019893809525720106548586327886593615338182796823030195203530185296899577362259941389124972177528347913151557485724245415069595082953311686172785588907509838175463746493931925506040092770167113900984882401285836160356370766010471018194295559619894676783744944825537977472684710404753464620804668425906949129331367702898915210475216205696602405803815019351125338243003558764024749647326391419927260426992279678235478163600934172164121992458631503028618297455570674983850549458858692699569092721079750930295532116534498720275596023648066549911988183479775356636980742654252786255181841757467289097777279380008164706001614524919217321721477235014144197356854816136115735255213347574184946843852332390739414333454776241686251898356948556209921922218427255025425688767179049460165346680498862723279178608578438382796797668145410095388378636095068006422512520511739298489608412848862694560424196528502221066118630674427862203919494504712371378696095636437191728746776465757396241389086583264599581339047802759009946576407895126946839835259570982582262052248940772671947826848260147699090264013639443745530506820349625245174939965143142980919065925093722169646151570985838741059788595977297549893016175392846813826868386894277415599185592524595395943104997252468084598727364469584865383673622262609912460805124388439045124413654976278079771569143599770012961608944169486855584840635342207222582848864815845602850601684273945226746767889525213852254995466672782398645659611635488623057745649803559363456817432411251507606947945109659609402522887971089314566913686722874894056010150330861792868092087476091782493858900971490967598526136554978189312978482168299894872265880485756401427047755513237964145152374623436454285844479526586782105114135473573952311342716610213596953623144295248493718711014576540359027993440374200731057853906219838744780847848968332144571386875194350643021845319104848100537061468067491927819119793995206141966342875444064374512371819217999839101591956181467514269123974894090718649423196"
      ]
     },
     "execution_count": 130,
     "metadata": {},
     "output_type": "execute_result"
    }
   ],
   "source": [
    "# convert to numeric value using more digits ...\n",
    "sym.pi.evalf(3000)"
   ]
  },
  {
   "cell_type": "markdown",
   "metadata": {},
   "source": [
    "But Symbolic computing can do more than just printing out arbitrary number of digits of $\\pi$, it also has a large collection of rules (not unlike the rules/formula you have learnt in mathematics) that it can use to simplify, factorise, expand or evualate expressions. For example we know that \n",
    "\\\\[\n",
    "    \\sin(\\pi) = 0\n",
    "\\\\]\n",
    "What does numpy and smypy say?"
   ]
  },
  {
   "cell_type": "code",
   "execution_count": 131,
   "metadata": {
    "collapsed": false
   },
   "outputs": [
    {
     "data": {
      "text/plain": [
       "1.2246467991473532e-16"
      ]
     },
     "execution_count": 131,
     "metadata": {},
     "output_type": "execute_result"
    }
   ],
   "source": [
    "# evaulating sin(pi) using numpy \n",
    "np.sin(np.pi)"
   ]
  },
  {
   "cell_type": "code",
   "execution_count": 132,
   "metadata": {
    "collapsed": false
   },
   "outputs": [
    {
     "data": {
      "text/plain": [
       "0"
      ]
     },
     "execution_count": 132,
     "metadata": {},
     "output_type": "execute_result"
    }
   ],
   "source": [
    "# evaulating sin(pi) using smypy \n",
    "sym.sin(sym.pi)"
   ]
  },
  {
   "cell_type": "markdown",
   "metadata": {},
   "source": [
    "So sympy return the correct answer sine it used known properties, while numpy resulted its best estimate of the result and the numeric error in the estimate is 1.7e-16.\n",
    "\n",
    "OK, hopefully these two examples have helped you to see the benefits of symbolic computing, let us now start with a short overview of sympy."
   ]
  },
  {
   "cell_type": "markdown",
   "metadata": {},
   "source": [
    "## A Ten Minute Overview of SymPy\n",
    "\n",
    "Before we turn to quadratic functions lets look at a few sympy examples. (We will see more examples later in the modules when you have covered differentiation)."
   ]
  },
  {
   "cell_type": "code",
   "execution_count": null,
   "metadata": {
    "collapsed": true
   },
   "outputs": [],
   "source": []
  },
  {
   "cell_type": "code",
   "execution_count": 133,
   "metadata": {
    "collapsed": true
   },
   "outputs": [],
   "source": [
    "import sympy as sym"
   ]
  },
  {
   "cell_type": "markdown",
   "metadata": {},
   "source": [
    "### Example 1: Defining new symbols and constructing expressions "
   ]
  },
  {
   "cell_type": "code",
   "execution_count": 134,
   "metadata": {
    "collapsed": false
   },
   "outputs": [
    {
     "name": "stdout",
     "output_type": "stream",
     "text": [
      "(3*a*b**2)**c\n",
      "        c\n",
      "⎛     2⎞ \n",
      "⎝3⋅a⋅b ⎠ \n"
     ]
    }
   ],
   "source": [
    "a, b, c, d = sym.symbols('a, b, c, d')        # define multiple symbols\n",
    "e = (a*b*b + 2*a*b*b)**c                      # create a new symbols based on existing symbols\n",
    "\n",
    "print(e)                                      # print the expression\n",
    "\n",
    "sym.pprint(e)                                 # pretty print the expression"
   ]
  },
  {
   "cell_type": "markdown",
   "metadata": {},
   "source": [
    "### Example 2: The expand function"
   ]
  },
  {
   "cell_type": "code",
   "execution_count": 135,
   "metadata": {
    "collapsed": false
   },
   "outputs": [
    {
     "name": "stdout",
     "output_type": "stream",
     "text": [
      "       5\n",
      "(a + b) \n",
      " 5      4         3  2       2  3        4    5\n",
      "a  + 5⋅a ⋅b + 10⋅a ⋅b  + 10⋅a ⋅b  + 5⋅a⋅b  + b \n"
     ]
    }
   ],
   "source": [
    "a, b = sym.symbols('a, b')                    # define symbols\n",
    "e = (a+b)**5\n",
    "sym.pprint(e)                                 # pretty print before expansion\n",
    "sym.pprint(sym.expand(e))                     # pretty print after expansion"
   ]
  },
  {
   "cell_type": "markdown",
   "metadata": {},
   "source": [
    "### Example 3: The subs function"
   ]
  },
  {
   "cell_type": "code",
   "execution_count": 136,
   "metadata": {
    "collapsed": false,
    "scrolled": true
   },
   "outputs": [
    {
     "name": "stdout",
     "output_type": "stream",
     "text": [
      "       3\n",
      "(x + 1) \n",
      " 3      2          \n",
      "x  + 3⋅x  + 3⋅x + 1\n",
      "             3            2    \n",
      "3⋅y + (y - 1)  + 3⋅(y - 1)  - 2\n",
      " 3\n",
      "y \n"
     ]
    }
   ],
   "source": [
    "x, y = sym.symbols('x, y')                    # define symbols\n",
    "ex = (x+1)**3                                 # create a simple cubic\n",
    "sym.pprint(ex)                                # pretty print before expansion\n",
    "ex = sym.expand(ex)                           # expand expression \n",
    "sym.pprint(ex)\n",
    "ex = ex.subs(x, y-1)                               # substitute x->y-1 (same as x+1->y)\n",
    "sym.pprint(ex)  \n",
    "ex = sym.simplify(ex)\n",
    "sym.pprint(ex)                                "
   ]
  },
  {
   "cell_type": "markdown",
   "metadata": {},
   "source": [
    "### Example 3: Plotting"
   ]
  },
  {
   "cell_type": "code",
   "execution_count": 137,
   "metadata": {
    "collapsed": true
   },
   "outputs": [],
   "source": [
    "# import the command for the type of plot we want\n",
    "from sympy.plotting import plot"
   ]
  },
  {
   "cell_type": "code",
   "execution_count": 138,
   "metadata": {
    "collapsed": false
   },
   "outputs": [
    {
     "data": {
      "image/png": "[encoded data removed]",
      "text/plain": [
       "<matplotlib.figure.Figure at 0x5955438>"
      ]
     },
     "metadata": {},
     "output_type": "display_data"
    },
    {
     "data": {
      "text/plain": [
       "<sympy.plotting.plot.Plot at 0x594f550>"
      ]
     },
     "execution_count": 138,
     "metadata": {},
     "output_type": "execute_result"
    }
   ],
   "source": [
    "# simplest call (default plot range is -10..10)\n",
    "plot(x*x+5*x+6)"
   ]
  },
  {
   "cell_type": "code",
   "execution_count": 139,
   "metadata": {
    "collapsed": false
   },
   "outputs": [
    {
     "data": {
      "image/png": "[encoded data removed]",
      "text/plain": [
       "<matplotlib.figure.Figure at 0x98b3a90>"
      ]
     },
     "metadata": {},
     "output_type": "display_data"
    },
    {
     "data": {
      "text/plain": [
       "<sympy.plotting.plot.Plot at 0x98f4518>"
      ]
     },
     "execution_count": 139,
     "metadata": {},
     "output_type": "execute_result"
    }
   ],
   "source": [
    "# change the plot range\n",
    "plot(x*x+5*x+6, (x,-5,1))"
   ]
  },
  {
   "cell_type": "code",
   "execution_count": 140,
   "metadata": {
    "collapsed": false
   },
   "outputs": [
    {
     "name": "stdout",
     "output_type": "stream",
     "text": [
      "Plot object containing:\n",
      "[0]: cartesian line: x**2 + 5*x + 6 for x over (-5.0, 1.0)\n"
     ]
    },
    {
     "data": {
      "image/png": "[encoded data removed]",
      "text/plain": [
       "<matplotlib.figure.Figure at 0x7883fd0>"
      ]
     },
     "metadata": {},
     "output_type": "display_data"
    }
   ],
   "source": [
    "# pimping a plot\n",
    "p = plot(x*x+5*x+6, (x,-5,1), show=False)      # generate the plot but do not show it yet\n",
    "p.legend = True\n",
    "p.title = \"My Silly Title\"\n",
    "p.xlabel = r\"$x$ (dogs)\"\n",
    "p.ylabel = r\"$f(x)$ (dinners)\"\n",
    "p.ylim = (-2,10)                               # output range\n",
    "p.axis_center = (-5,0)                         # move the axis to the left\n",
    "print(p)                                       # output textual description of plot\n",
    "\n",
    "# change properties of first curve in plot\n",
    "p[0].line_color = 'r'\n",
    "p[0].label = r\"$x^2+5x+6$\"                     # use a fancy (with maths notation) label\n",
    "\n",
    "p.show()                                       # finally show plot\n",
    "#p.save('my_silly_plot.png')                    # or save to external file (for use later)"
   ]
  },
  {
   "cell_type": "markdown",
   "metadata": {},
   "source": [
    "## Working with Quadratics\n",
    "\n",
    "OK, now that we have covered some of the basics of sympy, lets turn to quadratic functions and expressions.\n"
   ]
  },
  {
   "cell_type": "code",
   "execution_count": 141,
   "metadata": {
    "collapsed": false
   },
   "outputs": [],
   "source": [
    "x = sym.symbols('x')           # define symbols\n",
    "ex = 2*x*x + 10*x + 12         # sample quadratic"
   ]
  },
  {
   "cell_type": "code",
   "execution_count": 142,
   "metadata": {
    "collapsed": false
   },
   "outputs": [
    {
     "data": {
      "text/plain": [
       "2*x**2 + 10*x + 12 == 0"
      ]
     },
     "execution_count": 142,
     "metadata": {},
     "output_type": "execute_result"
    }
   ],
   "source": [
    "# express as a equation\n",
    "sym.Eq(ex)"
   ]
  },
  {
   "cell_type": "code",
   "execution_count": 143,
   "metadata": {
    "collapsed": false
   },
   "outputs": [
    {
     "data": {
      "text/plain": [
       "[-3, -2]"
      ]
     },
     "execution_count": 143,
     "metadata": {},
     "output_type": "execute_result"
    }
   ],
   "source": [
    "# solve \n",
    "sym.solve(ex, x)"
   ]
  },
  {
   "cell_type": "code",
   "execution_count": 144,
   "metadata": {
    "collapsed": false,
    "scrolled": true
   },
   "outputs": [
    {
     "data": {
      "image/png": "[encoded data removed]",
      "text/plain": [
       "<matplotlib.figure.Figure at 0x6ee8358>"
      ]
     },
     "metadata": {},
     "output_type": "display_data"
    }
   ],
   "source": [
    "# plot\n",
    "p = plot(ex, show=False)\n",
    "p.xlim = (-5,0)\n",
    "p.ylim = (-1,3)\n",
    "p.axis_center = (-5,0)\n",
    "p.legend = True\n",
    "p.show()"
   ]
  },
  {
   "cell_type": "code",
   "execution_count": 145,
   "metadata": {
    "collapsed": false
   },
   "outputs": [
    {
     "data": {
      "text/plain": [
       "2*(x + 2)*(x + 3)"
      ]
     },
     "execution_count": 145,
     "metadata": {},
     "output_type": "execute_result"
    }
   ],
   "source": [
    "# factorise the quadratic\n",
    "ex.factor()                      # or could use sym.factor(ex)"
   ]
  },
  {
   "cell_type": "code",
   "execution_count": 146,
   "metadata": {
    "collapsed": false
   },
   "outputs": [
    {
     "name": "stdout",
     "output_type": "stream",
     "text": [
      "Roots = [-3, -2]\n",
      "\n",
      "New expression is  (x + 2)*(x + 3)\n",
      "Is new expression the same as the original expression ? False\n",
      "\n",
      "Coefficient of x^2 is  2\n",
      "\n",
      "New expression is  (x + 2)*(2*x + 6)\n",
      "Is new expression the same as the original expression ? False\n",
      "\n",
      "Is new expression the same as the original expression ? True\n"
     ]
    }
   ],
   "source": [
    "# let's rebuild the quaradic using the roots and compare with the original expression\n",
    "roots = sym.solve(ex,x)\n",
    "print (\"Roots =\", roots)\n",
    "\n",
    "new_ex = (x-roots[0])*(x-roots[1]) \n",
    "print (\"\\nNew expression is \", new_ex)\n",
    "\n",
    "# check if constructed expression is same as original \n",
    "print(\"Is new expression the same as the original expression ?\", sym.simplify(new_ex==ex))\n",
    "\n",
    "# I forgot the coefficient in front of x squared\n",
    "\n",
    "a = ex.coeff(x**2)\n",
    "print (\"\\nCoefficient of x^2 is \", a)\n",
    "\n",
    "# rebuild expression again\n",
    "new_ex = a * (x-roots[0]) * (x-roots[1])\n",
    "\n",
    "print (\"\\nNew expression is \", new_ex)\n",
    "\n",
    "# check if constructed expression is same as original \n",
    "print(\"Is new expression the same as the original expression ?\", sym.simplify(new_ex==ex))\n",
    "\n",
    "# what is wrong now ? ... should expand and simplfy new expression\n",
    "new_ex = new_ex.expand()\n",
    "\n",
    "# Third time .... check if constructed expression is same as original \n",
    "print(\"\\nIs new expression the same as the original expression ?\", sym.simplify(new_ex==ex))"
   ]
  },
  {
   "cell_type": "code",
   "execution_count": 147,
   "metadata": {
    "collapsed": false
   },
   "outputs": [
    {
     "name": "stdout",
     "output_type": "stream",
     "text": [
      "The intercept is 12\n"
     ]
    }
   ],
   "source": [
    "# get the intercept  (the constant coefficient)\n",
    "c = ex.subs(x,0)                             # can't use coeff, so instead, just set x=0 and see what is left\n",
    "print (\"The intercept is\", c)"
   ]
  },
  {
   "cell_type": "code",
   "execution_count": 148,
   "metadata": {
    "collapsed": false
   },
   "outputs": [
    {
     "name": "stdout",
     "output_type": "stream",
     "text": [
      "Min/max point is at (-5/2, -1/2)\n"
     ]
    }
   ],
   "source": [
    "# get the min/max value of a quadratic using the formula x=-b/2a \n",
    "a = ex.coeff(x**2)        \n",
    "b = ex.coeff(x)\n",
    "x_min = -b/(2*a)\n",
    "y_min = ex.subs(x,x_min)\n",
    "\n",
    "print (\"Min/max point is at\", (x_min,y_min))"
   ]
  },
  {
   "cell_type": "code",
   "execution_count": 149,
   "metadata": {
    "collapsed": false
   },
   "outputs": [
    {
     "name": "stdout",
     "output_type": "stream",
     "text": [
      "The optimal point is a min and is located at (-5/2, -1/2)\n"
     ]
    }
   ],
   "source": [
    "# lets be smart and determine whether it is a max or is a min\n",
    "\n",
    "optimal_type = \"min\" if a>0 else \"max\"\n",
    "print (\"The optimal point is a\", optimal_type, \"and is located at\", (x_min,y_min))"
   ]
  },
  {
   "cell_type": "markdown",
   "metadata": {},
   "source": [
    "## Exercises\n",
    "\n",
    "Finally we get to the practical bit of your practical ... dont worry in later weeks there will be less preamble and more practical ..."
   ]
  },
  {
   "cell_type": "markdown",
   "metadata": {},
   "source": [
    "#### Question 1\n",
    "The number of bacteria in a refrigerated food is given by\n",
    "\\\\[\n",
    "    f(t)=20t^2 −20t+120,\n",
    "\\\\]\n",
    "for \\\\(− 2\\le t \\le 14\\\\) and where $t$ is the temperature of the food in Celsius. \n",
    "\n",
    " * Generate a graph showing the bacteria population over interval of interest and properly label the graph.\n",
    " * Determine the temperature at which the population is minimised. And what is this minimum population?\n"
   ]
  },
  {
   "cell_type": "code",
   "execution_count": 167,
   "metadata": {
    "collapsed": false
   },
   "outputs": [
    {
     "data": {
      "image/png": "[encoded data removed]",
      "text/plain": [
       "<matplotlib.figure.Figure at 0x6f94eb8>"
      ]
     },
     "metadata": {},
     "output_type": "display_data"
    }
   ],
   "source": [
    "# Generate a graph show the bacteria population over interval of interest and properly label the graph.\n",
    "t = sym.symbols('t')          \n",
    "ex = 20*t**2 - 20*t + 120\n",
    "p = plot(ex, show=False)\n",
    "p.xlim = (-2,14)\n",
    "p.legend = True\n",
    "p.title = \"Bacteria Population vs. Temperature\"\n",
    "p.xlabel = r\"$t$ (Temperature (in Celsius))\"\n",
    "p.ylabel = r\"$f(t)$ (Bacteria Population)\"\n",
    "p.show()"
   ]
  },
  {
   "cell_type": "code",
   "execution_count": 168,
   "metadata": {
    "collapsed": false
   },
   "outputs": [
    {
     "name": "stdout",
     "output_type": "stream",
     "text": [
      "The temperature at which the population is minimised is 1/2 Celsius\n",
      "The minimum population is 115 bacteria\n"
     ]
    }
   ],
   "source": [
    "# Determine the temperature at which the population is minimised. And what is this minimum population?\n",
    "a = ex.coeff(t**2)        \n",
    "b = ex.coeff(t)\n",
    "t_min = -b/(2*a)\n",
    "n_min = ex.subs(t,t_min)\n",
    "\n",
    "print (\"The temperature at which the population is minimised is\", t_min,\"Celsius\" )\n",
    "print (\"The minimum population is\", n_min,\"bacteria\" )"
   ]
  },
  {
   "cell_type": "markdown",
   "metadata": {},
   "source": [
    "#### Question 2\n",
    "The height, $h$, in metres of an object above the ground is given by\n",
    "\\\\[\n",
    "    h=−16t^2 +64t+190,\n",
    "\\\\]\n",
    "where $t\\ge 0$ is the time in seconds since the object was thrown. \n",
    "\n",
    " * Generate a graph showing the height of the object over time\n",
    " * Determine the time it takes the object to reach its maximum height.\n",
    " * Determine the maximum height of the object. \n",
    " * Determine the time it takes the object to strike the ground.\n"
   ]
  },
  {
   "cell_type": "code",
   "execution_count": 169,
   "metadata": {
    "collapsed": false
   },
   "outputs": [
    {
     "data": {
      "image/png": "[encoded data removed]",
      "text/plain": [
       "<matplotlib.figure.Figure at 0x6f97b00>"
      ]
     },
     "metadata": {},
     "output_type": "display_data"
    }
   ],
   "source": [
    "# Generate a graph showing the height of the object over time\n",
    "t = sym.symbols('t')          \n",
    "ex = -16*t**2 + 64*t + 190\n",
    "p = plot(ex, show=False)\n",
    "p.xlim = (0,10)\n",
    "p.ylim = (0,400)\n",
    "p.legend = True\n",
    "p.title = \"Height of the Object over Time\"\n",
    "p.xlabel = r\"$t$ (Time (seconds))\"\n",
    "p.ylabel = r\"$f(t)$ (Height (metres))\"\n",
    "p.show()"
   ]
  },
  {
   "cell_type": "code",
   "execution_count": 170,
   "metadata": {
    "collapsed": false
   },
   "outputs": [
    {
     "name": "stdout",
     "output_type": "stream",
     "text": [
      "The time it takes the object to reach its maximum height is 2 seconds\n"
     ]
    }
   ],
   "source": [
    "# Determine the time it takes the object to reach its maximum height.\n",
    "a = ex.coeff(t**2)        \n",
    "b = ex.coeff(t)\n",
    "t_max = -b/(2*a)\n",
    "print(\"The time it takes the object to reach its maximum height is\", t_max,\"seconds\")"
   ]
  },
  {
   "cell_type": "code",
   "execution_count": 171,
   "metadata": {
    "collapsed": false
   },
   "outputs": [
    {
     "name": "stdout",
     "output_type": "stream",
     "text": [
      "The maximum height of the object is 254 metres\n"
     ]
    }
   ],
   "source": [
    "# Determine the maximum height of the object.\n",
    "h_max = ex.subs(t,t_max)\n",
    "print(\"The maximum height of the object is\",h_max,\"metres\")"
   ]
  },
  {
   "cell_type": "code",
   "execution_count": 172,
   "metadata": {
    "collapsed": false
   },
   "outputs": [
    {
     "name": "stdout",
     "output_type": "stream",
     "text": [
      "The time taken for the object to hit the ground is 5.98 seconds (rounded to two places of decimal)\n"
     ]
    }
   ],
   "source": [
    "# Determine the time it takes the object to strike the ground.\n",
    "full_time=(( sym.solve(ex,t))[0]).evalf(3)\n",
    "print(\"The time taken for the object to hit the ground is\",full_time,\"seconds (rounded to two places of decimal)\")"
   ]
  },
  {
   "cell_type": "code",
   "execution_count": null,
   "metadata": {
    "collapsed": true
   },
   "outputs": [],
   "source": []
  }
 ],
 "metadata": {
  "kernelspec": {
   "display_name": "Python 3",
   "language": "python",
   "name": "python3"
  },
  "language_info": {
   "codemirror_mode": {
    "name": "ipython",
    "version": 3
   },
   "file_extension": ".py",
   "mimetype": "text/x-python",
   "name": "python",
   "nbconvert_exporter": "python",
   "pygments_lexer": "ipython3",
   "version": "3.4.3"
  }
 },
 "nbformat": 4,
 "nbformat_minor": 0
}
