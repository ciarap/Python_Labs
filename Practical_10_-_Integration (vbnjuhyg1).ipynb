{
 "cells": [
  {
   "cell_type": "code",
   "execution_count": 5,
   "metadata": {
    "collapsed": true
   },
   "outputs": [],
   "source": [
    "# specify your studentb  id and your name\n",
    "id = 'W20072488'\n",
    "name = 'Ciara Power'"
   ]
  },
  {
   "cell_type": "code",
   "execution_count": 6,
   "metadata": {
    "collapsed": false
   },
   "outputs": [
    {
     "name": "stdout",
     "output_type": "stream",
     "text": [
      "Ver 0.3\n"
     ]
    },
    {
     "data": {
      "text/html": [
       "<style>\n",
       "\n",
       "\n",
       "\n",
       "/* counting headers and my styling */\n",
       "\n",
       ".navbar-collapse.collapse {\n",
       "display: block!important;\n",
       "}\n",
       "\n",
       ".navbar-nav>li, .navbar-nav {\n",
       "float: left !important;\n",
       "}\n",
       "\n",
       ".navbar-nav.navbar-right:last-child {\n",
       "margin-right: -15px !important;\n",
       "}\n",
       "\n",
       ".navbar-right {\n",
       "float: right!important;\n",
       "}\n",
       "\n",
       "#notebook_name {\n",
       "    font-weight: 600;\n",
       "}\n",
       "\n",
       "h1 {\n",
       "\ttext-align: center;\n",
       "\tbackground-color: rgba(0,255,1,0.15);\n",
       "\tborder-bottom: 1px solid #cccccc;\n",
       "\tcounter-reset: h2counter;\t\n",
       "}\n",
       "\n",
       "h2 {\n",
       "\ttext-align: center;\n",
       "\twidth: 75%;\n",
       "\tmargin-left: 25%;\n",
       "\tbackground-color: rgba(255,255,1,0.15);\n",
       "\tborder-bottom: 1px solid #cccccc;\n",
       "\tcounter-reset: h3counter;\t\n",
       "}\n",
       "h2:before {\n",
       "\tcounter-increment: h2counter;\n",
       "}\n",
       "\n",
       "h3 {\n",
       "\tborder-bottom: 1px solid #cccccc;\t\n",
       "}\n",
       "h3:before {\n",
       "\tcounter-increment: h3counter;\n",
       "}\n",
       "\n",
       "h4 {\n",
       "\tborder-bottom: 1px solid #cccccc;\t\n",
       "}\n",
       "h4:before {\n",
       "\tcounter-increment: h4counter;\n",
       "}\n",
       " </style>"
      ],
      "text/plain": [
       "<IPython.core.display.HTML object>"
      ]
     },
     "execution_count": 6,
     "metadata": {},
     "output_type": "execute_result"
    }
   ],
   "source": [
    "# setup magic - see kmurphy.bitbucket.org/modules/Advanced_Calculus for setup instructions.\n",
    "%matplotlib inline\n",
    "from calculus import *\n",
    "setup_practical(id, name)"
   ]
  },
  {
   "cell_type": "markdown",
   "metadata": {},
   "source": [
    "# Practical 10 - Integration\n",
    "\n",
    "## Introduction\n",
    "\n",
    "### Aim\n",
    "\n",
    "In this practical we will use python to study integration and someof its applications (average value, area, etc)\n",
    " \n",
    "### Mathematics Concepts\n",
    "\n",
    " * The __indefinite integral__ (or __anti-derivative__) of a function, $f(x)$, is the function, $F(x)$ defined by\n",
    " \n",
    "\\\\[\n",
    "    F(x) = \\int f(x) dx + C      \\implies \\frac{dF}{dx} = f(x)\n",
    "\\\\]\n",
    "\n",
    "where $C$ is an arbitrary constant (called __the constant of integration__).\n",
    "\n",
    "\n",
    " * The __definite integral__ of a function, $f(x)$, is the *number*, $A$, defined by\n",
    " \n",
    "\\\\[\n",
    "    A = \\int_a^b f(x) dx \n",
    "\\\\]\n",
    "\n",
    "and **if** $f(x)\\ge0$ then the definite integral is equal to the area between the function and the x-axis over the interval $x=a$ to $x=b$.\n",
    "\n",
    "![](http://www.drcruzan.com/Images/Mathematics/DefiniteIntegrals/GeometryAnalyticBox.png)\n",
    " \n",
    "### Python Concepts\n",
    "\n",
    " * The Python symbolic module, __sympy__, has functions \n",
    "    * __symbols__ or (better) __Symbol__ define a symbol \n",
    "    * __Funciton__ to define a symbolic funciton\n",
    "    * __limit(f, t, t0)__ - compute the limit of the experssion, __f__, as the variable __t__ tends towards __t0__.\n",
    "    * __diff(f, t)__ - differentiation the function, __f__, with respect to variable __t__.\n",
    "    * __display__ to dispaly an experssion using mathematics notation.\n",
    "    * __integrate(f,t)__ to calculate the indefinite integral of $f(t)$.\n",
    "    * __integrate(f,(t,a,b))__ to calculate the definite integral of $f(t)$ over the interval $t=a$ to $t=b$.\n",
    "and standard methods \n",
    "    * __subs(exp_old,exp_new)__ to substitute sub-expresion __exp_old__ with __exp_new__. \n",
    "    * __solve(e,x)__ to solve equation $e=0$ for variable $x$\n"
   ]
  },
  {
   "cell_type": "markdown",
   "metadata": {},
   "source": [
    "## Standard Importing of  Libraries\n"
   ]
  },
  {
   "cell_type": "code",
   "execution_count": 7,
   "metadata": {
    "collapsed": true
   },
   "outputs": [],
   "source": [
    "# for numeric work\n",
    "import numpy as np\n",
    "import matplotlib.pyplot as plt\n",
    "\n",
    "# for symbolic work\n",
    "import sympy as sym\n",
    "from sympy.plotting import plot\n",
    "\n",
    "# mathematical output \n",
    "from sympy import *\n",
    "from IPython.display import display\n",
    "sym.init_printing(pretty_print=True)"
   ]
  },
  {
   "cell_type": "markdown",
   "metadata": {},
   "source": [
    "## Helper functions"
   ]
  },
  {
   "cell_type": "code",
   "execution_count": 8,
   "metadata": {
    "collapsed": true
   },
   "outputs": [],
   "source": [
    "def secondDerivativeTest(f,x,xStar):\n",
    "    \n",
    "    df = f.diff(x)   # get first derivative\n",
    "    if df.subs(x, xStar)!=0:\n",
    "        return \"The value %s does not appear to be a stationary point\"%xStar\n",
    "    \n",
    "    ddf = df.diff(x)  # get second derivative\n",
    "    result = ddf.subs(x,xStar)\n",
    "    if result<0:\n",
    "        return \"The value %s is a local maximum.\"%xStar\n",
    "    elif result>0:\n",
    "        return \"The value %s is a local minimum.\"%xStar\n",
    "    else:\n",
    "        return \"The value %s is a local maximum, local minimum, or a point of inflection.\"%xStar"
   ]
  },
  {
   "cell_type": "markdown",
   "metadata": {},
   "source": [
    "## Examples"
   ]
  },
  {
   "cell_type": "markdown",
   "metadata": {},
   "source": [
    "####Example 1 - Indefinite Integration\n",
    "\n",
    "Determine the indefinite integral (anit-derivative of each of the following and verify that the derivative of the anti-derivative is the original function.\n",
    "\n",
    "**(a)** $f(x) = x^3 + x^2 + 1$\n",
    "\n",
    "**(b)** $f(x) = x \\sin(x)$\n"
   ]
  },
  {
   "cell_type": "code",
   "execution_count": 9,
   "metadata": {
    "collapsed": false
   },
   "outputs": [
    {
     "data": {
      "text/plain": [
       "'Function f(x)'"
      ]
     },
     "metadata": {},
     "output_type": "display_data"
    },
    {
     "data": {
      "image/png": "iVBORw0KGgoAAAANSUhEUgAAAF8AAAAZCAYAAABXTfKEAAAABHNCSVQICAgIfAhkiAAAAnFJREFU\naIHt2M2LTXEcx/HXTMoYD2MlNXmYGUIYMR6GETY2k4XFsGQxImVnZEFZSElhRYl05OEPEDsRC5SH\nhaxEUjZKicXkIQ+L37lcd+6MO+eeO2eO7rtu9/xuv9/39+l7vr/v/X5/1MmMhoTrNmAOJmITItxK\nR1KqrME6tKAHR3EvU0Up8B474+dtGMTU7OSUZQqOF423Czpbs5GTHkswOX7uwzfjz/md+IGOeDwN\nP4WX8N9wDYeyFlGGBiHtFFLrYsH5yzNTlCIrMIDzaM5YSyVcxsmM9m7Gs1oY3o0nQo4dr/TjhOQF\nRjWswiPh1FVNN96hLR4vjA33VWGzExOq1DUcWwTnQxPmVmFrNDoX4aZQCT6UkvNX4rZQZkIvvmJe\nFTYj1TllODYKjp8Zf7ZibRX2Isl0Rso4P0m0PcZF7BOqifVCdL1MYKuWtOOGoemwJQMtZSl1fhd2\n4LvwhndhD6YL9fERvMKVojWna65yKJXqHG/l77C04wwa43GEF0KH2CNE+f4a7R2p/DjnRWfpuhHT\nzgAOCuIJTdQH3McsnIqNZE1edI6KtpLxWxwbo70jlUdUXnSWrhsx8l8XPS8QcuedBBuNxCUsK/P7\nbKwWqqZS+oU+okBedCZmL774u3PtGGZuGkSSRVRedEbKRH7hT2uS0AEujcebhXZ4sGjegQSbpk1e\ndFZEIe30CqKfCjeU8/GxaN5h4ShmTV50ltIUfzf7Eyi/nX9XOBpdwoVZN87inJDfruPBGAkdibzo\nhBnCZV6rcKMKb/AcF3A1I11DiNTmeiFtIinqbPz3lDHhEz5nLaIC8qKzTp06deqMM34BxlaFTiQF\nlVoAAAAASUVORK5CYII=\n",
      "text/latex": [
       "$$x^{3} + x^{2} + 1$$"
      ],
      "text/plain": [
       " 3    2    \n",
       "x  + x  + 1"
      ]
     },
     "metadata": {},
     "output_type": "display_data"
    },
    {
     "data": {
      "text/plain": [
       "'The definite integral of f(x) is F(x)'"
      ]
     },
     "metadata": {},
     "output_type": "display_data"
    },
    {
     "data": {
      "image/png": "iVBORw0KGgoAAAANSUhEUgAAAKYAAAAcCAYAAADr2cRkAAAABHNCSVQICAgIfAhkiAAABLFJREFU\neJzt23uoFVUUx/FPvtIyjR4gZallDwJLU0yKzIxeFgaWZSFWZoX90bsoDRKilxXRH72gaISoP7Kw\nTIKEsvqjLBILojDKCimCMLKXmmZ/rLk5Hs49d+bcM+fc6z1fGM689uz1m5m99lp7z6FNmx5I/1Yb\nUCeP4S/80GpDmsDUdJmMW7EF37bUojZVOQM/Y1qL7WgWv+DKdH22aJAHtM6c5tCv1QYUZDhOwpd1\nlp/VQFuaxTQsT9d3YWCd1+mN2nsNd2BfrFHcYx6PFQ22p9m8hMV1lOt12ge02oACzMRb2FZn+Svw\nchfn3C480oN11lEWJ2M6/sTjdZSvpn0KrsffGIL98AA+q9/MvsdhmJfZXqO4x1wnHkBnjBIPfknB\n6zaT6/AphhYsV6l9At7E4My+p0ViNb47BjaKMmLMEzXeE5+Lw3FXuhwrvMAFOctPxhfCO3TGYuE1\n6qUM3VNEojcm3X5feM/zClyjmvZ54t5dlNm3SiRV8wvaWIbuUkgwuuQ6vlPMYz6B82scn4U5IrlY\nUqdNicbrnoR3RFwNM7AdYwtco5r2efgNZ2f2deh/qKCNifKfd0NIlGfoSCzFVqzEhTnK9MfnOm/V\nQ/Fcut7TXkyYi9twC17FOQXKdqU9y1LsEKMeRUiUoLuawePEjdgi3P82ERRvbXTlKRNFC94pBC4Q\nQfmBovu+F9+k527CnemSl+n4QNz0atytNclOXt0vZsoUTXy60t7BGDFWeoPyk58iz/t/LsWPdrea\nqfjdnrFIVyTyt6Cj8KTdsW6CDTgVp+Ff0Ui6wwvptaoxXryYHTTLYzZDN7W1Ez3OfcKrLlJfzpEo\nWfcE4R2z2e9MkQWOLMnQp+w5i/EK1qbrR+BRHFyg7koGYz32qXKsH5ZhUGZfs17MsnVTW3slA7Aa\nH+GQgvUkSta9Wsw9d3f+PJHf0DEV25twfzfrz3KxzrvphTizYl+zXsyydVNbezWmCv3LuzqxgkQJ\nujtizENxlhjL2pmzkmWqB8pHiiGK7VWOXSM8cAcbM+vHiRjj3Zz15+Fy1V+0EThB6C1Kb9BN59qJ\nmaBBogvvYH36O0skhH9UlGmJ7lNEa7m61kk5SdSXpS0UoUR2LPHobtgxHB93cmyu6CFWZJZV4h58\nlW4XnVtO9Azd1NY+TCS1Oyrq2V/o35WWz0uiRN1jUoMuqXKBUWqPAVaSyGfoEDFEMS7dfg2fZI73\nwzMF6q1kvhiMz8tozenKy9ZNbe2D8Q++xkGZ/ZOE/rXVCtUgUYLujq58I94WcUY2xjhdeNEbCxqb\nhxnio4x14kYdIwZ9O7hHdB/1MgfXFjh/YMVvWZStm9rat+IR/IRfM/tvEt33wm7W3RmFdGfHMS8T\n42TPY7PdMcgCkcY3mvdEa5soptmmiKztWRGvvIEP67z2CDFb8n2Oc4fhdRHzEMMV0/Gwcr7IKVM3\n+bQvwlXia6UdaZnNqU0bulF3LcrW3SWJ1k9R3SwGi5tJovW6ab72RJNmfrrLFuXNEuVltmKTAo2g\nJ+im+dp7iu4ez1iRYfdF9hrtve2vFXnI80Hw3kpf1t7jWan4h7R7C31Ze5s2bdq0adOmTZs2NfkP\nYrIkqB6943AAAAAASUVORK5CYII=\n",
      "text/latex": [
       "$$c + \\frac{x^{4}}{4} + \\frac{x^{3}}{3} + x$$"
      ],
      "text/plain": [
       "     4    3    \n",
       "    x    x     \n",
       "c + ── + ── + x\n",
       "    4    3     "
      ]
     },
     "metadata": {},
     "output_type": "display_data"
    },
    {
     "data": {
      "text/plain": [
       "\"Checking if the derivative of the anti-derivative is f ...'\""
      ]
     },
     "metadata": {},
     "output_type": "display_data"
    },
    {
     "data": {
      "image/png": "iVBORw0KGgoAAAANSUhEUgAAAAwAAAASCAYAAABvqT8MAAAABHNCSVQICAgIfAhkiAAAANtJREFU\nKJHN0r0uhEEUxvGf9VWItTYahSgQPYV2SxfBBbiAbfSidSE60e4trASNjghZGiHbEFnFzpscb84W\nOqd5cp6Z/5nJzMMfa6rWb+MU9xhhBV0MMngJjzgI3jFuMJcBJ3jBTPDa+MJRBtzhIvGv0auaRtFF\nbOEhAZ6wWwfWi74nwBBNzEegWfRzAgCtCHwXHSXAbNHpCLwmG6taKPoRgUGZvjwBeKsDQ/SxlgCb\nuKqaRli4xJ7fcdkoQ86zu66Wow+Dd4ZbIRoxBs/oGEdkx/gz29iXP/d/qR8UhCWn2ReXCwAAAABJ\nRU5ErkJggg==\n",
      "text/latex": [
       "$$0$$"
      ],
      "text/plain": [
       "0"
      ]
     },
     "metadata": {},
     "output_type": "display_data"
    }
   ],
   "source": [
    "# **(a)** f(x) = x^3 + x^2 + 1\n",
    "\n",
    "x = Symbol('x')\n",
    "c = Symbol('c')\n",
    "f = x**3+x**2+1\n",
    "\n",
    "display(\"Function f(x)\",f)\n",
    "F = integrate(f,x) + c\n",
    "display(\"The definite integral of f(x) is F(x)\",F)\n",
    "\n",
    "dF = diff(F,x)\n",
    "display(\"Checking if the derivative of the anti-derivative is f ...'\",dF-f)"
   ]
  },
  {
   "cell_type": "code",
   "execution_count": 10,
   "metadata": {
    "collapsed": false,
    "scrolled": true
   },
   "outputs": [
    {
     "data": {
      "text/plain": [
       "'Function f(x)'"
      ]
     },
     "metadata": {},
     "output_type": "display_data"
    },
    {
     "data": {
      "image/png": "iVBORw0KGgoAAAANSUhEUgAAADgAAAASCAYAAAAOsR1OAAAABHNCSVQICAgIfAhkiAAAAkNJREFU\nSInt1kuITmEYB/AfRkxGTBO5N65jGhaShAWGMVEWFpJC45LZoCnZKaVsxMKEshEpl9hKFhgb9yQp\nIpmMFLMwjEbIZfG+J+c7vmFm9OWS/+ac53mf93n/z3uey+EfR58C+Z2H2/iIqwU6o0voXSC/w1GK\nigL5/yMwAUW/m8Q/j14F8NkP5RiCt7hTgDO6jGwKTccafBJIbkA9BmMkduAxlmEWXqE/yuL+TZiI\nvViEo6iL9juF2tyHa5iPAZiBrXKbUW/U4Hw3uRXhHZ7mC3YcDvjWeI7gIWZjDj5HIpW4mNm7Ktqn\ncSujK0M7zmJ9St+I5sze5SjpATcZ3zk4iIEp+TSux/fR2BNJrsC9jG0J9mf8Nfk+6Gbcl1saG/FF\nSOkEW3rIDapRJQ/GZuRn2JXHbgRe4jWOYXOGXIIm+QM8kdHVCQGWR7kYDT3kRgh0bSKk5+CT1HuF\nkNeX8jh4jpk4KQz0RrRgZScHZvH+J+ulQnNKo6vcCBc/LBE6G/TV+IArKd34+JwhpFi9kB5jcAqH\nhA76q2iTW3/d4UZI5fZESAIsxm5MjXIN7qIjZbctvlfJ/VotWCcU+uAuBvEjdMj9hewON9HuptQi\nLIlGVZgstPp0Km0XWn6CBqEWE4wSutqLlK6v78dQZ7r0E1qF8dMTbpNxIxGSm2rFUOELTMNqoQUv\nRi0u4HK0nYIHwk3OFebZAqHzvYm6M0KdVsb1NhzHpKirxTkcFlK9GEsxKJ5zHwvxqJvcKoQe8dJ/\n/Mffga91Yn6vL3LdHAAAAABJRU5ErkJggg==\n",
      "text/latex": [
       "$$x \\sin{\\left (x \\right )}$$"
      ],
      "text/plain": [
       "x⋅sin(x)"
      ]
     },
     "metadata": {},
     "output_type": "display_data"
    },
    {
     "data": {
      "text/plain": [
       "'The definite integral of f(x) is F(x)'"
      ]
     },
     "metadata": {},
     "output_type": "display_data"
    },
    {
     "data": {
      "image/png": "iVBORw0KGgoAAAANSUhEUgAAAJEAAAAUCAYAAACNpd9IAAAABHNCSVQICAgIfAhkiAAABEBJREFU\naIHt2VuIVVUcx/FPU1bWCCM2kWV5yRhDrMzSLphlGSVUFJQEYaZhFyqECHqILlKBXSijC0XgsR6E\ngh4KHyooIbEyCykhCsIuomhWapKaaT3812b2HPecOTOzdTD292XvtdZea/3+6/z3Wv//PlRU9JMj\nB1pARZ+5FF9hLz4dSCEtAzl5Rb8YjqHoGGghFYeWs3BUieONLXm8isOAGkYNsIbSqbz48OQY4Yzt\n2Im1AymmyIkm4H7swC7swZPYXcJ8kzAb+8Qi3I470IZT8Ah+SM+eg4exLc3dgtexJjfeFNyLzcmW\ntqT1u9wz1+NC/IFjMSzV35OuLZiB93upsUOsz899WIdmaKT7DDyLK7EUc3J9Fop4aTE+w2U4HueL\n3zUfhB8U22/CRpydypfgT1zXK/OLGYOXdAbzNXyPi3Ax9gsjpbodIgPJeAM/5crXCGdpz9WdiR8x\nMVf+qE7HLWnujBvR2geNMO9AMxtS09xx1oxu4oWqrxsmfrPldfpeEGuTp3TbJ4pdZ3au7lp8iRFF\nHXrJyxiSK7+Nz9P9qXhGLMARwjmW1/V/Dm+l+1ZsxYKCeRbr3N5nYV3dvK14MVe+rw8aM6ZjfIGG\n7qhpzoma0Q0rHOhEhLN8K9YyYz7+1fWlK932D8X2dLC+HY2uK2/AEwXPXSCMXdhgrFnpmasK2u5O\nbZNwMrZgO94UR19+EQfr6ojNaswYhtsatNdT05wT9aQ7Y4XunWhZXd0csS7Z/KXZnsVE7bgcr4jz\nsIgJeE1X727EWtyZK6/P3XeIM/bjgn6j0nVDg7HHpOs/BW1703Ws2EWn4EHMFEfC08L4ZeI7y84+\naMzYjpMK6pfqDAnynIbJ+LugbV7SS4QUjXQ3w54e2kuzPXOiMcI51nTXA9+IQK8MpouFXJWrO10E\nbRtTeWiD/pvS9cSCtmzL3SyCyd9EcEhsy4/jVbwjgvbW+gGa0JgxRMQf9dzazZg1POrA2KSennT3\n5CDNUJrtWRC1JV2LFmQkru6r0sRgPCV2MyIj+Bp/pXILHkj3q8QuNL1gnBtE5vFe6lv0tXZS6r9S\nnNk359p+wVwRJLalMbLjuzcaMybgiwIN/aUn3WVQmu2ZE63HByIbyzNVpHWf9FPwzCRiPMaJFDX/\nNj0kjgDiiJqLabpmhe3CuE3iLZ0vjoDhuWdGi5R2ts6jboGIMTJGiKxjcyr/KlLo3mjMGIfVDezu\nDz3phkGKP9MU1Q+qu1KS7fn4pk1kQPvxO44W3rgk1fWHE8SZvlUEd4+JbGC32DbfFYF9nsli698m\nHGcPFomzOGMq7krP7MNxeF4cvUQsMTLNv0vnm7xIvN2SnTNEJtIbjR3iB1nXi3Woae4460n3NJEt\nnSdiwJXik8cV4tvaual+tUjjF6e2oWnuJSJxOZS2V5REzf/wb4/qX/xDyw7lfPmvqKioqKioKJf/\nAM4cL7pCgv76AAAAAElFTkSuQmCC\n",
      "text/latex": [
       "$$c - x \\cos{\\left (x \\right )} + \\sin{\\left (x \\right )}$$"
      ],
      "text/plain": [
       "c - x⋅cos(x) + sin(x)"
      ]
     },
     "metadata": {},
     "output_type": "display_data"
    },
    {
     "data": {
      "text/plain": [
       "\"Checking if the derivative of the anti-derivative is f ...'\""
      ]
     },
     "metadata": {},
     "output_type": "display_data"
    },
    {
     "data": {
      "image/png": "iVBORw0KGgoAAAANSUhEUgAAAAwAAAASCAYAAABvqT8MAAAABHNCSVQICAgIfAhkiAAAANtJREFU\nKJHN0r0uhEEUxvGf9VWItTYahSgQPYV2SxfBBbiAbfSidSE60e4trASNjghZGiHbEFnFzpscb84W\nOqd5cp6Z/5nJzMMfa6rWb+MU9xhhBV0MMngJjzgI3jFuMJcBJ3jBTPDa+MJRBtzhIvGv0auaRtFF\nbOEhAZ6wWwfWi74nwBBNzEegWfRzAgCtCHwXHSXAbNHpCLwmG6taKPoRgUGZvjwBeKsDQ/SxlgCb\nuKqaRli4xJ7fcdkoQ86zu66Wow+Dd4ZbIRoxBs/oGEdkx/gz29iXP/d/qR8UhCWn2ReXCwAAAABJ\nRU5ErkJggg==\n",
      "text/latex": [
       "$$0$$"
      ],
      "text/plain": [
       "0"
      ]
     },
     "metadata": {},
     "output_type": "display_data"
    }
   ],
   "source": [
    "# **(b)** f(x) = x sin(x)\n",
    "\n",
    "x = Symbol('x')\n",
    "c = Symbol('c')\n",
    "f = x*sin(x)\n",
    "\n",
    "display(\"Function f(x)\",f)\n",
    "F = integrate(f,x) + c\n",
    "display(\"The definite integral of f(x) is F(x)\",F)\n",
    "\n",
    "dF = diff(F,x)\n",
    "display(\"Checking if the derivative of the anti-derivative is f ...'\",dF-f)"
   ]
  },
  {
   "cell_type": "markdown",
   "metadata": {},
   "source": [
    "####Example 2 - Definite Integration\n",
    "\n",
    "Determine the following definite integral\n",
    "\n",
    "**(a)** $\\int_2^1 (x^2+1) dx$"
   ]
  },
  {
   "cell_type": "code",
   "execution_count": 11,
   "metadata": {
    "collapsed": false
   },
   "outputs": [
    {
     "data": {
      "text/plain": [
       "'anti-derivatice is '"
      ]
     },
     "metadata": {},
     "output_type": "display_data"
    },
    {
     "data": {
      "image/png": "iVBORw0KGgoAAAANSUhEUgAAAEsAAAAcCAYAAAApxUKlAAAABHNCSVQICAgIfAhkiAAAAuFJREFU\naIHt2F+IFWUYx/GPabT+yYK6EFRqLWgDNWtBtoRFpLoSglYpKqyLUBKCUrwxyAtRIQRBMPHKEaMu\nWkP6c5PeSEEl9B+7EEQECYTY0HAt3Xa9eN9Ts4c9Z2fe2XM243zhcOZ933nm+T0z7zzvMy8dCjMj\n0a4f9+EOrEaGk1Mj6f/Hb3g5Hq/HMO6cPjnt4bZEu9UYjMdjuD3hGs8m+r6leR9vlbTpwfEWaGkp\nsyrYPoY1uIp9JW1fwAd1fX3YhGuYjTnYjR8raPzPsRHfYl4Jm++EG1LjUXyKrlzfQVzBiqoCp5M+\nXEJ3bPcIeWtdQfuVOFrXty9e47lc39rYtz9B43LV3poJSUnwIziDX2N7CW7gh4L2Lwp5Ls/3wiwa\nyvXVZupwgsYtWJRg1xJewla8iWN4uqDdTPyk2FN/R3gwjyToy3B/gl1T6kX3YgP+js5eFZLu3ViI\nHTiH93I2ZZL7Gnwh3IRmdAt13GbtSfBF4/6HJTjg31czw1k8gVUYFWZTFQ7HazViLXYKs2+79Dow\nU3xmJcX9rvFV+If4Jh4vxl7cU0ryeLqEvFbkE2sWTuBr3JvgK1P8ZiXF3V3XvohdZRROwgD2lDi/\nX1gNByc7cQIyxW9W5bgfEoQ+WcZoEgaxtMFYj7Dc55kfNYxqXMMdEWZr/W8IvzQY622iMSnu1/CX\nUEXXeKDMBeq4C6cbjM0XqvaROh9zBeFj0b4MmbTVsGnctaQ2W1iql8X2U0KSHc6dty3BeY0BfNRg\n7LqQo87j91z/w/H/NC5X8N2MpLgHhCf4vPBK/Iwvc+Nv4/EKoj4X9r8asRuvG5/8j+IP4Ru0LJli\nM6tU3LU661R00BvF9QmrxCHhyX+MrxJEwwJhk/BCk3O24xWhsh+JNkNRz9lEv0VoZdxJvCEUl+0k\n04YKvhWsxzNt8JPnCv5ss8/KPIjPplvEVJH6OVGUiTb5OjTgE+U2BTt06NChwxRxE9dLnQc+Gmw4\nAAAAAElFTkSuQmCC\n",
      "text/latex": [
       "$$\\frac{x^{3}}{3} + x$$"
      ],
      "text/plain": [
       " 3    \n",
       "x     \n",
       "── + x\n",
       "3     "
      ]
     },
     "metadata": {},
     "output_type": "display_data"
    },
    {
     "data": {
      "text/plain": [
       "'Value of definite interval from x=2 to x=1 is '"
      ]
     },
     "metadata": {},
     "output_type": "display_data"
    },
    {
     "data": {
      "image/png": "iVBORw0KGgoAAAANSUhEUgAAACAAAAAeCAYAAABNChwpAAAABHNCSVQICAgIfAhkiAAAAVFJREFU\nSInt1r0rhWEYx/EPDhYGUVi8ZTCwiDJIhzJbmCiLhMlu8R8oGxaTyV8gfwGRRdlkUYqkkCLHcB95\nHEekcx95+U7PdT0vv99zP9d1Pxe/iGpsoikn34NlTGIN7THEp7CIDFoS+QqcoDEb92I3hoFncg0M\n4zARl+Aarc+J0phusmYuEnEGl+gsloE63Obk7oR6KYqBK2HZk1ThvFgGjtCQiFOoEQozCrlFmMKp\nl9YcxH7yhrICCY9jTuj5RuGtd/CIA8yiFiOY97ow//leki3ShVVv2+Y9DjBTSANfJVOAZ/xhCvEJ\n8jGAZlQijXVsR9LKy7kwgMCY8EOqzndhKpKBNI6zxxmUR9L5FBtYeO9krBWAbgzhBksRdT5kGnvC\nHFAU+nDmZe7rEOpgNN/FMQaSB2EQPc3GbbgXtu43xNoHJlAvzAP9WMFWJK1/fjhPAzk0y7TCsCwA\nAAAASUVORK5CYII=\n",
      "text/latex": [
       "$$- \\frac{10}{3}$$"
      ],
      "text/plain": [
       "-10/3"
      ]
     },
     "metadata": {},
     "output_type": "display_data"
    },
    {
     "data": {
      "text/plain": [
       "'Value of definite interval from x=2 to x=1 is '"
      ]
     },
     "metadata": {},
     "output_type": "display_data"
    },
    {
     "data": {
      "image/png": "iVBORw0KGgoAAAANSUhEUgAAACAAAAAeCAYAAABNChwpAAAABHNCSVQICAgIfAhkiAAAAVFJREFU\nSInt1r0rhWEYx/EPDhYGUVi8ZTCwiDJIhzJbmCiLhMlu8R8oGxaTyV8gfwGRRdlkUYqkkCLHcB95\nHEekcx95+U7PdT0vv99zP9d1Pxe/iGpsoikn34NlTGIN7THEp7CIDFoS+QqcoDEb92I3hoFncg0M\n4zARl+Aarc+J0phusmYuEnEGl+gsloE63Obk7oR6KYqBK2HZk1ThvFgGjtCQiFOoEQozCrlFmMKp\nl9YcxH7yhrICCY9jTuj5RuGtd/CIA8yiFiOY97ow//leki3ShVVv2+Y9DjBTSANfJVOAZ/xhCvEJ\n8jGAZlQijXVsR9LKy7kwgMCY8EOqzndhKpKBNI6zxxmUR9L5FBtYeO9krBWAbgzhBksRdT5kGnvC\nHFAU+nDmZe7rEOpgNN/FMQaSB2EQPc3GbbgXtu43xNoHJlAvzAP9WMFWJK1/fjhPAzk0y7TCsCwA\nAAAASUVORK5CYII=\n",
      "text/latex": [
       "$$- \\frac{10}{3}$$"
      ],
      "text/plain": [
       "-10/3"
      ]
     },
     "metadata": {},
     "output_type": "display_data"
    }
   ],
   "source": [
    "# (a) integral of  f(x)=(x^2+1) over interval x=2 to x=1\n",
    "x = Symbol('x')\n",
    "f = (x*x+1)\n",
    "\n",
    "# method 1 = indefinite integral and subs limits\n",
    "F = f.integrate(x)\n",
    "display('anti-derivatice is ', F)\n",
    "ans = F.subs(x,1) - F.subs(x,2)\n",
    "display('Value of definite interval from x=2 to x=1 is ', ans)\n",
    "\n",
    "# method 2 = get definite integral directly\n",
    "ans = f.integrate((x,2,1))\n",
    "display('Value of definite interval from x=2 to x=1 is ', ans)\n"
   ]
  },
  {
   "cell_type": "markdown",
   "metadata": {},
   "source": [
    "## Questions"
   ]
  },
  {
   "cell_type": "markdown",
   "metadata": {},
   "source": [
    "#### Question 1\n",
    "\n",
    "An object is moving so that its speed after t minutes is $v(t) = 1+4t+3t^2$ meters per minute. How far does the object travel during 3rd minute?\n",
    "\n",
    "Hint: Integrate speed to get position. Then determine the change in position between time $t=2$ and time $t=3$."
   ]
  },
  {
   "cell_type": "code",
   "execution_count": 12,
   "metadata": {
    "collapsed": false
   },
   "outputs": [],
   "source": [
    "# define symbols\n",
    "t= Symbol('t')\n",
    "v= 1 + 4*t +3*t**2\n",
    "\n"
   ]
  },
  {
   "cell_type": "code",
   "execution_count": 13,
   "metadata": {
    "collapsed": false
   },
   "outputs": [
    {
     "data": {
      "text/plain": [
       "'Position:'"
      ]
     },
     "metadata": {},
     "output_type": "display_data"
    },
    {
     "data": {
      "image/png": "iVBORw0KGgoAAAANSUhEUgAAAF8AAAAZCAYAAABXTfKEAAAABHNCSVQICAgIfAhkiAAAAstJREFU\naIHt2M+LVlUYwPHP6IC/xnTlj7IyFREURcGSmtExWrRw6Y+dEYItGlAk3GhuDBKlf8DI3kjCVSvF\nCFGSFEKlQNwJulKMQInQzNQWz33rej0z3TvzzvvegfcLA+c55zD3yzn3Puc5L106Rk/JeevxKqZg\nEA2cGR+lceENvIlZeAsHcb6jRhX4De9l7S24j5md06lEHw7l4q3C/6XO6FRnBWZk7c14ZOIs/ko8\nweIsfgFPxSZMOL7Bvk5LVKBHpJ1mil0uFn91x4xGwRp8hM8xvc3Pfh3f4jSu4gujTxtf47MWebWc\nxbglDtgUO3FF5NJ2sAbfY3YW94nD8lcsTMwfyX8HDitfaLSS/1tXsBt/YmoWr8MdvJbFy8Rnu3kM\nIivRW3LuKSwp9K3OHE4k5hf9m2wSiy8bW1jy+Smq+A/rNSkxaQA/ZRPhb1wTuwaLxIH7S8WH59mD\nBSXnbsBZzMn1/Yx7eCcxv+jf/B9zxUbOw7uYX035Gar4D+uV2r1+HM3Fl3EMQ6Jq6Bdv0fWKDx8t\nN7DUf9VWk4fSFVfRfxFOej5NzmqVYEmKXv+yDd+JnXmKH7P4w3ESaSj/2c8Qb2ueF4XnuSyuq38l\nrw/EGzWtFYYj0DC2nHsIj8WtNU9d/ZNexZy/EZfwYAxi480SkQI/xcXCWF39k17FxR/ED20SGg1T\nxCXvKPYnxgfV039Qwit/4C4XFUEr5b/CqkT/K+Li9FdibIe4RxTpwZciZx5IjNfVv5TXkCghm1XB\nbLxcUbYsDdVz/if4uNC3Pdeuq/+wXvm0MyBq9z+yeJeo8evA+6LMPVjo78+16+o/rFc+7UzGzay9\nVhwOt9vjNyJv44hIN8dz/b2ifGtSV/9SXqtwQfzotFf69tsqGsp/tnfFIqf+8l9CXf3b6VWKhrHV\n+Z2moQX+ndqF3z3728tEY6L7d+nSpUuXNvMPr/qoiH38wpUAAAAASUVORK5CYII=\n",
      "text/latex": [
       "$$t^{3} + 2 t^{2} + t$$"
      ],
      "text/plain": [
       " 3      2    \n",
       "t  + 2⋅t  + t"
      ]
     },
     "metadata": {},
     "output_type": "display_data"
    }
   ],
   "source": [
    "# Determine formula for position (using integration)\n",
    "display(\"Position:\" ,v.integrate(t))"
   ]
  },
  {
   "cell_type": "code",
   "execution_count": 14,
   "metadata": {
    "collapsed": false
   },
   "outputs": [
    {
     "data": {
      "image/png": "iVBORw0KGgoAAAANSUhEUgAAAWwAAAD5CAYAAAADQw/9AAAABHNCSVQICAgIfAhkiAAAAAlwSFlz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\n",
      "text/plain": [
       "<matplotlib.figure.Figure at 0x8119ef0>"
      ]
     },
     "metadata": {},
     "output_type": "display_data"
    },
    {
     "data": {
      "text/plain": [
       "<sympy.plotting.plot.Plot at 0x81191d0>"
      ]
     },
     "execution_count": 14,
     "metadata": {},
     "output_type": "execute_result"
    }
   ],
   "source": [
    "# Determine change in position over specified interval\n",
    "plot(v.integrate(t))"
   ]
  },
  {
   "cell_type": "markdown",
   "metadata": {},
   "source": [
    "#### Question 2\n",
    "\n",
    "After its brakes are applied, a certain car decelerates at the constant rate of 6 meters per second per second. If the car is traveling at 108 kilometers per hour when the brakes are applied, how far does it travel before coming to a complete stop? (Note: 108 kmph is the same as 30 mps (metres pre second).)\n",
    "\n",
    "Hint: like the previous question but since given acceleration $a=-6$  must integrate once to get velocity, integrate again to get position."
   ]
  },
  {
   "cell_type": "code",
   "execution_count": 15,
   "metadata": {
    "collapsed": false
   },
   "outputs": [],
   "source": [
    "# define symbols\n",
    "t=Symbol('t')\n",
    "c=Symbol('c')\n",
    "a= -6 +t -t\n"
   ]
  },
  {
   "cell_type": "code",
   "execution_count": 16,
   "metadata": {
    "collapsed": false
   },
   "outputs": [
    {
     "data": {
      "text/plain": [
       "'Velocity:'"
      ]
     },
     "metadata": {},
     "output_type": "display_data"
    },
    {
     "data": {
      "image/png": "iVBORw0KGgoAAAANSUhEUgAAACsAAAASCAYAAADCKCelAAAABHNCSVQICAgIfAhkiAAAAehJREFU\nSInt1U+IjVEYx/HPNTMmoa6JxkKNiETTZEFRI1LKAivsFBvKwkJZkZFYiRXKxhILKazMSv40ifyN\nlUbIuKZmiokZ/xfnvO7r7Z3b5d4xTfltznt+79N5vp3znOcwgVQYh5wL0YVPGIljFz6MA0tFLcZL\nrIzz2egVYLOajzdoS4xJYwyXViMu4ThuR68J0zCYE78BLSj9E7qMduAzilXGX8T1scOprG48/YP4\nEg6njbwL1o69eK98CY5i+O8Yf+X5iDs4gHXC8c/FIdyPcVuxHTOwHLcwhCs4mV10i1DUHXG+Sril\nm2oAhZn4gWfYlfJXx/WXZOJ3Cps0ZbQFl8aAbSlvI+5hTo2wrRF2OAfgNa5mvPO4WWnBbqGtNNQI\nlqcmAfZJzr8eYZOaU95bHMkGNsZxFtbiNL6NkrAdZ1T/kDxQPvIv6JffokYwWWhTfUJJtMrpBAns\nvAhxt0Lyx1hRJWieerAgx28WgPvjfA2+KvfiIqbjVfIovItj3pPXhvU1QCY6F9dK12wBi3A5AkKn\ncCpDcb4n+ZfA9uKacPvT6sRB3KgD7AU8xO6Ut1kokX0prwEv4vcyoX328Xv9FXEC3zEg1NEjnI1e\nPdQiPLdTI2QB+/E8FdOBU0LZlHCsjvn/a+LrJ8ZXZoh2R6jCAAAAAElFTkSuQmCC\n",
      "text/latex": [
       "$$c - 6 t$$"
      ],
      "text/plain": [
       "c - 6⋅t"
      ]
     },
     "metadata": {},
     "output_type": "display_data"
    },
    {
     "data": {
      "text/plain": [
       "'Position'"
      ]
     },
     "metadata": {},
     "output_type": "display_data"
    },
    {
     "data": {
      "image/png": "iVBORw0KGgoAAAANSUhEUgAAADkAAAAXCAYAAACxvufDAAAABHNCSVQICAgIfAhkiAAAAlRJREFU\nWIXt1k2IjVEYB/DfIBk0QxFCg9mQfMyCEc1YWKAmymImG5EFSlF2arIQCaUUysbCxsIOG7PyVSj5\nWCqNLHzMghiNrzEsnnObt+m6Zt57x4j51+3c85znPef/nOf8n3P4D1A10gQqiEasRi3W4DBujiij\nCmMyjmX6rejB7JGhMzxYij7Up34Nfohg/xlUieNakN9iEWQDf5cmV2EXPqEaE3EUj3PMdRFdOJCX\nTD1eoi7vBEXQgKuYkLGdwwcsHyKHnTiuzATux+cBhMrFKXG82jK2lmQ7PQQOLSJIaWwejMlBqAn3\n0iKVwkORtbcZ2+TU9gySw1rMwDXMxAbMykvojbiDhhvH0Ytlg+CwAN0i89lfDcXP7RIh2A+iCHzB\nM2zFVKzEHXzEFZwpN5oimI+7aMf5ZGvDjkpwaBWCLuxes9ihzam/SwRdnZt+abSIDD3BQcXlVBaH\nhvTxtoxtEx5gTupfwu08kw8R49AhsjltwFhZHDrwAmNL+LzGkbwLDBHNQleXy+UwLrXTsU7cTd9/\n4btYVK8bRcaWCO0M9m56hN2Z/kKMF8c06wNbRKX9+BsOv0Wj2LUdJXz24pv+0j4Fc/MsNgA1osD1\n6n97wiT9VbK2HA4FYXeltruITx02irvpkdhR2JeIlYuv4kR14l3Gvii19/E+/c/FoRBkJ64LHWTR\nhEO4JbT6PNlXiN1/NagwSuMzToiXTTbIfSKYPRlbLg5ZDU0Rz6s+8fIoaORCsi3DWVHx3uBkslcK\n27FeZGZm4tCOpxmf4eYwilGM4g/gJ8ncj/8PsQ+UAAAAAElFTkSuQmCC\n",
      "text/latex": [
       "$$c t - 3 t^{2}$$"
      ],
      "text/plain": [
       "         2\n",
       "c⋅t - 3⋅t "
      ]
     },
     "metadata": {},
     "output_type": "display_data"
    }
   ],
   "source": [
    "# determine velocity and position\n",
    "v=a.integrate(t) +c\n",
    "display(\"Velocity:\",v)\n",
    "display(\"Position\",v.integrate(t))"
   ]
  },
  {
   "cell_type": "code",
   "execution_count": 17,
   "metadata": {
    "collapsed": false
   },
   "outputs": [
    {
     "data": {
      "text/plain": [
       "'Constant of integration, c='"
      ]
     },
     "metadata": {},
     "output_type": "display_data"
    },
    {
     "data": {
      "image/png": "iVBORw0KGgoAAAANSUhEUgAAABYAAAASCAYAAABfJS4tAAAABHNCSVQICAgIfAhkiAAAAY9JREFU\nOI3l1DtolUEQBeDP9/vGBAstgkgKtdGYRlsrm4AgBBvFdKIgVmmEVGIEGzUgWtjZilUsrOwCCqKC\nQkgjPpqrEDWiQrxyU+z8ZF02wcbKgZ/Dnj17dnb+neUfxapifARn8RObsBkTeFno9uIq3qKLHRhD\nu7bJIUxhY8bdxjwGM64HH3Aq4y7hFdbXjK/H7iczbji4yYy7go9Ym3F9+IVzDbE6m3we2c1l3NbA\nHxk3gifoZNwcZmLur+JaGByM8bY4wa2K9hG+1jIuYw/O4Lyln7c7cL6i/44WNvBnnZoYxmEcx03c\nzeZagQvLGMN2tGsZT2EcQziKaek6we/AbmXdusA1rFyKDi5H9neC+7SCfkvgt9J4Hw4U4heBJ6Qb\n0o5se5cx/tIYN9GSuq2DgULcja8nuGd4UDF+h8fNoMl4QfqRb/A5E+8PfGrpKj2UypM/BwPox/3K\nhiZwoVhwL442lHG7pCOfzrgbeC1r6fIRGsUxqSQ7pY4ax2yhG5Rae1Zqmj5cxPtaxv95LAKt5lFK\nrx7iGQAAAABJRU5ErkJggg==\n",
      "text/latex": [
       "$$30$$"
      ],
      "text/plain": [
       "30"
      ]
     },
     "metadata": {},
     "output_type": "display_data"
    },
    {
     "data": {
      "text/plain": [
       "'Velocity is '"
      ]
     },
     "metadata": {},
     "output_type": "display_data"
    },
    {
     "data": {
      "image/png": "iVBORw0KGgoAAAANSUhEUgAAAEsAAAAUCAYAAADFlsDIAAAABHNCSVQICAgIfAhkiAAAAx5JREFU\nWIXt10uoVWUUB/Df1R7aVTORtEGlSC9D80EmUuEdBEGOHGRBD6mBWYkOtIEgGKYlWEmDikbHhBxk\nET5ACHoNyoqgzIhCsESUutDjmpRe9TpY36bv7na3fU9bIbr/yXfW/6y91zrrW6/DEGqjo+H3XYu1\n+B0n0rkWxxq2MxjMxZLky0hcgg34oqR3HZ7G9+jDeKzCD+fCqak4hHlJnoiDIlhlTMERXH0uHMkw\nE7swIuNeQg9mZNylOIz7Mm419uOipp26AN9gRcZdiW4sr9BfgT/0/xF1MT3Zq4PnRZYsyrgFiXsh\n49bjx9J7x6EXS9vwcUA8hJMYW1P/Dbzfpq0WJtXUfQC/4o6Mu0cE65mM+xY7K57/Eu8UwrBBODkQ\n7sUB/FJT/1Z80JDtgfCqKLG3M24WTmNbkkfjGtFCyjiC2YXQRLA6xI/vxu14CpvxlugZBRZhDz7G\n5ehK8mMN+FAXk/EgHvVngy/6Zk+F/nGMwcVNOTBepPXXeCTj54speGNJf4mYlCPbtNdSvwwLLMA6\n7BONO0+SecL/Jyue25q+m0AzmTU8nZOxJePfE/1iY0m/C5+KUX6+sAtrRAl24UNxyURJEkEp48J0\nDqeZYP2UzgP+GoDDornmaTxf+8393+KUyLBb8HLiugfQ70znMfqPyml4Rf1F9XNRdr3J4M8VOifE\nnjIOR0VJTlAvWFtwUwV/FeaI6VvGw/gsk69P9veV/IaFGCWWzj5cVvG+TjG0Gl2qd4ieVcZesU8V\nl/K4CO6oJI8V+9hg0FKvZ40RmX5KLMEFOkVw+sSkJAL8ZsU7DuHdQmhqddgmpkretDvEze5IDsNt\n4mZ/S/Ly7LumcVJc0kH9s/6GdH4ieirsFqWZV9UUcZHbm3ZsGD7Cyoy7W5TnpIzbjtfT55vxRBu2\nWupPww1Ypn8QtoqympVxV4hyuz/jNuMr2d+dun8b/glncBeeE8HoTQ7OxXeZ3jq8iGdFr9jUkP2/\nw2osxmsigyeKgTRbbO0FjorBs14EcbTos3eq7o3/GbQMfs9qBE31rPOJHjE0hjCEIfz/cBZV9qOU\n7+nYOwAAAABJRU5ErkJggg==\n",
      "text/latex": [
       "$$- 6 t + 30$$"
      ],
      "text/plain": [
       "-6⋅t + 30"
      ]
     },
     "metadata": {},
     "output_type": "display_data"
    },
    {
     "data": {
      "text/plain": [
       "'Position(up to an arbitrary constant) is'"
      ]
     },
     "metadata": {},
     "output_type": "display_data"
    },
    {
     "data": {
      "image/png": "iVBORw0KGgoAAAANSUhEUgAAAF0AAAAZCAYAAABTuCK5AAAABHNCSVQICAgIfAhkiAAAAztJREFU\naIHt2E+IlVUYx/GPKaWpMxnB2B/756Ki0lzUhCG5q4WroNy0EAbS0BhJ3ARBEmZYEARl1OaGGxfR\nKqFoEUWLCqSSiGiT/SGZAjMVUxuyxXNuc+ZyvPPO3PveK3m/cHnf85znvu/vOee85zznMKDnzOu3\ngIxRrMUwHsDz+KSviv7nLMGLWfkxnMb1/ZFzabAK/2BlKg/hvGj8ATUxT0wvzenuTtHoa/qmqEa6\nOaffj834C4twJV7A13N41n78hh1dUzczVfXfhj34UQyMa7ATEz1TmliD97Aws+3DCdxT8F+JX3FT\noW4Me/V2ka+qfxi/4PHM9gy+weWF57aLs2NeEb2+MbNtSLZXC/7bccb0IJv/GUv3C3FzB5pWYUFF\n36r6d4svMH/u1fgbTxaeW4zzsoqiZuJLMSqOZbYl6Xq64L8OnydBTR7ECA5iOR7GtR1oeho3VPSt\nqv9RoXsysx3Dd6mulVKctbJXiFtdqJsQeXiTW3FSjKz8N9TB+xs6+1Ja9S9Nml4r+H6APwv21jhr\n5Zb0wicy20a8L3r+PD5N5a01aWiYe6OX9N8ldO8p+L+b6q7Q+zhtED17WCwwpelrM86KDKFOGmbf\n6O30rxWNuKvwv/2pbiSz9SrO/1iAD/GZSKlyDojer5uGuY/0kv5R0bDPFfwPpLrrWmzFOLu1kLYy\nKUbMKN5oqVuPj2t6b7co6f+9jf/idD2Z2da7QJx56nM33lQ9P/4KW9L97SJPPdxSD4+ITOCU2GmO\nXEjMHHlbebG+EffhXKFuDIeychX9E2I0Lys8bzGOm2r0OuKcxpDYxU2aOjtpCmlmIcPJtk3ktM10\n7CqsqElXQ7XpZTb6D4lFs5Wf8FFWbhtnN6aXc+KL+QF/ZPY70vULU+nUOjGCTqXyuOk5bz+Yjf6D\npp8RER21Au9ktrZxdqPRz+AlsXPLRY+nl+Y7tfk4ku7vFSPsaBc0dMJs9O8TX0B+DPAUvsVbma1t\nnN0839iEh0SPLhc7tWfxfeazGq+LrGACL4sj3TpoiEzjSEX/TWbWT5zF7E72peIYYBw/Zz69jPOi\noqGzHWlt1JUyXgyc0MMzjwEDBgwYcGnyL8vl2bY3wT5eAAAAAElFTkSuQmCC\n",
      "text/latex": [
       "$$- 3 t^{2} + 30 t$$"
      ],
      "text/plain": [
       "     2       \n",
       "- 3⋅t  + 30⋅t"
      ]
     },
     "metadata": {},
     "output_type": "display_data"
    },
    {
     "data": {
      "text/plain": [
       "'The car stops after (seconds)'"
      ]
     },
     "metadata": {},
     "output_type": "display_data"
    },
    {
     "data": {
      "image/png": "iVBORw0KGgoAAAANSUhEUgAAAAsAAAASCAYAAACNdSR1AAAABHNCSVQICAgIfAhkiAAAAMxJREFU\nKJHN0TFLQmEUBuDHFIKGFhVcmvwFDW35T/wHQXOLo3/AsSVozTlwCwcbGhoaxHLJTVAIAo0cbLjf\nhevHTW5bL5zh/d5zXt7vHP6AcsQn+MAyaOe4xhMW8fA2qm9cpGIlap5hgDrecIPxb7Ee9mU+2CfG\nKEX8EfeoYoMmrvCaNzzFSYa3MUejSKwyVugVjfoeamd1Q8kfWjnutdjhE885zl+Sy+7gTrKFLE4l\nl+zEzWfo4yjwEm4xwmH6kEULl1jjGC/ohij/BT8UwSaNbxctpgAAAABJRU5ErkJggg==\n",
      "text/latex": [
       "$$5$$"
      ],
      "text/plain": [
       "5"
      ]
     },
     "metadata": {},
     "output_type": "display_data"
    },
    {
     "data": {
      "text/plain": [
       "'The stops after (metres)'"
      ]
     },
     "metadata": {},
     "output_type": "display_data"
    },
    {
     "data": {
      "image/png": "iVBORw0KGgoAAAANSUhEUgAAABUAAAASCAYAAAC0EpUuAAAABHNCSVQICAgIfAhkiAAAAT9JREFU\nOI3l1LtKZEEQBuBPx2VAxcQVTRQW5wUEL4GhgvgIgplgIkayYGLkEyiKRorLhho7GykuCDIYiKDo\nbKKJLpgYeMdLcEY8nO1z1sTIH4ruqr/6r4LuLj4AVbH9IBaxhxvc4SnGlzBf2R9hGhu4QicmMY7D\neIEJPGfYYCw3yd1j7JWsiSUW0IZzPMa67MUQ1mO5p/iFJpSxnOzwFXOBWD2KqE3EN0MC78UCegLx\nTNGaDK4XOewEuDym0IgHtIsu6vh/Xe7iWwr3B60xfxh/0ZIl2IeDDL464edwjdks0TUsZSUEcFKx\nfyrCFwzgLOXwFn4H4jk0p4l2ow4XKaIdoqeWxNesTguV9TZFtIj+QKE8fqac8V309UZS+C6sevsQ\nVfiB7Ypw8J2WcSkaLCGUMIMV0eBpwD5GRUPos+MFoytFeLptj/IAAAAASUVORK5CYII=\n",
      "text/latex": [
       "$$75$$"
      ],
      "text/plain": [
       "75"
      ]
     },
     "metadata": {},
     "output_type": "display_data"
    }
   ],
   "source": [
    "# determine time at which velocity is zero and then determine position\n",
    "cValue=solve(v.subs(t,0)-30,c)[0]\n",
    "display(\"Constant of integration, c=\",cValue)\n",
    "v=v.subs(c,cValue)\n",
    "display(\"Velocity is \",v)\n",
    "p=v.integrate(t)\n",
    "display(\"Position(up to an arbitrary constant) is\", p)\n",
    "\n",
    "\n",
    "tStop= solve(v,t)[0]\n",
    "display(\"The car stops after (seconds)\", tStop)\n",
    "pStop=p.subs(t,tStop)-p.subs(t,0)\n",
    "display(\"The stops after (metres)\",pStop)"
   ]
  },
  {
   "cell_type": "markdown",
   "metadata": {},
   "source": [
    "####Question 3\n",
    "\n",
    "Recall that given, two functions, $f$ and $g$, with $f(x)\\ge g(x)$ over an interval $x=a$ to $x=b$ then the area between the two functions is given by\n",
    "\\\\[\n",
    "    \\int_a^b \\big[f(x)-g(x)\\big] dx\n",
    "\\\\]\n",
    "\n",
    "Determine the size of the shaded area in the following diagram\n",
    "\n",
    "![](http://cdn-5.analyzemath.com/calculus/Integrals/area_under_curve_4.gif)\n",
    "\n",
    "Hint:\n",
    "\n",
    " * define functions, $f$ and $g$ to represent each curve.\n",
    " * determine the points of intersection of the curves - these are the integration limits.\n",
    " * determine the required area using definite integration."
   ]
  },
  {
   "cell_type": "code",
   "execution_count": 38,
   "metadata": {
    "collapsed": false
   },
   "outputs": [],
   "source": [
    "# define symbols\n",
    "x=Symbol('x')\n",
    "f= -x**2 -2*x +2\n",
    "g= -x**2+6\n"
   ]
  },
  {
   "cell_type": "code",
   "execution_count": 47,
   "metadata": {
    "collapsed": false
   },
   "outputs": [
    {
     "data": {
      "image/png": "iVBORw0KGgoAAAANSUhEUgAAAH4AAAAfCAYAAAAhi3l3AAAABHNCSVQICAgIfAhkiAAAAvhJREFU\naIHt20GoFVUcx/HPe15T4xXxUBTcTJgKRojYJjNJRHAVuBHatGjVJgS1VS3eCxcuLCTJhbZQwcTe\nQpECoc0twd5GKI0kiAwRXbgwKuo9A2tx5sEV7rt37r0zc+a+N18YLnfm/Gd+8/vfc86cc+ZSU5Py\nJX5LtyNRldTkxRkhn3dwYr5CzZLE1JRPgtMwGlVGd17Gfzlsw07uPlQ98R9iBUYG3Iad3H2ocuL3\n4BvMxBYSmdJ8aBZ9gYxcxrOxRVSAPH1IVLyPfxU38EdsIZEp1YdmGRfpwhRWxRZRAfL2IVHhGr8Z\n9/AgtpDIFOpDo4iTDshBfNClzAZM4B/Mpp8T+LNIYSVTug/NfoJy4gV81qXMJmEGalv6fQ1uCze8\nUCjKh0RFm/r3cLTD8QYu4mNcS/ctxRgeFiutVKL40Ow3MAPPdDi2Fp93iX8bj/BcboriEMuHRFrj\n29Hs8WRZeBrn8GmHMh9ha5fzfI2f8hIVgdg+JEps6hs4gF/xlvaTEeN4Htc7nGcE24Wn3B04jGO4\nhC056i2KyvvQHCS4A+P4G/vbHJvEzi7xK4WFhlt4p2X/68JT7IuDSyyFmD4kSm7q5ziFnz25YDCG\nrzLErhZueEZYsGjlrvAewbAQy4dEpMRvFkTvadl3CG9kiF2axv7Y5ti0MI5dNqjAkojlQyJNfJYJ\nnJdwUvblze892QS18gOu4l1cSQXuFh5ouvGv0K+1G67M4imhGb2fUWdMovuQJfE38UqGclk5jgvC\nJMUunJX9ZYlprG+zf5lw08M0zVs5H5r9BPVAQ+iLPhGGJUt6iH1TeDBq7dtG8Du+6BC3Ect7k1k4\nMXxIROrj53gfj83fJczHKL4T+sM59gm/8GSemJ1CTZrq8VplUKYPVCDxq/CL/mrhuCB+SpjhOo91\nHcpvEgy53ce1iqZMH6hA4mMwGVtABUhUdJGmSIZlqFcKiyXxrwnDzJqUdon/y8L6J00De4Wh02Jl\n7p803wqjgZqampqahc//dhbqEu231yoAAAAASUVORK5CYII=\n",
      "text/latex": [
       "$$\\left [ - \\sqrt{6}, \\quad \\sqrt{6}\\right ]$$"
      ],
      "text/plain": [
       "⎡   ___    ___⎤\n",
       "⎣-╲╱ 6 , ╲╱ 6 ⎦"
      ]
     },
     "execution_count": 47,
     "metadata": {},
     "output_type": "execute_result"
    }
   ],
   "source": [
    "# find points of intersection\n",
    "\n",
    "solve(f=g)\n"
   ]
  },
  {
   "cell_type": "code",
   "execution_count": 49,
   "metadata": {
    "collapsed": false
   },
   "outputs": [
    {
     "data": {
      "image/png": "iVBORw0KGgoAAAANSUhEUgAAAJ4AAAASCAYAAACq92fYAAAABHNCSVQICAgIfAhkiAAABOJJREFU\naIHt2VnMXVMUB/Dfp61qlZiqJRU1T4molNDSmCLhSZoQojG9IAhifiilFULSB7M+cImYhQdNDBHF\nQ2uOREhFIqWEfo0hppo9rHPY93zn3HPu+a54uf/k5mavvc76n7X23muvvQ9DDPE/YKRCPhVrcGBF\n/+64DpvwB7bEVfiyAedaLMXL+BFzcTUuwoctOAZtL0evGJyAe/AefsYv+DPpfxN3tuTNcTkm4aaC\n/NDMvymYhTdwLT5vqQd7Y0niy89Z+/tEp2mcm/oxBoeIwP1V0b8bNmJhIlskBmFinfHMbvr7FReM\ng2PQ9qiPwWUlvOnvhJa8OXYVg7ukID8YL2CbrD0Nr2IDZrfQg/3xKeZl7Zn4pIS7SZyb+tGF/bAS\nHbHSq4L+DL7GZolsiljRZ9W8CKzDCjyNWzLe8XAM0l7TGNyNXcRKTm3Oxx0t/UixIuNeUpCvxJ4F\n2ZxM99EWehNFJrskke2CUVxceL5JnIuo8qMSHeVB3xy/ibRdxFo828D2qpr+fjkGbS9HR/XEu6NE\nNg3PiS16PLwLcaryAftBZKcdC/JvRGbtV+8ckbm2UY9VDXRS9PKjayU2wXZilWwq6ftO1BXjxaA5\n/ot3vrBEdquo5X4aB+80nKg7K6X4BDNEnZjiF5FJ+9U7DR/j2wq+tqjzo1FNlmJUBHaLkr6dMT2z\n+XsPG5OxGNuLjLCHKFI/askxaHttMB8T8Hoia8N7jd5F+GHYSvfBZGcxyVb1qTeCI0RGXoDjxYSZ\njevxboG7Ls4p6vyoREf1NnOfSNfpiXimONX9ZWx6L+JjUUfkWISvMhttOAZtL0dHdQyKeFscJIro\nh/cgMWA5mtZGN4vT8rw+9XbIOD7EeYneUeI0e0Dh+SZxpr0f6B306WKWn5u1J2IZ3sme2b7GdnF7\nnyAyw20tOQZtL0dHs4l3LD6o6GvKuxkeEHVhjiYDtqeo55a10JuRcWzSvf3CemNr0CZxbuvHP+jo\nHfRtRT2zXDizK94S9z9Vd4O9sC77DYpjEPY6mk28p0Rmq0IT3vNxdOG5ugGbLLbJ5TXvV6U3KeN4\nv+SZNaIenFxjuxjnNn50oaP5NpPjM7xUo/MqXiuRr1dehNdxDNpeio76GEwSmeTGBlxVvDNxe4lO\nrwEbwcO4oYanTm+D8vi9kvHvlLWbxLkvP/o91VZhurgdf6JGb44oYIvYwdgM1YRj0Pb6xaHi5Lix\nTrEH73HYV9z55b+VWd+pWXthwcZSUZtdm8jOKOGq01sjYlXEZJHxRrN2kzi38WMMOqpX+yVipcxK\nZJeL2V88we2lu354wth6Kr/YXNyCY9D2UnTUZ7wzM53zK/rb8BIny6qMd7byDLaihd5pok5Lx2hE\nXK88nsiaxrmI2frMeHlQppb0TcteNr8GmIMrcIru7W2BuCh9JpHdgnsTuyO4FKuzvn45Bm0vRa8Y\n5MhPpb9W9LfhJbbw9D/HMeK+cHc8lPweFdcn/eo9Jj7fpZ++ThbXJVcmsqZxbupHF3bE86LYzL/H\njYqPwqcnelMyp+7Hk3gRh5fY20cct+8qyI8UK+hBMSmXGrv6m3IM2l7TGOQ4SWSHuRXv1o8fsHXG\n9YV/T5yrMx7iy0PV9+GliZ2mesRFd0fE8GE8Iu7oimgS56Z+DDHEEEMMMcQQ/y3+Bga+C2IGgJXC\nAAAAAElFTkSuQmCC\n",
      "text/latex": [
       "$$19.5959179422654$$"
      ],
      "text/plain": [
       "19.5959179422654"
      ]
     },
     "metadata": {},
     "output_type": "display_data"
    }
   ],
   "source": [
    "# determine area using definite integration\n",
    "ig = integrate(g,(x,-6**.5,6**.5) )\n",
    "iF= integrate(f,(x,-6**.5,6**.5) )\n",
    "i = ig-iF\n",
    "\n",
    "display(i)\n",
    "\n"
   ]
  },
  {
   "cell_type": "markdown",
   "metadata": {},
   "source": [
    "####Question 4\n",
    "\n",
    "Determine the size of the shaded area in the following diagram\n",
    "\n",
    "![](http://bestmaths.net/online/files/8213/8655/6257/Y12_Area_under_Curves_09.gif)\n"
   ]
  },
  {
   "cell_type": "code",
   "execution_count": 50,
   "metadata": {
    "collapsed": true
   },
   "outputs": [],
   "source": [
    "# define symbols\n",
    "x=Symbol('x')\n",
    "f= x**2\n",
    "g= -x**2+2*x"
   ]
  },
  {
   "cell_type": "code",
   "execution_count": 36,
   "metadata": {
    "collapsed": false
   },
   "outputs": [
    {
     "data": {
      "image/png": "iVBORw0KGgoAAAANSUhEUgAAAEAAAAAWCAYAAABwvpo0AAAABHNCSVQICAgIfAhkiAAAAjBJREFU\nWIXt10+ITWEYx/HPMAwNY0wiIspo1oawoJiVrbU/ZakkkRJSGrK1sbGxESOspETpZGFhQyFlI/Jv\nUIRb/gxj8Z5bZ07nHXPn/i3zrdv7nud53uf+znPPed/n8p/Tlru+ie+4jbPow2m8wCgW4BCGG6ix\nEtbhMGZjKe7jOF6n/n0YwCxsLUqQZObz8Ao7MrYjeIyZNRRdK/pxC93p9RzcxXusyMUmsSRZx6l0\ncXvG1oNf2FON0jpxA70522rhyR3K2ZNYkqzjGa4XxDzCnYrl1Z9veImFOfsnfMzZkvJkWiTZXKxK\nE+Z5gzWTklhfnmMROnP2H8KeUEh7xL48Hb8U+EroQkeavFXYIPxw7zK2JUJRktii2BPQlY4/C3yl\ndOwu8DWTkrE3T9j1/+BobFGsAL/TcbTANyMdp1eirgn0Yq9wjN+LBcUK8GGcxOV37OvkdDWEDlzE\nORwbLzBWgGHh159f4OvEZ61bgDacF5q6A/8KjhWghAdYVuDrxcPJqmsAg3gqdIBldsWCYwUgNBbr\njW2XVwpFuZqL7RPay2azW9j0BnP2jRNNkGTmi4VHfWfGdgZPjG2Ftwivy5UKhNaDAaHhuZD7DOFS\nLjYpT2J9ALzFZqEl7hfO2B7hT0T2eBxOv3htFeJrwTXhaN5e4Ds50SRJFQJOVLG20STlyXh7QKV0\n1DBXw6hVATZp7ZMhSr4AI8L5ub+CHO3Yhsu1ElVHDgr3N9JsIVNM0SL8BaEUYcECWFObAAAAAElF\nTkSuQmCC\n",
      "text/latex": [
       "$$\\left [ 0, \\quad 2\\right ]$$"
      ],
      "text/plain": [
       "[0, 2]"
      ]
     },
     "execution_count": 36,
     "metadata": {},
     "output_type": "execute_result"
    }
   ],
   "source": [
    "# find points \n",
    "\n",
    "solve(f=g)\n"
   ]
  },
  {
   "cell_type": "code",
   "execution_count": 51,
   "metadata": {
    "collapsed": false
   },
   "outputs": [
    {
     "data": {
      "image/png": "iVBORw0KGgoAAAANSUhEUgAAAAkAAAAeCAYAAAD+QjQzAAAABHNCSVQICAgIfAhkiAAAAPJJREFU\nOI3F0kErhFEUBuAHI5sROyUls7JTVhbii52F1dgpu/kT/AVZz87KX1DyF5QFKRZkoZSdKNGMxb1f\nrtt8fVbm1O2ec+57zn3P6eUPNlaRP8Q7HqsK1/GMokyMZoApLOEmTeagDrp56xS0jVN8VIFmMY2r\nQSTL6doRuBrPFibQw92gQniQTJfvaQ4H2MQMXnFb1WmYNhLv/v9+B2uYFzZd4BjnecEL9qK/I4hu\nEhoJqMB99PsYr6Nxgv0yaGSPy9jAG47qOnVwgWaaXBHEvxDjxcirzY8yv3CNpxi38IlLfu9pV9BQ\nT1BnF2d1vIZl3wH+JmlJuEMsAAAAAElFTkSuQmCC\n",
      "text/latex": [
       "$$\\frac{4}{3}$$"
      ],
      "text/plain": [
       "4/3"
      ]
     },
     "metadata": {},
     "output_type": "display_data"
    }
   ],
   "source": [
    "# determine area using definite integration\n",
    "ig = integrate(g,(x,0,2) )\n",
    "iF= integrate(f,(x,0,2) )\n",
    "i =iF -ig\n",
    "\n",
    "display(i)"
   ]
  },
  {
   "cell_type": "code",
   "execution_count": null,
   "metadata": {
    "collapsed": true
   },
   "outputs": [],
   "source": []
  }
 ],
 "metadata": {
  "kernelspec": {
   "display_name": "Python 3",
   "language": "python",
   "name": "python3"
  },
  "language_info": {
   "codemirror_mode": {
    "name": "ipython",
    "version": 3
   },
   "file_extension": ".py",
   "mimetype": "text/x-python",
   "name": "python",
   "nbconvert_exporter": "python",
   "pygments_lexer": "ipython3",
   "version": "3.4.3"
  }
 },
 "nbformat": 4,
 "nbformat_minor": 0
}
         