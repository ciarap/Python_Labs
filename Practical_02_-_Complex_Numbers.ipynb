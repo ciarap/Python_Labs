{
 "cells": [
  {
   "cell_type": "code",
   "execution_count": 37,
   "metadata": {
    "collapsed": true
   },
   "outputs": [],
   "source": [
    "# specify your student id and your name\n",
    "id = '20072488'\n",
    "name = 'Ciara Power'"
   ]
  },
  {
   "cell_type": "code",
   "execution_count": 38,
   "metadata": {
    "collapsed": false
   },
   "outputs": [
    {
     "name": "stdout",
     "output_type": "stream",
     "text": [
      "Ver 0.2\n"
     ]
    },
    {
     "data": {
      "text/html": [
       "<style>\n",
       "\n",
       "\n",
       "\n",
       "/* counting headers and my styling */\n",
       "\n",
       ".navbar-collapse.collapse {\n",
       "display: block!important;\n",
       "}\n",
       "\n",
       ".navbar-nav>li, .navbar-nav {\n",
       "float: left !important;\n",
       "}\n",
       "\n",
       ".navbar-nav.navbar-right:last-child {\n",
       "margin-right: -15px !important;\n",
       "}\n",
       "\n",
       ".navbar-right {\n",
       "float: right!important;\n",
       "}\n",
       "\n",
       "#notebook_name {\n",
       "    font-weight: 600;\n",
       "}\n",
       "\n",
       "h1 {\n",
       "\ttext-align: center;\n",
       "\tbackground-color: rgba(0,255,1,0.15);\n",
       "\tborder-bottom: 1px solid #cccccc;\n",
       "\tcounter-reset: h2counter;\t\n",
       "}\n",
       "\n",
       "h2 {\n",
       "\ttext-align: center;\n",
       "\twidth: 75%;\n",
       "\tmargin-left: 25%;\n",
       "\tbackground-color: rgba(255,255,1,0.15);\n",
       "\tborder-bottom: 1px solid #cccccc;\n",
       "\tcounter-reset: h3counter;\t\n",
       "}\n",
       "h2:before {\n",
       "\tcounter-increment: h2counter;\n",
       "}\n",
       "\n",
       "h3 {\n",
       "\tborder-bottom: 1px solid #cccccc;\t\n",
       "}\n",
       "h3:before {\n",
       "\tcounter-increment: h3counter;\n",
       "}\n",
       "\n",
       "h4 {\n",
       "\tborder-bottom: 1px solid #cccccc;\t\n",
       "}\n",
       "h4:before {\n",
       "\tcounter-increment: h4counter;\n",
       "}\n",
       " </style>"
      ],
      "text/plain": [
       "<IPython.core.display.HTML object>"
      ]
     },
     "execution_count": 38,
     "metadata": {},
     "output_type": "execute_result"
    }
   ],
   "source": [
    "# setup magic - see kmurphy.bitbucket.org/modules/Advanced_Calculus for setup instructions.\n",
    "%matplotlib inline\n",
    "from calculus import *\n",
    "setup_practical(id, name)"
   ]
  },
  {
   "cell_type": "markdown",
   "metadata": {},
   "source": [
    "# Practical 02 - Complex Numbers\n",
    "\n",
    "## Introduction\n",
    "\n",
    "### Aim\n",
    "\n",
    "In our second practical deals with complex numbers, how they are represented and standard operations.\n",
    "\n",
    " * Solve quadratic equations, (or for quadratic function determine inputs for which the output is zero).\n",
    " * Graph quadratic functions, and pimp graphs to show intercept, max/min point and roots (if any).\n",
    " * Show how the bahaviour of quadratic functions changea as their parameters change.\n",
    "\n",
    "### Mathematics Concepts\n",
    "\n",
    "Some basic concepts\n",
    "\n",
    " * A __complex number__ is number of the form\n",
    "\\\\[\n",
    "    a + b i \n",
    "\\\\]\n",
    "where $i=\\sqrt{-1}$ and $a$ and $b$ are read numbers.\n",
    "\n",
    "\n",
    "### Python Syntax/Modules/Commands\n",
    "\n",
    "#### Symbol for imaginary unit: i or j\n",
    "\n",
    "While mathematicians (and most physists) use $i$ for the $\\sqrt{-1}$, engineers use $j$. Python uses both $j$ and $I$ depending on the context (the symbolic programming module sympy uses I while most other parts of python use j). To write the complex number $1+2i$ we type\n",
    "\n",
    "    complex(1,2)\n",
    " \n",
    "and python returns\n",
    "\n",
    "    (1+2j)\n",
    "\n",
    "Complex numbers in python can be added/subtracted/multiplied/divided as normal and they also support the following methods \n",
    " \n",
    " * __conjugate__  --- return the complex conjugate of its argument. (3-4j).conjugate() == 3+4j\n",
    " * __imag__ --- return the imaginary part of a complex number\n",
    " * __real__ --- return the real part of a complex number\n",
    " \n",
    "Also the function __abs__ will return the modulus of a complex number. \n",
    "\n",
    "\n",
    "In order to work with polar coodinates you need to import the __cmath__ module. This has funcitons \n",
    "\n",
    " * __polar__ --- returns the polar representation of a complex number\n",
    " * __rect__ --- returns the rectangular (Cartesian) representation of a length and angle.\n",
    " \n",
    " as well as functions like __exp__, __cos__ and __sin__ which can work with complex inputs.\n",
    " "
   ]
  },
  {
   "cell_type": "markdown",
   "metadata": {},
   "source": [
    "## The need for Complex Numbers\n",
    "\n",
    "You lecturer has already covered the need for complex numbers when solving quadratic equations. The following graph is interactive and you can vary the coefficients of the quadratic to see the conditions under when the roots are complex."
   ]
  },
  {
   "cell_type": "code",
   "execution_count": 40,
   "metadata": {
    "collapsed": false
   },
   "outputs": [
    {
     "data": {
      "image/png": "[encoded data removed]",
      "text/plain": [
       "<matplotlib.figure.Figure at 0xa639f98>"
      ]
     },
     "metadata": {},
     "output_type": "display_data"
    },
    {
     "name": "stdout",
     "output_type": "stream",
     "text": [
      "The discriminant (b^2-4ac) =  204.0 is positive so real roots\n",
      "The roots of the quadratic are  [-1.62828568570857, 1.22828568570857]\n"
     ]
    }
   ],
   "source": [
    "import sympy as sym\n",
    "t= sym.symbols ('t')\n",
    "\n",
    "from sympy.plotting import plot\n",
    "\n",
    "from IPython.html.widgets import *\n",
    "\n",
    "aSlider = FloatSlider(min=-5, max=5, step=0.3, value=5)\n",
    "bSlider = FloatSlider(min=-5, max=5, step=0.3, value=2)\n",
    "cSlider = FloatSlider(min=-20, max=20, step=0.3, value=-10)\n",
    "\n",
    "@interact\n",
    "def greeting(a=aSlider, b=bSlider, c=cSlider):\n",
    "    f = a*t**2 + b*t + c\n",
    "    p = plot (f, show=False)\n",
    "    p.xlim = (-5,5)\n",
    "    p.ylim = (-60,60)\n",
    "    p.axis_center = (-5,0)\n",
    "    p.legend = True\n",
    "    p.show()\n",
    "    d = b*b-4*a*c\n",
    "    print('The discriminant (b^2-4ac) = ', b*b-4*a*c, ' is negative so COMPLEX ROOTS' if d<0  else \"is positive so real roots\")\n",
    "    print('The roots of the quadratic are ', sym.solve(f))\n"
   ]
  },
  {
   "cell_type": "markdown",
   "metadata": {},
   "source": [
    "## Visualising Complex Numbers \n",
    "\n",
    "While real numbers can be considered as points along the real line, complex numbers can be considered as points on the complex plane. I have included a function __plotComplexNumbers__ in the library __calculus__ which will draw a list of complex numbers as follows"
   ]
  },
  {
   "cell_type": "code",
   "execution_count": 22,
   "metadata": {
    "collapsed": false,
    "scrolled": false
   },
   "outputs": [
    {
     "data": {
      "image/png": "[encoded data removed]",
      "text/plain": [
       "<matplotlib.figure.Figure at 0xa6e5630>"
      ]
     },
     "metadata": {},
     "output_type": "display_data"
    }
   ],
   "source": [
    "from calculus.plotcomplex.plot import plotComplexNumbers\n",
    "plotComplexNumbers([(-1+1j), (1+2j), (-1.5 - 0.5j), (.6 - 1.8j)])"
   ]
  },
  {
   "cell_type": "markdown",
   "metadata": {},
   "source": [
    "## Exercises"
   ]
  },
  {
   "cell_type": "markdown",
   "metadata": {},
   "source": [
    "#### Question 1\n",
    "Let $z=3+4i$, so in python you would write\n",
    "\n",
    "    z = complex(3,4)\n",
    "\n",
    "Write python code to \n",
    "\n",
    " * $\\Re(z)$, the real part of $z$.\n",
    " * $\\Im(z)$, the imaginary part of $z$.\n",
    " * $|z|$, the modulus of $z$.\n",
    " * $\\bar z$, the conjugate of $z$\n",
    " \n",
    "Finally plot, $z$, $\\bar z$, $-z$ and $-\\bar z$ on the complex plane using __plotComplexNumbers__."
   ]
  },
  {
   "cell_type": "code",
   "execution_count": 23,
   "metadata": {
    "collapsed": true
   },
   "outputs": [],
   "source": [
    "# Define z\n",
    "z = complex(3,4)"
   ]
  },
  {
   "cell_type": "code",
   "execution_count": 24,
   "metadata": {
    "collapsed": false
   },
   "outputs": [
    {
     "data": {
      "text/plain": [
       "3.0"
      ]
     },
     "execution_count": 24,
     "metadata": {},
     "output_type": "execute_result"
    }
   ],
   "source": [
    "# the real part of z\n",
    "z.real\n"
   ]
  },
  {
   "cell_type": "code",
   "execution_count": 25,
   "metadata": {
    "collapsed": false
   },
   "outputs": [
    {
     "data": {
      "text/plain": [
       "4.0"
      ]
     },
     "execution_count": 25,
     "metadata": {},
     "output_type": "execute_result"
    }
   ],
   "source": [
    "# the imaginary part of z\n",
    "z.imag"
   ]
  },
  {
   "cell_type": "code",
   "execution_count": 26,
   "metadata": {
    "collapsed": false
   },
   "outputs": [
    {
     "data": {
      "text/plain": [
       "5.0"
      ]
     },
     "execution_count": 26,
     "metadata": {},
     "output_type": "execute_result"
    }
   ],
   "source": [
    "# the modulus of z\n",
    "abs(z)"
   ]
  },
  {
   "cell_type": "code",
   "execution_count": 27,
   "metadata": {
    "collapsed": false
   },
   "outputs": [
    {
     "data": {
      "text/plain": [
       "(3-4j)"
      ]
     },
     "execution_count": 27,
     "metadata": {},
     "output_type": "execute_result"
    }
   ],
   "source": [
    "# the conjugate of z\n",
    "z.conjugate()"
   ]
  },
  {
   "cell_type": "code",
   "execution_count": 28,
   "metadata": {
    "collapsed": false
   },
   "outputs": [
    {
     "data": {
      "image/png": "[encoded data removed]",
      "text/plain": [
       "<matplotlib.figure.Figure at 0xa634828>"
      ]
     },
     "metadata": {},
     "output_type": "display_data"
    }
   ],
   "source": [
    "# The plot  ...\n",
    "from calculus.plotcomplex.plot import plotComplexNumbers\n",
    "plotComplexNumbers([(z),(z.conjugate()),(-z),(-z.conjugate())])"
   ]
  },
  {
   "cell_type": "markdown",
   "metadata": {},
   "source": [
    "To convert complex numbers between rectangular and polar coordinates we use the __cmath__ module are follows\n",
    "\n",
    "    z = complex(1,1)                 # define complex number in rectangular coordinates\n",
    "    cmath.polar(z)                   # convert to polar\n",
    "    \n",
    "and\n",
    "\n",
    "    z = cmath.rect(1, cmath.pi/2)    # define complex number in polar coordinates\n",
    "\n"
   ]
  },
  {
   "cell_type": "markdown",
   "metadata": {},
   "source": [
    "#### Question 2\n",
    "    \n",
    "Write each of the following complex numbers in polar form.\n",
    "\n",
    " * $7 + 2i$\n",
    " * $3-i$"
   ]
  },
  {
   "cell_type": "code",
   "execution_count": 29,
   "metadata": {
    "collapsed": true
   },
   "outputs": [],
   "source": [
    "import cmath\n",
    "import math"
   ]
  },
  {
   "cell_type": "code",
   "execution_count": 30,
   "metadata": {
    "collapsed": false
   },
   "outputs": [
    {
     "name": "stdout",
     "output_type": "stream",
     "text": [
      "(7.280109889280518, 0.27829965900511133)\n"
     ]
    }
   ],
   "source": [
    "# Write 7+2i in polar form.\n",
    "z1=complex(7,2)\n",
    "z1=cmath.polar(z1)\n",
    "print(z1)"
   ]
  },
  {
   "cell_type": "code",
   "execution_count": 31,
   "metadata": {
    "collapsed": false
   },
   "outputs": [
    {
     "name": "stdout",
     "output_type": "stream",
     "text": [
      "(3.1622776601683795, -0.3217505543966422)\n"
     ]
    }
   ],
   "source": [
    "# Write 3−i in polar form.\n",
    "z2=complex(3,-1)\n",
    "z2=cmath.polar(z2)\n",
    "print(z2)"
   ]
  },
  {
   "cell_type": "markdown",
   "metadata": {},
   "source": [
    "#### Question 3\n",
    "\n",
    "Write each of the following complex numbers in rectangular form.\n",
    "\n",
    " * $[4,\\pi/3]$\n",
    " * $[3\\sqrt{2}, -3\\pi/4]$\n",
    " * $[4,\\pi]$"
   ]
  },
  {
   "cell_type": "code",
   "execution_count": 32,
   "metadata": {
    "collapsed": false
   },
   "outputs": [
    {
     "name": "stdout",
     "output_type": "stream",
     "text": [
      "(2.0000000000000004+3.4641016151377544j)\n"
     ]
    }
   ],
   "source": [
    "# Write [4,pi/3] in rectangular form.\n",
    "z3=cmath.rect(4,cmath.pi/3)\n",
    "print(z3)"
   ]
  },
  {
   "cell_type": "code",
   "execution_count": 33,
   "metadata": {
    "collapsed": false
   },
   "outputs": [
    {
     "name": "stdout",
     "output_type": "stream",
     "text": [
      "(-3-3.0000000000000004j)\n"
     ]
    }
   ],
   "source": [
    "# Write [3 sqrt{2}, -3pi/4] in rectangular form. (note the sqrt function is in the math module)\n",
    "z4=cmath.rect(3*math.sqrt(2),-3*cmath.pi/4)\n",
    "print(z4)"
   ]
  },
  {
   "cell_type": "code",
   "execution_count": 34,
   "metadata": {
    "collapsed": false
   },
   "outputs": [
    {
     "name": "stdout",
     "output_type": "stream",
     "text": [
      "(-4+4.898587196589413e-16j)\n"
     ]
    }
   ],
   "source": [
    "# Write [4,pi] in rectangular form.\n",
    "z5=cmath.rect(4,cmath.pi)\n",
    "print(z5)"
   ]
  },
  {
   "cell_type": "markdown",
   "metadata": {
    "collapsed": true
   },
   "source": [
    "#### Question 4  (Extra - you may have not covered this yet, so feel free to not attempt this)\n",
    "\n",
    "Determine the two square roots of the complex number $5 + 12i$."
   ]
  },
  {
   "cell_type": "code",
   "execution_count": 35,
   "metadata": {
    "collapsed": true
   },
   "outputs": [],
   "source": [
    "# The two square roots of the complex number 5 + 12i."
   ]
  },
  {
   "cell_type": "code",
   "execution_count": 36,
   "metadata": {
    "collapsed": true
   },
   "outputs": [],
   "source": [
    "z6=complex(5,12)\n",
    "z6=cmath.polar(z6)"
   ]
  },
  {
   "cell_type": "code",
   "execution_count": null,
   "metadata": {
    "collapsed": true
   },
   "outputs": [],
   "source": []
  }
 ],
 "metadata": {
  "kernelspec": {
   "display_name": "Python 3",
   "language": "python",
   "name": "python3"
  },
  "language_info": {
   "codemirror_mode": {
    "name": "ipython",
    "version": 3
   },
   "file_extension": ".py",
   "mimetype": "text/x-python",
   "name": "python",
   "nbconvert_exporter": "python",
   "pygments_lexer": "ipython3",
   "version": "3.4.3"
  }
 },
 "nbformat": 4,
 "nbformat_minor": 0
}
