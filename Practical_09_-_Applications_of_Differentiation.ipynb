{
 "cells": [
  {
   "cell_type": "code",
   "execution_count": 1,
   "metadata": {
    "collapsed": true
   },
   "outputs": [],
   "source": [
    "# specify your studentb  id and your name\n",
    "id = 'W20072488'\n",
    "name = 'Ciara Power'"
   ]
  },
  {
   "cell_type": "code",
   "execution_count": 2,
   "metadata": {
    "collapsed": false
   },
   "outputs": [
    {
     "name": "stdout",
     "output_type": "stream",
     "text": [
      "Ver 0.3\n"
     ]
    },
    {
     "data": {
      "text/html": [
       "<style>\n",
       "\n",
       "\n",
       "\n",
       "/* counting headers and my styling */\n",
       "\n",
       ".navbar-collapse.collapse {\n",
       "display: block!important;\n",
       "}\n",
       "\n",
       ".navbar-nav>li, .navbar-nav {\n",
       "float: left !important;\n",
       "}\n",
       "\n",
       ".navbar-nav.navbar-right:last-child {\n",
       "margin-right: -15px !important;\n",
       "}\n",
       "\n",
       ".navbar-right {\n",
       "float: right!important;\n",
       "}\n",
       "\n",
       "#notebook_name {\n",
       "    font-weight: 600;\n",
       "}\n",
       "\n",
       "h1 {\n",
       "\ttext-align: center;\n",
       "\tbackground-color: rgba(0,255,1,0.15);\n",
       "\tborder-bottom: 1px solid #cccccc;\n",
       "\tcounter-reset: h2counter;\t\n",
       "}\n",
       "\n",
       "h2 {\n",
       "\ttext-align: center;\n",
       "\twidth: 75%;\n",
       "\tmargin-left: 25%;\n",
       "\tbackground-color: rgba(255,255,1,0.15);\n",
       "\tborder-bottom: 1px solid #cccccc;\n",
       "\tcounter-reset: h3counter;\t\n",
       "}\n",
       "h2:before {\n",
       "\tcounter-increment: h2counter;\n",
       "}\n",
       "\n",
       "h3 {\n",
       "\tborder-bottom: 1px solid #cccccc;\t\n",
       "}\n",
       "h3:before {\n",
       "\tcounter-increment: h3counter;\n",
       "}\n",
       "\n",
       "h4 {\n",
       "\tborder-bottom: 1px solid #cccccc;\t\n",
       "}\n",
       "h4:before {\n",
       "\tcounter-increment: h4counter;\n",
       "}\n",
       " </style>"
      ],
      "text/plain": [
       "<IPython.core.display.HTML object>"
      ]
     },
     "execution_count": 2,
     "metadata": {},
     "output_type": "execute_result"
    }
   ],
   "source": [
    "# setup magic - see kmurphy.bitbucket.org/modules/Advanced_Calculus for setup instructions.\n",
    "%matplotlib inline\n",
    "from calculus import *\n",
    "setup_practical(id, name)"
   ]
  },
  {
   "cell_type": "markdown",
   "metadata": {},
   "source": [
    "# Practical 09 - Applications of Differentiation\n",
    "\n",
    "## Introduction\n",
    "\n",
    "### Aim\n",
    "\n",
    "In this practical we will use python to study various problems based on applications of differentiation (optimisation, etc.)\n",
    " \n",
    "### Mathematics Concepts\n",
    "\n",
    " * A __smooth__ function $f(t)$, has a __stationary point__ (local max, local min, points of inflection) at all value of $t=t^*$ if   \n",
    "\n",
    "\\\\[\n",
    "    f'(t^*) = 0\n",
    "\\\\]\n",
    "\n",
    " * A stationary point is (second derivative test)\n",
    "     * a local maximum if $f''(t^*) <0$\n",
    "     * a local minimum if $f''(t^*) >0$\n",
    "     * a local maximum, local minimum or a point of inflection if $f''(t^*) =0$\n",
    " \n",
    "### Python Concepts\n",
    "\n",
    " * The Python symbolic module, __sympy__, has functions \n",
    "    * __symbols__ or (better) __Symbol__ define a symbol \n",
    "    * __Funciton__ to define a symbolic funciton\n",
    "    * __limit(f, t, t0)__ - compute the limit of the experssion, __f__, as the variable __t__ tends towards __t0__.\n",
    "    * __diff(f, t)__ - differentiation the function, __f__, with respect to variable __t__.\n",
    "    * __display__ to dispaly an experssion using mathematics notation.\n",
    "    * __log(v,b)__ to calculate the log of __v__ to base __b__.\n",
    "   and from __sympy.solvers__\n",
    "    * __solve__ to solve an algebraic equation.\n",
    "    \n",
    "   and methods \n",
    "    * __subs(exp_old,exp_new)__ to substitute sub-expresion __exp_old__ with __exp_new__.  \n",
    "    * __diff(var)__ to differentiate an expression with respect to variable __var__."
   ]
  },
  {
   "cell_type": "markdown",
   "metadata": {},
   "source": [
    "## Standard Importing of  Libraries\n"
   ]
  },
  {
   "cell_type": "code",
   "execution_count": 3,
   "metadata": {
    "collapsed": true
   },
   "outputs": [],
   "source": [
    "# for numeric work\n",
    "import numpy as np\n",
    "import matplotlib.pyplot as plt\n",
    "\n",
    "# for symbolic work\n",
    "import sympy as sym\n",
    "from sympy.plotting import plot\n",
    "\n",
    "# mathematical output \n",
    "from sympy import *\n",
    "from IPython.display import display\n",
    "sym.init_printing(pretty_print=True)"
   ]
  },
  {
   "cell_type": "markdown",
   "metadata": {},
   "source": [
    "## Helper functions"
   ]
  },
  {
   "cell_type": "code",
   "execution_count": 4,
   "metadata": {
    "collapsed": true
   },
   "outputs": [],
   "source": [
    "def secondDerivativeTest(f,x,xStar):\n",
    "    \n",
    "    df = f.diff(x)   # get first derivative\n",
    "    if df.subs(x, xStar)!=0:\n",
    "        return \"The value %s does not appear to be a stationary point\"%xStar\n",
    "    \n",
    "    ddf = df.diff(x)  # get second derivative\n",
    "    result = ddf.subs(x,xStar)\n",
    "    if result<0:\n",
    "        return \"The value %s is a local maximum.\"%xStar\n",
    "    elif result>0:\n",
    "        return \"The value %s is a local minimum.\"%xStar\n",
    "    else:\n",
    "        return \"The value %s is a local maximum, local minimum, or a point of inflection.\"%xStar"
   ]
  },
  {
   "cell_type": "markdown",
   "metadata": {},
   "source": [
    "## Examples"
   ]
  },
  {
   "cell_type": "markdown",
   "metadata": {},
   "source": [
    "####Example 1 - Oil Refinery\n",
    "\n",
    "The daily profit, $p$, of an oil refinery is given by\n",
    "\\\\[\n",
    "    p = 8x − 0.02x^2,\n",
    "\\\\]\n",
    "\n",
    "where $x$ is the number of barrels of oil refined. \n",
    "\n",
    "**(a)** Plot the profit.\n",
    "\n",
    "**(b)** How many barrels will give maximum profit?\n",
    "\n",
    "**(c)** What is the maximum profit?"
   ]
  },
  {
   "cell_type": "code",
   "execution_count": 5,
   "metadata": {
    "collapsed": false
   },
   "outputs": [
    {
     "data": {
      "text/plain": [
       "'Function p(x)'"
      ]
     },
     "metadata": {},
     "output_type": "display_data"
    },
    {
     "data": {
      "image/png": "[encoded data removed]",
      "text/latex": [
       "$$- 0.02 x^{2} + 8 x$$"
      ],
      "text/plain": [
       "           2      \n",
       "- - -0.02⋅x  + 8⋅x"
      ]
     },
     "metadata": {},
     "output_type": "display_data"
    }
   ],
   "source": [
    "# define symbols\n",
    "x = Symbol('x')\n",
    "p = 8*x - 0.02*x*x\n",
    "display(\"Function p(x)\",p)"
   ]
  },
  {
   "cell_type": "code",
   "execution_count": 6,
   "metadata": {
    "collapsed": false
   },
   "outputs": [
    {
     "data": {
      "image/png": "[encoded data removed]",
      "text/plain": [
       "<matplotlib.figure.Figure at 0x792dd68>"
      ]
     },
     "metadata": {},
     "output_type": "display_data"
    }
   ],
   "source": [
    "# (a) Plot the profit\n",
    "\n",
    "# With a bit of trial and error a reasonable plot range is 0..400\n",
    "plot(p,(x,0,400));"
   ]
  },
  {
   "cell_type": "code",
   "execution_count": 7,
   "metadata": {
    "collapsed": false
   },
   "outputs": [
    {
     "data": {
      "text/plain": [
       "'Derivative of p(x)'"
      ]
     },
     "metadata": {},
     "output_type": "display_data"
    },
    {
     "data": {
      "image/png": "[encoded data removed]",
      "text/latex": [
       "$$- 0.04 x + 8$$"
      ],
      "text/plain": [
       "-- -0.04⋅x + 8"
      ]
     },
     "metadata": {},
     "output_type": "display_data"
    },
    {
     "data": {
      "text/plain": [
       "'Stationary points'"
      ]
     },
     "metadata": {},
     "output_type": "display_data"
    },
    {
     "data": {
      "image/png": "[encoded data removed]",
      "text/latex": [
       "$$\\left [ 200.0\\right ]$$"
      ],
      "text/plain": [
       "[200.0]"
      ]
     },
     "metadata": {},
     "output_type": "display_data"
    },
    {
     "data": {
      "text/plain": [
       "'Second derivative of p(x)'"
      ]
     },
     "metadata": {},
     "output_type": "display_data"
    },
    {
     "data": {
      "image/png": "[encoded data removed]",
      "text/latex": [
       "$$-0.04$$"
      ],
      "text/plain": [
       "-0.0400000000000000"
      ]
     },
     "metadata": {},
     "output_type": "display_data"
    },
    {
     "data": {
      "image/png": "[encoded data removed]",
      "text/latex": [
       "$$-0.04$$"
      ],
      "text/plain": [
       "-0.0400000000000000"
      ]
     },
     "execution_count": 7,
     "metadata": {},
     "output_type": "execute_result"
    }
   ],
   "source": [
    "# (b) How many barrels will give maximum profit?\n",
    "dp = p.diff(x)          # get the derivative of p with respect to x\n",
    "display(\"Derivative of p(x)\",dp)\n",
    "xStar = solve(dp)       # solve (derivative=0) to get stationary points\n",
    "display(\"Stationary points\",xStar)\n",
    "ddp = p.diff(x,2)       # get second derivative\n",
    "display(\"Second derivative of p(x)\",ddp)\n",
    "ddp.subs(x,xStar[0])"
   ]
  },
  {
   "cell_type": "markdown",
   "metadata": {},
   "source": [
    "The second derivative is negative so this is a local maximum. Using our helper function we can do the following"
   ]
  },
  {
   "cell_type": "code",
   "execution_count": 8,
   "metadata": {
    "collapsed": false
   },
   "outputs": [
    {
     "data": {
      "text/plain": [
       "'The value 200.000000000000 is a local maximum.'"
      ]
     },
     "execution_count": 8,
     "metadata": {},
     "output_type": "execute_result"
    }
   ],
   "source": [
    "secondDerivativeTest(p,x,xStar[0])"
   ]
  },
  {
   "cell_type": "code",
   "execution_count": 9,
   "metadata": {
    "collapsed": false
   },
   "outputs": [
    {
     "data": {
      "text/plain": [
       "'The maximum profit is '"
      ]
     },
     "metadata": {},
     "output_type": "display_data"
    },
    {
     "data": {
      "image/png": "[encoded data removed]",
      "text/latex": [
       "$$800.0$$"
      ],
      "text/plain": [
       "800.000000000000"
      ]
     },
     "metadata": {},
     "output_type": "display_data"
    }
   ],
   "source": [
    "# (c) What is the maximum profit?\n",
    "display('The maximum profit is ', p.subs(x,xStar[0]))"
   ]
  },
  {
   "cell_type": "markdown",
   "metadata": {},
   "source": [
    "#### Example 2 - Removing extra variables using a constraint\n",
    "\n",
    "![](http://intmstat.com/applications-differentiation/Image761.gif)\n",
    "\n",
    "A rectangular storage area is to be constructed along the side of a tall building. A security fence is required along the remaining 3 sides of the area. \n",
    "\n",
    "**(a)** What is the maximum area that can be enclosed with 800 m of fencing?"
   ]
  },
  {
   "cell_type": "code",
   "execution_count": 10,
   "metadata": {
    "collapsed": false
   },
   "outputs": [
    {
     "data": {
      "image/png": "[encoded data removed]",
      "text/latex": [
       "$$2 x + y$$"
      ],
      "text/plain": [
       "2⋅x + y"
      ]
     },
     "metadata": {},
     "output_type": "display_data"
    },
    {
     "data": {
      "image/png": "[encoded data removed]",
      "text/latex": [
       "$$x y$$"
      ],
      "text/plain": [
       "x⋅y"
      ]
     },
     "metadata": {},
     "output_type": "display_data"
    }
   ],
   "source": [
    "# define symbols\n",
    "x = Symbol('x')\n",
    "y = Symbol('y')\n",
    "p = 2*x+y           # constraint (must be =800)\n",
    "display(p)\n",
    "a = x*y             # objective function \n",
    "display(a)"
   ]
  },
  {
   "cell_type": "code",
   "execution_count": 11,
   "metadata": {
    "collapsed": false
   },
   "outputs": [
    {
     "data": {
      "image/png": "[encoded data removed]",
      "text/latex": [
       "$$x \\left(- 2 x + 800\\right)$$"
      ],
      "text/plain": [
       "x⋅(-2⋅x + 800)"
      ]
     },
     "metadata": {},
     "output_type": "display_data"
    }
   ],
   "source": [
    "# elimate variable y using the constraint p=800\n",
    "yConstraint = solve(p-800,y)[0]\n",
    "a = a.subs(y,yConstraint)\n",
    "display(a)"
   ]
  },
  {
   "cell_type": "code",
   "execution_count": 12,
   "metadata": {
    "collapsed": false
   },
   "outputs": [
    {
     "data": {
      "text/plain": [
       "'Derivative of a(x)'"
      ]
     },
     "metadata": {},
     "output_type": "display_data"
    },
    {
     "data": {
      "image/png": "[encoded data removed]",
      "text/latex": [
       "$$- 4 x + 800$$"
      ],
      "text/plain": [
       "-4⋅x + 800"
      ]
     },
     "metadata": {},
     "output_type": "display_data"
    },
    {
     "data": {
      "text/plain": [
       "'Stationary points'"
      ]
     },
     "metadata": {},
     "output_type": "display_data"
    },
    {
     "data": {
      "image/png": "[encoded data removed]",
      "text/latex": [
       "$$\\left [ 200\\right ]$$"
      ],
      "text/plain": [
       "[200]"
      ]
     },
     "metadata": {},
     "output_type": "display_data"
    },
    {
     "data": {
      "text/plain": [
       "'The maximum area is'"
      ]
     },
     "metadata": {},
     "output_type": "display_data"
    },
    {
     "data": {
      "image/png": "[encoded data removed]",
      "text/latex": [
       "$$80000$$"
      ],
      "text/plain": [
       "80000"
      ]
     },
     "metadata": {},
     "output_type": "display_data"
    },
    {
     "data": {
      "text/plain": [
       "'At maximum area x is'"
      ]
     },
     "metadata": {},
     "output_type": "display_data"
    },
    {
     "data": {
      "image/png": "[encoded data removed]",
      "text/latex": [
       "$$200$$"
      ],
      "text/plain": [
       "200"
      ]
     },
     "metadata": {},
     "output_type": "display_data"
    },
    {
     "data": {
      "text/plain": [
       "'At maximum area y is'"
      ]
     },
     "metadata": {},
     "output_type": "display_data"
    },
    {
     "data": {
      "image/png": "[encoded data removed]",
      "text/latex": [
       "$$400$$"
      ],
      "text/plain": [
       "400"
      ]
     },
     "metadata": {},
     "output_type": "display_data"
    }
   ],
   "source": [
    "# happy days, objective function depends on a single vairable, differentiate away\n",
    "da = a.diff(x)\n",
    "display(\"Derivative of a(x)\",da)\n",
    "xStar = solve(da)       # solve (derivative=0) to get stationary points\n",
    "display(\"Stationary points\",xStar)\n",
    "secondDerivativeTest(a,x,xStar[0])\n",
    "\n",
    "display(\"The maximum area is\", a.subs(x,xStar[0]))\n",
    "display(\"At maximum area x is\", xStar[0])\n",
    "display(\"At maximum area y is\", yConstraint.subs(x,xStar[0]))"
   ]
  },
  {
   "cell_type": "markdown",
   "metadata": {},
   "source": [
    "## Questions"
   ]
  },
  {
   "cell_type": "markdown",
   "metadata": {},
   "source": [
    "### Question 1\n",
    "\n",
    "Consider the function \n",
    "\\\\[\n",
    "    f(x) = x(4-x)\n",
    "\\\\]\n",
    "\n",
    "**(a)** Generate a plot of $f$ showing all of the stationary points (only one).\n",
    "\n",
    "**(b)** Determine each of the stationary points of $f$ and classify them using the second derivative test."
   ]
  },
  {
   "cell_type": "code",
   "execution_count": 13,
   "metadata": {
    "collapsed": false
   },
   "outputs": [
    {
     "data": {
      "text/plain": [
       "'Function f(x)'"
      ]
     },
     "metadata": {},
     "output_type": "display_data"
    },
    {
     "data": {
      "image/png": "[encoded data removed]",
      "text/latex": [
       "$$x \\left(- x + 4\\right)$$"
      ],
      "text/plain": [
       "x⋅(-x + 4)"
      ]
     },
     "metadata": {},
     "output_type": "display_data"
    }
   ],
   "source": [
    "# define symbols\n",
    "# define symbols\n",
    "x = Symbol('x')\n",
    "f = x*(4-x)\n",
    "display(\"Function f(x)\",f)"
   ]
  },
  {
   "cell_type": "code",
   "execution_count": 14,
   "metadata": {
    "collapsed": false
   },
   "outputs": [
    {
     "data": {
      "image/png": "[encoded data removed]",
      "text/plain": [
       "<matplotlib.figure.Figure at 0x5471f60>"
      ]
     },
     "metadata": {},
     "output_type": "display_data"
    }
   ],
   "source": [
    "# (a) Generate a plot of $f$ showing all of the stationary points.\n",
    "plot(f,(x,0,4));"
   ]
  },
  {
   "cell_type": "code",
   "execution_count": 15,
   "metadata": {
    "collapsed": false
   },
   "outputs": [
    {
     "data": {
      "text/plain": [
       "'Derivative of f(x)'"
      ]
     },
     "metadata": {},
     "output_type": "display_data"
    },
    {
     "data": {
      "image/png": "[encoded data removed]",
      "text/latex": [
       "$$- 2 x + 4$$"
      ],
      "text/plain": [
       "-2⋅x + 4"
      ]
     },
     "metadata": {},
     "output_type": "display_data"
    },
    {
     "data": {
      "text/plain": [
       "'Stationary points'"
      ]
     },
     "metadata": {},
     "output_type": "display_data"
    },
    {
     "data": {
      "image/png": "[encoded data removed]",
      "text/latex": [
       "$$\\left [ 2\\right ]$$"
      ],
      "text/plain": [
       "[2]"
      ]
     },
     "metadata": {},
     "output_type": "display_data"
    },
    {
     "data": {
      "text/plain": [
       "'Second derivative of f(x)'"
      ]
     },
     "metadata": {},
     "output_type": "display_data"
    },
    {
     "data": {
      "image/png": "[encoded data removed]",
      "text/latex": [
       "$$-2$$"
      ],
      "text/plain": [
       "-2"
      ]
     },
     "metadata": {},
     "output_type": "display_data"
    },
    {
     "data": {
      "image/png": "[encoded data removed]",
      "text/latex": [
       "$$-2$$"
      ],
      "text/plain": [
       "-2"
      ]
     },
     "execution_count": 15,
     "metadata": {},
     "output_type": "execute_result"
    }
   ],
   "source": [
    "# (b) Determine each of the stationary points of $f$ and classify them using the second derivative test.\n",
    "df = f.diff(x)          \n",
    "display(\"Derivative of f(x)\",df)\n",
    "xStar = solve(df)       # solve (derivative=0) to get stationary points\n",
    "display(\"Stationary points\",xStar)\n",
    "ddf = f.diff(x,2)       # get second derivative\n",
    "display(\"Second derivative of f(x)\",ddf)\n",
    "ddf.subs(x,xStar[0])"
   ]
  },
  {
   "cell_type": "markdown",
   "metadata": {},
   "source": [
    "#### Question 2\n",
    "\n",
    "Consider the function \n",
    "\\\\[\n",
    "    f(x) = x^2(8-x^2)\n",
    "\\\\]\n",
    "\n",
    "**(a)** Generate a plot of $f$ showing all of the stationary points.\n",
    "\n",
    "**(b)** Determine each of the stationary points of $f$ and classify them using the second derivative test."
   ]
  },
  {
   "cell_type": "code",
   "execution_count": 16,
   "metadata": {
    "collapsed": false
   },
   "outputs": [
    {
     "data": {
      "text/plain": [
       "'Function f(x)'"
      ]
     },
     "metadata": {},
     "output_type": "display_data"
    },
    {
     "data": {
      "image/png": "[encoded data removed]",
      "text/latex": [
       "$$x^{2} \\left(- x^{2} + 8\\right)$$"
      ],
      "text/plain": [
       " 2 ⎛   2    ⎞\n",
       "x ⋅⎝- x  + 8⎠"
      ]
     },
     "metadata": {},
     "output_type": "display_data"
    }
   ],
   "source": [
    "# define symbols\n",
    "x = Symbol('x')\n",
    "f = x**2*(8-x**2)\n",
    "display(\"Function f(x)\",f)"
   ]
  },
  {
   "cell_type": "code",
   "execution_count": 17,
   "metadata": {
    "collapsed": false
   },
   "outputs": [
    {
     "data": {
      "image/png": "[encoded data removed]",
      "text/plain": [
       "<matplotlib.figure.Figure at 0x54dcf60>"
      ]
     },
     "metadata": {},
     "output_type": "display_data"
    }
   ],
   "source": [
    "# (a) Generate a plot of $f$ showing all of the stationary points.\n",
    "plot(f,(x,-3,3));"
   ]
  },
  {
   "cell_type": "code",
   "execution_count": 18,
   "metadata": {
    "collapsed": false
   },
   "outputs": [
    {
     "data": {
      "text/plain": [
       "'Derivative of f(x)'"
      ]
     },
     "metadata": {},
     "output_type": "display_data"
    },
    {
     "data": {
      "image/png": "[encoded data removed]",
      "text/latex": [
       "$$- 2 x^{3} + 2 x \\left(- x^{2} + 8\\right)$$"
      ],
      "text/plain": [
       "     3       ⎛   2    ⎞\n",
       "- 2⋅x  + 2⋅x⋅⎝- x  + 8⎠"
      ]
     },
     "metadata": {},
     "output_type": "display_data"
    },
    {
     "data": {
      "text/plain": [
       "'Stationary points'"
      ]
     },
     "metadata": {},
     "output_type": "display_data"
    },
    {
     "data": {
      "image/png": "[encoded data removed]",
      "text/latex": [
       "$$\\left [ -2, \\quad 0, \\quad 2\\right ]$$"
      ],
      "text/plain": [
       "[-2, 0, 2]"
      ]
     },
     "metadata": {},
     "output_type": "display_data"
    },
    {
     "data": {
      "text/plain": [
       "'The value -2 is a local maximum.'"
      ]
     },
     "metadata": {},
     "output_type": "display_data"
    },
    {
     "data": {
      "text/plain": [
       "'The value 0 is a local minimum.'"
      ]
     },
     "metadata": {},
     "output_type": "display_data"
    },
    {
     "data": {
      "text/plain": [
       "'The value 2 is a local maximum.'"
      ]
     },
     "metadata": {},
     "output_type": "display_data"
    }
   ],
   "source": [
    "# (b) Determine each of the stationary points of $f$ and classify them using the second derivative test.\n",
    "df = f.diff(x)         \n",
    "display(\"Derivative of f(x)\",df)\n",
    "xStar = solve(df)       # solve (derivative=0) to get stationary points\n",
    "display(\"Stationary points\",xStar)\n",
    "ddf = f.diff(x,2)       # get second derivative\n",
    "for xValue in xStar:\n",
    "    display (secondDerivativeTest(f,x,xValue))"
   ]
  },
  {
   "cell_type": "markdown",
   "metadata": {},
   "source": [
    "#### Question 3\n",
    "\n",
    "The acceleration, $a$, of a machine is given by\n",
    "\\\\[\n",
    "    a = \\frac{10r+1}{5r^2+3150}\n",
    "\\\\]\n",
    "\n",
    "where $r$ is the gear ratio. \n",
    "\n",
    "**(a)** Determine the value of $r$ for maximum acceleration to occur."
   ]
  },
  {
   "cell_type": "code",
   "execution_count": 19,
   "metadata": {
    "collapsed": false
   },
   "outputs": [
    {
     "data": {
      "text/plain": [
       "'Function f(x)'"
      ]
     },
     "metadata": {},
     "output_type": "display_data"
    },
    {
     "data": {
      "image/png": "[encoded data removed]",
      "text/latex": [
       "$$\\frac{10 r + 1}{5 r^{2} + 3150}$$"
      ],
      "text/plain": [
       "  10⋅r + 1 \n",
       "───────────\n",
       "   2       \n",
       "5⋅r  + 3150"
      ]
     },
     "metadata": {},
     "output_type": "display_data"
    }
   ],
   "source": [
    "# Define symbols\n",
    "r = Symbol('r')\n",
    "a = (10*r+1)/ (5*r**2+3150)\n",
    "display(\"Function f(x)\",a)"
   ]
  },
  {
   "cell_type": "code",
   "execution_count": null,
   "metadata": {
    "collapsed": false
   },
   "outputs": [],
   "source": []
  },
  {
   "cell_type": "code",
   "execution_count": 20,
   "metadata": {
    "collapsed": false
   },
   "outputs": [
    {
     "data": {
      "text/plain": [
       "'Derivative of f(x)'"
      ]
     },
     "metadata": {},
     "output_type": "display_data"
    },
    {
     "data": {
      "image/png": "[encoded data removed]",
      "text/latex": [
       "$$- \\frac{10 r \\left(10 r + 1\\right)}{\\left(5 r^{2} + 3150\\right)^{2}} + \\frac{10}{5 r^{2} + 3150}$$"
      ],
      "text/plain": [
       "  10⋅r⋅(10⋅r + 1)        10    \n",
       "- ─────────────── + ───────────\n",
       "                2      2       \n",
       "   ⎛   2       ⎞    5⋅r  + 3150\n",
       "   ⎝5⋅r  + 3150⎠               "
      ]
     },
     "metadata": {},
     "output_type": "display_data"
    },
    {
     "data": {
      "text/plain": [
       "'Stationary points'"
      ]
     },
     "metadata": {},
     "output_type": "display_data"
    },
    {
     "data": {
      "image/png": "[encoded data removed]",
      "text/latex": [
       "$$\\left [ - \\frac{126}{5}, \\quad 25\\right ]$$"
      ],
      "text/plain": [
       "[-126/5, 25]"
      ]
     },
     "metadata": {},
     "output_type": "display_data"
    },
    {
     "data": {
      "text/plain": [
       "'Second derivative of f(x)'"
      ]
     },
     "metadata": {},
     "output_type": "display_data"
    },
    {
     "data": {
      "image/png": "[encoded data removed]",
      "text/latex": [
       "$$\\frac{1}{5 \\left(r^{2} + 630\\right)^{2}} \\left(\\frac{8 r^{2} \\left(10 r + 1\\right)}{r^{2} + 630} - 60 r - 2\\right)$$"
      ],
      "text/plain": [
       "  ⎛   2                      ⎞\n",
       "  ⎜4⋅r ⋅(10⋅r + 1)           ⎟\n",
       "2⋅⎜─────────────── - 30⋅r - 1⎟\n",
       "  ⎜     2                    ⎟\n",
       "  ⎝    r  + 630              ⎠\n",
       "──────────────────────────────\n",
       "                    2         \n",
       "          ⎛ 2      ⎞          \n",
       "        5⋅⎝r  + 630⎠          "
      ]
     },
     "metadata": {},
     "output_type": "display_data"
    },
    {
     "data": {
      "text/plain": [
       "'The maximum acceleration is'"
      ]
     },
     "metadata": {},
     "output_type": "display_data"
    },
    {
     "data": {
      "image/png": "[encoded data removed]",
      "text/latex": [
       "$$- \\frac{5}{126}$$"
      ],
      "text/plain": [
       "-5/126"
      ]
     },
     "metadata": {},
     "output_type": "display_data"
    },
    {
     "data": {
      "text/plain": [
       "'At maximum acceleration x is'"
      ]
     },
     "metadata": {},
     "output_type": "display_data"
    },
    {
     "data": {
      "image/png": "[encoded data removed]",
      "text/latex": [
       "$$- \\frac{126}{5}$$"
      ],
      "text/plain": [
       "-126/5"
      ]
     },
     "metadata": {},
     "output_type": "display_data"
    },
    {
     "data": {
      "text/plain": [
       "'At maximum acceleration y is'"
      ]
     },
     "metadata": {},
     "output_type": "display_data"
    },
    {
     "data": {
      "image/png": "[encoded data removed]",
      "text/latex": [
       "$$- 2 x + 800$$"
      ],
      "text/plain": [
       "-2⋅x + 800"
      ]
     },
     "metadata": {},
     "output_type": "display_data"
    }
   ],
   "source": [
    "# (a) Determine the value of $r$ for maximum acceleration to occur.\n",
    "da = a.diff(r)         \n",
    "display(\"Derivative of f(x)\",da)\n",
    "xStar = solve(da)       # solve (derivative=0) to get stationary points\n",
    "display(\"Stationary points\",xStar)\n",
    "dda = a.diff(r,2)       # get second derivative\n",
    "display(\"Second derivative of f(x)\",dda)\n",
    "dda.subs(r,xStar[0])\n",
    "\n",
    "display(\"The maximum acceleration is\", a.subs(r,xStar[0]))\n",
    "display(\"At maximum acceleration x is\", xStar[0])\n",
    "display(\"At maximum acceleration y is\", yConstraint.subs(r,xStar[0]))"
   ]
  },
  {
   "cell_type": "markdown",
   "metadata": {},
   "source": [
    "###Question 4\n",
    "The displacement (position) of a particle at time $t$ is given by\n",
    "\\\\[\n",
    "    p = (1-t)e^{-t}\n",
    "\\\\]\n",
    "\n",
    "\n",
    "**(a)** Plot the position, velocity and acceleration using suitable input range.\n",
    "\n",
    "**(b)** Determine the time, $t$, at which the velocity is zero.\n",
    "\n",
    "**(c)** Determine the time, $t$, at which the acceleration is zero."
   ]
  },
  {
   "cell_type": "code",
   "execution_count": 23,
   "metadata": {
    "collapsed": false
   },
   "outputs": [
    {
     "data": {
      "text/plain": [
       "'Function p(x)'"
      ]
     },
     "metadata": {},
     "output_type": "display_data"
    },
    {
     "data": {
      "image/png": "[encoded data removed]",
      "text/latex": [
       "$$\\left(- t + 1\\right) e^{- t}$$"
      ],
      "text/plain": [
       "          -t\n",
       "(-t + 1)⋅ℯ  "
      ]
     },
     "metadata": {},
     "output_type": "display_data"
    }
   ],
   "source": [
    "# define symbols\n",
    "t = Symbol('t')\n",
    "p = (1-t)*sym.exp(-t)\n",
    "display(\"Function p(x)\",p)"
   ]
  },
  {
   "cell_type": "code",
   "execution_count": 59,
   "metadata": {
    "collapsed": false
   },
   "outputs": [
    {
     "data": {
      "text/plain": [
       "'The velocity at any given time of p(x)'"
      ]
     },
     "metadata": {},
     "output_type": "display_data"
    },
    {
     "data": {
      "image/png": "[encoded data removed]",
      "text/latex": [
       "$$- \\left(- t + 1\\right) e^{- t} - e^{- t}$$"
      ],
      "text/plain": [
       "            -t    -t\n",
       "- (-t + 1)⋅ℯ   - ℯ  "
      ]
     },
     "metadata": {},
     "output_type": "display_data"
    },
    {
     "data": {
      "text/plain": [
       "'The acceleration at any given time of p(x)'"
      ]
     },
     "metadata": {},
     "output_type": "display_data"
    },
    {
     "data": {
      "image/png": "[encoded data removed]",
      "text/latex": [
       "$$\\left(- t + 1\\right) e^{- t} + 2 e^{- t}$$"
      ],
      "text/plain": [
       "          -t      -t\n",
       "(-t + 1)⋅ℯ   + 2⋅ℯ  "
      ]
     },
     "metadata": {},
     "output_type": "display_data"
    },
    {
     "data": {
      "image/png": "[encoded data removed]",
      "text/plain": [
       "<matplotlib.figure.Figure at 0x5389c50>"
      ]
     },
     "metadata": {},
     "output_type": "display_data"
    }
   ],
   "source": [
    "# (a) Plot the position, velocity and acceleration using suitable input range.\n",
    "dp= p.diff(t)\n",
    "display(\"The velocity at any given time of p(x)\",dp)\n",
    "ddp= dp.diff(t)\n",
    "display(\"The acceleration at any given time of p(x)\",ddp)\n",
    "pPlot=plot(p,dp,ddp,(t,0,8),show=False)\n",
    "pPlot.legend = True\n",
    "pPlot[0].line_color = 'r'\n",
    "pPlot[1].line_color = 'g'\n",
    "pPlot.show()"
   ]
  },
  {
   "cell_type": "code",
   "execution_count": 56,
   "metadata": {
    "collapsed": false
   },
   "outputs": [
    {
     "data": {
      "text/plain": [
       "'The velocity is zero at time:'"
      ]
     },
     "metadata": {},
     "output_type": "display_data"
    },
    {
     "data": {
      "image/png": "[encoded data removed]",
      "text/latex": [
       "$$\\left [ 2\\right ]$$"
      ],
      "text/plain": [
       "[2]"
      ]
     },
     "metadata": {},
     "output_type": "display_data"
    }
   ],
   "source": [
    "# (b) Determine the time, $t$, at which the velocity is zero.\n",
    "zeroVel= solve(dp)\n",
    "display(\"The velocity is zero at time:\",zeroVel)"
   ]
  },
  {
   "cell_type": "code",
   "execution_count": 58,
   "metadata": {
    "collapsed": false
   },
   "outputs": [
    {
     "data": {
      "text/plain": [
       "'The acceleration is zero at time:'"
      ]
     },
     "metadata": {},
     "output_type": "display_data"
    },
    {
     "data": {
      "image/png": "[encoded data removed]",
      "text/latex": [
       "$$\\left [ 3\\right ]$$"
      ],
      "text/plain": [
       "[3]"
      ]
     },
     "metadata": {},
     "output_type": "display_data"
    }
   ],
   "source": [
    "# (c) Determine the time, $t$, at which the acceleration is zero.\n",
    "zeroAcc= solve(ddp)\n",
    "display(\"The acceleration is zero at time:\",zeroAcc)"
   ]
  },
  {
   "cell_type": "markdown",
   "metadata": {},
   "source": [
    "#### Question 5\n",
    "\n",
    "In the electronic circuit shown below, the voltage $E$ (in Volts) and resistance $r$ (in Ohms) are constant. $R$ is the resistance of a load. In such a circuit, the electric current $i$ is given by \n",
    "\n",
    "\\\\[\n",
    "    i = \\frac{E}{r+R}\n",
    "\\\\]\n",
    "\n",
    "and the power, $P$, delivered to the load $R$ is given by \n",
    "\\\\[\n",
    "    P = R i^2\n",
    "\\\\]\n",
    "where $r$ and $R$ are both positive.\n",
    "\n",
    "**(a)** Determine $R$ so that the power, $P$, delivered to $R$ is maximum. \n",
    "**(b)** Determine the maximum value for power, $P$. \n",
    "\n",
    "\n",
    "![](http://cdn-6.analyzemath.com/calculus/Problems/maximum_power_1.gif)\n",
    "\n",
    "Hint (steps):\n",
    "\n",
    " * Define symbols ($E$, $r$ and $R$), define functions ($i$ and $P$) in terms of defined symbols.\n",
    " * Express power, $P$, in terms of $E$, $r$ and the variable $R$.\n",
    " * We now differentiate $P$ with respect to the variable $R$.\n",
    " * To find out whether $P$ has a local maximum we need to find the critical points by setting $dP/dR=0$ and solve for $R$. REMEMBER $R$ and $r$ are both positive so ignore suprious solutions.\n",
    " * You should find maximum occurs when $R=r$, then deterime the formula for the value of $P$ in this case,\n",
    " "
   ]
  },
  {
   "cell_type": "code",
   "execution_count": 88,
   "metadata": {
    "collapsed": false
   },
   "outputs": [
    {
     "data": {
      "text/plain": [
       "'The function P in terms of defined symbols:'"
      ]
     },
     "metadata": {},
     "output_type": "display_data"
    },
    {
     "data": {
      "image/png": "[encoded data removed]",
      "text/latex": [
       "$$R i^{2}$$"
      ],
      "text/plain": [
       "   2\n",
       "R⋅i "
      ]
     },
     "metadata": {},
     "output_type": "display_data"
    },
    {
     "data": {
      "text/plain": [
       "'The function i:'"
      ]
     },
     "metadata": {},
     "output_type": "display_data"
    },
    {
     "data": {
      "image/png": "[encoded data removed]",
      "text/latex": [
       "$$\\frac{E}{R + r}$$"
      ],
      "text/plain": [
       "  E  \n",
       "─────\n",
       "R + r"
      ]
     },
     "metadata": {},
     "output_type": "display_data"
    },
    {
     "data": {
      "text/plain": [
       "'The function P:'"
      ]
     },
     "metadata": {},
     "output_type": "display_data"
    },
    {
     "data": {
      "image/png": "[encoded data removed]",
      "text/latex": [
       "$$\\frac{E^{2} R}{\\left(R + r\\right)^{2}}$$"
      ],
      "text/plain": [
       "   2    \n",
       "  E ⋅R  \n",
       "────────\n",
       "       2\n",
       "(R + r) "
      ]
     },
     "metadata": {},
     "output_type": "display_data"
    },
    {
     "data": {
      "text/plain": [
       "'The differential of P with respect to R:'"
      ]
     },
     "metadata": {},
     "output_type": "display_data"
    },
    {
     "data": {
      "image/png": "[encoded data removed]",
      "text/latex": [
       "$$- \\frac{2 E^{2} R}{\\left(R + r\\right)^{3}} + \\frac{E^{2}}{\\left(R + r\\right)^{2}}$$"
      ],
      "text/plain": [
       "      2          2   \n",
       "   2⋅E ⋅R       E    \n",
       "- ──────── + ────────\n",
       "         3          2\n",
       "  (R + r)    (R + r) "
      ]
     },
     "metadata": {},
     "output_type": "display_data"
    },
    {
     "data": {
      "text/plain": [
       "'The second differential of P with respect to R:'"
      ]
     },
     "metadata": {},
     "output_type": "display_data"
    },
    {
     "data": {
      "image/png": "[encoded data removed]",
      "text/latex": [
       "$$\\frac{2 E^{2}}{\\left(R + r\\right)^{3}} \\left(\\frac{3 R}{R + r} - 2\\right)$$"
      ],
      "text/plain": [
       "   2 ⎛ 3⋅R     ⎞\n",
       "2⋅E ⋅⎜───── - 2⎟\n",
       "     ⎝R + r    ⎠\n",
       "────────────────\n",
       "           3    \n",
       "    (R + r)     "
      ]
     },
     "metadata": {},
     "output_type": "display_data"
    },
    {
     "data": {
      "text/plain": [
       "'Stationary points:'"
      ]
     },
     "metadata": {},
     "output_type": "display_data"
    },
    {
     "data": {
      "image/png": "[encoded data removed]",
      "text/latex": [
       "$$\\left [ \\left \\{ E : 0\\right \\}, \\quad \\left \\{ R : r\\right \\}\\right ]$$"
      ],
      "text/plain": [
       "[{E: 0}, {R: r}]"
      ]
     },
     "metadata": {},
     "output_type": "display_data"
    },
    {
     "data": {
      "text/plain": [
       "'The value {E: 0} is a local maximum, local minimum, or a point of inflection.'"
      ]
     },
     "metadata": {},
     "output_type": "display_data"
    },
    {
     "data": {
      "text/plain": [
       "'The value {R: r} is a local maximum, local minimum, or a point of inflection.'"
      ]
     },
     "metadata": {},
     "output_type": "display_data"
    },
    {
     "data": {
      "image/png": "[encoded data removed]",
      "text/latex": [
       "$$\\frac{E^{2}}{4 r}$$"
      ],
      "text/plain": [
       "  2\n",
       " E \n",
       "───\n",
       "4⋅r"
      ]
     },
     "metadata": {},
     "output_type": "display_data"
    }
   ],
   "source": [
    "E = Symbol('E')\n",
    "r = Symbol('r')\n",
    "R = Symbol('R')\n",
    "i = Symbol('i')\n",
    "P=R*i**2\n",
    "display(\"The function P in terms of defined symbols:\",P)\n",
    "i= E/(r+R)\n",
    "P=R*i**2\n",
    "display(\"The function i:\",i)\n",
    "display(\"The function P:\",P)\n",
    "dP=P.diff(R)\n",
    "display(\"The differential of P with respect to R:\",dP)\n",
    "ddP=P.diff(R,2)\n",
    "display(\"The second differential of P with respect to R:\",ddP)\n",
    "xStar=solve(dP)\n",
    "display(\"Stationary points:\",xStar)\n",
    "\n",
    "for xValue in xStar:\n",
    "    display (secondDerivativeTest(P,x,xValue))\n",
    "subP=P.subs(R,r)\n",
    "display(subP)"
   ]
  },
  {
   "cell_type": "code",
   "execution_count": null,
   "metadata": {
    "collapsed": true
   },
   "outputs": [],
   "source": []
  }
 ],
 "metadata": {
  "kernelspec": {
   "display_name": "Python 3",
   "language": "python",
   "name": "python3"
  },
  "language_info": {
   "codemirror_mode": {
    "name": "ipython",
    "version": 3
   },
   "file_extension": ".py",
   "mimetype": "text/x-python",
   "name": "python",
   "nbconvert_exporter": "python",
   "pygments_lexer": "ipython3",
   "version": "3.4.3"
  }
 },
 "nbformat": 4,
 "nbformat_minor": 0
}
