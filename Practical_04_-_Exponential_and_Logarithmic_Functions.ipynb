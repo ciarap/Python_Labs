{
 "cells": [
  {
   "cell_type": "code",
   "execution_count": 1,
   "metadata": {
    "collapsed": true
   },
   "outputs": [],
   "source": [
    "# specify your student id and your name\n",
    "id = 'W20072488'\n",
    "name = 'Ciara Power'"
   ]
  },
  {
   "cell_type": "code",
   "execution_count": 2,
   "metadata": {
    "collapsed": false
   },
   "outputs": [
    {
     "name": "stdout",
     "output_type": "stream",
     "text": [
      "Ver 0.3\n"
     ]
    },
    {
     "data": {
      "text/html": [
       "<style>\n",
       "\n",
       "\n",
       "\n",
       "/* counting headers and my styling */\n",
       "\n",
       ".navbar-collapse.collapse {\n",
       "display: block!important;\n",
       "}\n",
       "\n",
       ".navbar-nav>li, .navbar-nav {\n",
       "float: left !important;\n",
       "}\n",
       "\n",
       ".navbar-nav.navbar-right:last-child {\n",
       "margin-right: -15px !important;\n",
       "}\n",
       "\n",
       ".navbar-right {\n",
       "float: right!important;\n",
       "}\n",
       "\n",
       "#notebook_name {\n",
       "    font-weight: 600;\n",
       "}\n",
       "\n",
       "h1 {\n",
       "\ttext-align: center;\n",
       "\tbackground-color: rgba(0,255,1,0.15);\n",
       "\tborder-bottom: 1px solid #cccccc;\n",
       "\tcounter-reset: h2counter;\t\n",
       "}\n",
       "\n",
       "h2 {\n",
       "\ttext-align: center;\n",
       "\twidth: 75%;\n",
       "\tmargin-left: 25%;\n",
       "\tbackground-color: rgba(255,255,1,0.15);\n",
       "\tborder-bottom: 1px solid #cccccc;\n",
       "\tcounter-reset: h3counter;\t\n",
       "}\n",
       "h2:before {\n",
       "\tcounter-increment: h2counter;\n",
       "}\n",
       "\n",
       "h3 {\n",
       "\tborder-bottom: 1px solid #cccccc;\t\n",
       "}\n",
       "h3:before {\n",
       "\tcounter-increment: h3counter;\n",
       "}\n",
       "\n",
       "h4 {\n",
       "\tborder-bottom: 1px solid #cccccc;\t\n",
       "}\n",
       "h4:before {\n",
       "\tcounter-increment: h4counter;\n",
       "}\n",
       " </style>"
      ],
      "text/plain": [
       "<IPython.core.display.HTML object>"
      ]
     },
     "execution_count": 2,
     "metadata": {},
     "output_type": "execute_result"
    }
   ],
   "source": [
    "# setup magic - see kmurphy.bitbucket.org/modules/Advanced_Calculus for setup instructions.\n",
    "%matplotlib inline\n",
    "from calculus import *\n",
    "setup_practical(id, name)"
   ]
  },
  {
   "cell_type": "markdown",
   "metadata": {},
   "source": [
    "# Practical 04 - Exponential and Lograthmic Functions\n",
    "\n",
    "## Introduction\n",
    "\n",
    "\n",
    "### Aim\n",
    "\n",
    "In this practical we will focus on exponential and lograthmic functions, and solve probem similar to those in your tutorial sheets but using Python.\n",
    "\n",
    " \n",
    "### Mathematics Concepts\n",
    "\n",
    " * The __exponential function__ is defined by\n",
    "\n",
    "\\\\[\n",
    "    f(x) = \\exp(x) = {\\rm e}^{x}, \\qquad \\mbox{for all real input}\n",
    "\\\\]\n",
    "\n",
    "where fundmental constant, ${\\rm e}=2.71828182845904523536028747135266249775724709369995957\\ldots$ \n",
    " \n",
    "     - The exponential function is useful in modelling growth/decay phenomena where the growth/decay rate is related to the size of the population (people, bacteria, cash, etc).\n",
    "     \n",
    " * The __(natural) logarithmic function__ is defined as the inverse of the exponental function \n",
    " \n",
    "\\\\[ \n",
    "    f(x) = \\ln(x) \\qquad x>0\n",
    "\\\\]\n",
    "where $y=\\ln(x) \\iff {\\rm e}^y = x$.\n",
    "\n",
    "\n",
    "\n",
    "### Python Concepts\n",
    "\n",
    "Python had symbolic and numerical implematations of the exponential and logarithmic functions. To access the symbolic implementation we use the __sympy__ module as usual:\n",
    "\n",
    "    import sympy as sym\n",
    "\n",
    "and we will make use of the following functions\n",
    "\n",
    " * __sym.exp(x)__ return the value of the exponential function\n",
    " * __sym.ln(x)__ return the value of the (natural) logarithmic function\n",
    " \n",
    "and\n",
    "\n",
    " * __sys.symbols__ - Define a symbol and it properties (e.g. real)\n",
    " * __sym.solve(EXPER, x)__ - Determine the values of the variable __x__ for which the expression __EXPER__ is zero.\n",
    " * __EXPER.subs(x, value)__ - Evaluate expression __EXPER__ by replacing variable __x__ with __value__.\n"
   ]
  },
  {
   "cell_type": "markdown",
   "metadata": {},
   "source": [
    "## Example\n",
    "\n",
    "Bacteria increase according to the formula $N = 150 e^{1.02t}$ where $N$ is the number of bacteria and $t$ is the time in hours.\n",
    "\n",
    "a) Plot the behaviour of the population growth over the first 5 hours.\n",
    "b) How many bacteria were present at the start of the experiment?\n",
    "c) How long does it take for the bacteria to double?\n",
    "\n",
    "A sample of 3000 bacteria is placed in a dish. After 4 hours, the thermostat control breaks down and the bacteria begin to die. If the numbers decrease according to the formula $D = D_0 e^{-0.03t}$, how much longer, to the nearest minute, will it take for the number of bacteria return to the original number of 3000?\n"
   ]
  },
  {
   "cell_type": "markdown",
   "metadata": {},
   "source": [
    "__a) Plot the behaviour of the population growth over the first 5 hours.__\n",
    "\n",
    "Here, we import the plotting function as before and construct our plot as before.\n",
    "\n"
   ]
  },
  {
   "cell_type": "code",
   "execution_count": 3,
   "metadata": {
    "collapsed": false
   },
   "outputs": [
    {
     "data": {
      "image/png": "[encoded data removed]",
      "text/plain": [
       "<matplotlib.figure.Figure at 0x805b0f0>"
      ]
     },
     "metadata": {},
     "output_type": "display_data"
    }
   ],
   "source": [
    "from sympy.plotting import plot\n",
    "t = sym.symbols('t')\n",
    "N = 150*sym.exp(1.02*t)\n",
    "p = plot(N, (t,0,5), show=False)\n",
    "p.title = \"Bacteria Population size\"\n",
    "p.xlabel = \"$t$, time (hours)\"\n",
    "p.show()"
   ]
  },
  {
   "cell_type": "markdown",
   "metadata": {},
   "source": [
    "__b) How many bacteria were present at the start of the experiment?__\n",
    "\n",
    "We want to evaluate $N$ when $t=0$, so use the _subs_ method i.e. \"substitute\""
   ]
  },
  {
   "cell_type": "code",
   "execution_count": 4,
   "metadata": {
    "collapsed": false
   },
   "outputs": [
    {
     "data": {
      "text/plain": [
       "150"
      ]
     },
     "execution_count": 4,
     "metadata": {},
     "output_type": "execute_result"
    }
   ],
   "source": [
    "N.subs(t,0)"
   ]
  },
  {
   "cell_type": "markdown",
   "metadata": {},
   "source": [
    "__c) How long does it take for the bacteria to double?__\n",
    "\n",
    "So, since the initial population was 150, this question is asking for what value of $t$ is $N=300$. In order words solve, for $t$, the equation\n",
    "\\\\[\n",
    "    150 e^{1.02t} = 300\n",
    "\\\\]\n",
    "\n",
    "OK, we can do this using the logarithmic function, but can sympy do the work for us instead? yes\n",
    "\n",
    "First we use _sym.solve_ to find the zeros of the expression $N-300$ as follows"
   ]
  },
  {
   "cell_type": "code",
   "execution_count": 5,
   "metadata": {
    "collapsed": false
   },
   "outputs": [
    {
     "data": {
      "text/plain": [
       "[0.679556059372495,\n",
       " 0.679556059372495 - 153.999639881853*I,\n",
       " 0.679556059372495 - 147.839654286579*I,\n",
       " 0.679556059372495 - 141.679668691304*I,\n",
       " 0.679556059372495 - 135.51968309603*I,\n",
       " 0.679556059372495 - 129.359697500756*I,\n",
       " 0.679556059372495 - 123.199711905482*I,\n",
       " 0.679556059372495 - 117.039726310208*I,\n",
       " 0.679556059372495 - 110.879740714934*I,\n",
       " 0.679556059372495 - 104.71975511966*I,\n",
       " 0.679556059372495 - 98.5597695243857*I,\n",
       " 0.679556059372495 - 92.3997839291116*I,\n",
       " 0.679556059372495 - 86.2397983338375*I,\n",
       " 0.679556059372495 - 80.0798127385634*I,\n",
       " 0.679556059372495 - 73.9198271432893*I,\n",
       " 0.679556059372495 - 67.7598415480151*I,\n",
       " 0.679556059372495 - 61.599855952741*I,\n",
       " 0.679556059372495 - 55.4398703574669*I,\n",
       " 0.679556059372495 - 49.2798847621928*I,\n",
       " 0.679556059372495 - 43.1198991669187*I,\n",
       " 0.679556059372495 - 36.9599135716446*I,\n",
       " 0.679556059372495 - 30.7999279763705*I,\n",
       " 0.679556059372495 - 24.6399423810964*I,\n",
       " 0.679556059372495 - 18.4799567858223*I,\n",
       " 0.679556059372495 - 12.3199711905482*I,\n",
       " 0.679556059372495 - 6.1599855952741*I,\n",
       " 0.679556059372495 + 6.1599855952741*I,\n",
       " 0.679556059372495 + 12.3199711905482*I,\n",
       " 0.679556059372495 + 18.4799567858223*I,\n",
       " 0.679556059372495 + 24.6399423810964*I,\n",
       " 0.679556059372495 + 30.7999279763705*I,\n",
       " 0.679556059372495 + 36.9599135716446*I,\n",
       " 0.679556059372495 + 43.1198991669187*I,\n",
       " 0.679556059372495 + 49.2798847621928*I,\n",
       " 0.679556059372495 + 55.4398703574669*I,\n",
       " 0.679556059372495 + 61.599855952741*I,\n",
       " 0.679556059372495 + 67.7598415480151*I,\n",
       " 0.679556059372495 + 73.9198271432893*I,\n",
       " 0.679556059372495 + 80.0798127385634*I,\n",
       " 0.679556059372495 + 86.2397983338375*I,\n",
       " 0.679556059372495 + 92.3997839291116*I,\n",
       " 0.679556059372495 + 98.5597695243857*I,\n",
       " 0.679556059372495 + 104.71975511966*I,\n",
       " 0.679556059372495 + 110.879740714934*I,\n",
       " 0.679556059372495 + 117.039726310208*I,\n",
       " 0.679556059372495 + 123.199711905482*I,\n",
       " 0.679556059372495 + 129.359697500756*I,\n",
       " 0.679556059372495 + 135.51968309603*I,\n",
       " 0.679556059372495 + 141.679668691304*I,\n",
       " 0.679556059372495 + 147.839654286579*I,\n",
       " 0.679556059372495 + 153.999639881853*I]"
      ]
     },
     "execution_count": 5,
     "metadata": {},
     "output_type": "execute_result"
    }
   ],
   "source": [
    "sym.solve(N-300,t)"
   ]
  },
  {
   "cell_type": "markdown",
   "metadata": {},
   "source": [
    "We were expecting only one answer, but we seem to have got a lot more.  There is only one real answer (the first one) and the rest are complex solutions to the equation $N=300$. \n",
    "\n",
    "To get only real solutions we should have said that the variable $t$ is real. We do this as follows\n"
   ]
  },
  {
   "cell_type": "code",
   "execution_count": 6,
   "metadata": {
    "collapsed": false
   },
   "outputs": [
    {
     "data": {
      "text/plain": [
       "[0.679556059372495]"
      ]
     },
     "execution_count": 6,
     "metadata": {},
     "output_type": "execute_result"
    }
   ],
   "source": [
    "t = sym.symbols('t', real=True)    # t is now real\n",
    "N = 150*sym.exp(1.02*t)\n",
    "sym.solve(N-300,t)"
   ]
  },
  {
   "cell_type": "markdown",
   "metadata": {},
   "source": [
    "To store this solution we use array indexing ..."
   ]
  },
  {
   "cell_type": "code",
   "execution_count": 7,
   "metadata": {
    "collapsed": true
   },
   "outputs": [],
   "source": [
    "tDouble = sym.solve(N-300,t)[0]"
   ]
  },
  {
   "cell_type": "markdown",
   "metadata": {},
   "source": [
    "Lets test the located value to see if $N$ is actiually 300  ..."
   ]
  },
  {
   "cell_type": "code",
   "execution_count": 8,
   "metadata": {
    "collapsed": false
   },
   "outputs": [
    {
     "data": {
      "text/plain": [
       "300.000000000000"
      ]
     },
     "execution_count": 8,
     "metadata": {},
     "output_type": "execute_result"
    }
   ],
   "source": [
    "N.subs(t, tDouble)"
   ]
  },
  {
   "cell_type": "markdown",
   "metadata": {},
   "source": [
    "## Example\n",
    "\n",
    "A scientist starts with 100 bacteria in an experiment. After 5 days, she discovers that the population has grown to 350. \n",
    "\n",
    "a) Determine an equation for this bacteria population.\n",
    "b) Plot the graph of the population for the first 5 days."
   ]
  },
  {
   "cell_type": "markdown",
   "metadata": {},
   "source": [
    "__a) Determine an equation for this bacteria population.__\n",
    "\n",
    "The general formula for population growth is \n",
    "\\\\[\n",
    "      N = N_0 * {\\rm e}^{k t}\n",
    "\\\\]\n",
    "where\n",
    " * $N_0$ is the initial population size (in this example 100).\n",
    " * $k$ is the population growth rate (in this example unknown).\n",
    " * $t$ is time (in this example days).\n",
    " \n",
    "We start by defining the required quantities ..."
   ]
  },
  {
   "cell_type": "code",
   "execution_count": 9,
   "metadata": {
    "collapsed": false
   },
   "outputs": [],
   "source": [
    "N0 = 100\n",
    "k = sym.symbols ('k', real=True)     # growth rate\n",
    "t = sym.symbols ('t', real=True)     # time (days)\n",
    "\n",
    "N = N0 * sym.exp(k*t)\n"
   ]
  },
  {
   "cell_type": "markdown",
   "metadata": {},
   "source": [
    "Next we use the information \"5 days, she discovers that the population has grown to 350\" to find $k$. In order words we solve the equation\n",
    "\n",
    "\\\\[\n",
    "    N = 350\n",
    "\\\\]\n",
    "where $t=5$ and $k$ is the unknown."
   ]
  },
  {
   "cell_type": "code",
   "execution_count": 10,
   "metadata": {
    "collapsed": false
   },
   "outputs": [
    {
     "data": {
      "text/plain": [
       "[log(2**(4/5)*7**(1/5)/2)]"
      ]
     },
     "execution_count": 10,
     "metadata": {},
     "output_type": "execute_result"
    }
   ],
   "source": [
    "sym.solve(N.subs(t,5)-350,k)"
   ]
  },
  {
   "cell_type": "code",
   "execution_count": 11,
   "metadata": {
    "collapsed": false
   },
   "outputs": [
    {
     "data": {
      "text/plain": [
       "0.250552593699074"
      ]
     },
     "execution_count": 11,
     "metadata": {},
     "output_type": "execute_result"
    }
   ],
   "source": [
    "#OK, that looks like our answer for $k$ but lets get its floating point approximation\n",
    "sym.solve(N.subs(t,5)-350,k)[0].evalf()"
   ]
  },
  {
   "cell_type": "code",
   "execution_count": 12,
   "metadata": {
    "collapsed": true
   },
   "outputs": [],
   "source": [
    "# save result for use later\n",
    "kSoln = sym.solve(N.subs(t,5)-350,k)[0].evalf()"
   ]
  },
  {
   "cell_type": "markdown",
   "metadata": {},
   "source": [
    "__b) Plot the graph of the population for the first 5 days.__"
   ]
  },
  {
   "cell_type": "code",
   "execution_count": 13,
   "metadata": {
    "collapsed": false
   },
   "outputs": [
    {
     "data": {
      "image/png": "[encoded data removed]",
      "text/plain": [
       "<matplotlib.figure.Figure at 0x5ca1668>"
      ]
     },
     "metadata": {},
     "output_type": "display_data"
    }
   ],
   "source": [
    "from sympy.plotting import plot\n",
    "p = plot(N.subs(k,kSoln), (t,0,5), show=False)\n",
    "p.title = \"Bacteria Population size\"\n",
    "p.xlabel = \"$t$, time (hours)\"\n",
    "p.axis_center = (0,100)  \n",
    "p.show()"
   ]
  },
  {
   "cell_type": "markdown",
   "metadata": {},
   "source": [
    "## Exercises"
   ]
  },
  {
   "cell_type": "markdown",
   "metadata": {},
   "source": [
    "#### Question 1\n",
    "\n",
    "In a given region, the number (in 1000’s) in the population aged 60 and over is expected to grow according to the equation  $P=125.5{\\rm e}^{0.012t}$, where $t$ is given in years starting from 1995.\n",
    "\n",
    " __(a)__ If t = 0 at the beginning of 1995, calculate the population size (in 1000’s) at the beginning of 1995.\n",
    "\n",
    " __(b)__ Calculate the population size (in 1000’s) after 10, 30, 60, 90, 100 years.\n",
    "\n",
    " __(c)__ Calculate the population size (in 1000’s) at the beginning of 2005, 2025, 2055, 2095. \n",
    "\n",
    " __(d)__ Graph the population for the years 1995 to 2095.\n",
    "\n"
   ]
  },
  {
   "cell_type": "markdown",
   "metadata": {},
   "source": [
    "__(a) If t = 0 at the beginning of 1995, calculate the population size (in 1000’s) at the beginning of 1995.__"
   ]
  },
  {
   "cell_type": "code",
   "execution_count": 42,
   "metadata": {
    "collapsed": false
   },
   "outputs": [
    {
     "name": "stdout",
     "output_type": "stream",
     "text": [
      "The population size (in 1000's) at the beginning of 1995 is 125.5\n"
     ]
    }
   ],
   "source": [
    "\n",
    "t = sym.symbols ('t', real=True)     # time (days)\n",
    "\n",
    "P = 125.5* sym.exp(0.012*t)\n",
    "print (\"The population size (in 1000's) at the beginning of 1995 is %.1f\"% P.subs(t,0))"
   ]
  },
  {
   "cell_type": "markdown",
   "metadata": {},
   "source": [
    "__(b) Calculate the population size (in 1000’s) after 10, 30, 60, 90, 100 years.__"
   ]
  },
  {
   "cell_type": "code",
   "execution_count": 15,
   "metadata": {
    "collapsed": false
   },
   "outputs": [
    {
     "name": "stdout",
     "output_type": "stream",
     "text": [
      "The population (in 1000's) after 10 years is 141.50\n",
      "The population (in 1000's) after 30 years is 179.88\n",
      "The population (in 1000's) after 60 years is 257.83\n",
      "The population (in 1000's) after 90 years is 369.56\n",
      "The population (in 1000's) after 100 years is 416.67\n"
     ]
    }
   ],
   "source": [
    "for tValue in [10,30,60,90,100]:\n",
    "    print(\"The population (in 1000's) after %s years is %.2f\"%(tValue,P.subs(t,tValue)))"
   ]
  },
  {
   "cell_type": "markdown",
   "metadata": {},
   "source": [
    " __(c) Calculate the population size (in 1000’s) at the beginning of 2005, 2025, 2055, 2095.__"
   ]
  },
  {
   "cell_type": "code",
   "execution_count": 16,
   "metadata": {
    "collapsed": false
   },
   "outputs": [
    {
     "name": "stdout",
     "output_type": "stream",
     "text": [
      "The population (in 1000's) at the beginning of 2005 years is 141.50\n",
      "The population (in 1000's) at the beginning of 2025 years is 179.88\n",
      "The population (in 1000's) at the beginning of 2055 years is 257.83\n",
      "The population (in 1000's) at the beginning of 2095 years is 416.67\n"
     ]
    }
   ],
   "source": [
    "for tValue in [2005,2025,2055,2095]:\n",
    "    print(\"The population (in 1000's) at the beginning of %s years is %.2f\" %(tValue,P.subs(t,tValue-1995)))"
   ]
  },
  {
   "cell_type": "markdown",
   "metadata": {},
   "source": [
    "__(d) Graph the population for the years 1995 to 2095.__"
   ]
  },
  {
   "cell_type": "code",
   "execution_count": 17,
   "metadata": {
    "collapsed": false
   },
   "outputs": [
    {
     "data": {
      "image/png": "[encoded data removed]",
      "text/plain": [
       "<matplotlib.figure.Figure at 0x5d20630>"
      ]
     },
     "metadata": {},
     "output_type": "display_data"
    }
   ],
   "source": [
    "from sympy.plotting import plot\n",
    "p = plot(P, (t,0,100), show=False)\n",
    "p.title = \"Population (over 60 years) size\"\n",
    "p.xlabel = \"$t$, time (years after 1995)\"\n",
    "p.axis_center = (0,100)  \n",
    "p.show()"
   ]
  },
  {
   "cell_type": "markdown",
   "metadata": {},
   "source": [
    "#### Question 2\n",
    "\n",
    "Students participating in a psychological experiment attended several lectures on the subject. Every month for a year after that, the students were tested to see how much of the material they remembered. The average scores for the group were given by the human memory model\n",
    "\n",
    "\\\\[\n",
    "    f(t)= 75-6 \\ln⁡(t+1),        \\qquad 0 \\le t\\le 12\n",
    "\\\\]\n",
    "Where $t$ is the time in months.\n",
    "\n",
    "__(a)__ Construct the graph over the given domain.\n",
    "\n",
    "__(b)__ Determien the number of months before the average score fell to 70%\n",
    "\n",
    "__(c)__ Determien the number of months before the average score fell to 50%  (THIS IS A TRICK QUESTION)"
   ]
  },
  {
   "cell_type": "markdown",
   "metadata": {},
   "source": [
    "__(a) Construct the graph over the given domain.__"
   ]
  },
  {
   "cell_type": "code",
   "execution_count": 18,
   "metadata": {
    "collapsed": false
   },
   "outputs": [
    {
     "data": {
      "image/png": "[encoded data removed]",
      "text/plain": [
       "<matplotlib.figure.Figure at 0x891f2b0>"
      ]
     },
     "metadata": {},
     "output_type": "display_data"
    }
   ],
   "source": [
    "F=75-6*(sym.ln(t+1))\n",
    "from sympy.plotting import plot\n",
    "p = plot(F, (t,0,12), show=False)\n",
    "p.title = \"Scores \"\n",
    "p.xlabel = \"$t$, time (months)\"\n",
    "p.axis_center = (0,58)  \n",
    "p.show()"
   ]
  },
  {
   "cell_type": "markdown",
   "metadata": {},
   "source": [
    "__(b) Determien the number of months before the average score fell to 70%__"
   ]
  },
  {
   "cell_type": "code",
   "execution_count": 19,
   "metadata": {
    "collapsed": false
   },
   "outputs": [
    {
     "name": "stdout",
     "output_type": "stream",
     "text": [
      "The average score fell to 70 percent after 1.30 days\n"
     ]
    }
   ],
   "source": [
    "FSol=sym.solve(F-70,t)[0].evalf()\n",
    "print(\"The average score fell to 70 percent after %.2f days\" % FSol)"
   ]
  },
  {
   "cell_type": "markdown",
   "metadata": {},
   "source": [
    "__(c) Determien the number of months before the average score fell to 50%  (THIS IS A TRICK QUESTION)__"
   ]
  },
  {
   "cell_type": "markdown",
   "metadata": {
    "collapsed": true
   },
   "source": [
    "The average score never reaches 50%, as the students were only tested for 12 months. As shown below, at 12 months, the score is at 59.61% , which is the lowest it will reach. This is shown also in the graph above."
   ]
  },
  {
   "cell_type": "code",
   "execution_count": 20,
   "metadata": {
    "collapsed": false
   },
   "outputs": [
    {
     "name": "stdout",
     "output_type": "stream",
     "text": [
      "After 12 months, the average score was 59.61\n"
     ]
    }
   ],
   "source": [
    "FSol2=F.subs(t,12)\n",
    "print(\"After 12 months, the average score was %.2f\" % FSol2)"
   ]
  },
  {
   "cell_type": "markdown",
   "metadata": {},
   "source": [
    "#### Question 3\n",
    "\n",
    "The number of milligrams of a drug in a persons system after $t$ hours is given by the function \n",
    "\n",
    "\\\\[\n",
    "    D = 20{\\rm e}^{-0.4t}\n",
    "\\\\]\n",
    "\n",
    " __(a)__ Find the amount of the drug after 2 hours.\n",
    " \n",
    " __(b)__ Find the amount of the drug after 5 hours.\n",
    " \n",
    " __(c)__ When will the amount of the drug be 0.1 milligram (or almost completely gone from the system)?"
   ]
  },
  {
   "cell_type": "markdown",
   "metadata": {},
   "source": [
    " __(a) Find the amount of the drug after 2 hours.__"
   ]
  },
  {
   "cell_type": "code",
   "execution_count": 26,
   "metadata": {
    "collapsed": false
   },
   "outputs": [
    {
     "name": "stdout",
     "output_type": "stream",
     "text": [
      "The amount of drug left after 2 hours is: 8.9866 milligrams\n"
     ]
    }
   ],
   "source": [
    "t = sym.symbols ('t', real=True)     # time (hours)\n",
    "\n",
    "D = 20* sym.exp(-0.4*t)\n",
    "tValue=2\n",
    "print(\"The amount of drug left after %.0f hours is: %.4f milligrams\"%(tValue,D.subs(t,tValue)))"
   ]
  },
  {
   "cell_type": "markdown",
   "metadata": {},
   "source": [
    " __(b) Find the amount of the drug after 5 hours.__"
   ]
  },
  {
   "cell_type": "code",
   "execution_count": 27,
   "metadata": {
    "collapsed": false
   },
   "outputs": [
    {
     "name": "stdout",
     "output_type": "stream",
     "text": [
      "The amount of drug left after 5 hours is: 2.7067 milligrams\n"
     ]
    }
   ],
   "source": [
    "tValueb=5\n",
    "print(\"The amount of drug left after %.0f hours is: %.4f milligrams\"%(tValueb,D.subs(t,tValueb)))"
   ]
  },
  {
   "cell_type": "markdown",
   "metadata": {},
   "source": [
    "__(c) When will the amount of the drug be 0.1 milligram (or almost completely gone from the system)?__"
   ]
  },
  {
   "cell_type": "code",
   "execution_count": 31,
   "metadata": {
    "collapsed": false
   },
   "outputs": [
    {
     "name": "stdout",
     "output_type": "stream",
     "text": [
      "0.1 milligrams of the drug will remain in the system after 13.25 hours\n"
     ]
    }
   ],
   "source": [
    "DSol=sym.solve(D-0.1,t)[0].evalf()\n",
    "print(\"0.1 milligrams of the drug will remain in the system after %.2f hours\" % DSol)"
   ]
  },
  {
   "cell_type": "markdown",
   "metadata": {},
   "source": [
    "#### Question 4 (Spreading of a rumour/disease in a small community)\n",
    "\n",
    "\n",
    "The __logistic function__ \n",
    "\\\\[\n",
    "   N(t) = \\frac{L}{1 + C {\\rm e}^{-k L t}}\n",
    "\\\\]\n",
    "where\n",
    " \n",
    "  * $N(0)=N_0$ is the initial population.\n",
    "  * $L$ is the limiting population, that is as $t$ get bigger and bigger  $N(t)\\to L$\n",
    "  * $C$ is a measure of how much room there is to grow in the population as is given by\n",
    "\\\\[\n",
    "    C= \\frac{L}{N_0} - 1\n",
    "\\\\]\n",
    "  * $k$ is a positive constant representing how fast the rumour/disease spreads.\n",
    "  * $t$ is time in weeks.\n",
    "\n",
    "\n",
    "Consider a rumour, started by 3 people and spreading within the WIT student population (size of population, I'm guessing is 8400).  Also assume that the constant representing speed of rumour spread is $k=0.0002$.\n",
    "\n",
    "__(a)__ Construct the graph of the number of people who have heard the rumour after $0\\le t\\le 10$ weeks.\n",
    "\n",
    "__(b)__ How many weeks before 5000 student have hread the rumour?\n",
    "\n",
    "__(c)__ How many weeks before 90% of the student population have hread the rumour?"
   ]
  },
  {
   "cell_type": "markdown",
   "metadata": {},
   "source": [
    "__(a) Construct the graph of the number of people who have heard the rumour after $0\\le t\\le 10$ weeks.__"
   ]
  },
  {
   "cell_type": "code",
   "execution_count": 37,
   "metadata": {
    "collapsed": false
   },
   "outputs": [
    {
     "data": {
      "image/png": "[encoded data removed]",
      "text/plain": [
       "<matplotlib.figure.Figure at 0x5d78c88>"
      ]
     },
     "metadata": {},
     "output_type": "display_data"
    }
   ],
   "source": [
    "N0=3\n",
    "k = 0.0002  # spread rate\n",
    "t = sym.symbols ('t', real=True)     # time (weeks)\n",
    "L=8400\n",
    "C=L/N0 -1\n",
    "\n",
    "N= L/(1+C*sym.exp(-k*L*t))\n",
    "\n",
    "\n",
    "n = plot(N, (t,0,10), show=False)\n",
    "n.title = \"Growth of rumour spread\"\n",
    "n.xlabel = \"$t$, time (weeks)\"\n",
    "n.ylabel= \"$N(t)$, People that have heard\"\n",
    "n.axis_center = (0,100)  \n",
    "n.show()\n"
   ]
  },
  {
   "cell_type": "markdown",
   "metadata": {},
   "source": [
    "__(b) How many weeks before 5000 student have hread the rumour?__"
   ]
  },
  {
   "cell_type": "code",
   "execution_count": 38,
   "metadata": {
    "collapsed": false
   },
   "outputs": [
    {
     "name": "stdout",
     "output_type": "stream",
     "text": [
      "5000 people will have heard the rumour after 4.95 weeks\n"
     ]
    }
   ],
   "source": [
    "NSol=sym.solve(N-5000,t)[0].evalf()\n",
    "print(\"5000 people will have heard the rumour after %.2f weeks\" % NSol)"
   ]
  },
  {
   "cell_type": "markdown",
   "metadata": {},
   "source": [
    "__(c) How many weeks before 90% of the student population have hread the rumour?__"
   ]
  },
  {
   "cell_type": "code",
   "execution_count": 41,
   "metadata": {
    "collapsed": false
   },
   "outputs": [
    {
     "name": "stdout",
     "output_type": "stream",
     "text": [
      "90 percent of people will have heard the rumour after 6.03 weeks\n"
     ]
    }
   ],
   "source": [
    "NSolb=sym.solve(N-(8400*90/100),t)[0].evalf()\n",
    "print(\"90 percent of people will have heard the rumour after %.2f weeks\" % NSolb)"
   ]
  },
  {
   "cell_type": "code",
   "execution_count": null,
   "metadata": {
    "collapsed": true
   },
   "outputs": [],
   "source": []
  }
 ],
 "metadata": {
  "kernelspec": {
   "display_name": "Python 3",
   "language": "python",
   "name": "python3"
  },
  "language_info": {
   "codemirror_mode": {
    "name": "ipython",
    "version": 3
   },
   "file_extension": ".py",
   "mimetype": "text/x-python",
   "name": "python",
   "nbconvert_exporter": "python",
   "pygments_lexer": "ipython3",
   "version": "3.4.3"
  }
 },
 "nbformat": 4,
 "nbformat_minor": 0
}
