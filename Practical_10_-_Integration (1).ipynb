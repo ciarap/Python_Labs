{
 "cells": [
  {
   "cell_type": "code",
   "execution_count": 1,
   "metadata": {
    "collapsed": true
   },
   "outputs": [],
   "source": [
    "# specify your studentb  id and your name\n",
    "id = 'W20072488'\n",
    "name = 'Ciara Power'"
   ]
  },
  {
   "cell_type": "code",
   "execution_count": 2,
   "metadata": {
    "collapsed": false
   },
   "outputs": [
    {
     "name": "stdout",
     "output_type": "stream",
     "text": [
      "Ver 0.3\n"
     ]
    },
    {
     "data": {
      "text/html": [
       "<style>\n",
       "\n",
       "\n",
       "\n",
       "/* counting headers and my styling */\n",
       "\n",
       ".navbar-collapse.collapse {\n",
       "display: block!important;\n",
       "}\n",
       "\n",
       ".navbar-nav>li, .navbar-nav {\n",
       "float: left !important;\n",
       "}\n",
       "\n",
       ".navbar-nav.navbar-right:last-child {\n",
       "margin-right: -15px !important;\n",
       "}\n",
       "\n",
       ".navbar-right {\n",
       "float: right!important;\n",
       "}\n",
       "\n",
       "#notebook_name {\n",
       "    font-weight: 600;\n",
       "}\n",
       "\n",
       "h1 {\n",
       "\ttext-align: center;\n",
       "\tbackground-color: rgba(0,255,1,0.15);\n",
       "\tborder-bottom: 1px solid #cccccc;\n",
       "\tcounter-reset: h2counter;\t\n",
       "}\n",
       "\n",
       "h2 {\n",
       "\ttext-align: center;\n",
       "\twidth: 75%;\n",
       "\tmargin-left: 25%;\n",
       "\tbackground-color: rgba(255,255,1,0.15);\n",
       "\tborder-bottom: 1px solid #cccccc;\n",
       "\tcounter-reset: h3counter;\t\n",
       "}\n",
       "h2:before {\n",
       "\tcounter-increment: h2counter;\n",
       "}\n",
       "\n",
       "h3 {\n",
       "\tborder-bottom: 1px solid #cccccc;\t\n",
       "}\n",
       "h3:before {\n",
       "\tcounter-increment: h3counter;\n",
       "}\n",
       "\n",
       "h4 {\n",
       "\tborder-bottom: 1px solid #cccccc;\t\n",
       "}\n",
       "h4:before {\n",
       "\tcounter-increment: h4counter;\n",
       "}\n",
       " </style>"
      ],
      "text/plain": [
       "<IPython.core.display.HTML object>"
      ]
     },
     "execution_count": 2,
     "metadata": {},
     "output_type": "execute_result"
    }
   ],
   "source": [
    "# setup magic - see kmurphy.bitbucket.org/modules/Advanced_Calculus for setup instructions.\n",
    "%matplotlib inline\n",
    "from calculus import *\n",
    "setup_practical(id, name)"
   ]
  },
  {
   "cell_type": "markdown",
   "metadata": {},
   "source": [
    "# Practical 10 - Integration\n",
    "\n",
    "## Introduction\n",
    "\n",
    "### Aim\n",
    "\n",
    "In this practical we will use python to study integration and someof its applications (average value, area, etc)\n",
    " \n",
    "### Mathematics Concepts\n",
    "\n",
    " * The __indefinite integral__ (or __anti-derivative__) of a function, $f(x)$, is the function, $F(x)$ defined by\n",
    " \n",
    "\\\\[\n",
    "    F(x) = \\int f(x) dx + C      \\implies \\frac{dF}{dx} = f(x)\n",
    "\\\\]\n",
    "\n",
    "where $C$ is an arbitrary constant (called __the constant of integration__).\n",
    "\n",
    "\n",
    " * The __definite integral__ of a function, $f(x)$, is the *number*, $A$, defined by\n",
    " \n",
    "\\\\[\n",
    "    A = \\int_a^b f(x) dx \n",
    "\\\\]\n",
    "\n",
    "and **if** $f(x)\\ge0$ then the definite integral is equal to the area between the function and the x-axis over the interval $x=a$ to $x=b$.\n",
    "\n",
    "![](http://www.drcruzan.com/Images/Mathematics/DefiniteIntegrals/GeometryAnalyticBox.png)\n",
    " \n",
    "### Python Concepts\n",
    "\n",
    " * The Python symbolic module, __sympy__, has functions \n",
    "    * __symbols__ or (better) __Symbol__ define a symbol \n",
    "    * __Funciton__ to define a symbolic funciton\n",
    "    * __limit(f, t, t0)__ - compute the limit of the experssion, __f__, as the variable __t__ tends towards __t0__.\n",
    "    * __diff(f, t)__ - differentiation the function, __f__, with respect to variable __t__.\n",
    "    * __display__ to dispaly an experssion using mathematics notation.\n",
    "    * __integrate(f,t)__ to calculate the indefinite integral of $f(t)$.\n",
    "    * __integrate(f,(t,a,b))__ to calculate the definite integral of $f(t)$ over the interval $t=a$ to $t=b$.\n",
    "and standard methods \n",
    "    * __subs(exp_old,exp_new)__ to substitute sub-expresion __exp_old__ with __exp_new__. \n",
    "    * __solve(e,x)__ to solve equation $e=0$ for variable $x$\n"
   ]
  },
  {
   "cell_type": "markdown",
   "metadata": {},
   "source": [
    "## Standard Importing of  Libraries\n"
   ]
  },
  {
   "cell_type": "code",
   "execution_count": 3,
   "metadata": {
    "collapsed": true
   },
   "outputs": [],
   "source": [
    "# for numeric work\n",
    "import numpy as np\n",
    "import matplotlib.pyplot as plt\n",
    "\n",
    "# for symbolic work\n",
    "import sympy as sym\n",
    "from sympy.plotting import plot\n",
    "\n",
    "# mathematical output \n",
    "from sympy import *\n",
    "from IPython.display import display\n",
    "sym.init_printing(pretty_print=True)"
   ]
  },
  {
   "cell_type": "markdown",
   "metadata": {},
   "source": [
    "## Helper functions"
   ]
  },
  {
   "cell_type": "code",
   "execution_count": 4,
   "metadata": {
    "collapsed": true
   },
   "outputs": [],
   "source": [
    "def secondDerivativeTest(f,x,xStar):\n",
    "    \n",
    "    df = f.diff(x)   # get first derivative\n",
    "    if df.subs(x, xStar)!=0:\n",
    "        return \"The value %s does not appear to be a stationary point\"%xStar\n",
    "    \n",
    "    ddf = df.diff(x)  # get second derivative\n",
    "    result = ddf.subs(x,xStar)\n",
    "    if result<0:\n",
    "        return \"The value %s is a local maximum.\"%xStar\n",
    "    elif result>0:\n",
    "        return \"The value %s is a local minimum.\"%xStar\n",
    "    else:\n",
    "        return \"The value %s is a local maximum, local minimum, or a point of inflection.\"%xStar"
   ]
  },
  {
   "cell_type": "markdown",
   "metadata": {},
   "source": [
    "## Examples"
   ]
  },
  {
   "cell_type": "markdown",
   "metadata": {},
   "source": [
    "####Example 1 - Indefinite Integration\n",
    "\n",
    "Determine the indefinite integral (anit-derivative of each of the following and verify that the derivative of the anti-derivative is the original function.\n",
    "\n",
    "**(a)** $f(x) = x^3 + x^2 + 1$\n",
    "\n",
    "**(b)** $f(x) = x \\sin(x)$\n"
   ]
  },
  {
   "cell_type": "code",
   "execution_count": 5,
   "metadata": {
    "collapsed": false
   },
   "outputs": [
    {
     "data": {
      "text/plain": [
       "'Function f(x)'"
      ]
     },
     "metadata": {},
     "output_type": "display_data"
    },
    {
     "data": {
      "image/png": "iVBORw0KGgoAAAANSUhEUgAAAF8AAAAZCAYAAABXTfKEAAAABHNCSVQICAgIfAhkiAAAAnFJREFU\naIHt2M2LTXEcx/HXTMoYD2MlNXmYGUIYMR6GETY2k4XFsGQxImVnZEFZSElhRYl05OEPEDsRC5SH\nhaxEUjZKicXkIQ+L37lcd+6MO+eeO2eO7rtu9/xuv9/39+l7vr/v/X5/1MmMhoTrNmAOJmITItxK\nR1KqrME6tKAHR3EvU0Up8B474+dtGMTU7OSUZQqOF423Czpbs5GTHkswOX7uwzfjz/md+IGOeDwN\nP4WX8N9wDYeyFlGGBiHtFFLrYsH5yzNTlCIrMIDzaM5YSyVcxsmM9m7Gs1oY3o0nQo4dr/TjhOQF\nRjWswiPh1FVNN96hLR4vjA33VWGzExOq1DUcWwTnQxPmVmFrNDoX4aZQCT6UkvNX4rZQZkIvvmJe\nFTYj1TllODYKjp8Zf7ZibRX2Isl0Rso4P0m0PcZF7BOqifVCdL1MYKuWtOOGoemwJQMtZSl1fhd2\n4LvwhndhD6YL9fERvMKVojWna65yKJXqHG/l77C04wwa43GEF0KH2CNE+f4a7R2p/DjnRWfpuhHT\nzgAOCuIJTdQH3McsnIqNZE1edI6KtpLxWxwbo70jlUdUXnSWrhsx8l8XPS8QcuedBBuNxCUsK/P7\nbKwWqqZS+oU+okBedCZmL774u3PtGGZuGkSSRVRedEbKRH7hT2uS0AEujcebhXZ4sGjegQSbpk1e\ndFZEIe30CqKfCjeU8/GxaN5h4ShmTV50ltIUfzf7Eyi/nX9XOBpdwoVZN87inJDfruPBGAkdibzo\nhBnCZV6rcKMKb/AcF3A1I11DiNTmeiFtIinqbPz3lDHhEz5nLaIC8qKzTp06deqMM34BxlaFTiQF\nlVoAAAAASUVORK5CYII=\n",
      "text/latex": [
       "$$x^{3} + x^{2} + 1$$"
      ],
      "text/plain": [
       " 3    2    \n",
       "x  + x  + 1"
      ]
     },
     "metadata": {},
     "output_type": "display_data"
    },
    {
     "data": {
      "text/plain": [
       "'The definite integral of f(x) is F(x)'"
      ]
     },
     "metadata": {},
     "output_type": "display_data"
    },
    {
     "data": {
      "image/png": "iVBORw0KGgoAAAANSUhEUgAAAKYAAAAcCAYAAADr2cRkAAAABHNCSVQICAgIfAhkiAAABLFJREFU\neJzt23uoFVUUx/FPvtIyjR4gZallDwJLU0yKzIxeFgaWZSFWZoX90bsoDRKilxXRH72gaISoP7Kw\nTIKEsvqjLBILojDKCimCMLKXmmZ/rLk5Hs49d+bcM+fc6z1fGM689uz1m5m99lp7z6FNmx5I/1Yb\nUCeP4S/80GpDmsDUdJmMW7EF37bUojZVOQM/Y1qL7WgWv+DKdH22aJAHtM6c5tCv1QYUZDhOwpd1\nlp/VQFuaxTQsT9d3YWCd1+mN2nsNd2BfrFHcYx6PFQ22p9m8hMV1lOt12ge02oACzMRb2FZn+Svw\nchfn3C480oN11lEWJ2M6/sTjdZSvpn0KrsffGIL98AA+q9/MvsdhmJfZXqO4x1wnHkBnjBIPfknB\n6zaT6/AphhYsV6l9At7E4My+p0ViNb47BjaKMmLMEzXeE5+Lw3FXuhwrvMAFOctPxhfCO3TGYuE1\n6qUM3VNEojcm3X5feM/zClyjmvZ54t5dlNm3SiRV8wvaWIbuUkgwuuQ6vlPMYz6B82scn4U5IrlY\nUqdNicbrnoR3RFwNM7AdYwtco5r2efgNZ2f2deh/qKCNifKfd0NIlGfoSCzFVqzEhTnK9MfnOm/V\nQ/Fcut7TXkyYi9twC17FOQXKdqU9y1LsEKMeRUiUoLuawePEjdgi3P82ERRvbXTlKRNFC94pBC4Q\nQfmBovu+F9+k527CnemSl+n4QNz0atytNclOXt0vZsoUTXy60t7BGDFWeoPyk58iz/t/LsWPdrea\nqfjdnrFIVyTyt6Cj8KTdsW6CDTgVp+Ff0Ui6wwvptaoxXryYHTTLYzZDN7W1Ez3OfcKrLlJfzpEo\nWfcE4R2z2e9MkQWOLMnQp+w5i/EK1qbrR+BRHFyg7koGYz32qXKsH5ZhUGZfs17MsnVTW3slA7Aa\nH+GQgvUkSta9Wsw9d3f+PJHf0DEV25twfzfrz3KxzrvphTizYl+zXsyydVNbezWmCv3LuzqxgkQJ\nujtizENxlhjL2pmzkmWqB8pHiiGK7VWOXSM8cAcbM+vHiRjj3Zz15+Fy1V+0EThB6C1Kb9BN59qJ\nmaBBogvvYH36O0skhH9UlGmJ7lNEa7m61kk5SdSXpS0UoUR2LPHobtgxHB93cmyu6CFWZJZV4h58\nlW4XnVtO9Azd1NY+TCS1Oyrq2V/o35WWz0uiRN1jUoMuqXKBUWqPAVaSyGfoEDFEMS7dfg2fZI73\nwzMF6q1kvhiMz8tozenKy9ZNbe2D8Q++xkGZ/ZOE/rXVCtUgUYLujq58I94WcUY2xjhdeNEbCxqb\nhxnio4x14kYdIwZ9O7hHdB/1MgfXFjh/YMVvWZStm9rat+IR/IRfM/tvEt33wm7W3RmFdGfHMS8T\n42TPY7PdMcgCkcY3mvdEa5soptmmiKztWRGvvIEP67z2CDFb8n2Oc4fhdRHzEMMV0/Gwcr7IKVM3\n+bQvwlXia6UdaZnNqU0bulF3LcrW3SWJ1k9R3SwGi5tJovW6ab72RJNmfrrLFuXNEuVltmKTAo2g\nJ+im+dp7iu4ez1iRYfdF9hrtve2vFXnI80Hw3kpf1t7jWan4h7R7C31Ze5s2bdq0adOmTZs2NfkP\nYrIkqB6943AAAAAASUVORK5CYII=\n",
      "text/latex": [
       "$$c + \\frac{x^{4}}{4} + \\frac{x^{3}}{3} + x$$"
      ],
      "text/plain": [
       "     4    3    \n",
       "    x    x     \n",
       "c + ── + ── + x\n",
       "    4    3     "
      ]
     },
     "metadata": {},
     "output_type": "display_data"
    },
    {
     "data": {
      "text/plain": [
       "\"Checking if the derivative of the anti-derivative is f ...'\""
      ]
     },
     "metadata": {},
     "output_type": "display_data"
    },
    {
     "data": {
      "image/png": "iVBORw0KGgoAAAANSUhEUgAAAAwAAAASCAYAAABvqT8MAAAABHNCSVQICAgIfAhkiAAAANtJREFU\nKJHN0r0uhEEUxvGf9VWItTYahSgQPYV2SxfBBbiAbfSidSE60e4trASNjghZGiHbEFnFzpscb84W\nOqd5cp6Z/5nJzMMfa6rWb+MU9xhhBV0MMngJjzgI3jFuMJcBJ3jBTPDa+MJRBtzhIvGv0auaRtFF\nbOEhAZ6wWwfWi74nwBBNzEegWfRzAgCtCHwXHSXAbNHpCLwmG6taKPoRgUGZvjwBeKsDQ/SxlgCb\nuKqaRli4xJ7fcdkoQ86zu66Wow+Dd4ZbIRoxBs/oGEdkx/gz29iXP/d/qR8UhCWn2ReXCwAAAABJ\nRU5ErkJggg==\n",
      "text/latex": [
       "$$0$$"
      ],
      "text/plain": [
       "0"
      ]
     },
     "metadata": {},
     "output_type": "display_data"
    }
   ],
   "source": [
    "# **(a)** f(x) = x^3 + x^2 + 1\n",
    "\n",
    "x = Symbol('x')\n",
    "c = Symbol('c')\n",
    "f = x**3+x**2+1\n",
    "\n",
    "display(\"Function f(x)\",f)\n",
    "F = integrate(f,x) + c\n",
    "display(\"The definite integral of f(x) is F(x)\",F)\n",
    "\n",
    "dF = diff(F,x)\n",
    "display(\"Checking if the derivative of the anti-derivative is f ...'\",dF-f)"
   ]
  },
  {
   "cell_type": "code",
   "execution_count": 6,
   "metadata": {
    "collapsed": false,
    "scrolled": true
   },
   "outputs": [
    {
     "data": {
      "text/plain": [
       "'Function f(x)'"
      ]
     },
     "metadata": {},
     "output_type": "display_data"
    },
    {
     "data": {
      "image/png": "iVBORw0KGgoAAAANSUhEUgAAADgAAAASCAYAAAAOsR1OAAAABHNCSVQICAgIfAhkiAAAAkNJREFU\nSInt1kuITmEYB/AfRkxGTBO5N65jGhaShAWGMVEWFpJC45LZoCnZKaVsxMKEshEpl9hKFhgb9yQp\nIpmMFLMwjEbIZfG+J+c7vmFm9OWS/+ac53mf93n/z3uey+EfR58C+Z2H2/iIqwU6o0voXSC/w1GK\nigL5/yMwAUW/m8Q/j14F8NkP5RiCt7hTgDO6jGwKTccafBJIbkA9BmMkduAxlmEWXqE/yuL+TZiI\nvViEo6iL9juF2tyHa5iPAZiBrXKbUW/U4Hw3uRXhHZ7mC3YcDvjWeI7gIWZjDj5HIpW4mNm7Ktqn\ncSujK0M7zmJ9St+I5sze5SjpATcZ3zk4iIEp+TSux/fR2BNJrsC9jG0J9mf8Nfk+6Gbcl1saG/FF\nSOkEW3rIDapRJQ/GZuRn2JXHbgRe4jWOYXOGXIIm+QM8kdHVCQGWR7kYDT3kRgh0bSKk5+CT1HuF\nkNeX8jh4jpk4KQz0RrRgZScHZvH+J+ulQnNKo6vcCBc/LBE6G/TV+IArKd34+JwhpFi9kB5jcAqH\nhA76q2iTW3/d4UZI5fZESAIsxm5MjXIN7qIjZbctvlfJ/VotWCcU+uAuBvEjdMj9hewON9HuptQi\nLIlGVZgstPp0Km0XWn6CBqEWE4wSutqLlK6v78dQZ7r0E1qF8dMTbpNxIxGSm2rFUOELTMNqoQUv\nRi0u4HK0nYIHwk3OFebZAqHzvYm6M0KdVsb1NhzHpKirxTkcFlK9GEsxKJ5zHwvxqJvcKoQe8dJ/\n/Mffga91Yn6vL3LdHAAAAABJRU5ErkJggg==\n",
      "text/latex": [
       "$$x \\sin{\\left (x \\right )}$$"
      ],
      "text/plain": [
       "x⋅sin(x)"
      ]
     },
     "metadata": {},
     "output_type": "display_data"
    },
    {
     "data": {
      "text/plain": [
       "'The definite integral of f(x) is F(x)'"
      ]
     },
     "metadata": {},
     "output_type": "display_data"
    },
    {
     "data": {
      "image/png": "iVBORw0KGgoAAAANSUhEUgAAAJEAAAAUCAYAAACNpd9IAAAABHNCSVQICAgIfAhkiAAABEBJREFU\naIHt2VuIVVUcx/FPU1bWCCM2kWV5yRhDrMzSLphlGSVUFJQEYaZhFyqECHqILlKBXSijC0XgsR6E\ngh4KHyooIbEyCykhCsIuomhWapKaaT3812b2HPecOTOzdTD292XvtdZea/3+6/z3Wv//PlRU9JMj\nB1pARZ+5FF9hLz4dSCEtAzl5Rb8YjqHoGGghFYeWs3BUieONLXm8isOAGkYNsIbSqbz48OQY4Yzt\n2Im1AymmyIkm4H7swC7swZPYXcJ8kzAb+8Qi3I470IZT8Ah+SM+eg4exLc3dgtexJjfeFNyLzcmW\ntqT1u9wz1+NC/IFjMSzV35OuLZiB93upsUOsz899WIdmaKT7DDyLK7EUc3J9Fop4aTE+w2U4HueL\n3zUfhB8U22/CRpydypfgT1zXK/OLGYOXdAbzNXyPi3Ax9gsjpbodIgPJeAM/5crXCGdpz9WdiR8x\nMVf+qE7HLWnujBvR2geNMO9AMxtS09xx1oxu4oWqrxsmfrPldfpeEGuTp3TbJ4pdZ3au7lp8iRFF\nHXrJyxiSK7+Nz9P9qXhGLMARwjmW1/V/Dm+l+1ZsxYKCeRbr3N5nYV3dvK14MVe+rw8aM6ZjfIGG\n7qhpzoma0Q0rHOhEhLN8K9YyYz7+1fWlK932D8X2dLC+HY2uK2/AEwXPXSCMXdhgrFnpmasK2u5O\nbZNwMrZgO94UR19+EQfr6ojNaswYhtsatNdT05wT9aQ7Y4XunWhZXd0csS7Z/KXZnsVE7bgcr4jz\nsIgJeE1X727EWtyZK6/P3XeIM/bjgn6j0nVDg7HHpOs/BW1703Ws2EWn4EHMFEfC08L4ZeI7y84+\naMzYjpMK6pfqDAnynIbJ+LugbV7SS4QUjXQ3w54e2kuzPXOiMcI51nTXA9+IQK8MpouFXJWrO10E\nbRtTeWiD/pvS9cSCtmzL3SyCyd9EcEhsy4/jVbwjgvbW+gGa0JgxRMQf9dzazZg1POrA2KSennT3\n5CDNUJrtWRC1JV2LFmQkru6r0sRgPCV2MyIj+Bp/pXILHkj3q8QuNL1gnBtE5vFe6lv0tXZS6r9S\nnNk359p+wVwRJLalMbLjuzcaMybgiwIN/aUn3WVQmu2ZE63HByIbyzNVpHWf9FPwzCRiPMaJFDX/\nNj0kjgDiiJqLabpmhe3CuE3iLZ0vjoDhuWdGi5R2ts6jboGIMTJGiKxjcyr/KlLo3mjMGIfVDezu\nDz3phkGKP9MU1Q+qu1KS7fn4pk1kQPvxO44W3rgk1fWHE8SZvlUEd4+JbGC32DbfFYF9nsli698m\nHGcPFomzOGMq7krP7MNxeF4cvUQsMTLNv0vnm7xIvN2SnTNEJtIbjR3iB1nXi3Woae4460n3NJEt\nnSdiwJXik8cV4tvaual+tUjjF6e2oWnuJSJxOZS2V5REzf/wb4/qX/xDyw7lfPmvqKioqKioKJf/\nAM4cL7pCgv76AAAAAElFTkSuQmCC\n",
      "text/latex": [
       "$$c - x \\cos{\\left (x \\right )} + \\sin{\\left (x \\right )}$$"
      ],
      "text/plain": [
       "c - x⋅cos(x) + sin(x)"
      ]
     },
     "metadata": {},
     "output_type": "display_data"
    },
    {
     "data": {
      "text/plain": [
       "\"Checking if the derivative of the anti-derivative is f ...'\""
      ]
     },
     "metadata": {},
     "output_type": "display_data"
    },
    {
     "data": {
      "image/png": "iVBORw0KGgoAAAANSUhEUgAAAAwAAAASCAYAAABvqT8MAAAABHNCSVQICAgIfAhkiAAAANtJREFU\nKJHN0r0uhEEUxvGf9VWItTYahSgQPYV2SxfBBbiAbfSidSE60e4trASNjghZGiHbEFnFzpscb84W\nOqd5cp6Z/5nJzMMfa6rWb+MU9xhhBV0MMngJjzgI3jFuMJcBJ3jBTPDa+MJRBtzhIvGv0auaRtFF\nbOEhAZ6wWwfWi74nwBBNzEegWfRzAgCtCHwXHSXAbNHpCLwmG6taKPoRgUGZvjwBeKsDQ/SxlgCb\nuKqaRli4xJ7fcdkoQ86zu66Wow+Dd4ZbIRoxBs/oGEdkx/gz29iXP/d/qR8UhCWn2ReXCwAAAABJ\nRU5ErkJggg==\n",
      "text/latex": [
       "$$0$$"
      ],
      "text/plain": [
       "0"
      ]
     },
     "metadata": {},
     "output_type": "display_data"
    }
   ],
   "source": [
    "# **(b)** f(x) = x sin(x)\n",
    "\n",
    "x = Symbol('x')\n",
    "c = Symbol('c')\n",
    "f = x*sin(x)\n",
    "\n",
    "display(\"Function f(x)\",f)\n",
    "F = integrate(f,x) + c\n",
    "display(\"The definite integral of f(x) is F(x)\",F)\n",
    "\n",
    "dF = diff(F,x)\n",
    "display(\"Checking if the derivative of the anti-derivative is f ...'\",dF-f)"
   ]
  },
  {
   "cell_type": "markdown",
   "metadata": {},
   "source": [
    "####Example 2 - Definite Integration\n",
    "\n",
    "Determine the following definite integral\n",
    "\n",
    "**(a)** $\\int_2^1 (x^2+1) dx$"
   ]
  },
  {
   "cell_type": "code",
   "execution_count": 7,
   "metadata": {
    "collapsed": false
   },
   "outputs": [
    {
     "data": {
      "text/plain": [
       "'anti-derivatice is '"
      ]
     },
     "metadata": {},
     "output_type": "display_data"
    },
    {
     "data": {
      "image/png": "iVBORw0KGgoAAAANSUhEUgAAAEsAAAAcCAYAAAApxUKlAAAABHNCSVQICAgIfAhkiAAAAuFJREFU\naIHt2F+IFWUYx/GPabT+yYK6EFRqLWgDNWtBtoRFpLoSglYpKqyLUBKCUrwxyAtRIQRBMPHKEaMu\nWkP6c5PeSEEl9B+7EEQECYTY0HAt3Xa9eN9Ts4c9Z2fe2XM243zhcOZ933nm+T0z7zzvMy8dCjMj\n0a4f9+EOrEaGk1Mj6f/Hb3g5Hq/HMO6cPjnt4bZEu9UYjMdjuD3hGs8m+r6leR9vlbTpwfEWaGkp\nsyrYPoY1uIp9JW1fwAd1fX3YhGuYjTnYjR8raPzPsRHfYl4Jm++EG1LjUXyKrlzfQVzBiqoCp5M+\nXEJ3bPcIeWtdQfuVOFrXty9e47lc39rYtz9B43LV3poJSUnwIziDX2N7CW7gh4L2Lwp5Ls/3wiwa\nyvXVZupwgsYtWJRg1xJewla8iWN4uqDdTPyk2FN/R3gwjyToy3B/gl1T6kX3YgP+js5eFZLu3ViI\nHTiH93I2ZZL7Gnwh3IRmdAt13GbtSfBF4/6HJTjg31czw1k8gVUYFWZTFQ7HazViLXYKs2+79Dow\nU3xmJcX9rvFV+If4Jh4vxl7cU0ryeLqEvFbkE2sWTuBr3JvgK1P8ZiXF3V3XvohdZRROwgD2lDi/\nX1gNByc7cQIyxW9W5bgfEoQ+WcZoEgaxtMFYj7Dc55kfNYxqXMMdEWZr/W8IvzQY622iMSnu1/CX\nUEXXeKDMBeq4C6cbjM0XqvaROh9zBeFj0b4MmbTVsGnctaQ2W1iql8X2U0KSHc6dty3BeY0BfNRg\n7LqQo87j91z/w/H/NC5X8N2MpLgHhCf4vPBK/Iwvc+Nv4/EKoj4X9r8asRuvG5/8j+IP4Ru0LJli\nM6tU3LU661R00BvF9QmrxCHhyX+MrxJEwwJhk/BCk3O24xWhsh+JNkNRz9lEv0VoZdxJvCEUl+0k\n04YKvhWsxzNt8JPnCv5ss8/KPIjPplvEVJH6OVGUiTb5OjTgE+U2BTt06NChwxRxE9dLnQc+Gmw4\nAAAAAElFTkSuQmCC\n",
      "text/latex": [
       "$$\\frac{x^{3}}{3} + x$$"
      ],
      "text/plain": [
       " 3    \n",
       "x     \n",
       "── + x\n",
       "3     "
      ]
     },
     "metadata": {},
     "output_type": "display_data"
    },
    {
     "data": {
      "text/plain": [
       "'Value of definite interval from x=2 to x=1 is '"
      ]
     },
     "metadata": {},
     "output_type": "display_data"
    },
    {
     "data": {
      "image/png": "iVBORw0KGgoAAAANSUhEUgAAACAAAAAeCAYAAABNChwpAAAABHNCSVQICAgIfAhkiAAAAVFJREFU\nSInt1r0rhWEYx/EPDhYGUVi8ZTCwiDJIhzJbmCiLhMlu8R8oGxaTyV8gfwGRRdlkUYqkkCLHcB95\nHEekcx95+U7PdT0vv99zP9d1Pxe/iGpsoikn34NlTGIN7THEp7CIDFoS+QqcoDEb92I3hoFncg0M\n4zARl+Aarc+J0phusmYuEnEGl+gsloE63Obk7oR6KYqBK2HZk1ThvFgGjtCQiFOoEQozCrlFmMKp\nl9YcxH7yhrICCY9jTuj5RuGtd/CIA8yiFiOY97ow//leki3ShVVv2+Y9DjBTSANfJVOAZ/xhCvEJ\n8jGAZlQijXVsR9LKy7kwgMCY8EOqzndhKpKBNI6zxxmUR9L5FBtYeO9krBWAbgzhBksRdT5kGnvC\nHFAU+nDmZe7rEOpgNN/FMQaSB2EQPc3GbbgXtu43xNoHJlAvzAP9WMFWJK1/fjhPAzk0y7TCsCwA\nAAAASUVORK5CYII=\n",
      "text/latex": [
       "$$- \\frac{10}{3}$$"
      ],
      "text/plain": [
       "-10/3"
      ]
     },
     "metadata": {},
     "output_type": "display_data"
    },
    {
     "data": {
      "text/plain": [
       "'Value of definite interval from x=2 to x=1 is '"
      ]
     },
     "metadata": {},
     "output_type": "display_data"
    },
    {
     "data": {
      "image/png": "iVBORw0KGgoAAAANSUhEUgAAACAAAAAeCAYAAABNChwpAAAABHNCSVQICAgIfAhkiAAAAVFJREFU\nSInt1r0rhWEYx/EPDhYGUVi8ZTCwiDJIhzJbmCiLhMlu8R8oGxaTyV8gfwGRRdlkUYqkkCLHcB95\nHEekcx95+U7PdT0vv99zP9d1Pxe/iGpsoikn34NlTGIN7THEp7CIDFoS+QqcoDEb92I3hoFncg0M\n4zARl+Aarc+J0phusmYuEnEGl+gsloE63Obk7oR6KYqBK2HZk1ThvFgGjtCQiFOoEQozCrlFmMKp\nl9YcxH7yhrICCY9jTuj5RuGtd/CIA8yiFiOY97ow//leki3ShVVv2+Y9DjBTSANfJVOAZ/xhCvEJ\n8jGAZlQijXVsR9LKy7kwgMCY8EOqzndhKpKBNI6zxxmUR9L5FBtYeO9krBWAbgzhBksRdT5kGnvC\nHFAU+nDmZe7rEOpgNN/FMQaSB2EQPc3GbbgXtu43xNoHJlAvzAP9WMFWJK1/fjhPAzk0y7TCsCwA\nAAAASUVORK5CYII=\n",
      "text/latex": [
       "$$- \\frac{10}{3}$$"
      ],
      "text/plain": [
       "-10/3"
      ]
     },
     "metadata": {},
     "output_type": "display_data"
    }
   ],
   "source": [
    "# (a) integral of  f(x)=(x^2+1) over interval x=2 to x=1\n",
    "x = Symbol('x')\n",
    "f = (x*x+1)\n",
    "\n",
    "# method 1 = indefinite integral and subs limits\n",
    "F = f.integrate(x)\n",
    "display('anti-derivatice is ', F)\n",
    "ans = F.subs(x,1) - F.subs(x,2)\n",
    "display('Value of definite interval from x=2 to x=1 is ', ans)\n",
    "\n",
    "# method 2 = get definite integral directly\n",
    "ans = f.integrate((x,2,1))\n",
    "display('Value of definite interval from x=2 to x=1 is ', ans)\n"
   ]
  },
  {
   "cell_type": "markdown",
   "metadata": {},
   "source": [
    "## Questions"
   ]
  },
  {
   "cell_type": "markdown",
   "metadata": {},
   "source": [
    "#### Question 1\n",
    "\n",
    "An object is moving so that its speed after t minutes is $v(t) = 1+4t+3t^2$ meters per minute. How far does the object travel during 3rd minute?\n",
    "\n",
    "Hint: Integrate speed to get position. Then determine the change in position between time $t=2$ and time $t=3$."
   ]
  },
  {
   "cell_type": "code",
   "execution_count": 10,
   "metadata": {
    "collapsed": false
   },
   "outputs": [],
   "source": [
    "# define symbols\n",
    "t= Symbol('t')\n",
    "v= 1 + 4*t +3*t**2\n",
    "\n"
   ]
  },
  {
   "cell_type": "code",
   "execution_count": 11,
   "metadata": {
    "collapsed": false
   },
   "outputs": [
    {
     "data": {
      "text/plain": [
       "'Position:'"
      ]
     },
     "metadata": {},
     "output_type": "display_data"
    },
    {
     "data": {
      "image/png": "iVBORw0KGgoAAAANSUhEUgAAAF8AAAAZCAYAAABXTfKEAAAABHNCSVQICAgIfAhkiAAAAstJREFU\naIHt2M+LVlUYwPHP6IC/xnTlj7IyFREURcGSmtExWrRw6Y+dEYItGlAk3GhuDBKlf8DI3kjCVSvF\nCFGSFEKlQNwJulKMQInQzNQWz33rej0z3TvzzvvegfcLA+c55zD3yzn3Puc5L106Rk/JeevxKqZg\nEA2cGR+lceENvIlZeAsHcb6jRhX4De9l7S24j5md06lEHw7l4q3C/6XO6FRnBWZk7c14ZOIs/ko8\nweIsfgFPxSZMOL7Bvk5LVKBHpJ1mil0uFn91x4xGwRp8hM8xvc3Pfh3f4jSu4gujTxtf47MWebWc\nxbglDtgUO3FF5NJ2sAbfY3YW94nD8lcsTMwfyX8HDitfaLSS/1tXsBt/YmoWr8MdvJbFy8Rnu3kM\nIivRW3LuKSwp9K3OHE4k5hf9m2wSiy8bW1jy+Smq+A/rNSkxaQA/ZRPhb1wTuwaLxIH7S8WH59mD\nBSXnbsBZzMn1/Yx7eCcxv+jf/B9zxUbOw7uYX035Gar4D+uV2r1+HM3Fl3EMQ6Jq6Bdv0fWKDx8t\nN7DUf9VWk4fSFVfRfxFOej5NzmqVYEmKXv+yDd+JnXmKH7P4w3ESaSj/2c8Qb2ueF4XnuSyuq38l\nrw/EGzWtFYYj0DC2nHsIj8WtNU9d/ZNexZy/EZfwYAxi480SkQI/xcXCWF39k17FxR/ED20SGg1T\nxCXvKPYnxgfV039Qwit/4C4XFUEr5b/CqkT/K+Li9FdibIe4RxTpwZciZx5IjNfVv5TXkCghm1XB\nbLxcUbYsDdVz/if4uNC3Pdeuq/+wXvm0MyBq9z+yeJeo8evA+6LMPVjo78+16+o/rFc+7UzGzay9\nVhwOt9vjNyJv44hIN8dz/b2ifGtSV/9SXqtwQfzotFf69tsqGsp/tnfFIqf+8l9CXf3b6VWKhrHV\n+Z2moQX+ndqF3z3728tEY6L7d+nSpUuXNvMPr/qoiH38wpUAAAAASUVORK5CYII=\n",
      "text/latex": [
       "$$t^{3} + 2 t^{2} + t$$"
      ],
      "text/plain": [
       " 3      2    \n",
       "t  + 2⋅t  + t"
      ]
     },
     "metadata": {},
     "output_type": "display_data"
    }
   ],
   "source": [
    "# Determine formula for position (using integration)\n",
    "display(\"Position:\" ,v.integrate(t))"
   ]
  },
  {
   "cell_type": "code",
   "execution_count": 12,
   "metadata": {
    "collapsed": false
   },
   "outputs": [
    {
     "data": {
      "image/png": "iVBORw0KGgoAAAANSUhEUgAAAWwAAAD5CAYAAAADQw/9AAAABHNCSVQICAgIfAhkiAAAAAlwSFlz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\n",
      "text/plain": [
       "<matplotlib.figure.Figure at 0x7cc2400>"
      ]
     },
     "metadata": {},
     "output_type": "display_data"
    },
    {
     "data": {
      "text/plain": [
       "<sympy.plotting.plot.Plot at 0x7cc2c18>"
      ]
     },
     "execution_count": 12,
     "metadata": {},
     "output_type": "execute_result"
    }
   ],
   "source": [
    "# Determine change in position over specified interval\n",
    "plot(v.integrate(t))"
   ]
  },
  {
   "cell_type": "markdown",
   "metadata": {},
   "source": [
    "#### Question 2\n",
    "\n",
    "After its brakes are applied, a certain car decelerates at the constant rate of 6 meters per second per second. If the car is traveling at 108 kilometers per hour when the brakes are applied, how far does it travel before coming to a complete stop? (Note: 108 kmph is the same as 30 mps (metres pre second).)\n",
    "\n",
    "Hint: like the previous question but since given acceleration $a=-6$  must integrate once to get velocity, integrate again to get position."
   ]
  },
  {
   "cell_type": "code",
   "execution_count": 13,
   "metadata": {
    "collapsed": false
   },
   "outputs": [],
   "source": [
    "# define symbols\n",
    "t=Symbol('t')\n",
    "c=Symbol('c')\n",
    "a= -6 +t -t\n"
   ]
  },
  {
   "cell_type": "code",
   "execution_count": 14,
   "metadata": {
    "collapsed": false
   },
   "outputs": [
    {
     "data": {
      "text/plain": [
       "'Velocity:'"
      ]
     },
     "metadata": {},
     "output_type": "display_data"
    },
    {
     "data": {
      "image/png": "iVBORw0KGgoAAAANSUhEUgAAACsAAAASCAYAAADCKCelAAAABHNCSVQICAgIfAhkiAAAAehJREFU\nSInt1U+IjVEYx/HPNTMmoa6JxkKNiETTZEFRI1LKAivsFBvKwkJZkZFYiRXKxhILKazMSv40ifyN\nlUbIuKZmiokZ/xfnvO7r7Z3b5d4xTfltznt+79N5vp3znOcwgVQYh5wL0YVPGIljFz6MA0tFLcZL\nrIzz2egVYLOajzdoS4xJYwyXViMu4ThuR68J0zCYE78BLSj9E7qMduAzilXGX8T1scOprG48/YP4\nEg6njbwL1o69eK98CY5i+O8Yf+X5iDs4gHXC8c/FIdyPcVuxHTOwHLcwhCs4mV10i1DUHXG+Sril\nm2oAhZn4gWfYlfJXx/WXZOJ3Cps0ZbQFl8aAbSlvI+5hTo2wrRF2OAfgNa5mvPO4WWnBbqGtNNQI\nlqcmAfZJzr8eYZOaU95bHMkGNsZxFtbiNL6NkrAdZ1T/kDxQPvIv6JffokYwWWhTfUJJtMrpBAns\nvAhxt0Lyx1hRJWieerAgx28WgPvjfA2+KvfiIqbjVfIovItj3pPXhvU1QCY6F9dK12wBi3A5AkKn\ncCpDcb4n+ZfA9uKacPvT6sRB3KgD7AU8xO6Ut1kokX0prwEv4vcyoX328Xv9FXEC3zEg1NEjnI1e\nPdQiPLdTI2QB+/E8FdOBU0LZlHCsjvn/a+LrJ8ZXZoh2R6jCAAAAAElFTkSuQmCC\n",
      "text/latex": [
       "$$c - 6 t$$"
      ],
      "text/plain": [
       "c - 6⋅t"
      ]
     },
     "metadata": {},
     "output_type": "display_data"
    },
    {
     "data": {
      "text/plain": [
       "'Position'"
      ]
     },
     "metadata": {},
     "output_type": "display_data"
    },
    {
     "data": {
      "image/png": "iVBORw0KGgoAAAANSUhEUgAAADkAAAAXCAYAAACxvufDAAAABHNCSVQICAgIfAhkiAAAAlRJREFU\nWIXt1k2IjVEYB/DfIBk0QxFCg9mQfMyCEc1YWKAmymImG5EFSlF2arIQCaUUysbCxsIOG7PyVSj5\nWCqNLHzMghiNrzEsnnObt+m6Zt57x4j51+3c85znPef/nOf8n3P4D1A10gQqiEasRi3W4DBujiij\nCmMyjmX6rejB7JGhMzxYij7Up34Nfohg/xlUieNakN9iEWQDf5cmV2EXPqEaE3EUj3PMdRFdOJCX\nTD1eoi7vBEXQgKuYkLGdwwcsHyKHnTiuzATux+cBhMrFKXG82jK2lmQ7PQQOLSJIaWwejMlBqAn3\n0iKVwkORtbcZ2+TU9gySw1rMwDXMxAbMykvojbiDhhvH0Ytlg+CwAN0i89lfDcXP7RIh2A+iCHzB\nM2zFVKzEHXzEFZwpN5oimI+7aMf5ZGvDjkpwaBWCLuxes9ihzam/SwRdnZt+abSIDD3BQcXlVBaH\nhvTxtoxtEx5gTupfwu08kw8R49AhsjltwFhZHDrwAmNL+LzGkbwLDBHNQleXy+UwLrXTsU7cTd9/\n4btYVK8bRcaWCO0M9m56hN2Z/kKMF8c06wNbRKX9+BsOv0Wj2LUdJXz24pv+0j4Fc/MsNgA1osD1\n6n97wiT9VbK2HA4FYXeltruITx02irvpkdhR2JeIlYuv4kR14l3Gvii19/E+/c/FoRBkJ64LHWTR\nhEO4JbT6PNlXiN1/NagwSuMzToiXTTbIfSKYPRlbLg5ZDU0Rz6s+8fIoaORCsi3DWVHx3uBkslcK\n27FeZGZm4tCOpxmf4eYwilGM4g/gJ8ncj/8PsQ+UAAAAAElFTkSuQmCC\n",
      "text/latex": [
       "$$c t - 3 t^{2}$$"
      ],
      "text/plain": [
       "         2\n",
       "c⋅t - 3⋅t "
      ]
     },
     "metadata": {},
     "output_type": "display_data"
    }
   ],
   "source": [
    "# determine velocity and position\n",
    "v=a.integrate(t) +c\n",
    "display(\"Velocity:\",v)\n",
    "display(\"Position\",v.integrate(t))"
   ]
  },
  {
   "cell_type": "code",
   "execution_count": 15,
   "metadata": {
    "collapsed": false
   },
   "outputs": [
    {
     "data": {
      "text/plain": [
       "'Constant of integration, c='"
      ]
     },
     "metadata": {},
     "output_type": "display_data"
    },
    {
     "data": {
      "image/png": "iVBORw0KGgoAAAANSUhEUgAAABYAAAASCAYAAABfJS4tAAAABHNCSVQICAgIfAhkiAAAAY9JREFU\nOI3l1DtolUEQBeDP9/vGBAstgkgKtdGYRlsrm4AgBBvFdKIgVmmEVGIEGzUgWtjZilUsrOwCCqKC\nQkgjPpqrEDWiQrxyU+z8ZF02wcbKgZ/Dnj17dnb+neUfxapifARn8RObsBkTeFno9uIq3qKLHRhD\nu7bJIUxhY8bdxjwGM64HH3Aq4y7hFdbXjK/H7iczbji4yYy7go9Ym3F9+IVzDbE6m3we2c1l3NbA\nHxk3gifoZNwcZmLur+JaGByM8bY4wa2K9hG+1jIuYw/O4Lyln7c7cL6i/44WNvBnnZoYxmEcx03c\nzeZagQvLGMN2tGsZT2EcQziKaek6we/AbmXdusA1rFyKDi5H9neC+7SCfkvgt9J4Hw4U4heBJ6Qb\n0o5se5cx/tIYN9GSuq2DgULcja8nuGd4UDF+h8fNoMl4QfqRb/A5E+8PfGrpKj2UypM/BwPox/3K\nhiZwoVhwL442lHG7pCOfzrgbeC1r6fIRGsUxqSQ7pY4ax2yhG5Rae1Zqmj5cxPtaxv95LAKt5lFK\nrx7iGQAAAABJRU5ErkJggg==\n",
      "text/latex": [
       "$$30$$"
      ],
      "text/plain": [
       "30"
      ]
     },
     "metadata": {},
     "output_type": "display_data"
    },
    {
     "data": {
      "text/plain": [
       "'Velocity is '"
      ]
     },
     "metadata": {},
     "output_type": "display_data"
    },
    {
     "data": {
      "image/png": "iVBORw0KGgoAAAANSUhEUgAAAEsAAAAUCAYAAADFlsDIAAAABHNCSVQICAgIfAhkiAAAAx5JREFU\nWIXt10uoVWUUB/Df1R7aVTORtEGlSC9D80EmUuEdBEGOHGRBD6mBWYkOtIEgGKYlWEmDikbHhBxk\nET5ACHoNyoqgzIhCsESUutDjmpRe9TpY36bv7na3fU9bIbr/yXfW/6y91zrrW6/DEGqjo+H3XYu1\n+B0n0rkWxxq2MxjMxZLky0hcgg34oqR3HZ7G9+jDeKzCD+fCqak4hHlJnoiDIlhlTMERXH0uHMkw\nE7swIuNeQg9mZNylOIz7Mm419uOipp26AN9gRcZdiW4sr9BfgT/0/xF1MT3Zq4PnRZYsyrgFiXsh\n49bjx9J7x6EXS9vwcUA8hJMYW1P/Dbzfpq0WJtXUfQC/4o6Mu0cE65mM+xY7K57/Eu8UwrBBODkQ\n7sUB/FJT/1Z80JDtgfCqKLG3M24WTmNbkkfjGtFCyjiC2YXQRLA6xI/vxu14CpvxlugZBRZhDz7G\n5ehK8mMN+FAXk/EgHvVngy/6Zk+F/nGMwcVNOTBepPXXeCTj54speGNJf4mYlCPbtNdSvwwLLMA6\n7BONO0+SecL/Jyue25q+m0AzmTU8nZOxJePfE/1iY0m/C5+KUX6+sAtrRAl24UNxyURJEkEp48J0\nDqeZYP2UzgP+GoDDornmaTxf+8393+KUyLBb8HLiugfQ70znMfqPyml4Rf1F9XNRdr3J4M8VOifE\nnjIOR0VJTlAvWFtwUwV/FeaI6VvGw/gsk69P9veV/IaFGCWWzj5cVvG+TjG0Gl2qd4ieVcZesU8V\nl/K4CO6oJI8V+9hg0FKvZ40RmX5KLMEFOkVw+sSkJAL8ZsU7DuHdQmhqddgmpkretDvEze5IDsNt\n4mZ/S/Ly7LumcVJc0kH9s/6GdH4ieirsFqWZV9UUcZHbm3ZsGD7Cyoy7W5TnpIzbjtfT55vxRBu2\nWupPww1Ypn8QtoqympVxV4hyuz/jNuMr2d+dun8b/glncBeeE8HoTQ7OxXeZ3jq8iGdFr9jUkP2/\nw2osxmsigyeKgTRbbO0FjorBs14EcbTos3eq7o3/GbQMfs9qBE31rPOJHjE0hjCEIfz/cBZV9qOU\n7+nYOwAAAABJRU5ErkJggg==\n",
      "text/latex": [
       "$$- 6 t + 30$$"
      ],
      "text/plain": [
       "-6⋅t + 30"
      ]
     },
     "metadata": {},
     "output_type": "display_data"
    },
    {
     "data": {
      "text/plain": [
       "'Position(up to an arbitrary constant) is'"
      ]
     },
     "metadata": {},
     "output_type": "display_data"
    },
    {
     "data": {
      "image/png": "iVBORw0KGgoAAAANSUhEUgAAAF0AAAAZCAYAAABTuCK5AAAABHNCSVQICAgIfAhkiAAAAztJREFU\naIHt2E+IlVUYx/GPKaWpMxnB2B/756Ki0lzUhCG5q4WroNy0EAbS0BhJ3ARBEmZYEARl1OaGGxfR\nKqFoEUWLCqSSiGiT/SGZAjMVUxuyxXNuc+ZyvPPO3PveK3m/cHnf85znvu/vOee85zznMKDnzOu3\ngIxRrMUwHsDz+KSviv7nLMGLWfkxnMb1/ZFzabAK/2BlKg/hvGj8ATUxT0wvzenuTtHoa/qmqEa6\nOaffj834C4twJV7A13N41n78hh1dUzczVfXfhj34UQyMa7ATEz1TmliD97Aws+3DCdxT8F+JX3FT\noW4Me/V2ka+qfxi/4PHM9gy+weWF57aLs2NeEb2+MbNtSLZXC/7bccb0IJv/GUv3C3FzB5pWYUFF\n36r6d4svMH/u1fgbTxaeW4zzsoqiZuJLMSqOZbYl6Xq64L8OnydBTR7ECA5iOR7GtR1oeho3VPSt\nqv9RoXsysx3Dd6mulVKctbJXiFtdqJsQeXiTW3FSjKz8N9TB+xs6+1Ja9S9Nml4r+H6APwv21jhr\n5Zb0wicy20a8L3r+PD5N5a01aWiYe6OX9N8ldO8p+L+b6q7Q+zhtED17WCwwpelrM86KDKFOGmbf\n6O30rxWNuKvwv/2pbiSz9SrO/1iAD/GZSKlyDojer5uGuY/0kv5R0bDPFfwPpLrrWmzFOLu1kLYy\nKUbMKN5oqVuPj2t6b7co6f+9jf/idD2Z2da7QJx56nM33lQ9P/4KW9L97SJPPdxSD4+ITOCU2GmO\nXEjMHHlbebG+EffhXKFuDIeychX9E2I0Lys8bzGOm2r0OuKcxpDYxU2aOjtpCmlmIcPJtk3ktM10\n7CqsqElXQ7XpZTb6D4lFs5Wf8FFWbhtnN6aXc+KL+QF/ZPY70vULU+nUOjGCTqXyuOk5bz+Yjf6D\npp8RER21Au9ktrZxdqPRz+AlsXPLRY+nl+Y7tfk4ku7vFSPsaBc0dMJs9O8TX0B+DPAUvsVbma1t\nnN0839iEh0SPLhc7tWfxfeazGq+LrGACL4sj3TpoiEzjSEX/TWbWT5zF7E72peIYYBw/Zz69jPOi\noqGzHWlt1JUyXgyc0MMzjwEDBgwYcGnyL8vl2bY3wT5eAAAAAElFTkSuQmCC\n",
      "text/latex": [
       "$$- 3 t^{2} + 30 t$$"
      ],
      "text/plain": [
       "     2       \n",
       "- 3⋅t  + 30⋅t"
      ]
     },
     "metadata": {},
     "output_type": "display_data"
    },
    {
     "data": {
      "text/plain": [
       "'The car stops after (seconds)'"
      ]
     },
     "metadata": {},
     "output_type": "display_data"
    },
    {
     "data": {
      "image/png": "iVBORw0KGgoAAAANSUhEUgAAAAsAAAASCAYAAACNdSR1AAAABHNCSVQICAgIfAhkiAAAAMxJREFU\nKJHN0TFLQmEUBuDHFIKGFhVcmvwFDW35T/wHQXOLo3/AsSVozTlwCwcbGhoaxHLJTVAIAo0cbLjf\nhevHTW5bL5zh/d5zXt7vHP6AcsQn+MAyaOe4xhMW8fA2qm9cpGIlap5hgDrecIPxb7Ee9mU+2CfG\nKEX8EfeoYoMmrvCaNzzFSYa3MUejSKwyVugVjfoeamd1Q8kfWjnutdjhE885zl+Sy+7gTrKFLE4l\nl+zEzWfo4yjwEm4xwmH6kEULl1jjGC/ohij/BT8UwSaNbxctpgAAAABJRU5ErkJggg==\n",
      "text/latex": [
       "$$5$$"
      ],
      "text/plain": [
       "5"
      ]
     },
     "metadata": {},
     "output_type": "display_data"
    },
    {
     "data": {
      "text/plain": [
       "'The stops after (metres)'"
      ]
     },
     "metadata": {},
     "output_type": "display_data"
    },
    {
     "data": {
      "image/png": "iVBORw0KGgoAAAANSUhEUgAAABUAAAASCAYAAAC0EpUuAAAABHNCSVQICAgIfAhkiAAAAT9JREFU\nOI3l1LtKZEEQBuBPx2VAxcQVTRQW5wUEL4GhgvgIgplgIkayYGLkEyiKRorLhho7GykuCDIYiKDo\nbKKJLpgYeMdLcEY8nO1z1sTIH4ruqr/6r4LuLj4AVbH9IBaxhxvc4SnGlzBf2R9hGhu4QicmMY7D\neIEJPGfYYCw3yd1j7JWsiSUW0IZzPMa67MUQ1mO5p/iFJpSxnOzwFXOBWD2KqE3EN0MC78UCegLx\nTNGaDK4XOewEuDym0IgHtIsu6vh/Xe7iWwr3B60xfxh/0ZIl2IeDDL464edwjdks0TUsZSUEcFKx\nfyrCFwzgLOXwFn4H4jk0p4l2ow4XKaIdoqeWxNesTguV9TZFtIj+QKE8fqac8V309UZS+C6sevsQ\nVfiB7Ypw8J2WcSkaLCGUMIMV0eBpwD5GRUPos+MFoytFeLptj/IAAAAASUVORK5CYII=\n",
      "text/latex": [
       "$$75$$"
      ],
      "text/plain": [
       "75"
      ]
     },
     "metadata": {},
     "output_type": "display_data"
    }
   ],
   "source": [
    "# determine time at which velocity is zero and then determine position\n",
    "cValue=solve(v.subs(t,0)-30,c)[0]\n",
    "display(\"Constant of integration, c=\",cValue)\n",
    "v=v.subs(c,cValue)\n",
    "display(\"Velocity is \",v)\n",
    "p=v.integrate(t)\n",
    "display(\"Position(up to an arbitrary constant) is\", p)\n",
    "\n",
    "\n",
    "tStop= solve(v,t)[0]\n",
    "display(\"The car stops after (seconds)\", tStop)\n",
    "pStop=p.subs(t,tStop)-p.subs(t,0)\n",
    "display(\"The stops after (metres)\",pStop)"
   ]
  },
  {
   "cell_type": "markdown",
   "metadata": {},
   "source": [
    "####Question 3\n",
    "\n",
    "Recall that given, two functions, $f$ and $g$, with $f(x)\\ge g(x)$ over an interval $x=a$ to $x=b$ then the area between the two functions is given by\n",
    "\\\\[\n",
    "    \\int_a^b \\big[f(x)-g(x)\\big] dx\n",
    "\\\\]\n",
    "\n",
    "Determine the size of the shaded area in the following diagram\n",
    "\n",
    "![](http://cdn-5.analyzemath.com/calculus/Integrals/area_under_curve_4.gif)\n",
    "\n",
    "Hint:\n",
    "\n",
    " * define functions, $f$ and $g$ to represent each curve.\n",
    " * determine the points of intersection of the curves - these are the integration limits.\n",
    " * determine the required area using definite integration."
   ]
  },
  {
   "cell_type": "code",
   "execution_count": 16,
   "metadata": {
    "collapsed": true
   },
   "outputs": [],
   "source": [
    "# define symbols\n",
    "x=Symbol('x')\n",
    "f= -x**2 -2*x +2\n",
    "g= -x**2+6\n"
   ]
  },
  {
   "cell_type": "code",
   "execution_count": 17,
   "metadata": {
    "collapsed": false
   },
   "outputs": [
    {
     "data": {
      "image/png": "iVBORw0KGgoAAAANSUhEUgAAAEUAAAAZCAYAAABnweOlAAAABHNCSVQICAgIfAhkiAAAAlVJREFU\nWIXt102ITWEYwPHf1QwRRihTEwaFTDNiynfYsGGhlNhYoLD2sfSRlCQ7itWRhcUslOxFYigRSolI\nSrEgyvfX4jnDmZmLo3vce8v91+mc9zlv7/P0vO/z8dJgEKUa6JyPRWjBYhzApRrYUTeMxKHMeB3e\noq025tQHXfiKael4NL4J5/y3lET49IVth3DKnJpZVIZa5JQsp/EcO6qsdzr24R0+pO99eFNlOwax\nGYdVf2Nm4YlI9tCKR8IpYEiVDepjdfrejWFor2CtLjTlnNuEsziKK6msWRSAlxXYUDHLxClpTZ81\nWFjBeon8Tt2Ejxjzu0l5PVwUU3Fe7EyWlirp34AHePW7SUU6pRsb8UXs3BZsFbvShr14iFEF6vwb\nSliC61iKlWJz2rEfN4tWOBXH/MxRCe6LZLZY9Cb/qsIk8oXPeFH+72FbRr5cVJ2Ogu1yXP8T0INr\n6fdEHMG4opWmJPI5ZYJwynsMH/DvqQjrQplSRsnBopX8gkQ+pzQLp9wt869X9CvD6J9TOnFS/r7h\nlp/H8FFGPkPkkAs518nLKcwuI5+EeaKqDGQzbqTfn/BC+dL7AUMxFs8qtrQM21MlIzKyab+YWwSJ\n/CX5nMgpA+kVYdVEMc3bcNGZdqbjFbgtbr99OnYVoKcIzmCy/jmlhJnCYZ+LUrRWxOr6dPE7uJz5\nv0dlzdmfSOQ/KUNwFTszsnUirH6sUUSfcjE1rBtzsUBUoxMizs+lhtQDX7FKtPk9Is+UhM2Pa2dW\n8SQquzsNolYXwiJ5LZJkgwYNGtQl3wEyE2ZsCbTdqwAAAABJRU5ErkJggg==\n",
      "text/latex": [
       "$$- x^{2} + 6$$"
      ],
      "text/plain": [
       "   2    \n",
       "- x  + 6"
      ]
     },
     "execution_count": 17,
     "metadata": {},
     "output_type": "execute_result"
    }
   ],
   "source": [
    "# find points of intersection\n",
    "f=g \n",
    "solve(f=g)\n",
    "f.subs(-6**.5,x)"
   ]
  },
  {
   "cell_type": "code",
   "execution_count": null,
   "metadata": {
    "collapsed": true
   },
   "outputs": [],
   "source": [
    "# determine area using definite integration\n"
   ]
  },
  {
   "cell_type": "markdown",
   "metadata": {},
   "source": [
    "####Question 4\n",
    "\n",
    "Determine the size of the shaded area in the following diagram\n",
    "\n",
    "![](http://bestmaths.net/online/files/8213/8655/6257/Y12_Area_under_Curves_09.gif)\n"
   ]
  },
  {
   "cell_type": "code",
   "execution_count": null,
   "metadata": {
    "collapsed": true
   },
   "outputs": [],
   "source": [
    "# define symbols\n"
   ]
  },
  {
   "cell_type": "code",
   "execution_count": null,
   "metadata": {
    "collapsed": true
   },
   "outputs": [],
   "source": [
    "# find points of intersection\n"
   ]
  },
  {
   "cell_type": "code",
   "execution_count": 19,
   "metadata": {
    "collapsed": true
   },
   "outputs": [],
   "source": [
    "# determine area using definite integration\n"
   ]
  }
 ],
 "metadata": {
  "kernelspec": {
   "display_name": "Python 3",
   "language": "python",
   "name": "python3"
  },
  "language_info": {
   "codemirror_mode": {
    "name": "ipython",
    "version": 3
   },
   "file_extension": ".py",
   "mimetype": "text/x-python",
   "name": "python",
   "nbconvert_exporter": "python",
   "pygments_lexer": "ipython3",
   "version": "3.4.3"
  }
 },
 "nbformat": 4,
 "nbformat_minor": 0
}
         