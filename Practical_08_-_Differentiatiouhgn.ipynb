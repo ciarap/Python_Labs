{
 "cells": [
  {
   "cell_type": "code",
   "execution_count": 1,
   "metadata": {
    "collapsed": true
   },
   "outputs": [],
   "source": [
    "# specify your student id and your name\n",
    "id = 'W20071494'\n",
    "name = 'Kacper Woloszyn'"
   ]
  },
  {
   "cell_type": "code",
   "execution_count": 1,
   "metadata": {
    "collapsed": false
   },
   "outputs": [
    {
     "ename": "NameError",
     "evalue": "name 'name' is not defined",
     "output_type": "error",
     "traceback": [
      "\u001b[1;31m---------------------------------------------------------------------------\u001b[0m",
      "\u001b[1;31mNameError\u001b[0m                                 Traceback (most recent call last)",
      "\u001b[1;32m<ipython-input-1-8193608eb339>\u001b[0m in \u001b[0;36m<module>\u001b[1;34m()\u001b[0m\n\u001b[0;32m      2\u001b[0m \u001b[0mget_ipython\u001b[0m\u001b[1;33m(\u001b[0m\u001b[1;33m)\u001b[0m\u001b[1;33m.\u001b[0m\u001b[0mmagic\u001b[0m\u001b[1;33m(\u001b[0m\u001b[1;34mu'matplotlib inline'\u001b[0m\u001b[1;33m)\u001b[0m\u001b[1;33m\u001b[0m\u001b[0m\n\u001b[0;32m      3\u001b[0m \u001b[1;32mfrom\u001b[0m \u001b[0mcalculus\u001b[0m \u001b[1;32mimport\u001b[0m \u001b[1;33m*\u001b[0m\u001b[1;33m\u001b[0m\u001b[0m\n\u001b[1;32m----> 4\u001b[1;33m \u001b[0msetup_practical\u001b[0m\u001b[1;33m(\u001b[0m\u001b[0mid\u001b[0m\u001b[1;33m,\u001b[0m \u001b[0mname\u001b[0m\u001b[1;33m)\u001b[0m\u001b[1;33m\u001b[0m\u001b[0m\n\u001b[0m",
      "\u001b[1;31mNameError\u001b[0m: name 'name' is not defined"
     ]
    }
   ],
   "source": [
    "# setup magic - see kmurphy.bitbucket.org/modules/Advanced_Calculus for setup instructions.\n",
    "%matplotlib inline\n",
    "from calculus import *\n",
    "setup_practical(id, name)"
   ]
  },
  {
   "cell_type": "markdown",
   "metadata": {},
   "source": [
    "# Practical 08 - Differentiation\n",
    "\n",
    "## Introduction\n",
    "\n",
    "### Aim\n",
    "\n",
    "In this practical we will use python to \n",
    "\n",
    " * estimate the derivative of a function using finite differences (based on differention from first principles formula).\n",
    " * calculate the derivtaive of function symbolically (based on the differentiaion rules).\n",
    " \n",
    "### Mathematics Concepts\n",
    "\n",
    " * The __derivative__ of a function $f(t)$ is defined as \n",
    "\n",
    "\\\\[\n",
    "    f'(t) = \\lim_{h\\to 0} \\frac{f(t+h)-f(t)}{h}\n",
    "\\\\]\n",
    "\n",
    " * As you have learned in Computer Architecture, a computer is a digital device and therefore cannot represent arbitrary small numbers (see [Some disasters caused by numerical errors](http://ta.twi.tudelft.nl/users/vuik/wi211/disasters.html)), so taking the limit as $h\\to 0$ is problematic. Instead of taking the limit we just set $h$ to a small value and we get the __finite difference approximation to the derivative__ defined by \n",
    "\n",
    "\\\\[\n",
    "    f'(t) \\approx f'_h(t) = \\frac{f(t+h)-f(t)}{h}\n",
    "\\\\]\n",
    "\n",
    "where __step size__, $h$, is some small value. \n",
    " \n",
    "### Python Concepts\n",
    "\n",
    " * The Python symbolic module, __sympy__, has functions \n",
    "    * __symbols__ or __Symbol__ define a symbol \n",
    "    * __Funciton__ to define a symbolic funciton\n",
    "    * __limit(f, t, t0)__ - compute the limit of the experssion, __f__, as the variable __t__ tends towards __t0__.\n",
    "    * __diff(f, t)__ - differentiation the function, __f__, with respect to variable __t__.\n",
    "    * __display__ to dispaly an experssion using mathematics notation.\n",
    "    * __log(v,b)__ to calculate the log of __v__ to base __b__.\n",
    "   and from __sympy.solvers__\n",
    "    * __solve__ to solve an algebraic equation.\n",
    "    \n",
    "   and methods \n",
    "    * __subs(exp_old,exp_new)__ to substitute sub-expresion __exp_old__ with __exp_new__.  \n",
    "    * __diff(var)__ to differentiate an expression with respect to variable __var__."
   ]
  },
  {
   "cell_type": "markdown",
   "metadata": {},
   "source": [
    "## Standard Importing of  Libraries\n"
   ]
  },
  {
   "cell_type": "code",
   "execution_count": 2,
   "metadata": {
    "collapsed": true
   },
   "outputs": [],
   "source": [
    "# for numeric work\n",
    "import numpy as np\n",
    "import matplotlib.pyplot as plt\n",
    "\n",
    "# for symbolic work\n",
    "import sympy as sym\n",
    "from sympy.plotting import plot"
   ]
  },
  {
   "cell_type": "markdown",
   "metadata": {},
   "source": [
    "## Finite Difference Approximation to the Derivative\n"
   ]
  },
  {
   "cell_type": "markdown",
   "metadata": {},
   "source": [
    "#### Example 1 - Finite difference of a quadratic\n",
    "\n",
    "The function $f(t)=t^2-5t+6$ (a quadratic) has derivative $f'(t)=2t-5$ (a line).\n",
    "\n"
   ]
  },
  {
   "cell_type": "code",
   "execution_count": 3,
   "metadata": {
    "collapsed": false
   },
   "outputs": [],
   "source": [
    "# define function, its finite difference approximation, and its exact derivative\n",
    "def f(t):\n",
    "    return t**2 - 5*t + 6\n",
    "\n",
    "def df(t,h):\n",
    "    return (f(t+h) - f(t))/h\n",
    "\n",
    "def df_exact(t,h):\n",
    "    return 2*t-5"
   ]
  },
  {
   "cell_type": "code",
   "execution_count": 4,
   "metadata": {
    "collapsed": false,
    "scrolled": true
   },
   "outputs": [
    {
     "data": {
      "image/png": "[encoded data removed]",
      "text/plain": [
       "<matplotlib.figure.Figure at 0x8327f28>"
      ]
     },
     "metadata": {},
     "output_type": "display_data"
    }
   ],
   "source": [
    "# plot funciton (blue), the finite difference approximation to the derivative (green), and its exact derivative (red)\n",
    "h = 1E-4   # a small number\n",
    "tValues = np.linspace(-5,10)\n",
    "plt.plot(tValues,f(tValues), label=\"f(t)\")\n",
    "plt.plot(tValues,df(tValues,h), label=\"FD approx of f(t) with h=%s\" %h)\n",
    "plt.plot(tValues,df_exact(tValues,h), label=\"f'(t)\")\n",
    "plt.legend()\n",
    "plt.show();"
   ]
  },
  {
   "cell_type": "markdown",
   "metadata": {},
   "source": [
    "#### Qeuestion 1\n",
    "\n",
    "Approximalty how large can $h$ be before the error in the finite difference approximation to the derivative is large enough to be seen in the above graph? "
   ]
  },
  {
   "cell_type": "code",
   "execution_count": 7,
   "metadata": {
    "collapsed": false
   },
   "outputs": [
    {
     "data": {
      "text/plain": [
       "60"
      ]
     },
     "execution_count": 7,
     "metadata": {},
     "output_type": "execute_result"
    }
   ],
   "source": [
    "# Answer 1\n",
    "60"
   ]
  },
  {
   "cell_type": "markdown",
   "metadata": {},
   "source": [
    "#### Question 2\n",
    "\n",
    "Approximalty how small can $h$ be before the error in the finite difference approximation to the derivative is large enough to be seen in the above graph? "
   ]
  },
  {
   "cell_type": "code",
   "execution_count": 8,
   "metadata": {
    "collapsed": false
   },
   "outputs": [
    {
     "data": {
      "text/plain": [
       "0.2"
      ]
     },
     "execution_count": 8,
     "metadata": {},
     "output_type": "execute_result"
    }
   ],
   "source": [
    "# Answer 2\n",
    "0.2"
   ]
  },
  {
   "cell_type": "markdown",
   "metadata": {},
   "source": [
    "#### Example 2 - Finite difference of a trigonometric function\n",
    "\n",
    "The function $f(t)=\\cos(3t)$ has derivative $f'(t)=-3\\sin(3t)$.\n"
   ]
  },
  {
   "cell_type": "code",
   "execution_count": 5,
   "metadata": {
    "collapsed": false
   },
   "outputs": [],
   "source": [
    "# define function, its finite difference approximation, and its exact derivative\n",
    "def f(t):\n",
    "    return np.cos(3*t)\n",
    "\n",
    "def df(t,h):\n",
    "    return (f(t+h) - f(t))/h\n",
    "\n",
    "def df_exact(t,h):\n",
    "    return -3*np.sin(3*t)"
   ]
  },
  {
   "cell_type": "code",
   "execution_count": 6,
   "metadata": {
    "collapsed": false,
    "scrolled": true
   },
   "outputs": [
    {
     "data": {
      "image/png": "[encoded data removed]",
      "text/plain": [
       "<matplotlib.figure.Figure at 0x86467f0>"
      ]
     },
     "metadata": {},
     "output_type": "display_data"
    }
   ],
   "source": [
    "# plot funciton (blue), the finite difference approximation to the derivative (green), and its exact derivative (red)\n",
    "h = 1E-4  # a small number\n",
    "tValues = np.linspace(-5,5)\n",
    "plt.plot(tValues,f(tValues), label=\"f(t)\")\n",
    "plt.plot(tValues,df(tValues,h), label=\"FD approx of f(t) with h=%s\" %h)\n",
    "plt.plot(tValues,df_exact(tValues,h), label=\"f'(t)\")\n",
    "plt.legend(bbox_to_anchor=(1.7, 1.0))\n",
    "plt.show();"
   ]
  },
  {
   "cell_type": "markdown",
   "metadata": {},
   "source": [
    "#### Qauestion 3\n",
    "\n",
    "Approximalty how large can $h$ be before the error in the finite difference approximation to the derivative is large enough to be seen in the above graph? "
   ]
  },
  {
   "cell_type": "code",
   "execution_count": 10,
   "metadata": {
    "collapsed": false
   },
   "outputs": [
    {
     "data": {
      "text/plain": [
       "1.2"
      ]
     },
     "execution_count": 10,
     "metadata": {},
     "output_type": "execute_result"
    }
   ],
   "source": [
    "# Answer 3\n",
    "1.2"
   ]
  },
  {
   "cell_type": "markdown",
   "metadata": {},
   "source": [
    "#### Question 4\n",
    "\n",
    "Approximalty how small can $h$ be before the error in the finite difference approximation to the derivative is large enough to be seen in the above graph? "
   ]
  },
  {
   "cell_type": "code",
   "execution_count": 11,
   "metadata": {
    "collapsed": false
   },
   "outputs": [
    {
     "data": {
      "text/plain": [
       "-1.2"
      ]
     },
     "execution_count": 11,
     "metadata": {},
     "output_type": "execute_result"
    }
   ],
   "source": [
    "# Answer 4\n",
    "-1.2"
   ]
  },
  {
   "cell_type": "markdown",
   "metadata": {},
   "source": [
    "> The leason I'm hoping you get here is that finite differencing is easy to do but one must be careful in picking a suitable value for $h$.  In the above examples the goldilocks range (not too big, not too small) is relatively wide but the functions we are using are trival. What happens if we try to apply finite diferencing to arbitrary complicated functions? Does the goldilocks range get narrow? disappear altogether ?   "
   ]
  },
  {
   "cell_type": "markdown",
   "metadata": {},
   "source": [
    "## Calculating the Derivative using Symbolic Differentiation (sympy)\n",
    "\n",
    "**NOTE:** We will import sympy using \n",
    "\n",
    "    from sympy import *\n",
    "    \n",
    "to save us on typing __sym.__ all the time - it gets boring fast."
   ]
  },
  {
   "cell_type": "code",
   "execution_count": 12,
   "metadata": {
    "collapsed": true
   },
   "outputs": [],
   "source": [
    "from sympy import *\n"
   ]
  },
  {
   "cell_type": "code",
   "execution_count": 13,
   "metadata": {
    "collapsed": false
   },
   "outputs": [
    {
     "data": {
      "text/plain": [
       "t**2 - 5*t + 6"
      ]
     },
     "execution_count": 13,
     "metadata": {},
     "output_type": "execute_result"
    }
   ],
   "source": [
    "# define symbols and function\n",
    "t = symbols('t')\n",
    "f = t**2 -5*t + 6\n",
    "f"
   ]
  },
  {
   "cell_type": "code",
   "execution_count": 14,
   "metadata": {
    "collapsed": false
   },
   "outputs": [
    {
     "data": {
      "text/plain": [
       "2*t - 5"
      ]
     },
     "execution_count": 14,
     "metadata": {},
     "output_type": "execute_result"
    }
   ],
   "source": [
    "# calculate derivative (symbolically)\n",
    "df = diff(f,t)\n",
    "df "
   ]
  },
  {
   "cell_type": "markdown",
   "metadata": {},
   "source": [
    "So we have our derivative. However, it would be nicer if the output used matematical notation (superscripts for power, etc) rather than the one-dimentional programming notation. We turn on rendering with mathematical notation with\n",
    "\n",
    "    from IPython.display import display\n",
    "    sym.init_printing(pretty_print=True)\n",
    "\n",
    "and to turn off use\n",
    "\n",
    "    sym.init_printing(pretty_print=False)"
   ]
  },
  {
   "cell_type": "code",
   "execution_count": 15,
   "metadata": {
    "collapsed": true
   },
   "outputs": [],
   "source": [
    "from IPython.display import display\n",
    "sym.init_printing(pretty_print=True)"
   ]
  },
  {
   "cell_type": "code",
   "execution_count": 16,
   "metadata": {
    "collapsed": false
   },
   "outputs": [
    {
     "data": {
      "image/png": "[encoded data removed]",
      "text/latex": [
       "$$t^{2} - 5 t + 6$$"
      ],
      "text/plain": [
       " 2          \n",
       "t  - 5⋅t + 6"
      ]
     },
     "execution_count": 16,
     "metadata": {},
     "output_type": "execute_result"
    }
   ],
   "source": [
    "# now f is \n",
    "f"
   ]
  },
  {
   "cell_type": "code",
   "execution_count": 17,
   "metadata": {
    "collapsed": false
   },
   "outputs": [
    {
     "data": {
      "image/png": "[encoded data removed]",
      "text/latex": [
       "$$2 t - 5$$"
      ],
      "text/plain": [
       "2⋅t - 5"
      ]
     },
     "execution_count": 17,
     "metadata": {},
     "output_type": "execute_result"
    }
   ],
   "source": [
    "# and its derivative is \n",
    "df"
   ]
  },
  {
   "cell_type": "markdown",
   "metadata": {},
   "source": [
    "#### Example 3 - derivative of some random functions"
   ]
  },
  {
   "cell_type": "code",
   "execution_count": 18,
   "metadata": {
    "collapsed": false
   },
   "outputs": [
    {
     "data": {
      "image/png": "[encoded data removed]",
      "text/latex": [
       "$$3 t^{4}$$"
      ],
      "text/plain": [
       "   4\n",
       "3⋅t "
      ]
     },
     "execution_count": 18,
     "metadata": {},
     "output_type": "execute_result"
    }
   ],
   "source": [
    "f = 3*t**4\n",
    "f"
   ]
  },
  {
   "cell_type": "code",
   "execution_count": 19,
   "metadata": {
    "collapsed": false
   },
   "outputs": [
    {
     "data": {
      "image/png": "[encoded data removed]",
      "text/latex": [
       "$$12 t^{3}$$"
      ],
      "text/plain": [
       "    3\n",
       "12⋅t "
      ]
     },
     "execution_count": 19,
     "metadata": {},
     "output_type": "execute_result"
    }
   ],
   "source": [
    "diff(f,t)"
   ]
  },
  {
   "cell_type": "code",
   "execution_count": 20,
   "metadata": {
    "collapsed": false
   },
   "outputs": [
    {
     "data": {
      "image/png": "[encoded data removed]",
      "text/latex": [
       "$$\\sin{\\left (t \\right )} + \\cos{\\left (2 t \\right )}$$"
      ],
      "text/plain": [
       "sin(t) + cos(2⋅t)"
      ]
     },
     "execution_count": 20,
     "metadata": {},
     "output_type": "execute_result"
    }
   ],
   "source": [
    "f = sin(t)+cos(2*t)\n",
    "f"
   ]
  },
  {
   "cell_type": "code",
   "execution_count": 21,
   "metadata": {
    "collapsed": false
   },
   "outputs": [
    {
     "data": {
      "image/png": "[encoded data removed]",
      "text/latex": [
       "$$- 2 \\sin{\\left (2 t \\right )} + \\cos{\\left (t \\right )}$$"
      ],
      "text/plain": [
       "-2⋅sin(2⋅t) + cos(t)"
      ]
     },
     "execution_count": 21,
     "metadata": {},
     "output_type": "execute_result"
    }
   ],
   "source": [
    "diff(f,t)"
   ]
  },
  {
   "cell_type": "code",
   "execution_count": 22,
   "metadata": {
    "collapsed": false
   },
   "outputs": [
    {
     "data": {
      "image/png": "[encoded data removed]",
      "text/latex": [
       "$$a t^{n} + c$$"
      ],
      "text/plain": [
       "   n    \n",
       "a⋅t  + c"
      ]
     },
     "execution_count": 22,
     "metadata": {},
     "output_type": "execute_result"
    }
   ],
   "source": [
    "a, c, n = symbols('a c n')\n",
    "f = a*t**n  + c\n",
    "f"
   ]
  },
  {
   "cell_type": "code",
   "execution_count": 23,
   "metadata": {
    "collapsed": false
   },
   "outputs": [
    {
     "data": {
      "image/png": "[encoded data removed]",
      "text/latex": [
       "$$\\frac{a n}{t} t^{n}$$"
      ],
      "text/plain": [
       "     n\n",
       "a⋅n⋅t \n",
       "──────\n",
       "  t   "
      ]
     },
     "execution_count": 23,
     "metadata": {},
     "output_type": "execute_result"
    }
   ],
   "source": [
    "diff(f,t)"
   ]
  },
  {
   "cell_type": "code",
   "execution_count": 24,
   "metadata": {
    "collapsed": false
   },
   "outputs": [
    {
     "data": {
      "image/png": "[encoded data removed]",
      "text/latex": [
       "$$a n t^{n - 1}$$"
      ],
      "text/plain": [
       "     n - 1\n",
       "a⋅n⋅t     "
      ]
     },
     "execution_count": 24,
     "metadata": {},
     "output_type": "execute_result"
    }
   ],
   "source": [
    "# we can simplify this a bit ...  (we refer the previous output using _)\n",
    "simplify(_)"
   ]
  },
  {
   "cell_type": "code",
   "execution_count": 25,
   "metadata": {
    "collapsed": false
   },
   "outputs": [
    {
     "data": {
      "image/png": "[encoded data removed]",
      "text/latex": [
       "$$t^{10} + 10 t^{9} + 45 t^{8} + 120 t^{7} + 210 t^{6} + 252 t^{5} + 210 t^{4} + 120 t^{3} + 45 t^{2} + 10 t + 1$$"
      ],
      "text/plain": [
       " 10       9       8        7        6        5        4        3       2      \n",
       "t   + 10⋅t  + 45⋅t  + 120⋅t  + 210⋅t  + 252⋅t  + 210⋅t  + 120⋅t  + 45⋅t  + 10⋅\n",
       "\n",
       "     \n",
       "t + 1"
      ]
     },
     "metadata": {},
     "output_type": "display_data"
    },
    {
     "data": {
      "image/png": "[encoded data removed]",
      "text/latex": [
       "$$10 t^{9} + 90 t^{8} + 360 t^{7} + 840 t^{6} + 1260 t^{5} + 1260 t^{4} + 840 t^{3} + 360 t^{2} + 90 t + 10$$"
      ],
      "text/plain": [
       "    9       8        7        6         5         4        3        2         \n",
       "10⋅t  + 90⋅t  + 360⋅t  + 840⋅t  + 1260⋅t  + 1260⋅t  + 840⋅t  + 360⋅t  + 90⋅t +\n",
       "\n",
       "   \n",
       " 10"
      ]
     },
     "execution_count": 25,
     "metadata": {},
     "output_type": "execute_result"
    }
   ],
   "source": [
    "f = expand((1+t)**10)\n",
    "display(f)\n",
    "diff(f,t)"
   ]
  },
  {
   "cell_type": "code",
   "execution_count": 26,
   "metadata": {
    "collapsed": false
   },
   "outputs": [
    {
     "data": {
      "image/png": "[encoded data removed]",
      "text/latex": [
       "$$\\left(t + 1\\right)^{10}$$"
      ],
      "text/plain": [
       "       10\n",
       "(t + 1)  "
      ]
     },
     "metadata": {},
     "output_type": "display_data"
    },
    {
     "data": {
      "image/png": "[encoded data removed]",
      "text/latex": [
       "$$10 \\left(t + 1\\right)^{9}$$"
      ],
      "text/plain": [
       "          9\n",
       "10⋅(t + 1) "
      ]
     },
     "execution_count": 26,
     "metadata": {},
     "output_type": "execute_result"
    }
   ],
   "source": [
    "f = (1+t)**10\n",
    "display(f)\n",
    "diff(f,t)"
   ]
  },
  {
   "cell_type": "markdown",
   "metadata": {},
   "source": [
    "### Example 4: Verifying differentiation rules"
   ]
  },
  {
   "cell_type": "code",
   "execution_count": 27,
   "metadata": {
    "collapsed": false
   },
   "outputs": [],
   "source": [
    "x = Symbol('x')      # define symbol for independent variable\n",
    "u = Function('u')    # define the two functions u and v\n",
    "v = Function('v')"
   ]
  },
  {
   "cell_type": "code",
   "execution_count": 28,
   "metadata": {
    "collapsed": false
   },
   "outputs": [
    {
     "data": {
      "image/png": "[encoded data removed]",
      "text/latex": [
       "$$u{\\left (x \\right )} \\frac{d}{d x} v{\\left (x \\right )} + v{\\left (x \\right )} \\frac{d}{d x} u{\\left (x \\right )}$$"
      ],
      "text/plain": [
       "     d               d       \n",
       "u(x)⋅──(v(x)) + v(x)⋅──(u(x))\n",
       "     dx              dx      "
      ]
     },
     "execution_count": 28,
     "metadata": {},
     "output_type": "execute_result"
    }
   ],
   "source": [
    "# product rule\n",
    "y = u(x)*v(x)\n",
    "diff(y)"
   ]
  },
  {
   "cell_type": "code",
   "execution_count": 29,
   "metadata": {
    "collapsed": false,
    "scrolled": true
   },
   "outputs": [
    {
     "data": {
      "image/png": "[encoded data removed]",
      "text/latex": [
       "$$- \\frac{\\frac{d}{d x} v{\\left (x \\right )}}{v^{2}{\\left (x \\right )}} u{\\left (x \\right )} + \\frac{\\frac{d}{d x} u{\\left (x \\right )}}{v{\\left (x \\right )}}$$"
      ],
      "text/plain": [
       "       d          d       \n",
       "  u(x)⋅──(v(x))   ──(u(x))\n",
       "       dx         dx      \n",
       "- ───────────── + ────────\n",
       "       2            v(x)  \n",
       "      v (x)               "
      ]
     },
     "execution_count": 29,
     "metadata": {},
     "output_type": "execute_result"
    }
   ],
   "source": [
    "# quotient rule\n",
    "y = u(x)/v(x)\n",
    "diff(y)"
   ]
  },
  {
   "cell_type": "markdown",
   "metadata": {},
   "source": [
    "### Example 5: Plotting a funtion and its symbolic derivative "
   ]
  },
  {
   "cell_type": "code",
   "execution_count": 30,
   "metadata": {
    "collapsed": false
   },
   "outputs": [
    {
     "data": {
      "image/png": "[encoded data removed]",
      "text/plain": [
       "<matplotlib.figure.Figure at 0x9194438>"
      ]
     },
     "metadata": {},
     "output_type": "display_data"
    }
   ],
   "source": [
    "f = 3*t**3 - 5*t**2 - 10*t + 10             # (position)\n",
    "df = diff(f,t)        # first derivative      (velocity)\n",
    "ddf = diff(df,t)      # second derivative     (acceleration)\n",
    "dddf = diff(f,t,3)    # third derivative      (jerk)\n",
    "\n",
    "p = plot(f,df,ddf,(t,-2,3), show=False)\n",
    "p[0].line_color = 'red'\n",
    "p[1].line_color = 'blue'\n",
    "p[2].line_color = 'green'\n",
    "\n",
    "p.show()"
   ]
  },
  {
   "cell_type": "markdown",
   "metadata": {},
   "source": [
    "## Questions"
   ]
  },
  {
   "cell_type": "markdown",
   "metadata": {},
   "source": [
    "#### Question 4\n",
    "\n",
    "A stone is tossed vertically upward with an initial velocity of 25 m/sec from the top of a 30m building. \n",
    "\n",
    "**(a)** Construct a formula for the position of the stone, $t$ seconds after it is thrown.\n",
    "\n",
    "**(b)** What is the height of the stone after .25 seconds?\n",
    "\n",
    "**(c)** Find the velocity of the stone after 1 second.\n",
    "\n",
    "**(d)** When does the stone hit the ground? (HARD, use __solve__ from __sympy.solvers__)"
   ]
  },
  {
   "cell_type": "code",
   "execution_count": 34,
   "metadata": {
    "collapsed": false
   },
   "outputs": [
    {
     "data": {
      "image/png": "[encoded data removed]",
      "text/latex": [
       "$$t^{2} + 25 t + 30$$"
      ],
      "text/plain": [
       " 2            \n",
       "t  + 25⋅t + 30"
      ]
     },
     "execution_count": 34,
     "metadata": {},
     "output_type": "execute_result"
    }
   ],
   "source": [
    "# (a) Construct a formula for the position of the stone, t seconds after it is thrown.\n",
    "t = symbols('t')\n",
    "f = t**2 +25*t + 30\n",
    "f"
   ]
  },
  {
   "cell_type": "code",
   "execution_count": 38,
   "metadata": {
    "collapsed": false
   },
   "outputs": [
    {
     "data": {
      "image/png": "[encoded data removed]",
      "text/latex": [
       "$$36.3125$$"
      ],
      "text/plain": [
       "36.3125"
      ]
     },
     "execution_count": 38,
     "metadata": {},
     "output_type": "execute_result"
    }
   ],
   "source": [
    "# (b) What is the height of the stone after .25 seconds?\n",
    "(0.25)**2 +25*0.25 + 30"
   ]
  },
  {
   "cell_type": "code",
   "execution_count": 40,
   "metadata": {
    "collapsed": false
   },
   "outputs": [
    {
     "data": {
      "image/png": "[encoded data removed]",
      "text/latex": [
       "$$2 t + 25$$"
      ],
      "text/plain": [
       "2⋅t + 25"
      ]
     },
     "execution_count": 40,
     "metadata": {},
     "output_type": "execute_result"
    }
   ],
   "source": [
    "# (c) Find the velocity of the stone after 1 second.\n",
    "df = diff(f,t)\n",
    "df "
   ]
  },
  {
   "cell_type": "code",
   "execution_count": 44,
   "metadata": {
    "collapsed": false
   },
   "outputs": [
    {
     "data": {
      "image/png": "[encoded data removed]",
      "text/latex": [
       "$$27.0$$"
      ],
      "text/plain": [
       "27.0"
      ]
     },
     "execution_count": 44,
     "metadata": {},
     "output_type": "execute_result"
    }
   ],
   "source": [
    "2*(1.0)+25"
   ]
  },
  {
   "cell_type": "code",
   "execution_count": 58,
   "metadata": {
    "collapsed": true
   },
   "outputs": [],
   "source": [
    "# (d) When does the stone hit the ground? (HARD - need to use solve)\n",
    "from sympy.solvers import solve\n"
   ]
  },
  {
   "cell_type": "markdown",
   "metadata": {},
   "source": [
    "#### Question 5\n",
    "\n",
    "You have learnt/observed that `the $(n+1)$th derivative of a polynomial of degree $n$ is zero'. Lets write code to verify this for $n\\le30$.\n",
    "\n",
    "Write code that demonstrate that \n",
    "the 1st derivative of a constant, the 2nd derivative of a line,\n",
    "the 3rd derivative of a quadratic, \n",
    "the 4th derivative of a cubic, etc. up to the $(n+1)$th derivative of a polynomial of degree $n$ where $n=30$ is zero. "
   ]
  },
  {
   "cell_type": "code",
   "execution_count": null,
   "metadata": {
    "collapsed": true
   },
   "outputs": [],
   "source": [
    "# Answer 5\n"
   ]
  },
  {
   "cell_type": "markdown",
   "metadata": {},
   "source": [
    "#### Question 6\n",
    "\n",
    "A Cessna plane takes off from an airport at sea level and its altitude (in feet) at time t (in minutes) is given by\n",
    "\n",
    "\\\\[\n",
    "    h = 2000 \\ln (t + 1)\n",
    "\\\\]\n",
    "\n",
    "Find the rate of climb at time t = 3 min."
   ]
  },
  {
   "cell_type": "code",
   "execution_count": 59,
   "metadata": {
    "collapsed": false
   },
   "outputs": [
    {
     "ename": "NameError",
     "evalue": "name 'Sym' is not defined",
     "output_type": "error",
     "traceback": [
      "\u001b[1;31m---------------------------------------------------------------------------\u001b[0m",
      "\u001b[1;31mNameError\u001b[0m                                 Traceback (most recent call last)",
      "\u001b[1;32m<ipython-input-59-c714078155f3>\u001b[0m in \u001b[0;36m<module>\u001b[1;34m()\u001b[0m\n\u001b[0;32m      1\u001b[0m \u001b[1;31m# Answer 6\u001b[0m\u001b[1;33m\u001b[0m\u001b[1;33m\u001b[0m\u001b[0m\n\u001b[1;32m----> 2\u001b[1;33m \u001b[0mh\u001b[0m \u001b[1;33m=\u001b[0m \u001b[1;36m2000\u001b[0m\u001b[1;33m*\u001b[0m\u001b[0mSym\u001b[0m\u001b[1;33m.\u001b[0m\u001b[0mln\u001b[0m\u001b[1;33m(\u001b[0m\u001b[0mx\u001b[0m\u001b[1;33m)\u001b[0m\u001b[1;33m*\u001b[0m\u001b[1;33m(\u001b[0m\u001b[0mt\u001b[0m\u001b[1;33m+\u001b[0m\u001b[1;36m1\u001b[0m\u001b[1;33m)\u001b[0m\u001b[1;33m\u001b[0m\u001b[0m\n\u001b[0m\u001b[0;32m      3\u001b[0m \u001b[1;32mprint\u001b[0m \u001b[1;33m(\u001b[0m\u001b[1;34m\"h\"\u001b[0m\u001b[1;33m)\u001b[0m\u001b[1;33m\u001b[0m\u001b[0m\n",
      "\u001b[1;31mNameError\u001b[0m: name 'Sym' is not defined"
     ]
    }
   ],
   "source": [
    "# Answer 6\n",
    "h = 2000*Sym.ln(x)*(t+1)\n",
    "print (\"h\")"
   ]
  },
  {
   "cell_type": "code",
   "execution_count": 60,
   "metadata": {
    "collapsed": false
   },
   "outputs": [
    {
     "ename": "TypeError",
     "evalue": "unsupported operand type(s) for *: 'int' and 'numpy.ufunc'",
     "output_type": "error",
     "traceback": [
      "\u001b[1;31m---------------------------------------------------------------------------\u001b[0m",
      "\u001b[1;31mTypeError\u001b[0m                                 Traceback (most recent call last)",
      "\u001b[1;32m<ipython-input-60-2d2258a1a784>\u001b[0m in \u001b[0;36m<module>\u001b[1;34m()\u001b[0m\n\u001b[1;32m----> 1\u001b[1;33m \u001b[0mh\u001b[0m\u001b[1;33m=\u001b[0m \u001b[1;36m2000\u001b[0m\u001b[1;33m*\u001b[0m\u001b[0mnp\u001b[0m\u001b[1;33m.\u001b[0m\u001b[0mlog\u001b[0m\u001b[1;33m*\u001b[0m\u001b[1;33m(\u001b[0m\u001b[1;36m3\u001b[0m\u001b[1;33m+\u001b[0m\u001b[1;36m1\u001b[0m\u001b[1;33m)\u001b[0m\u001b[1;33m\u001b[0m\u001b[0m\n\u001b[0m",
      "\u001b[1;31mTypeError\u001b[0m: unsupported operand type(s) for *: 'int' and 'numpy.ufunc'"
     ]
    }
   ],
   "source": [
    "h= 2000*np.log*(3+1)"
   ]
  },
  {
   "cell_type": "markdown",
   "metadata": {},
   "source": [
    "#### Question 7 - Sound Pressure and Decibels\n",
    "\n",
    "The sound pressure P for a given sound is measured in decibels (dB) and given by\n",
    "\n",
    "\\\\[\n",
    "    P = 10 \\log \\frac {W}{W_0}\\quad \\text{dB}\n",
    "\\\\]\n",
    "\n",
    "where \n",
    "\n",
    " * $W$ is the size of a variable energy source (called the __sound power__), measured in Watts (W).\n",
    " * $W_0$ is the lowest threshold of sound that humans can typically hear. It is a constant defined by\n",
    "\n",
    "\\\\[\n",
    "    W_0 = 10^{-12}\\quad\\text{W}/\\text{m}^2\n",
    "\\\\]\n",
    "\n",
    "The sound pressure is related to the sound __intensity__ of a sound wave. __Logarithms__ are used to cope with the large variation in sound pressure that humans can hear (from the whispering wind at around 20 dB up to the roar of a rock concert at 120 dB, depending on the distance from the speakers).\n",
    "\n",
    "**(a)** Write python code to find the rate of change of the sound pressure $P$ with repect to time if $W=7.2$ and $\\frac{dW}{dt}=0.05$ at some given time $t$.\n",
    "\n",
    "**(b)** If the variable sound power $W$ is given by\n",
    "\\\\[\n",
    "W = t^2 + t + 1,\n",
    "\\\\]\n",
    "\n",
    "find the rate of change of the sound pressure $P$, at time $t=3$ s."
   ]
  },
  {
   "cell_type": "code",
   "execution_count": 62,
   "metadata": {
    "collapsed": false
   },
   "outputs": [],
   "source": [
    "# Answer 7(a) - first we define symbols and functions\n",
    "W0 = Symbol('W_0')\n",
    "W = Function(\"w\")\n",
    "t = Symbol(\"t\")"
   ]
  },
  {
   "cell_type": "code",
   "execution_count": null,
   "metadata": {
    "collapsed": false
   },
   "outputs": [],
   "source": [
    "# define P\n"
   ]
  },
  {
   "cell_type": "code",
   "execution_count": null,
   "metadata": {
    "collapsed": false
   },
   "outputs": [],
   "source": [
    "# differentiate P with respect to t\n"
   ]
  },
  {
   "cell_type": "code",
   "execution_count": null,
   "metadata": {
    "collapsed": false
   },
   "outputs": [],
   "source": [
    "# The required rate of change is given by\n",
    "# substituting the given value of the derivative of W in place of dW/dt, and the given value of W \n"
   ]
  },
  {
   "cell_type": "code",
   "execution_count": null,
   "metadata": {
    "collapsed": false
   },
   "outputs": [],
   "source": [
    "# Answer 7(b) - define symbols and functions\n",
    "W = t**2+t+1\n"
   ]
  },
  {
   "cell_type": "code",
   "execution_count": null,
   "metadata": {
    "collapsed": true
   },
   "outputs": [],
   "source": [
    "# differentiate P \n"
   ]
  },
  {
   "cell_type": "code",
   "execution_count": null,
   "metadata": {
    "collapsed": true
   },
   "outputs": [],
   "source": [
    "# substitute t=3 to obtain the rate of change of sound pressure at the required time.\n"
   ]
  },
  {
   "cell_type": "markdown",
   "metadata": {},
   "source": [
    "#### Question 8 - charge of a capacitor\n",
    "\n",
    "The charge of a capacitor, $q$, in a circuit containing a capacitor of capacitance $C$, a resistance $R$, and a source of voltage $E$ is given by\n",
    "\n",
    "\\\\[\n",
    "    q = C E \\left(1−e^{-t/(RC)}\\right)\n",
    "\\\\]\n",
    "\n",
    "Show, using differentiation, that $q$ satisfies the equation\n",
    "\n",
    "\\\\[\n",
    "    R \\frac{dq}{dt} + \\frac{q}{C} = E\n",
    "\\\\]\n"
   ]
  },
  {
   "cell_type": "code",
   "execution_count": null,
   "metadata": {
    "collapsed": true
   },
   "outputs": [],
   "source": [
    "# Answer 8 - define symbols and functions\n"
   ]
  },
  {
   "cell_type": "code",
   "execution_count": 2,
   "metadata": {
    "collapsed": false
   },
   "outputs": [],
   "source": [
    "# differentiate q and check required equation"
   ]
  },
  {
   "cell_type": "code",
   "execution_count": 3,
   "metadata": {
    "collapsed": true
   },
   "outputs": [],
   "source": []
  },
  {
   "cell_type": "code",
   "execution_count": null,
   "metadata": {
    "collapsed": false
   },
   "outputs": [],
   "source": []
  },
  {
   "cell_type": "code",
   "execution_count": null,
   "metadata": {
    "collapsed": true
   },
   "outputs": [],
   "source": []
  }
 ],
 "metadata": {
  "kernelspec": {
   "display_name": "Python 2",
   "language": "python",
   "name": "python2"
  },
  "language_info": {
   "codemirror_mode": {
    "name": "ipython",
    "version": 2
   },
   "file_extension": ".py",
   "mimetype": "text/x-python",
   "name": "python",
   "nbconvert_exporter": "python",
   "pygments_lexer": "ipython2",
   "version": "2.7.11"
  }
 },
 "nbformat": 4,
 "nbformat_minor": 0
}
